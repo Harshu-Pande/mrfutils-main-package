{
 "cells": [
  {
   "cell_type": "code",
   "execution_count": 559,
   "id": "51392ac8-396a-4718-a2a6-f70be3f6dfb6",
   "metadata": {
    "tags": []
   },
   "outputs": [],
   "source": [
    "import polars as pl"
   ]
  },
  {
   "cell_type": "code",
   "execution_count": 560,
   "id": "f2493350-376e-4a3c-83fc-24e1be7e9fcb",
   "metadata": {
    "tags": []
   },
   "outputs": [],
   "source": [
    "url = 'https://core.secure.ehc.com/\\\n",
    "src/util/detail-price-list/\\\n",
    "050631189_hca-houston-pearland_standardcharges.csv'\n",
    "df = pl.read_csv(url, skip_rows = 1, infer_schema_length = 0)"
   ]
  },
  {
   "cell_type": "code",
   "execution_count": 561,
   "id": "194e9ca5-611c-4f23-9876-1809c4d5a7ed",
   "metadata": {
    "tags": []
   },
   "outputs": [],
   "source": [
    "def get_upper_chunk(df):\n",
    "    \"\"\"\n",
    "    Get just the upper part of the dataframe\n",
    "    with the HCPCS/CPT codes\n",
    "    \"\"\"\n",
    "    \n",
    "    df = df.with_row_count()\n",
    "\n",
    "    for row in df.iter_rows(named = True):\n",
    "        if not row['Description']:\n",
    "            end_row = row['row_nr']\n",
    "            break\n",
    "    \n",
    "    df = df.drop('row_nr').slice(0, end_row)\n",
    "    \n",
    "    return df"
   ]
  },
  {
   "cell_type": "code",
   "execution_count": 590,
   "id": "ca9b8ea5-07d8-4bee-8759-05ff0760273d",
   "metadata": {
    "tags": []
   },
   "outputs": [],
   "source": [
    "def get_lower_chunks(df):\n",
    "    \"\"\"\n",
    "    Return the lower section(s) as an array\n",
    "    of dataframe chunks\n",
    "    \"\"\"\n",
    "    \n",
    "    df = df.with_row_count()\n",
    "    \n",
    "    slices = []\n",
    "    \n",
    "    for row in df.iter_rows():\n",
    "        \n",
    "        if row[3] == 'Rate':\n",
    "            start = row[0] - 1\n",
    "            \n",
    "        if not any(row[1:]):\n",
    "            end = row[0]\n",
    "            slices.append((start, end))\n",
    "            start, end = None, None\n",
    "            \n",
    "        if row[1] == 'Service':\n",
    "            end = row[0]\n",
    "            slices.append((start, end))\n",
    "            \n",
    "            start, end = row[0], None\n",
    "        \n",
    "    slices.append((start, row[0]))\n",
    "        \n",
    "    chunks = []\n",
    "    for slice_ in slices:\n",
    "        s, e = slice_\n",
    "        chunks.append(df.slice(s, e - s).drop('row_nr'))\n",
    "        \n",
    "    return chunks"
   ]
  },
  {
   "cell_type": "code",
   "execution_count": 591,
   "id": "baaf16ea-e215-4668-b1ed-041753a1ea50",
   "metadata": {
    "tags": []
   },
   "outputs": [],
   "source": [
    "upper_chunk = get_upper_chunk(df)\n",
    "lower_chunks = get_lower_chunks(df)"
   ]
  },
  {
   "cell_type": "code",
   "execution_count": 592,
   "id": "c2d325b4-d74c-4c80-a312-ae2c19616a20",
   "metadata": {
    "tags": []
   },
   "outputs": [
    {
     "data": {
      "text/html": [
       "<div><style>\n",
       ".dataframe > thead > tr > th,\n",
       ".dataframe > tbody > tr > td {\n",
       "  text-align: right;\n",
       "}\n",
       "</style>\n",
       "<small>shape: (5, 5)</small><table border=\"1\" class=\"dataframe\"><thead><tr><th>Procedure ID</th><th>HCPCS/CPT Code</th><th>Description</th><th>Gross Charge</th><th>Discounted Cash Price (Gross Charges)</th></tr><tr><td>str</td><td>str</td><td>str</td><td>str</td><td>str</td></tr></thead><tbody><tr><td>&quot;601260&quot;</td><td>&quot;0C1725        …</td><td>&quot;CATH BLN EVRCR…</td><td>&quot;2028.00&quot;</td><td>&quot;2028.00&quot;</td></tr><tr><td>&quot;303735&quot;</td><td>&quot;083735        …</td><td>&quot;MAGNESIUM BLD …</td><td>&quot;865.46&quot;</td><td>&quot;865.46&quot;</td></tr><tr><td>&quot;743333&quot;</td><td>&quot;0C1887        …</td><td>&quot;CATH GD XB3.5 …</td><td>&quot;1052.00&quot;</td><td>&quot;1052.00&quot;</td></tr><tr><td>&quot;319065&quot;</td><td>&quot;087081        …</td><td>&quot;CULT LEGIONELL…</td><td>&quot;888.35&quot;</td><td>&quot;888.35&quot;</td></tr><tr><td>&quot;904012&quot;</td><td>&quot;0C1713        …</td><td>&quot;SCREW V-AX NLC…</td><td>&quot;284.04&quot;</td><td>&quot;284.04&quot;</td></tr></tbody></table></div>"
      ],
      "text/plain": [
       "shape: (5, 5)\n",
       "┌──────────────┬────────────────┬─────────────────────────┬──────────────┬─────────────────────────┐\n",
       "│ Procedure ID ┆ HCPCS/CPT Code ┆ Description             ┆ Gross Charge ┆ Discounted Cash Price   │\n",
       "│ ---          ┆ ---            ┆ ---                     ┆ ---          ┆ (Gross Cha…             │\n",
       "│ str          ┆ str            ┆ str                     ┆ str          ┆ ---                     │\n",
       "│              ┆                ┆                         ┆              ┆ str                     │\n",
       "╞══════════════╪════════════════╪═════════════════════════╪══════════════╪═════════════════════════╡\n",
       "│ 601260       ┆ 0C1725         ┆ CATH BLN                ┆ 2028.00      ┆ 2028.00                 │\n",
       "│              ┆                ┆ EVRCRS7X200X135         ┆              ┆                         │\n",
       "│ 303735       ┆ 083735         ┆ MAGNESIUM BLD           ┆ 865.46       ┆ 865.46                  │\n",
       "│ 743333       ┆ 0C1887         ┆ CATH GD XB3.5 7FR 100CM ┆ 1052.00      ┆ 1052.00                 │\n",
       "│ 319065       ┆ 087081         ┆ CULT LEGIONELLA SCR     ┆ 888.35       ┆ 888.35                  │\n",
       "│ 904012       ┆ 0C1713         ┆ SCREW V-AX NLCK 3.5X20  ┆ 284.04       ┆ 284.04                  │\n",
       "└──────────────┴────────────────┴─────────────────────────┴──────────────┴─────────────────────────┘"
      ]
     },
     "execution_count": 592,
     "metadata": {},
     "output_type": "execute_result"
    }
   ],
   "source": [
    "upper_chunk.sample(5)"
   ]
  },
  {
   "cell_type": "markdown",
   "id": "5fc47de8-a385-427d-a12a-90892eb57a64",
   "metadata": {},
   "source": [
    "### Handling the upper chunk"
   ]
  },
  {
   "cell_type": "code",
   "execution_count": 593,
   "id": "1602cbed-4e81-46c1-af3d-9057a9a5f6ef",
   "metadata": {
    "tags": []
   },
   "outputs": [],
   "source": [
    "upper_chunk = (\n",
    "    upper_chunk.rename({\n",
    "        'Procedure ID':'local_code',\n",
    "        'HCPCS/CPT Code':'hcpcs_cpt',\n",
    "        'Description':'description'})\n",
    "    .with_columns(\n",
    "        # remove extra spaces and leading zeros\n",
    "        pl.col('hcpcs_cpt').str.strip().str.replace('^0', '')\n",
    "    )\n",
    "    .with_columns(\n",
    "        pl.when(pl.col('hcpcs_cpt').str.lengths() == 0).then(None)\n",
    "        .otherwise(pl.col('hcpcs_cpt')).keep_name()\n",
    "    )\n",
    "    .melt(['local_code', 'hcpcs_cpt', 'description'], \n",
    "        value_name = 'standard_charge', \n",
    "        variable_name = 'payer_name'\n",
    "    )\n",
    "    .with_columns(\n",
    "        pl.when(pl.col('payer_name') == 'Gross Charge').then('gross')\n",
    "        .when(pl.col('payer_name') == 'Discounted Cash Price (Gross Charges)').then('cash')\n",
    "        .alias('payer_category')\n",
    "    )\n",
    ")"
   ]
  },
  {
   "cell_type": "code",
   "execution_count": 594,
   "id": "776d5f28-a6fa-402e-ad5f-613b81656bc2",
   "metadata": {
    "tags": []
   },
   "outputs": [
    {
     "data": {
      "text/html": [
       "<div><style>\n",
       ".dataframe > thead > tr > th,\n",
       ".dataframe > tbody > tr > td {\n",
       "  text-align: right;\n",
       "}\n",
       "</style>\n",
       "<small>shape: (10, 6)</small><table border=\"1\" class=\"dataframe\"><thead><tr><th>local_code</th><th>hcpcs_cpt</th><th>description</th><th>payer_name</th><th>standard_charge</th><th>payer_category</th></tr><tr><td>str</td><td>str</td><td>str</td><td>str</td><td>str</td><td>str</td></tr></thead><tbody><tr><td>&quot;100457&quot;</td><td>&quot;96375&quot;</td><td>&quot;IVP EA ADD SEQ…</td><td>&quot;Gross Charge&quot;</td><td>&quot;815.32&quot;</td><td>&quot;gross&quot;</td></tr><tr><td>&quot;100747&quot;</td><td>&quot;C1769&quot;</td><td>&quot;GWIRE BN DISP …</td><td>&quot;Discounted Cas…</td><td>&quot;1507.00&quot;</td><td>&quot;cash&quot;</td></tr><tr><td>&quot;102569&quot;</td><td>&quot;C1813&quot;</td><td>&quot;RESERVOIR PENL…</td><td>&quot;Discounted Cas…</td><td>&quot;18663.00&quot;</td><td>&quot;cash&quot;</td></tr><tr><td>&quot;101221&quot;</td><td>null</td><td>&quot;MELATONIN 3MG …</td><td>&quot;Gross Charge&quot;</td><td>&quot;2.18&quot;</td><td>&quot;gross&quot;</td></tr><tr><td>&quot;701879&quot;</td><td>null</td><td>&quot;PACKING 8CM NS…</td><td>&quot;Discounted Cas…</td><td>&quot;3380.00&quot;</td><td>&quot;cash&quot;</td></tr><tr><td>&quot;621464&quot;</td><td>&quot;C1713&quot;</td><td>&quot;PLATE BN ANKL …</td><td>&quot;Discounted Cas…</td><td>&quot;4320.00&quot;</td><td>&quot;cash&quot;</td></tr><tr><td>&quot;622196&quot;</td><td>&quot;C2623&quot;</td><td>&quot;CATH BLNDIL 5M…</td><td>&quot;Discounted Cas…</td><td>&quot;18419.00&quot;</td><td>&quot;cash&quot;</td></tr><tr><td>&quot;601976&quot;</td><td>&quot;C1713&quot;</td><td>&quot;SCREW BN 2.5X3…</td><td>&quot;Discounted Cas…</td><td>&quot;3563.00&quot;</td><td>&quot;cash&quot;</td></tr><tr><td>&quot;600820&quot;</td><td>null</td><td>&quot;SYS SPEC RTRVL…</td><td>&quot;Gross Charge&quot;</td><td>&quot;1316.00&quot;</td><td>&quot;gross&quot;</td></tr><tr><td>&quot;621666&quot;</td><td>null</td><td>&quot;BRA POST-OP MD…</td><td>&quot;Discounted Cas…</td><td>&quot;965.00&quot;</td><td>&quot;cash&quot;</td></tr></tbody></table></div>"
      ],
      "text/plain": [
       "shape: (10, 6)\n",
       "┌────────────┬───────────┬───────────────────┬──────────────────┬─────────────────┬────────────────┐\n",
       "│ local_code ┆ hcpcs_cpt ┆ description       ┆ payer_name       ┆ standard_charge ┆ payer_category │\n",
       "│ ---        ┆ ---       ┆ ---               ┆ ---              ┆ ---             ┆ ---            │\n",
       "│ str        ┆ str       ┆ str               ┆ str              ┆ str             ┆ str            │\n",
       "╞════════════╪═══════════╪═══════════════════╪══════════════════╪═════════════════╪════════════════╡\n",
       "│ 100457     ┆ 96375     ┆ IVP EA ADD SEQ    ┆ Gross Charge     ┆ 815.32          ┆ gross          │\n",
       "│            ┆           ┆ NEW DRUG          ┆                  ┆                 ┆                │\n",
       "│ 100747     ┆ C1769     ┆ GWIRE BN DISP     ┆ Discounted Cash  ┆ 1507.00         ┆ cash           │\n",
       "│            ┆           ┆ 1.4X150MM         ┆ Price (Gross     ┆                 ┆                │\n",
       "│            ┆           ┆                   ┆ Cha…             ┆                 ┆                │\n",
       "│ 102569     ┆ C1813     ┆ RESERVOIR PENL    ┆ Discounted Cash  ┆ 18663.00        ┆ cash           │\n",
       "│            ┆           ┆ CONCEAL           ┆ Price (Gross     ┆                 ┆                │\n",
       "│            ┆           ┆                   ┆ Cha…             ┆                 ┆                │\n",
       "│ 101221     ┆ null      ┆ MELATONIN 3MG TAB ┆ Gross Charge     ┆ 2.18            ┆ gross          │\n",
       "│ …          ┆ …         ┆ …                 ┆ …                ┆ …               ┆ …              │\n",
       "│ 622196     ┆ C2623     ┆ CATH BLNDIL 5MM   ┆ Discounted Cash  ┆ 18419.00        ┆ cash           │\n",
       "│            ┆           ┆ 220MM             ┆ Price (Gross     ┆                 ┆                │\n",
       "│            ┆           ┆                   ┆ Cha…             ┆                 ┆                │\n",
       "│ 601976     ┆ C1713     ┆ SCREW BN          ┆ Discounted Cash  ┆ 3563.00         ┆ cash           │\n",
       "│            ┆           ┆ 2.5X3.5X20MM      ┆ Price (Gross     ┆                 ┆                │\n",
       "│            ┆           ┆                   ┆ Cha…             ┆                 ┆                │\n",
       "│ 600820     ┆ null      ┆ SYS SPEC RTRVL    ┆ Gross Charge     ┆ 1316.00         ┆ gross          │\n",
       "│            ┆           ┆ TISS RBTC         ┆                  ┆                 ┆                │\n",
       "│ 621666     ┆ null      ┆ BRA POST-OP MD    ┆ Discounted Cash  ┆ 965.00          ┆ cash           │\n",
       "│            ┆           ┆ 34-36 B-D         ┆ Price (Gross     ┆                 ┆                │\n",
       "│            ┆           ┆                   ┆ Cha…             ┆                 ┆                │\n",
       "└────────────┴───────────┴───────────────────┴──────────────────┴─────────────────┴────────────────┘"
      ]
     },
     "execution_count": 594,
     "metadata": {},
     "output_type": "execute_result"
    }
   ],
   "source": [
    "upper_chunk.sample(10)"
   ]
  },
  {
   "cell_type": "code",
   "execution_count": 595,
   "id": "dc74a1b3-850f-483d-8b1f-6eaa1d288064",
   "metadata": {
    "tags": []
   },
   "outputs": [],
   "source": [
    "upper_chunk = upper_chunk.with_columns(\n",
    "    pl.col('hcpcs_cpt').str.slice(0,5).keep_name(),\n",
    "    pl.when(pl.col('hcpcs_cpt').str.lengths() > 6).then(pl.col('hcpcs_cpt').str.slice(5,)).alias('modifiers')\n",
    ")"
   ]
  },
  {
   "cell_type": "code",
   "execution_count": 596,
   "id": "0d212345-c4fc-4fa2-b380-ea04c80ab54e",
   "metadata": {
    "tags": []
   },
   "outputs": [
    {
     "data": {
      "text/html": [
       "<div><style>\n",
       ".dataframe > thead > tr > th,\n",
       ".dataframe > tbody > tr > td {\n",
       "  text-align: right;\n",
       "}\n",
       "</style>\n",
       "<small>shape: (10, 7)</small><table border=\"1\" class=\"dataframe\"><thead><tr><th>local_code</th><th>hcpcs_cpt</th><th>description</th><th>payer_name</th><th>standard_charge</th><th>payer_category</th><th>modifiers</th></tr><tr><td>str</td><td>str</td><td>str</td><td>str</td><td>str</td><td>str</td><td>str</td></tr></thead><tbody><tr><td>&quot;101298&quot;</td><td>&quot;C1713&quot;</td><td>&quot;PEG THREAD LCK…</td><td>&quot;Discounted Cas…</td><td>&quot;749.00&quot;</td><td>&quot;cash&quot;</td><td>null</td></tr><tr><td>&quot;601875&quot;</td><td>&quot;C1713&quot;</td><td>&quot;SCREW 2.3 22 H…</td><td>&quot;Gross Charge&quot;</td><td>&quot;744.00&quot;</td><td>&quot;gross&quot;</td><td>null</td></tr><tr><td>&quot;825990&quot;</td><td>null</td><td>&quot;KETOROLAC TROM…</td><td>&quot;Discounted Cas…</td><td>&quot;66.49&quot;</td><td>&quot;cash&quot;</td><td>null</td></tr><tr><td>&quot;620178&quot;</td><td>null</td><td>&quot;FILLER BONE VO…</td><td>&quot;Gross Charge&quot;</td><td>&quot;7423.00&quot;</td><td>&quot;gross&quot;</td><td>null</td></tr><tr><td>&quot;303557&quot;</td><td>&quot;84030&quot;</td><td>&quot;NEWBORN SCREEN…</td><td>&quot;Discounted Cas…</td><td>&quot;220.18&quot;</td><td>&quot;cash&quot;</td><td>null</td></tr><tr><td>&quot;286030&quot;</td><td>&quot;92960&quot;</td><td>&quot;CARDIOVERSION …</td><td>&quot;Gross Charge&quot;</td><td>&quot;4651.03&quot;</td><td>&quot;gross&quot;</td><td>null</td></tr><tr><td>&quot;300306&quot;</td><td>&quot;C1713&quot;</td><td>&quot;PLATE MED STD …</td><td>&quot;Discounted Cas…</td><td>&quot;1520.00&quot;</td><td>&quot;cash&quot;</td><td>null</td></tr><tr><td>&quot;101930&quot;</td><td>&quot;C1713&quot;</td><td>&quot;SCREW SPN SD V…</td><td>&quot;Gross Charge&quot;</td><td>&quot;769.00&quot;</td><td>&quot;gross&quot;</td><td>null</td></tr><tr><td>&quot;101650&quot;</td><td>null</td><td>&quot;FIXATOR KIT FR…</td><td>&quot;Discounted Cas…</td><td>&quot;18833.00&quot;</td><td>&quot;cash&quot;</td><td>null</td></tr><tr><td>&quot;672446&quot;</td><td>null</td><td>&quot;ELECTRODE ESUR…</td><td>&quot;Gross Charge&quot;</td><td>&quot;101.00&quot;</td><td>&quot;gross&quot;</td><td>null</td></tr></tbody></table></div>"
      ],
      "text/plain": [
       "shape: (10, 7)\n",
       "┌────────────┬───────────┬───────────────┬───────────────┬──────────────┬──────────────┬───────────┐\n",
       "│ local_code ┆ hcpcs_cpt ┆ description   ┆ payer_name    ┆ standard_cha ┆ payer_catego ┆ modifiers │\n",
       "│ ---        ┆ ---       ┆ ---           ┆ ---           ┆ rge          ┆ ry           ┆ ---       │\n",
       "│ str        ┆ str       ┆ str           ┆ str           ┆ ---          ┆ ---          ┆ str       │\n",
       "│            ┆           ┆               ┆               ┆ str          ┆ str          ┆           │\n",
       "╞════════════╪═══════════╪═══════════════╪═══════════════╪══════════════╪══════════════╪═══════════╡\n",
       "│ 101298     ┆ C1713     ┆ PEG THREAD    ┆ Discounted    ┆ 749.00       ┆ cash         ┆ null      │\n",
       "│            ┆           ┆ LCK 2.3X17MM  ┆ Cash Price    ┆              ┆              ┆           │\n",
       "│            ┆           ┆               ┆ (Gross Cha…   ┆              ┆              ┆           │\n",
       "│ 601875     ┆ C1713     ┆ SCREW 2.3 22  ┆ Gross Charge  ┆ 744.00       ┆ gross        ┆ null      │\n",
       "│            ┆           ┆ HND WRST      ┆               ┆              ┆              ┆           │\n",
       "│ 825990     ┆ null      ┆ KETOROLAC     ┆ Discounted    ┆ 66.49        ┆ cash         ┆ null      │\n",
       "│            ┆           ┆ TROM. 10MG    ┆ Cash Price    ┆              ┆              ┆           │\n",
       "│            ┆           ┆ TAB           ┆ (Gross Cha…   ┆              ┆              ┆           │\n",
       "│ 620178     ┆ null      ┆ FILLER BONE   ┆ Gross Charge  ┆ 7423.00      ┆ gross        ┆ null      │\n",
       "│            ┆           ┆ VOID NRN 5ML  ┆               ┆              ┆              ┆           │\n",
       "│ …          ┆ …         ┆ …             ┆ …             ┆ …            ┆ …            ┆ …         │\n",
       "│ 300306     ┆ C1713     ┆ PLATE MED STD ┆ Discounted    ┆ 1520.00      ┆ cash         ┆ null      │\n",
       "│            ┆           ┆ 1MM 2.3MM     ┆ Cash Price    ┆              ┆              ┆           │\n",
       "│            ┆           ┆               ┆ (Gross Cha…   ┆              ┆              ┆           │\n",
       "│ 101930     ┆ C1713     ┆ SCREW SPN SD  ┆ Gross Charge  ┆ 769.00       ┆ gross        ┆ null      │\n",
       "│            ┆           ┆ VAR 4.0X14    ┆               ┆              ┆              ┆           │\n",
       "│ 101650     ┆ null      ┆ FIXATOR KIT   ┆ Discounted    ┆ 18833.00     ┆ cash         ┆ null      │\n",
       "│            ┆           ┆ FRM EX FIX L  ┆ Cash Price    ┆              ┆              ┆           │\n",
       "│            ┆           ┆               ┆ (Gross Cha…   ┆              ┆              ┆           │\n",
       "│ 672446     ┆ null      ┆ ELECTRODE     ┆ Gross Charge  ┆ 101.00       ┆ gross        ┆ null      │\n",
       "│            ┆           ┆ ESURG PNCL    ┆               ┆              ┆              ┆           │\n",
       "│            ┆           ┆ 10'           ┆               ┆              ┆              ┆           │\n",
       "└────────────┴───────────┴───────────────┴───────────────┴──────────────┴──────────────┴───────────┘"
      ]
     },
     "execution_count": 596,
     "metadata": {},
     "output_type": "execute_result"
    }
   ],
   "source": [
    "upper_chunk.sample(10)"
   ]
  },
  {
   "cell_type": "markdown",
   "id": "6c944cf9-d086-4dc4-aaf0-0fe1f0892724",
   "metadata": {},
   "source": [
    "### Handling the lower chunks"
   ]
  },
  {
   "cell_type": "code",
   "execution_count": 597,
   "id": "abd9d31b-6c6c-4bee-8d76-2f854f6bd1cc",
   "metadata": {
    "tags": []
   },
   "outputs": [],
   "source": [
    "new_lower_chunks = []\n",
    "for chunk in lower_chunks[:-1]:\n",
    "    chunk = (\n",
    "        chunk\n",
    "        .drop(['Gross Charge', 'Discounted Cash Price (Gross Charges)'])\n",
    "        # the payer name is always the first field in the Procedure ID col\n",
    "        .with_columns([\n",
    "            pl.lit(chunk['Procedure ID'][0]).alias('payer_name'),\n",
    "            pl.lit('payer').alias('payer_category')\n",
    "        ])\n",
    "        .rename({\n",
    "            'Procedure ID':'description',\n",
    "            'HCPCS/CPT Code':'code',\n",
    "            'Description':'standard_charge_'\n",
    "        })\n",
    "        .slice(2,)\n",
    "    )\n",
    "    new_lower_chunks.append(chunk)"
   ]
  },
  {
   "cell_type": "code",
   "execution_count": 598,
   "id": "f465c6aa-12e8-4b26-b202-3c649457924d",
   "metadata": {
    "tags": []
   },
   "outputs": [],
   "source": [
    "new_lower_chunks.append(\n",
    "    lower_chunks[-1]\n",
    "    .drop('Discounted Cash Price (Gross Charges)')\n",
    "    .slice(1,)\n",
    "    .rename({\n",
    "        'Procedure ID':'description',\n",
    "        'HCPCS/CPT Code':'code',\n",
    "        'Description':'Min',\n",
    "        'Gross Charge':'Max',\n",
    "    })\n",
    "    .melt(['description', 'code'], variable_name = 'payer_name', value_name = 'standard_charge_')\n",
    "    .with_columns(\n",
    "        pl.when(pl.col('payer_name') == 'Min').then('min')\n",
    "        .when(pl.col('payer_name') == 'Max').then('max')\n",
    "        .alias('payer_category')\n",
    "    )\n",
    "    .select(['description', 'code', 'standard_charge_', 'payer_name', 'payer_category'])\n",
    ")"
   ]
  },
  {
   "cell_type": "code",
   "execution_count": 599,
   "id": "c2791f57-fc08-4e62-80f4-18f293846b29",
   "metadata": {
    "tags": []
   },
   "outputs": [
    {
     "data": {
      "text/html": [
       "<div><style>\n",
       ".dataframe > thead > tr > th,\n",
       ".dataframe > tbody > tr > td {\n",
       "  text-align: right;\n",
       "}\n",
       "</style>\n",
       "<small>shape: (6, 5)</small><table border=\"1\" class=\"dataframe\"><thead><tr><th>description</th><th>code</th><th>standard_charge_</th><th>payer_name</th><th>payer_category</th></tr><tr><td>str</td><td>str</td><td>str</td><td>str</td><td>str</td></tr></thead><tbody><tr><td>&quot;ER&quot;</td><td>null</td><td>&quot;100% of MCR&quot;</td><td>&quot;BCBS TX MCR&quot;</td><td>&quot;payer&quot;</td></tr><tr><td>&quot;Observation  &quot;</td><td>null</td><td>&quot;100% of MCR&quot;</td><td>&quot;BCBS TX MCR&quot;</td><td>&quot;payer&quot;</td></tr><tr><td>&quot;Other Inpatien…</td><td>null</td><td>&quot;100% of MCR&quot;</td><td>&quot;BCBS TX MCR&quot;</td><td>&quot;payer&quot;</td></tr><tr><td>&quot;Other Outpatie…</td><td>null</td><td>&quot;100% of MCR&quot;</td><td>&quot;BCBS TX MCR&quot;</td><td>&quot;payer&quot;</td></tr><tr><td>&quot;Other Surgical…</td><td>null</td><td>&quot;100% of MCR&quot;</td><td>&quot;BCBS TX MCR&quot;</td><td>&quot;payer&quot;</td></tr><tr><td>&quot;Rehab&quot;</td><td>null</td><td>&quot;100% of MCR&quot;</td><td>&quot;BCBS TX MCR&quot;</td><td>&quot;payer&quot;</td></tr></tbody></table></div>"
      ],
      "text/plain": [
       "shape: (6, 5)\n",
       "┌─────────────────────────┬──────┬──────────────────┬─────────────┬────────────────┐\n",
       "│ description             ┆ code ┆ standard_charge_ ┆ payer_name  ┆ payer_category │\n",
       "│ ---                     ┆ ---  ┆ ---              ┆ ---         ┆ ---            │\n",
       "│ str                     ┆ str  ┆ str              ┆ str         ┆ str            │\n",
       "╞═════════════════════════╪══════╪══════════════════╪═════════════╪════════════════╡\n",
       "│ ER                      ┆ null ┆ 100% of MCR      ┆ BCBS TX MCR ┆ payer          │\n",
       "│ Observation             ┆ null ┆ 100% of MCR      ┆ BCBS TX MCR ┆ payer          │\n",
       "│ Other Inpatient         ┆ null ┆ 100% of MCR      ┆ BCBS TX MCR ┆ payer          │\n",
       "│ Other Outpatient        ┆ null ┆ 100% of MCR      ┆ BCBS TX MCR ┆ payer          │\n",
       "│ Other Surgical Services ┆ null ┆ 100% of MCR      ┆ BCBS TX MCR ┆ payer          │\n",
       "│ Rehab                   ┆ null ┆ 100% of MCR      ┆ BCBS TX MCR ┆ payer          │\n",
       "└─────────────────────────┴──────┴──────────────────┴─────────────┴────────────────┘"
      ]
     },
     "execution_count": 599,
     "metadata": {},
     "output_type": "execute_result"
    }
   ],
   "source": [
    "new_lower_chunks[6]"
   ]
  },
  {
   "cell_type": "code",
   "execution_count": 600,
   "id": "decba33d-e358-4c84-92a9-cd8516d32edc",
   "metadata": {
    "tags": []
   },
   "outputs": [],
   "source": [
    "lower_chunk = pl.concat(new_lower_chunks)"
   ]
  },
  {
   "cell_type": "code",
   "execution_count": 601,
   "id": "c6774273-e927-4f7a-84c1-d48279dd0766",
   "metadata": {
    "tags": []
   },
   "outputs": [
    {
     "data": {
      "text/html": [
       "<div><style>\n",
       ".dataframe > thead > tr > th,\n",
       ".dataframe > tbody > tr > td {\n",
       "  text-align: right;\n",
       "}\n",
       "</style>\n",
       "<small>shape: (0, 5)</small><table border=\"1\" class=\"dataframe\"><thead><tr><th>description</th><th>code</th><th>standard_charge_</th><th>payer_name</th><th>payer_category</th></tr><tr><td>str</td><td>str</td><td>str</td><td>str</td><td>str</td></tr></thead><tbody></tbody></table></div>"
      ],
      "text/plain": [
       "shape: (0, 5)\n",
       "┌─────────────┬──────┬──────────────────┬────────────┬────────────────┐\n",
       "│ description ┆ code ┆ standard_charge_ ┆ payer_name ┆ payer_category │\n",
       "│ ---         ┆ ---  ┆ ---              ┆ ---        ┆ ---            │\n",
       "│ str         ┆ str  ┆ str              ┆ str        ┆ str            │\n",
       "╞═════════════╪══════╪══════════════════╪════════════╪════════════════╡\n",
       "└─────────────┴──────┴──────────────────┴────────────┴────────────────┘"
      ]
     },
     "execution_count": 601,
     "metadata": {},
     "output_type": "execute_result"
    }
   ],
   "source": [
    "lower_chunk.filter(pl.col('description').is_null())"
   ]
  },
  {
   "cell_type": "code",
   "execution_count": 602,
   "id": "6785423d-8f6c-4a04-b700-de48d8d34df8",
   "metadata": {
    "tags": []
   },
   "outputs": [
    {
     "data": {
      "text/html": [
       "<div><style>\n",
       ".dataframe > thead > tr > th,\n",
       ".dataframe > tbody > tr > td {\n",
       "  text-align: right;\n",
       "}\n",
       "</style>\n",
       "<small>shape: (10, 5)</small><table border=\"1\" class=\"dataframe\"><thead><tr><th>description</th><th>code</th><th>standard_charge_</th><th>payer_name</th><th>payer_category</th></tr><tr><td>str</td><td>str</td><td>str</td><td>str</td><td>str</td></tr></thead><tbody><tr><td>&quot;Grouper 1&quot;</td><td>&quot;CPT/HCPC lam, …</td><td>&quot;$1,713.00&quot;</td><td>&quot;Min&quot;</td><td>&quot;min&quot;</td></tr><tr><td>&quot;Ultrasound&quot;</td><td>null</td><td>&quot;$185.50 &quot;</td><td>&quot;Oscar&quot;</td><td>&quot;payer&quot;</td></tr><tr><td>&quot;Female Genital…</td><td>&quot;CPT/HCPC 55866…</td><td>&quot;$5,034.85&quot;</td><td>&quot;Min&quot;</td><td>&quot;min&quot;</td></tr><tr><td>&quot;All Outpatient…</td><td>null</td><td>&quot;169% of MCR&quot;</td><td>&quot;Molina Healthc…</td><td>&quot;payer&quot;</td></tr><tr><td>&quot;Sleep Studies&quot;</td><td>&quot;CPT/HCPC 95782…</td><td>&quot;634.58% of FS&quot;</td><td>&quot;Aetna&quot;</td><td>&quot;payer&quot;</td></tr><tr><td>&quot;Lab/Path/Trans…</td><td>null</td><td>&quot;541.33% of FS&quot;</td><td>&quot;Cigna&quot;</td><td>&quot;payer&quot;</td></tr><tr><td>&quot;Neurosurgery&quot;</td><td>&quot;CPT/HCPC 22800…</td><td>&quot;$40,000.00 &quot;</td><td>&quot;Evry Health&quot;</td><td>&quot;payer&quot;</td></tr><tr><td>&quot;Behavioral Hea…</td><td>null</td><td>&quot;$554.00 &quot;</td><td>&quot;BCBS PPO&quot;</td><td>&quot;payer&quot;</td></tr><tr><td>&quot;ICU/ CCU/ PICU…</td><td>null</td><td>&quot;$1,331.00&quot;</td><td>&quot;Min&quot;</td><td>&quot;min&quot;</td></tr><tr><td>&quot;Medicine&quot;</td><td>&quot;CPT/HCPC 95813…</td><td>&quot;$603.08 &quot;</td><td>&quot;Cigna&quot;</td><td>&quot;payer&quot;</td></tr></tbody></table></div>"
      ],
      "text/plain": [
       "shape: (10, 5)\n",
       "┌────────────────────┬────────────────────┬──────────────────┬────────────────────┬────────────────┐\n",
       "│ description        ┆ code               ┆ standard_charge_ ┆ payer_name         ┆ payer_category │\n",
       "│ ---                ┆ ---                ┆ ---              ┆ ---                ┆ ---            │\n",
       "│ str                ┆ str                ┆ str              ┆ str                ┆ str            │\n",
       "╞════════════════════╪════════════════════╪══════════════════╪════════════════════╪════════════════╡\n",
       "│ Grouper 1          ┆ CPT/HCPC lam, 99,  ┆ $1,713.00        ┆ Min                ┆ min            │\n",
       "│                    ┆ Cigna 2020 Gro…    ┆                  ┆                    ┆                │\n",
       "│ Ultrasound         ┆ null               ┆ $185.50          ┆ Oscar              ┆ payer          │\n",
       "│ Female Genital     ┆ CPT/HCPC 55866,    ┆ $5,034.85        ┆ Min                ┆ min            │\n",
       "│ System             ┆ 58353, 58356, 58…  ┆                  ┆                    ┆                │\n",
       "│ All Outpatient     ┆ null               ┆ 169% of MCR      ┆ Molina Healthcare  ┆ payer          │\n",
       "│ Services           ┆                    ┆                  ┆ HIX GCD            ┆                │\n",
       "│ …                  ┆ …                  ┆ …                ┆ …                  ┆ …              │\n",
       "│ Neurosurgery       ┆ CPT/HCPC           ┆ $40,000.00       ┆ Evry Health        ┆ payer          │\n",
       "│                    ┆ 22800-22812        ┆                  ┆                    ┆                │\n",
       "│ Behavioral Health  ┆ null               ┆ $554.00          ┆ BCBS PPO           ┆ payer          │\n",
       "│ Partial Hospit…    ┆                    ┆                  ┆                    ┆                │\n",
       "│ ICU/ CCU/ PICU     ┆ null               ┆ $1,331.00        ┆ Min                ┆ min            │\n",
       "│ Medicine           ┆ CPT/HCPC 95813     ┆ $603.08          ┆ Cigna              ┆ payer          │\n",
       "└────────────────────┴────────────────────┴──────────────────┴────────────────────┴────────────────┘"
      ]
     },
     "execution_count": 602,
     "metadata": {},
     "output_type": "execute_result"
    }
   ],
   "source": [
    "lower_chunk.sample(10)"
   ]
  },
  {
   "cell_type": "code",
   "execution_count": 603,
   "id": "350022d1-9b2f-4000-ad8d-15d21a87595f",
   "metadata": {
    "tags": []
   },
   "outputs": [],
   "source": [
    "def charge_cols():\n",
    "    \n",
    "    standard_charge = pl.col('standard_charge_')\n",
    "    \n",
    "    percent_bc  = standard_charge.str.contains('% of BC|% of Billable Gross Charges')\n",
    "    percent_mcr = standard_charge.str.contains('% of MCR')\n",
    "    percent_fs  = standard_charge.str.contains('% of FS')\n",
    "    percent_mcd = standard_charge.str.contains('% of MCR')\n",
    "    \n",
    "    description    = pl.col('description')\n",
    "    \n",
    "    per_diem    = description.str.to_lowercase().str.contains('per diem')\n",
    "    \n",
    "    standard_charge = (\n",
    "        pl.when(percent_bc|percent_mcr|percent_fs|percent_mcd).then(None)\n",
    "        .otherwise(standard_charge.str.replace('\\$', '').str.replace_all(',', '').str.strip())\n",
    "    ).alias('standard_charge')\n",
    "    \n",
    "    standard_charge_percent = (\n",
    "        pl.when(percent_bc|percent_mcr|percent_fs|percent_mcd)\n",
    "        .then(standard_charge.str.extract('(\\d+(?:\\.\\d+)?)%'))\n",
    "    ).alias('standard_charge_percent')\n",
    "    \n",
    "    contracting_method = (\n",
    "        pl.when(percent_bc).then('percent of total billed charge')\n",
    "        .when(percent_mcr|percent_fs|percent_mcd).then('other')\n",
    "        .when(per_diem).then('per diem')\n",
    "    ).alias('contracting_method')\n",
    "    \n",
    "    additional_generic_notes = (\n",
    "        pl.when(percent_mcr).then('billed as % of MCR')\n",
    "        .when(percent_fs).then('billed as % of FS')\n",
    "        .when(percent_mcd).then('billed as % of MCD')\n",
    "    ).alias('additional_generic_notes')\n",
    "    \n",
    "    return standard_charge, standard_charge_percent, contracting_method, additional_generic_notes"
   ]
  },
  {
   "cell_type": "code",
   "execution_count": 604,
   "id": "fbb4c117-f541-4ed6-bf55-ba1d709758d9",
   "metadata": {
    "tags": []
   },
   "outputs": [
    {
     "data": {
      "text/html": [
       "<div>\n",
       "<style scoped>\n",
       "    .dataframe tbody tr th:only-of-type {\n",
       "        vertical-align: middle;\n",
       "    }\n",
       "\n",
       "    .dataframe tbody tr th {\n",
       "        vertical-align: top;\n",
       "    }\n",
       "\n",
       "    .dataframe thead th {\n",
       "        text-align: right;\n",
       "    }\n",
       "</style>\n",
       "<table border=\"1\" class=\"dataframe\">\n",
       "  <thead>\n",
       "    <tr style=\"text-align: right;\">\n",
       "      <th></th>\n",
       "      <th>description</th>\n",
       "      <th>code</th>\n",
       "      <th>standard_charge_</th>\n",
       "      <th>payer_name</th>\n",
       "      <th>payer_category</th>\n",
       "      <th>standard_charge</th>\n",
       "      <th>standard_charge_percent</th>\n",
       "      <th>contracting_method</th>\n",
       "      <th>additional_generic_notes</th>\n",
       "    </tr>\n",
       "  </thead>\n",
       "  <tbody>\n",
       "    <tr>\n",
       "      <th>0</th>\n",
       "      <td>Additional days</td>\n",
       "      <td>MS-DRG 768, 796-798, 805-807</td>\n",
       "      <td>$3,580.38</td>\n",
       "      <td>Aetna</td>\n",
       "      <td>payer</td>\n",
       "      <td>3580.38</td>\n",
       "      <td>None</td>\n",
       "      <td>None</td>\n",
       "      <td>None</td>\n",
       "    </tr>\n",
       "    <tr>\n",
       "      <th>1</th>\n",
       "      <td>Additional days</td>\n",
       "      <td>MS-DRG 783-788</td>\n",
       "      <td>$3,580.38</td>\n",
       "      <td>Aetna</td>\n",
       "      <td>payer</td>\n",
       "      <td>3580.38</td>\n",
       "      <td>None</td>\n",
       "      <td>None</td>\n",
       "      <td>None</td>\n",
       "    </tr>\n",
       "    <tr>\n",
       "      <th>2</th>\n",
       "      <td>Angioplasty</td>\n",
       "      <td>CPT/HCPC 33967</td>\n",
       "      <td>$14,536.92</td>\n",
       "      <td>Aetna</td>\n",
       "      <td>payer</td>\n",
       "      <td>14536.92</td>\n",
       "      <td>None</td>\n",
       "      <td>None</td>\n",
       "      <td>None</td>\n",
       "    </tr>\n",
       "    <tr>\n",
       "      <th>3</th>\n",
       "      <td>Angioplasty</td>\n",
       "      <td>CPT/HCPC 92920-92921, 92924-92925, 92928-92929...</td>\n",
       "      <td>$21,113.92</td>\n",
       "      <td>Aetna</td>\n",
       "      <td>payer</td>\n",
       "      <td>21113.92</td>\n",
       "      <td>None</td>\n",
       "      <td>None</td>\n",
       "      <td>None</td>\n",
       "    </tr>\n",
       "    <tr>\n",
       "      <th>4</th>\n",
       "      <td>Cardiac Cath</td>\n",
       "      <td>CPT/HCPC 0293T, 0294T, 0408T, 0410T, 0411T, 04...</td>\n",
       "      <td>$12,188.46</td>\n",
       "      <td>Aetna</td>\n",
       "      <td>payer</td>\n",
       "      <td>12188.46</td>\n",
       "      <td>None</td>\n",
       "      <td>None</td>\n",
       "      <td>None</td>\n",
       "    </tr>\n",
       "    <tr>\n",
       "      <th>...</th>\n",
       "      <td>...</td>\n",
       "      <td>...</td>\n",
       "      <td>...</td>\n",
       "      <td>...</td>\n",
       "      <td>...</td>\n",
       "      <td>...</td>\n",
       "      <td>...</td>\n",
       "      <td>...</td>\n",
       "      <td>...</td>\n",
       "    </tr>\n",
       "    <tr>\n",
       "      <th>1711</th>\n",
       "      <td>Ultrasound</td>\n",
       "      <td>CPT/HCPC 75989, 76376, 76377, 76506, 76510-765...</td>\n",
       "      <td>$4,099.50</td>\n",
       "      <td>Max</td>\n",
       "      <td>max</td>\n",
       "      <td>4099.50</td>\n",
       "      <td>None</td>\n",
       "      <td>None</td>\n",
       "      <td>None</td>\n",
       "    </tr>\n",
       "    <tr>\n",
       "      <th>1712</th>\n",
       "      <td>Unlisted Grouper</td>\n",
       "      <td>None</td>\n",
       "      <td>$14,000.00</td>\n",
       "      <td>Max</td>\n",
       "      <td>max</td>\n",
       "      <td>14000.00</td>\n",
       "      <td>None</td>\n",
       "      <td>None</td>\n",
       "      <td>None</td>\n",
       "    </tr>\n",
       "    <tr>\n",
       "      <th>1713</th>\n",
       "      <td>Urgent Care</td>\n",
       "      <td>None</td>\n",
       "      <td>$241.00</td>\n",
       "      <td>Max</td>\n",
       "      <td>max</td>\n",
       "      <td>241.00</td>\n",
       "      <td>None</td>\n",
       "      <td>None</td>\n",
       "      <td>None</td>\n",
       "    </tr>\n",
       "    <tr>\n",
       "      <th>1714</th>\n",
       "      <td>Urinary System</td>\n",
       "      <td>CPT/HCPC 50080, 50081, 50543, 50544, 50590, 51...</td>\n",
       "      <td>$13,686.00</td>\n",
       "      <td>Max</td>\n",
       "      <td>max</td>\n",
       "      <td>13686.00</td>\n",
       "      <td>None</td>\n",
       "      <td>None</td>\n",
       "      <td>None</td>\n",
       "    </tr>\n",
       "    <tr>\n",
       "      <th>1715</th>\n",
       "      <td>Urology</td>\n",
       "      <td>MS-DRG 659-661, 693, 694, 707, 708; ICD 9/10 0...</td>\n",
       "      <td>$41,476.00</td>\n",
       "      <td>Max</td>\n",
       "      <td>max</td>\n",
       "      <td>41476.00</td>\n",
       "      <td>None</td>\n",
       "      <td>None</td>\n",
       "      <td>None</td>\n",
       "    </tr>\n",
       "  </tbody>\n",
       "</table>\n",
       "<p>1716 rows × 9 columns</p>\n",
       "</div>"
      ],
      "text/plain": [
       "           description                                               code   \n",
       "0      Additional days                       MS-DRG 768, 796-798, 805-807  \\\n",
       "1      Additional days                                     MS-DRG 783-788   \n",
       "2          Angioplasty                                     CPT/HCPC 33967   \n",
       "3          Angioplasty  CPT/HCPC 92920-92921, 92924-92925, 92928-92929...   \n",
       "4         Cardiac Cath  CPT/HCPC 0293T, 0294T, 0408T, 0410T, 0411T, 04...   \n",
       "...                ...                                                ...   \n",
       "1711        Ultrasound  CPT/HCPC 75989, 76376, 76377, 76506, 76510-765...   \n",
       "1712  Unlisted Grouper                                               None   \n",
       "1713       Urgent Care                                               None   \n",
       "1714    Urinary System  CPT/HCPC 50080, 50081, 50543, 50544, 50590, 51...   \n",
       "1715           Urology  MS-DRG 659-661, 693, 694, 707, 708; ICD 9/10 0...   \n",
       "\n",
       "     standard_charge_ payer_name payer_category standard_charge   \n",
       "0          $3,580.38       Aetna          payer         3580.38  \\\n",
       "1          $3,580.38       Aetna          payer         3580.38   \n",
       "2         $14,536.92       Aetna          payer        14536.92   \n",
       "3         $21,113.92       Aetna          payer        21113.92   \n",
       "4         $12,188.46       Aetna          payer        12188.46   \n",
       "...               ...        ...            ...             ...   \n",
       "1711        $4,099.50        Max            max         4099.50   \n",
       "1712       $14,000.00        Max            max        14000.00   \n",
       "1713          $241.00        Max            max          241.00   \n",
       "1714       $13,686.00        Max            max        13686.00   \n",
       "1715       $41,476.00        Max            max        41476.00   \n",
       "\n",
       "     standard_charge_percent contracting_method additional_generic_notes  \n",
       "0                       None               None                     None  \n",
       "1                       None               None                     None  \n",
       "2                       None               None                     None  \n",
       "3                       None               None                     None  \n",
       "4                       None               None                     None  \n",
       "...                      ...                ...                      ...  \n",
       "1711                    None               None                     None  \n",
       "1712                    None               None                     None  \n",
       "1713                    None               None                     None  \n",
       "1714                    None               None                     None  \n",
       "1715                    None               None                     None  \n",
       "\n",
       "[1716 rows x 9 columns]"
      ]
     },
     "execution_count": 604,
     "metadata": {},
     "output_type": "execute_result"
    }
   ],
   "source": [
    "lower_chunk.with_columns(*charge_cols()).to_pandas()"
   ]
  },
  {
   "cell_type": "markdown",
   "id": "5a4e36a1-6d5f-4e6a-b125-2122d0bdaf8e",
   "metadata": {},
   "source": [
    "### Extracting with multiple identifiers\n",
    "Testing to see if any rows contain multiple identifiers"
   ]
  },
  {
   "cell_type": "code",
   "execution_count": 605,
   "id": "b3b382e8-58c8-4dd6-994d-42e69bc1d7ae",
   "metadata": {
    "tags": []
   },
   "outputs": [
    {
     "data": {
      "text/html": [
       "<div>\n",
       "<style scoped>\n",
       "    .dataframe tbody tr th:only-of-type {\n",
       "        vertical-align: middle;\n",
       "    }\n",
       "\n",
       "    .dataframe tbody tr th {\n",
       "        vertical-align: top;\n",
       "    }\n",
       "\n",
       "    .dataframe thead th {\n",
       "        text-align: right;\n",
       "    }\n",
       "</style>\n",
       "<table border=\"1\" class=\"dataframe\">\n",
       "  <thead>\n",
       "    <tr style=\"text-align: right;\">\n",
       "      <th></th>\n",
       "      <th>description</th>\n",
       "      <th>code</th>\n",
       "      <th>standard_charge_</th>\n",
       "      <th>payer_name</th>\n",
       "      <th>payer_category</th>\n",
       "      <th>id_ct</th>\n",
       "    </tr>\n",
       "  </thead>\n",
       "  <tbody>\n",
       "    <tr>\n",
       "      <th>0</th>\n",
       "      <td>Detoxification</td>\n",
       "      <td>None</td>\n",
       "      <td>$1,889.31</td>\n",
       "      <td>Aetna</td>\n",
       "      <td>payer</td>\n",
       "      <td>NaN</td>\n",
       "    </tr>\n",
       "    <tr>\n",
       "      <th>1</th>\n",
       "      <td>Grouper 1</td>\n",
       "      <td>None</td>\n",
       "      <td>$2,011.23</td>\n",
       "      <td>Aetna</td>\n",
       "      <td>payer</td>\n",
       "      <td>NaN</td>\n",
       "    </tr>\n",
       "    <tr>\n",
       "      <th>2</th>\n",
       "      <td>Grouper 2</td>\n",
       "      <td>None</td>\n",
       "      <td>$2,187.31</td>\n",
       "      <td>Aetna</td>\n",
       "      <td>payer</td>\n",
       "      <td>NaN</td>\n",
       "    </tr>\n",
       "    <tr>\n",
       "      <th>3</th>\n",
       "      <td>Grouper 3</td>\n",
       "      <td>None</td>\n",
       "      <td>$2,741.00</td>\n",
       "      <td>Aetna</td>\n",
       "      <td>payer</td>\n",
       "      <td>NaN</td>\n",
       "    </tr>\n",
       "    <tr>\n",
       "      <th>4</th>\n",
       "      <td>Grouper 4</td>\n",
       "      <td>None</td>\n",
       "      <td>$2,976.85</td>\n",
       "      <td>Aetna</td>\n",
       "      <td>payer</td>\n",
       "      <td>NaN</td>\n",
       "    </tr>\n",
       "    <tr>\n",
       "      <th>...</th>\n",
       "      <td>...</td>\n",
       "      <td>...</td>\n",
       "      <td>...</td>\n",
       "      <td>...</td>\n",
       "      <td>...</td>\n",
       "      <td>...</td>\n",
       "    </tr>\n",
       "    <tr>\n",
       "      <th>1711</th>\n",
       "      <td>Urology</td>\n",
       "      <td>MS-DRG 659-661, 693, 694, 707, 708; ICD 9/10 0...</td>\n",
       "      <td>$41,476.00</td>\n",
       "      <td>Max</td>\n",
       "      <td>max</td>\n",
       "      <td>2.0</td>\n",
       "    </tr>\n",
       "    <tr>\n",
       "      <th>1712</th>\n",
       "      <td>Obstetrics</td>\n",
       "      <td>MS-DRG 765-768, 774, 775, 783-788, 795-798, 80...</td>\n",
       "      <td>$680.00</td>\n",
       "      <td>Min</td>\n",
       "      <td>min</td>\n",
       "      <td>3.0</td>\n",
       "    </tr>\n",
       "    <tr>\n",
       "      <th>1713</th>\n",
       "      <td>Orthopedic</td>\n",
       "      <td>MS-DRG 467-470, 495-499; CPT/HCPC 23470, 23472...</td>\n",
       "      <td>$1,580.00</td>\n",
       "      <td>Min</td>\n",
       "      <td>min</td>\n",
       "      <td>3.0</td>\n",
       "    </tr>\n",
       "    <tr>\n",
       "      <th>1714</th>\n",
       "      <td>Obstetrics</td>\n",
       "      <td>MS-DRG 765-768, 774, 775, 783-788, 795-798, 80...</td>\n",
       "      <td>$12,724.85</td>\n",
       "      <td>Max</td>\n",
       "      <td>max</td>\n",
       "      <td>3.0</td>\n",
       "    </tr>\n",
       "    <tr>\n",
       "      <th>1715</th>\n",
       "      <td>Orthopedic</td>\n",
       "      <td>MS-DRG 467-470, 495-499; CPT/HCPC 23470, 23472...</td>\n",
       "      <td>$18,163.00</td>\n",
       "      <td>Max</td>\n",
       "      <td>max</td>\n",
       "      <td>3.0</td>\n",
       "    </tr>\n",
       "  </tbody>\n",
       "</table>\n",
       "<p>1716 rows × 6 columns</p>\n",
       "</div>"
      ],
      "text/plain": [
       "         description                                               code   \n",
       "0     Detoxification                                               None  \\\n",
       "1          Grouper 1                                               None   \n",
       "2          Grouper 2                                               None   \n",
       "3          Grouper 3                                               None   \n",
       "4          Grouper 4                                               None   \n",
       "...              ...                                                ...   \n",
       "1711         Urology  MS-DRG 659-661, 693, 694, 707, 708; ICD 9/10 0...   \n",
       "1712      Obstetrics  MS-DRG 765-768, 774, 775, 783-788, 795-798, 80...   \n",
       "1713      Orthopedic  MS-DRG 467-470, 495-499; CPT/HCPC 23470, 23472...   \n",
       "1714      Obstetrics  MS-DRG 765-768, 774, 775, 783-788, 795-798, 80...   \n",
       "1715      Orthopedic  MS-DRG 467-470, 495-499; CPT/HCPC 23470, 23472...   \n",
       "\n",
       "     standard_charge_ payer_name payer_category  id_ct  \n",
       "0          $1,889.31       Aetna          payer    NaN  \n",
       "1          $2,011.23       Aetna          payer    NaN  \n",
       "2          $2,187.31       Aetna          payer    NaN  \n",
       "3          $2,741.00       Aetna          payer    NaN  \n",
       "4          $2,976.85       Aetna          payer    NaN  \n",
       "...               ...        ...            ...    ...  \n",
       "1711       $41,476.00        Max            max    2.0  \n",
       "1712          $680.00        Min            min    3.0  \n",
       "1713        $1,580.00        Min            min    3.0  \n",
       "1714       $12,724.85        Max            max    3.0  \n",
       "1715       $18,163.00        Max            max    3.0  \n",
       "\n",
       "[1716 rows x 6 columns]"
      ]
     },
     "execution_count": 605,
     "metadata": {},
     "output_type": "execute_result"
    }
   ],
   "source": [
    "identifiers = ['CPT/HCPC', 'REV', 'MS-DRG', 'ICD 9/10', 'APC', 'APR-DRG']\n",
    "lower_chunk.with_columns(\n",
    "    pl.col('code').str.to_uppercase().apply(lambda x: sum([y in x for y in identifiers])).alias('id_ct')\n",
    ").sort('id_ct').to_pandas()"
   ]
  },
  {
   "cell_type": "markdown",
   "id": "e555d4e1-b5e9-4a52-9a77-18ac382d72e3",
   "metadata": {},
   "source": [
    "### Cleaning up the code column"
   ]
  },
  {
   "cell_type": "code",
   "execution_count": 606,
   "id": "75a5b1f3-38b2-465a-a0a8-0f2a26d29cf1",
   "metadata": {
    "tags": []
   },
   "outputs": [
    {
     "data": {
      "text/html": [
       "<div>\n",
       "<style scoped>\n",
       "    .dataframe tbody tr th:only-of-type {\n",
       "        vertical-align: middle;\n",
       "    }\n",
       "\n",
       "    .dataframe tbody tr th {\n",
       "        vertical-align: top;\n",
       "    }\n",
       "\n",
       "    .dataframe thead th {\n",
       "        text-align: right;\n",
       "    }\n",
       "</style>\n",
       "<table border=\"1\" class=\"dataframe\">\n",
       "  <thead>\n",
       "    <tr style=\"text-align: right;\">\n",
       "      <th></th>\n",
       "      <th>description</th>\n",
       "      <th>code</th>\n",
       "      <th>standard_charge_</th>\n",
       "      <th>payer_name</th>\n",
       "      <th>payer_category</th>\n",
       "      <th>id_ct</th>\n",
       "    </tr>\n",
       "  </thead>\n",
       "  <tbody>\n",
       "    <tr>\n",
       "      <th>0</th>\n",
       "      <td>Detoxification</td>\n",
       "      <td>None</td>\n",
       "      <td>$1,889.31</td>\n",
       "      <td>Aetna</td>\n",
       "      <td>payer</td>\n",
       "      <td>NaN</td>\n",
       "    </tr>\n",
       "    <tr>\n",
       "      <th>1</th>\n",
       "      <td>Grouper 1</td>\n",
       "      <td>None</td>\n",
       "      <td>$2,011.23</td>\n",
       "      <td>Aetna</td>\n",
       "      <td>payer</td>\n",
       "      <td>NaN</td>\n",
       "    </tr>\n",
       "    <tr>\n",
       "      <th>2</th>\n",
       "      <td>Grouper 2</td>\n",
       "      <td>None</td>\n",
       "      <td>$2,187.31</td>\n",
       "      <td>Aetna</td>\n",
       "      <td>payer</td>\n",
       "      <td>NaN</td>\n",
       "    </tr>\n",
       "    <tr>\n",
       "      <th>3</th>\n",
       "      <td>Grouper 3</td>\n",
       "      <td>None</td>\n",
       "      <td>$2,741.00</td>\n",
       "      <td>Aetna</td>\n",
       "      <td>payer</td>\n",
       "      <td>NaN</td>\n",
       "    </tr>\n",
       "    <tr>\n",
       "      <th>4</th>\n",
       "      <td>Grouper 4</td>\n",
       "      <td>None</td>\n",
       "      <td>$2,976.85</td>\n",
       "      <td>Aetna</td>\n",
       "      <td>payer</td>\n",
       "      <td>NaN</td>\n",
       "    </tr>\n",
       "    <tr>\n",
       "      <th>...</th>\n",
       "      <td>...</td>\n",
       "      <td>...</td>\n",
       "      <td>...</td>\n",
       "      <td>...</td>\n",
       "      <td>...</td>\n",
       "      <td>...</td>\n",
       "    </tr>\n",
       "    <tr>\n",
       "      <th>1747</th>\n",
       "      <td>Transplant</td>\n",
       "      <td>ICD 9/10 02HA0QZ, 02HA0RZ, 02HA3QZ, 02HA4QZ, ...</td>\n",
       "      <td>$151,648.67</td>\n",
       "      <td>Max</td>\n",
       "      <td>max</td>\n",
       "      <td>1.0</td>\n",
       "    </tr>\n",
       "    <tr>\n",
       "      <th>1748</th>\n",
       "      <td>Ultrasound</td>\n",
       "      <td>CPT/HCPC 75989, 76376, 76377, 76506, 76510-765...</td>\n",
       "      <td>$4,099.50</td>\n",
       "      <td>Max</td>\n",
       "      <td>max</td>\n",
       "      <td>1.0</td>\n",
       "    </tr>\n",
       "    <tr>\n",
       "      <th>1749</th>\n",
       "      <td>Urinary System</td>\n",
       "      <td>CPT/HCPC 50080, 50081, 50543, 50544, 50590, 51...</td>\n",
       "      <td>$13,686.00</td>\n",
       "      <td>Max</td>\n",
       "      <td>max</td>\n",
       "      <td>1.0</td>\n",
       "    </tr>\n",
       "    <tr>\n",
       "      <th>1750</th>\n",
       "      <td>Urology</td>\n",
       "      <td>MS-DRG 659-661, 693, 694, 707, 708</td>\n",
       "      <td>$41,476.00</td>\n",
       "      <td>Max</td>\n",
       "      <td>max</td>\n",
       "      <td>1.0</td>\n",
       "    </tr>\n",
       "    <tr>\n",
       "      <th>1751</th>\n",
       "      <td>Urology</td>\n",
       "      <td>ICD 9/10 0TF3XZZ, 0TF4XZZ, 0TF6XZZ, 0TF7XZZ, ...</td>\n",
       "      <td>$41,476.00</td>\n",
       "      <td>Max</td>\n",
       "      <td>max</td>\n",
       "      <td>1.0</td>\n",
       "    </tr>\n",
       "  </tbody>\n",
       "</table>\n",
       "<p>1752 rows × 6 columns</p>\n",
       "</div>"
      ],
      "text/plain": [
       "         description                                               code   \n",
       "0     Detoxification                                               None  \\\n",
       "1          Grouper 1                                               None   \n",
       "2          Grouper 2                                               None   \n",
       "3          Grouper 3                                               None   \n",
       "4          Grouper 4                                               None   \n",
       "...              ...                                                ...   \n",
       "1747      Transplant   ICD 9/10 02HA0QZ, 02HA0RZ, 02HA3QZ, 02HA4QZ, ...   \n",
       "1748      Ultrasound  CPT/HCPC 75989, 76376, 76377, 76506, 76510-765...   \n",
       "1749  Urinary System  CPT/HCPC 50080, 50081, 50543, 50544, 50590, 51...   \n",
       "1750         Urology                 MS-DRG 659-661, 693, 694, 707, 708   \n",
       "1751         Urology   ICD 9/10 0TF3XZZ, 0TF4XZZ, 0TF6XZZ, 0TF7XZZ, ...   \n",
       "\n",
       "     standard_charge_ payer_name payer_category  id_ct  \n",
       "0          $1,889.31       Aetna          payer    NaN  \n",
       "1          $2,011.23       Aetna          payer    NaN  \n",
       "2          $2,187.31       Aetna          payer    NaN  \n",
       "3          $2,741.00       Aetna          payer    NaN  \n",
       "4          $2,976.85       Aetna          payer    NaN  \n",
       "...               ...        ...            ...    ...  \n",
       "1747      $151,648.67        Max            max    1.0  \n",
       "1748        $4,099.50        Max            max    1.0  \n",
       "1749       $13,686.00        Max            max    1.0  \n",
       "1750       $41,476.00        Max            max    1.0  \n",
       "1751       $41,476.00        Max            max    1.0  \n",
       "\n",
       "[1752 rows x 6 columns]"
      ]
     },
     "execution_count": 606,
     "metadata": {},
     "output_type": "execute_result"
    }
   ],
   "source": [
    "lower_chunk.with_columns(\n",
    "    # some codes have junk like \\n in them\n",
    "    pl.col('code').str.replace_all('\\n', '').str.split(';')\n",
    ").explode('code').with_columns(\n",
    "    pl.col('code').str.to_uppercase().apply(lambda row: sum([id_ in row for id_ in identifiers])).alias('id_ct')\n",
    ").sort('id_ct').to_pandas()"
   ]
  },
  {
   "cell_type": "code",
   "execution_count": 607,
   "id": "a9998cfc-f73f-4ed6-a6ad-f014a7b6728a",
   "metadata": {
    "tags": []
   },
   "outputs": [
    {
     "data": {
      "text/plain": [
       "'CPT/HCPC 0293T, 0294T, 0408T, 0410T, 0411T, 0413T, 0415T, 33340, 33477, C9741, 93451- 93462, 93503-93505, 93530-93533, 93590, 93591, 93592, G0448'"
      ]
     },
     "execution_count": 607,
     "metadata": {},
     "output_type": "execute_result"
    }
   ],
   "source": [
    "lower_chunk.filter(pl.col('code').str.contains('- ')).to_pandas()['code'][0]"
   ]
  },
  {
   "cell_type": "code",
   "execution_count": 608,
   "id": "e6539d87-c086-4503-b23d-e2aaac61534b",
   "metadata": {
    "tags": []
   },
   "outputs": [
    {
     "data": {
      "text/plain": [
       "\"CPT/HCPC Cigna 2020 Grouper - lam and Lap Chole listed in Cigna's grouper schedule assigned to Grouper 9.  Groupers 79 and 99 removed from the grouper schedule.\""
      ]
     },
     "execution_count": 608,
     "metadata": {},
     "output_type": "execute_result"
    }
   ],
   "source": [
    "lower_chunk.filter(pl.col('code').str.contains('- ')).to_pandas()['code'][1]"
   ]
  },
  {
   "cell_type": "markdown",
   "id": "ff71bcf9-b999-4036-8a42-a6aa918f2689",
   "metadata": {},
   "source": [
    "We'll want to replace things like `93451- 93462` with the appropriate range. A range is when you have two values with the same length connected by either a dash or a dash + space.\n",
    "\n",
    "We also have rows like\n",
    "\n",
    "```\n",
    "'ICD 9/10 27125, 27130, 27132, 27134, 27137, 27138, 27445, 27446, 27447, 27486, 27487'\n",
    "```\n",
    "that are totally mislabeled.\n",
    "\n",
    "All rows where `code` is not null have an identifier:"
   ]
  },
  {
   "cell_type": "code",
   "execution_count": 609,
   "id": "132a2702-91d4-4915-b35d-f4728abf455b",
   "metadata": {
    "tags": []
   },
   "outputs": [
    {
     "data": {
      "text/html": [
       "<div><style>\n",
       ".dataframe > thead > tr > th,\n",
       ".dataframe > tbody > tr > td {\n",
       "  text-align: right;\n",
       "}\n",
       "</style>\n",
       "<small>shape: (0, 6)</small><table border=\"1\" class=\"dataframe\"><thead><tr><th>description</th><th>code</th><th>standard_charge_</th><th>payer_name</th><th>payer_category</th><th>id_ct</th></tr><tr><td>str</td><td>str</td><td>str</td><td>str</td><td>str</td><td>i64</td></tr></thead><tbody></tbody></table></div>"
      ],
      "text/plain": [
       "shape: (0, 6)\n",
       "┌─────────────┬──────┬──────────────────┬────────────┬────────────────┬───────┐\n",
       "│ description ┆ code ┆ standard_charge_ ┆ payer_name ┆ payer_category ┆ id_ct │\n",
       "│ ---         ┆ ---  ┆ ---              ┆ ---        ┆ ---            ┆ ---   │\n",
       "│ str         ┆ str  ┆ str              ┆ str        ┆ str            ┆ i64   │\n",
       "╞═════════════╪══════╪══════════════════╪════════════╪════════════════╪═══════╡\n",
       "└─────────────┴──────┴──────────────────┴────────────┴────────────────┴───────┘"
      ]
     },
     "execution_count": 609,
     "metadata": {},
     "output_type": "execute_result"
    }
   ],
   "source": [
    "lower_chunk.with_columns(\n",
    "    pl.col('code').str.split(';')\n",
    ").explode('code').with_columns(\n",
    "    pl.col('code').str.to_uppercase().apply(lambda row: sum([id_ in row for id_ in identifiers])).alias('id_ct')\n",
    ").filter(pl.col('id_ct').is_null()).filter(pl.col('code').is_not_null())"
   ]
  },
  {
   "cell_type": "code",
   "execution_count": 610,
   "id": "ab733807-5abb-4d03-87f7-2beb20816c36",
   "metadata": {
    "tags": []
   },
   "outputs": [],
   "source": [
    "lower_chunk = (\n",
    "    lower_chunk\n",
    "    .with_columns(pl.col('code').str.replace_all('\\n', '').str.split(';'))\n",
    "    .explode('code')\n",
    "    .with_columns(pl.col('code').str.to_uppercase().apply(lambda row: sum([id_ in row for id_ in identifiers])).alias('id_ct'))\n",
    ")"
   ]
  },
  {
   "cell_type": "markdown",
   "id": "dd6d850b-ef37-4098-b414-72ba9a480637",
   "metadata": {},
   "source": [
    "### Putting codes in their proper columns"
   ]
  },
  {
   "cell_type": "code",
   "execution_count": 611,
   "id": "15d76c03-715a-40da-9993-984a94a64555",
   "metadata": {
    "tags": []
   },
   "outputs": [],
   "source": [
    "col_map = {\n",
    "    'CPT/HCPC|HCPC Codes':'hcpcs_cpt',\n",
    "    'REV':'rev_code',\n",
    "    'MS-DRG':'ms_drg',\n",
    "    'ICD 9/10':'icd',\n",
    "    'APC':'apc',\n",
    "    'APR-DRG':'apr_drg',\n",
    "    'CMG':'cmg', # for good measure\n",
    "}"
   ]
  },
  {
   "cell_type": "code",
   "execution_count": 612,
   "id": "e48d99ae-bdc6-464b-b808-375364adfc9a",
   "metadata": {
    "tags": []
   },
   "outputs": [],
   "source": [
    "for k, v in col_map.items():\n",
    "    lower_chunk = lower_chunk.with_columns(\n",
    "        pl.when(pl.col('code').str.contains(k)).then(pl.col('code').str.replace_all(k, '').str.strip()).alias(v)\n",
    "    )"
   ]
  },
  {
   "cell_type": "code",
   "execution_count": 613,
   "id": "c8b011e0-bbca-49a4-8d46-a7dcc4812cf3",
   "metadata": {
    "tags": []
   },
   "outputs": [
    {
     "data": {
      "text/html": [
       "<div><style>\n",
       ".dataframe > thead > tr > th,\n",
       ".dataframe > tbody > tr > td {\n",
       "  text-align: right;\n",
       "}\n",
       "</style>\n",
       "<small>shape: (10, 13)</small><table border=\"1\" class=\"dataframe\"><thead><tr><th>description</th><th>code</th><th>standard_charge_</th><th>payer_name</th><th>payer_category</th><th>id_ct</th><th>hcpcs_cpt</th><th>rev_code</th><th>ms_drg</th><th>icd</th><th>apc</th><th>apr_drg</th><th>cmg</th></tr><tr><td>str</td><td>str</td><td>str</td><td>str</td><td>str</td><td>i64</td><td>str</td><td>str</td><td>str</td><td>str</td><td>str</td><td>str</td><td>str</td></tr></thead><tbody><tr><td>&quot;Medicine&quot;</td><td>&quot;CPT/HCPC 95864…</td><td>&quot;$314.76 &quot;</td><td>&quot;Cigna&quot;</td><td>&quot;payer&quot;</td><td>1</td><td>&quot;95864&quot;</td><td>null</td><td>null</td><td>null</td><td>null</td><td>null</td><td>null</td></tr><tr><td>&quot;Grouper 5&quot;</td><td>null</td><td>&quot;$7,000.00 &quot;</td><td>&quot;Evry Health&quot;</td><td>&quot;payer&quot;</td><td>null</td><td>null</td><td>null</td><td>null</td><td>null</td><td>null</td><td>null</td><td>null</td></tr><tr><td>&quot;PTCA&quot;</td><td>&quot;CPT/HCPC 35450…</td><td>&quot;$7,566.00&quot;</td><td>&quot;Min&quot;</td><td>&quot;min&quot;</td><td>1</td><td>&quot;35450-35476, 3…</td><td>null</td><td>null</td><td>null</td><td>null</td><td>null</td><td>null</td></tr><tr><td>&quot;Medicine&quot;</td><td>&quot;CPT/HCPC 95929…</td><td>&quot;$314.76 &quot;</td><td>&quot;Cigna&quot;</td><td>&quot;payer&quot;</td><td>1</td><td>&quot;95929&quot;</td><td>null</td><td>null</td><td>null</td><td>null</td><td>null</td><td>null</td></tr><tr><td>&quot;Table 5&quot;</td><td>null</td><td>&quot;26.04% of BC&quot;</td><td>&quot;United&quot;</td><td>&quot;payer&quot;</td><td>null</td><td>null</td><td>null</td><td>null</td><td>null</td><td>null</td><td>null</td><td>null</td></tr><tr><td>&quot;Outpatient&quot;</td><td>null</td><td>&quot;20.67% of BC&quot;</td><td>&quot;Superior&quot;</td><td>&quot;payer&quot;</td><td>null</td><td>null</td><td>null</td><td>null</td><td>null</td><td>null</td><td>null</td><td>null</td></tr><tr><td>&quot;Other Surgical…</td><td>&quot;CPT/HCPC 19120…</td><td>&quot;$2,369.00 &quot;</td><td>&quot;Superior HP MC…</td><td>&quot;payer&quot;</td><td>1</td><td>&quot;19120, 19125-1…</td><td>null</td><td>null</td><td>null</td><td>null</td><td>null</td><td>null</td></tr><tr><td>&quot;All Other Outp…</td><td>null</td><td>&quot;$9,470.00 &quot;</td><td>&quot;Cigna&quot;</td><td>&quot;payer&quot;</td><td>null</td><td>null</td><td>null</td><td>null</td><td>null</td><td>null</td><td>null</td><td>null</td></tr><tr><td>&quot;Rehab&quot;</td><td>null</td><td>&quot;100% of MCR&quot;</td><td>&quot;BCBS TX MCR&quot;</td><td>&quot;payer&quot;</td><td>null</td><td>null</td><td>null</td><td>null</td><td>null</td><td>null</td><td>null</td><td>null</td></tr><tr><td>&quot;Neurosurgery&quot;</td><td>&quot;MS-DRG 457&quot;</td><td>&quot;$37,510.00 &quot;</td><td>&quot;United&quot;</td><td>&quot;payer&quot;</td><td>1</td><td>null</td><td>null</td><td>&quot;457&quot;</td><td>null</td><td>null</td><td>null</td><td>null</td></tr></tbody></table></div>"
      ],
      "text/plain": [
       "shape: (10, 13)\n",
       "┌───────────────┬───────────────┬───────────────┬───────────────┬───┬──────┬──────┬─────────┬──────┐\n",
       "│ description   ┆ code          ┆ standard_char ┆ payer_name    ┆ … ┆ icd  ┆ apc  ┆ apr_drg ┆ cmg  │\n",
       "│ ---           ┆ ---           ┆ ge_           ┆ ---           ┆   ┆ ---  ┆ ---  ┆ ---     ┆ ---  │\n",
       "│ str           ┆ str           ┆ ---           ┆ str           ┆   ┆ str  ┆ str  ┆ str     ┆ str  │\n",
       "│               ┆               ┆ str           ┆               ┆   ┆      ┆      ┆         ┆      │\n",
       "╞═══════════════╪═══════════════╪═══════════════╪═══════════════╪═══╪══════╪══════╪═════════╪══════╡\n",
       "│ Medicine      ┆ CPT/HCPC      ┆ $314.76       ┆ Cigna         ┆ … ┆ null ┆ null ┆ null    ┆ null │\n",
       "│               ┆ 95864         ┆               ┆               ┆   ┆      ┆      ┆         ┆      │\n",
       "│ Grouper 5     ┆ null          ┆ $7,000.00     ┆ Evry Health   ┆ … ┆ null ┆ null ┆ null    ┆ null │\n",
       "│ PTCA          ┆ CPT/HCPC      ┆ $7,566.00     ┆ Min           ┆ … ┆ null ┆ null ┆ null    ┆ null │\n",
       "│               ┆ 35450-35476,  ┆               ┆               ┆   ┆      ┆      ┆         ┆      │\n",
       "│               ┆ 36555-3687…   ┆               ┆               ┆   ┆      ┆      ┆         ┆      │\n",
       "│ Medicine      ┆ CPT/HCPC      ┆ $314.76       ┆ Cigna         ┆ … ┆ null ┆ null ┆ null    ┆ null │\n",
       "│               ┆ 95929         ┆               ┆               ┆   ┆      ┆      ┆         ┆      │\n",
       "│ …             ┆ …             ┆ …             ┆ …             ┆ … ┆ …    ┆ …    ┆ …       ┆ …    │\n",
       "│ Other         ┆ CPT/HCPC      ┆ $2,369.00     ┆ Superior HP   ┆ … ┆ null ┆ null ┆ null    ┆ null │\n",
       "│ Surgical      ┆ 19120,        ┆               ┆ MCD           ┆   ┆      ┆      ┆         ┆      │\n",
       "│ Services      ┆ 19125-19126,  ┆               ┆               ┆   ┆      ┆      ┆         ┆      │\n",
       "│               ┆ 193…          ┆               ┆               ┆   ┆      ┆      ┆         ┆      │\n",
       "│ All Other     ┆ null          ┆ $9,470.00     ┆ Cigna         ┆ … ┆ null ┆ null ┆ null    ┆ null │\n",
       "│ Outpatient -  ┆               ┆               ┆               ┆   ┆      ┆      ┆         ┆      │\n",
       "│ Cap           ┆               ┆               ┆               ┆   ┆      ┆      ┆         ┆      │\n",
       "│ Rehab         ┆ null          ┆ 100% of MCR   ┆ BCBS TX MCR   ┆ … ┆ null ┆ null ┆ null    ┆ null │\n",
       "│ Neurosurgery  ┆ MS-DRG 457    ┆ $37,510.00    ┆ United        ┆ … ┆ null ┆ null ┆ null    ┆ null │\n",
       "└───────────────┴───────────────┴───────────────┴───────────────┴───┴──────┴──────┴─────────┴──────┘"
      ]
     },
     "execution_count": 613,
     "metadata": {},
     "output_type": "execute_result"
    }
   ],
   "source": [
    "lower_chunk.sample(10)"
   ]
  },
  {
   "cell_type": "code",
   "execution_count": 614,
   "id": "95d1e057-6c68-48af-9061-16c1104bf1dc",
   "metadata": {
    "tags": []
   },
   "outputs": [],
   "source": [
    "start = '(^|\\\\b)'\n",
    "end = '($|\\\\b)'\n",
    "\n",
    "def cpt_capture_template(pat):\n",
    "    range_grp = f'{start}{pat}-\\s?{pat}{end}'\n",
    "    modifier_grp = f'{start}{pat}-\\w{{2}}{end}'\n",
    "    singlet_grp = f'{start}{pat}{end}'\n",
    "    return f'(?:({range_grp})|({modifier_grp})|({singlet_grp}))'\n",
    "\n",
    "def other_capture_template(pat):\n",
    "    range_grp = f'{start}{pat}-\\s?{pat}{end}'\n",
    "    singlet_grp = f'{start}{pat}{end}'\n",
    "    return f'(?:({range_grp})|({singlet_grp}))'"
   ]
  },
  {
   "cell_type": "code",
   "execution_count": 615,
   "id": "067676d6-1d1c-4131-8a1f-9c566701c869",
   "metadata": {
    "tags": []
   },
   "outputs": [],
   "source": [
    "cpt_pats = ['[A-Z]\\d{4}',  #A1234\n",
    "            '\\d{4}[A-Z]',  #1234A\n",
    "            '\\d{5}',       #12345\n",
    "]\n",
    "\n",
    "icd_pats = [\n",
    "    '\\w{7}',            # any 7 char sequence TODO\n",
    "    '\\d{3}\\.?\\d{0,2}',  # ICD9: 123, 123.1, 123.12\n",
    "    'E\\d{3}\\.?\\d?',     # ICD9: E123, E123.1\n",
    "    'V\\d{2}\\.?\\d{0,2}', # ICD9: V12, V12.123\n",
    "]\n",
    "\n",
    "cpt_pat = '|'.join(cpt_pats)\n",
    "icd_pat = '|'.join(icd_pats)\n",
    "ms_drg_pat = '\\d{3}x?'\n",
    "apr_drg_pat = '\\d{3}(\\d|x)?'\n",
    "apc_pat = '\\d{2,4}'\n",
    "rev_pat = '\\d{3,4}'\n",
    "\n",
    "cpt_template = '|'.join(cpt_capture_template(pat) for pat in cpt_pats)\n",
    "icd_template = '|'.join(other_capture_template(pat) for pat in icd_pats)\n",
    "ms_drg_template = other_capture_template(ms_drg_pat)\n",
    "apr_drg_template = other_capture_template(apr_drg_pat)\n",
    "apc_template = other_capture_template(apc_pat)\n",
    "rev_template = other_capture_template(rev_pat)"
   ]
  },
  {
   "cell_type": "code",
   "execution_count": 616,
   "id": "bb9ffd26-8ad4-4575-be1c-9f9aba4795e4",
   "metadata": {
    "tags": []
   },
   "outputs": [],
   "source": [
    "def split_through(colname, pat):\n",
    "    return (\n",
    "        pl.col(colname).str.extract(f'-({pat})$').alias(f'thru_{colname}'),\n",
    "        pl.col(colname).str.extract(f'^({pat})-?').alias(colname)\n",
    "    )"
   ]
  },
  {
   "cell_type": "code",
   "execution_count": 617,
   "id": "b64537c9-2da5-497e-8102-7a191da9177a",
   "metadata": {
    "tags": []
   },
   "outputs": [
    {
     "data": {
      "text/html": [
       "<div><style>\n",
       ".dataframe > thead > tr > th,\n",
       ".dataframe > tbody > tr > td {\n",
       "  text-align: right;\n",
       "}\n",
       "</style>\n",
       "<small>shape: (20, 15)</small><table border=\"1\" class=\"dataframe\"><thead><tr><th>description</th><th>code</th><th>standard_charge_</th><th>payer_name</th><th>payer_category</th><th>id_ct</th><th>hcpcs_cpt</th><th>rev_code</th><th>ms_drg</th><th>icd</th><th>apc</th><th>apr_drg</th><th>cmg</th><th>modifiers</th><th>thru</th></tr><tr><td>str</td><td>str</td><td>str</td><td>str</td><td>str</td><td>i64</td><td>str</td><td>str</td><td>str</td><td>str</td><td>str</td><td>str</td><td>str</td><td>str</td><td>str</td></tr></thead><tbody><tr><td>&quot;EP Study&quot;</td><td>&quot;CPT/HCPC 93600…</td><td>&quot;263% of FS&quot;</td><td>&quot;BCBS HMO&quot;</td><td>&quot;payer&quot;</td><td>1</td><td>&quot;93624&quot;</td><td>null</td><td>null</td><td>null</td><td>null</td><td>null</td><td>null</td><td>null</td><td>null</td></tr><tr><td>&quot;Lab/Path/Trans…</td><td>&quot;CPT/HCPC D0416…</td><td>&quot;648.19% of FS&quot;</td><td>&quot;Aetna&quot;</td><td>&quot;payer&quot;</td><td>1</td><td>&quot;Q0115&quot;</td><td>null</td><td>null</td><td>null</td><td>null</td><td>null</td><td>null</td><td>null</td><td>null</td></tr><tr><td>&quot;ESWL Lithotrip…</td><td>&quot;CPT/HCPC 50590…</td><td>&quot;$4,450.00 &quot;</td><td>&quot;Molina MCR &quot;</td><td>&quot;payer&quot;</td><td>1</td><td>&quot;50590&quot;</td><td>null</td><td>null</td><td>null</td><td>null</td><td>null</td><td>null</td><td>null</td><td>null</td></tr><tr><td>&quot;Lab/Path/Trans…</td><td>&quot;CPT/HCPC 58323…</td><td>&quot;648.19% of FS&quot;</td><td>&quot;Max&quot;</td><td>&quot;max&quot;</td><td>1</td><td>&quot;G0328&quot;</td><td>null</td><td>null</td><td>null</td><td>null</td><td>null</td><td>null</td><td>null</td><td>null</td></tr><tr><td>&quot;Lab/Path/Trans…</td><td>&quot;CPT/HCPC 58323…</td><td>&quot;100% of FS&quot;</td><td>&quot;Min&quot;</td><td>&quot;min&quot;</td><td>1</td><td>&quot;P3001&quot;</td><td>null</td><td>null</td><td>null</td><td>null</td><td>null</td><td>null</td><td>null</td><td>null</td></tr><tr><td>&quot;Medicine&quot;</td><td>&quot; CPT/HCPC 9076…</td><td>&quot;$25,000.00&quot;</td><td>&quot;Max&quot;</td><td>&quot;max&quot;</td><td>1</td><td>&quot;93278&quot;</td><td>null</td><td>null</td><td>null</td><td>null</td><td>null</td><td>null</td><td>null</td><td>null</td></tr><tr><td>&quot;Transplant&quot;</td><td>&quot;MS-DRG 001, 00…</td><td>&quot;35.8% of BC&quot;</td><td>&quot;BCBS Blue Adva…</td><td>&quot;payer&quot;</td><td>1</td><td>null</td><td>null</td><td>&quot;002&quot;</td><td>null</td><td>null</td><td>null</td><td>null</td><td>null</td><td>null</td></tr><tr><td>&quot;Orthopedic&quot;</td><td>&quot;CPT/HCPC 23470…</td><td>&quot;$15,467.00 &quot;</td><td>&quot;Oscar&quot;</td><td>&quot;payer&quot;</td><td>1</td><td>&quot;27132&quot;</td><td>null</td><td>null</td><td>null</td><td>null</td><td>null</td><td>null</td><td>null</td><td>null</td></tr><tr><td>&quot;EP Studies&quot;</td><td>&quot;CPT/HCPC 93600…</td><td>&quot;$17,084.00&quot;</td><td>&quot;Min&quot;</td><td>&quot;min&quot;</td><td>1</td><td>&quot;93600&quot;</td><td>null</td><td>null</td><td>null</td><td>null</td><td>null</td><td>null</td><td>null</td><td>null</td></tr><tr><td>&quot;Orthopedic&quot;</td><td>&quot;CPT/HCPC 27702…</td><td>&quot;125% of MCR&quot;</td><td>&quot;Devoted Health…</td><td>&quot;payer&quot;</td><td>1</td><td>&quot;27130&quot;</td><td>null</td><td>null</td><td>null</td><td>null</td><td>null</td><td>null</td><td>null</td><td>null</td></tr><tr><td>&quot;Transplant&quot;</td><td>&quot;MS-DRG 001, 00…</td><td>&quot;26.9% of BC&quot;</td><td>&quot;Min&quot;</td><td>&quot;min&quot;</td><td>1</td><td>null</td><td>null</td><td>&quot;001&quot;</td><td>null</td><td>null</td><td>null</td><td>null</td><td>null</td><td>null</td></tr><tr><td>&quot;Hemic/Lymph Sy…</td><td>&quot;CPT/HCPC 0312T…</td><td>&quot;$5,034.85&quot;</td><td>&quot;Max&quot;</td><td>&quot;max&quot;</td><td>1</td><td>&quot;S2079&quot;</td><td>null</td><td>null</td><td>null</td><td>null</td><td>null</td><td>null</td><td>null</td><td>null</td></tr><tr><td>&quot;Medicine&quot;</td><td>&quot; CPT/HCPC 9076…</td><td>&quot;$25,000.00&quot;</td><td>&quot;Max&quot;</td><td>&quot;max&quot;</td><td>1</td><td>&quot;96904&quot;</td><td>null</td><td>null</td><td>null</td><td>null</td><td>null</td><td>null</td><td>null</td><td>null</td></tr><tr><td>&quot;Chemotherapy D…</td><td>&quot;CPT/HCPC A9513…</td><td>&quot;41.35% of BC&quot;</td><td>&quot;Max&quot;</td><td>&quot;max&quot;</td><td>1</td><td>&quot;J9357&quot;</td><td>null</td><td>null</td><td>null</td><td>null</td><td>null</td><td>null</td><td>null</td><td>null</td></tr><tr><td>&quot;DME&quot;</td><td>null</td><td>&quot;155% of FS&quot;</td><td>&quot;Min&quot;</td><td>&quot;min&quot;</td><td>null</td><td>null</td><td>null</td><td>null</td><td>null</td><td>null</td><td>null</td><td>null</td><td>null</td><td>null</td></tr><tr><td>&quot;Laminectomies&quot;</td><td>&quot;CPT/HCPC 63001…</td><td>&quot;$10,131.33&quot;</td><td>&quot;Max&quot;</td><td>&quot;max&quot;</td><td>1</td><td>&quot;63015&quot;</td><td>null</td><td>null</td><td>null</td><td>null</td><td>null</td><td>null</td><td>null</td><td>&quot;63017&quot;</td></tr><tr><td>&quot;General Surger…</td><td>&quot; ICD 9/10 0D16…</td><td>&quot;$17,682.00 &quot;</td><td>&quot;United&quot;</td><td>&quot;payer&quot;</td><td>1</td><td>null</td><td>null</td><td>null</td><td>&quot;0D767DZ&quot;</td><td>null</td><td>null</td><td>null</td><td>null</td><td>null</td></tr><tr><td>&quot;Orthopedic&quot;</td><td>&quot;CPT/HCPC 27125…</td><td>&quot;$12,000.00 &quot;</td><td>&quot;ProCare Advant…</td><td>&quot;payer&quot;</td><td>1</td><td>&quot;27137&quot;</td><td>null</td><td>null</td><td>null</td><td>null</td><td>null</td><td>null</td><td>null</td><td>null</td></tr><tr><td>&quot;Orthopedics&quot;</td><td>&quot; CPT/HCPC  , 1…</td><td>&quot;$8,313.67&quot;</td><td>&quot;Min&quot;</td><td>&quot;min&quot;</td><td>1</td><td>&quot;55862&quot;</td><td>null</td><td>null</td><td>null</td><td>null</td><td>null</td><td>null</td><td>null</td><td>null</td></tr><tr><td>&quot;Medicine&quot;</td><td>&quot; CPT/HCPC 9076…</td><td>&quot;$25,000.00&quot;</td><td>&quot;Max&quot;</td><td>&quot;max&quot;</td><td>1</td><td>&quot;93731&quot;</td><td>null</td><td>null</td><td>null</td><td>null</td><td>null</td><td>null</td><td>null</td><td>&quot;93736&quot;</td></tr></tbody></table></div>"
      ],
      "text/plain": [
       "shape: (20, 15)\n",
       "┌──────────────┬──────────────┬────────────┬──────────────┬───┬─────────┬──────┬───────────┬───────┐\n",
       "│ description  ┆ code         ┆ standard_c ┆ payer_name   ┆ … ┆ apr_drg ┆ cmg  ┆ modifiers ┆ thru  │\n",
       "│ ---          ┆ ---          ┆ harge_     ┆ ---          ┆   ┆ ---     ┆ ---  ┆ ---       ┆ ---   │\n",
       "│ str          ┆ str          ┆ ---        ┆ str          ┆   ┆ str     ┆ str  ┆ str       ┆ str   │\n",
       "│              ┆              ┆ str        ┆              ┆   ┆         ┆      ┆           ┆       │\n",
       "╞══════════════╪══════════════╪════════════╪══════════════╪═══╪═════════╪══════╪═══════════╪═══════╡\n",
       "│ EP Study     ┆ CPT/HCPC     ┆ 263% of FS ┆ BCBS HMO     ┆ … ┆ null    ┆ null ┆ null      ┆ null  │\n",
       "│              ┆ 93600,       ┆            ┆              ┆   ┆         ┆      ┆           ┆       │\n",
       "│              ┆ 93602,       ┆            ┆              ┆   ┆         ┆      ┆           ┆       │\n",
       "│              ┆ 93603, 93…   ┆            ┆              ┆   ┆         ┆      ┆           ┆       │\n",
       "│ Lab/Path/Tra ┆ CPT/HCPC     ┆ 648.19% of ┆ Aetna        ┆ … ┆ null    ┆ null ┆ null      ┆ null  │\n",
       "│ nsfusions    ┆ D0416,       ┆ FS         ┆              ┆   ┆         ┆      ┆           ┆       │\n",
       "│              ┆ D0431,       ┆            ┆              ┆   ┆         ┆      ┆           ┆       │\n",
       "│              ┆ D0475, D0…   ┆            ┆              ┆   ┆         ┆      ┆           ┆       │\n",
       "│ ESWL         ┆ CPT/HCPC     ┆ $4,450.00  ┆ Molina MCR   ┆ … ┆ null    ┆ null ┆ null      ┆ null  │\n",
       "│ Lithotripsy  ┆ 50590,       ┆            ┆              ┆   ┆         ┆      ┆           ┆       │\n",
       "│              ┆ 52353, 52356 ┆            ┆              ┆   ┆         ┆      ┆           ┆       │\n",
       "│ Lab/Path/Tra ┆ CPT/HCPC     ┆ 648.19% of ┆ Max          ┆ … ┆ null    ┆ null ┆ null      ┆ null  │\n",
       "│ nsfusions    ┆ 58323,       ┆ FS         ┆              ┆   ┆         ┆      ┆           ┆       │\n",
       "│              ┆ 80047-89356, ┆            ┆              ┆   ┆         ┆      ┆           ┆       │\n",
       "│              ┆ 893…         ┆            ┆              ┆   ┆         ┆      ┆           ┆       │\n",
       "│ …            ┆ …            ┆ …          ┆ …            ┆ … ┆ …       ┆ …    ┆ …         ┆ …     │\n",
       "│ General      ┆ ICD 9/10     ┆ $17,682.00 ┆ United       ┆ … ┆ null    ┆ null ┆ null      ┆ null  │\n",
       "│ Surgery      ┆ 0D16079,     ┆            ┆              ┆   ┆         ┆      ┆           ┆       │\n",
       "│              ┆ 0D1607A,     ┆            ┆              ┆   ┆         ┆      ┆           ┆       │\n",
       "│              ┆ 0D16…        ┆            ┆              ┆   ┆         ┆      ┆           ┆       │\n",
       "│ Orthopedic   ┆ CPT/HCPC     ┆ $12,000.00 ┆ ProCare      ┆ … ┆ null    ┆ null ┆ null      ┆ null  │\n",
       "│              ┆ 27125,       ┆            ┆ Advantage    ┆   ┆         ┆      ┆           ┆       │\n",
       "│              ┆ 27130,       ┆            ┆              ┆   ┆         ┆      ┆           ┆       │\n",
       "│              ┆ 27132, 27…   ┆            ┆              ┆   ┆         ┆      ┆           ┆       │\n",
       "│ Orthopedics  ┆ CPT/HCPC  ,  ┆ $8,313.67  ┆ Min          ┆ … ┆ null    ┆ null ┆ null      ┆ null  │\n",
       "│              ┆ 19296-19298, ┆            ┆              ┆   ┆         ┆      ┆           ┆       │\n",
       "│              ┆ 22510,…      ┆            ┆              ┆   ┆         ┆      ┆           ┆       │\n",
       "│ Medicine     ┆ CPT/HCPC     ┆ $25,000.00 ┆ Max          ┆ … ┆ null    ┆ null ┆ null      ┆ 93736 │\n",
       "│              ┆ 90760,       ┆            ┆              ┆   ┆         ┆      ┆           ┆       │\n",
       "│              ┆ 90761,       ┆            ┆              ┆   ┆         ┆      ┆           ┆       │\n",
       "│              ┆ 90765-90…    ┆            ┆              ┆   ┆         ┆      ┆           ┆       │\n",
       "└──────────────┴──────────────┴────────────┴──────────────┴───┴─────────┴──────┴───────────┴───────┘"
      ]
     },
     "execution_count": 617,
     "metadata": {},
     "output_type": "execute_result"
    }
   ],
   "source": [
    "(\n",
    "    lower_chunk.with_columns([\n",
    "    \n",
    "        # we need to string capture the CPT codes when they're mislabled as ICDs\n",
    "        pl.concat_str([\n",
    "            pl.col('hcpcs_cpt').fill_null(''), pl.col('icd').fill_null('')\n",
    "        ]).str.extract_all(cpt_template).alias('hcpcs_cpt'),\n",
    "        \n",
    "        # remove the extracted CPT codes before we look for ICD codes\n",
    "        pl.col('icd').str.replace_all(cpt_pat, '').str.extract_all(icd_template).keep_name(),\n",
    "\n",
    "        # these appear to be OK\n",
    "        pl.col('ms_drg').str.extract_all(ms_drg_template).keep_name(),\n",
    "        pl.col('apr_drg').str.extract_all(apr_drg_template).keep_name(),\n",
    "        pl.col('apc').str.extract_all(apc_template).keep_name(),\n",
    "        pl.col('rev_code').str.extract_all(rev_template).keep_name(),\n",
    "    ])\n",
    "    \n",
    "    # all these need to be exploded separately since they have different array lengths\n",
    "    .explode('hcpcs_cpt').explode('ms_drg').explode('icd').explode('apc').explode('apr_drg').explode('rev_code')\n",
    "    \n",
    "    .with_columns([\n",
    "        *split_through('hcpcs_cpt', cpt_pat),\n",
    "        *split_through('icd', icd_pat),\n",
    "        *split_through('ms_drg', ms_drg_pat),\n",
    "        *split_through('apr_drg', apr_drg_pat),\n",
    "        *split_through('apc', apc_pat),\n",
    "        *split_through('rev_code', rev_pat),\n",
    "        pl.col('hcpcs_cpt').str.extract(f'-(\\w{{2}})$').alias('modifiers'),\n",
    "    ])    \n",
    "    .with_columns(\n",
    "        pl.coalesce(pl.col(['thru_hcpcs_cpt', 'thru_rev_code', 'thru_icd', 'thru_ms_drg', 'thru_apr_drg', 'thru_apc'])).alias('thru')\n",
    "    ).drop(['thru_hcpcs_cpt', 'thru_rev_code', 'thru_icd', 'thru_ms_drg', 'thru_apr_drg', 'thru_apc'])\n",
    "\n",
    ").sample(20)"
   ]
  },
  {
   "cell_type": "markdown",
   "id": "967526c0-ca9d-45dc-bf45-70d844c466cb",
   "metadata": {},
   "source": [
    "### Putting it all together"
   ]
  },
  {
   "cell_type": "code",
   "execution_count": 618,
   "id": "2d75c5b6-f4f9-4550-b168-8615e96f7206",
   "metadata": {
    "tags": []
   },
   "outputs": [],
   "source": [
    "lower_chunk = (\n",
    "  lower_chunk.with_columns([\n",
    "    \n",
    "        # we need to string capture the CPT codes when they're mislabled as ICDs\n",
    "        pl.concat_str([\n",
    "            pl.col('hcpcs_cpt').fill_null(''), pl.col('icd').fill_null('')\n",
    "        ]).str.extract_all(cpt_template).alias('hcpcs_cpt'),\n",
    "        \n",
    "        # remove the extracted CPT codes before we look for ICD codes\n",
    "        pl.col('icd').str.replace_all(cpt_pat, '').str.extract_all(icd_template).keep_name(),\n",
    "\n",
    "        # these appear to be OK\n",
    "        pl.col('ms_drg').str.extract_all(ms_drg_template).keep_name(),\n",
    "        pl.col('apr_drg').str.extract_all(apr_drg_template).keep_name(),\n",
    "        pl.col('apc').str.extract_all(apc_template).keep_name(),\n",
    "        pl.col('rev_code').str.extract_all(rev_template).keep_name(),\n",
    "    ])\n",
    "    \n",
    "    # all these need to be exploded separately since they have different array lengths\n",
    "    .explode('hcpcs_cpt').explode('ms_drg').explode('icd').explode('apc').explode('apr_drg').explode('rev_code')\n",
    "    \n",
    "    .with_columns([\n",
    "        *split_through('hcpcs_cpt', cpt_pat),\n",
    "        *split_through('icd', icd_pat),\n",
    "        *split_through('ms_drg', ms_drg_pat),\n",
    "        *split_through('apr_drg', apr_drg_pat),\n",
    "        *split_through('apc', apc_pat),\n",
    "        *split_through('rev_code', rev_pat),\n",
    "        pl.col('hcpcs_cpt').str.extract(f'-(\\w{{2}})$').alias('modifiers'),\n",
    "    ])    \n",
    "    .with_columns(\n",
    "        pl.coalesce(pl.col(['thru_hcpcs_cpt', 'thru_rev_code', 'thru_icd', 'thru_ms_drg', 'thru_apr_drg', 'thru_apc'])).alias('thru')\n",
    "    ).drop(['thru_hcpcs_cpt', 'thru_rev_code', 'thru_icd', 'thru_ms_drg', 'thru_apr_drg', 'thru_apc'])\n",
    "    .with_columns(\n",
    "        *charge_cols()\n",
    "    )\n",
    ")"
   ]
  },
  {
   "cell_type": "code",
   "execution_count": 619,
   "id": "66f27035-04e7-414e-a5a6-0a7d991bd0c3",
   "metadata": {
    "tags": []
   },
   "outputs": [],
   "source": [
    "for c in lower_chunk.columns + upper_chunk.columns:\n",
    "    if c not in upper_chunk.columns:\n",
    "        dtype = lower_chunk[c].dtype\n",
    "        upper_chunk = upper_chunk.with_columns(pl.lit(None).cast(dtype).alias(c))\n",
    "        \n",
    "    if c not in lower_chunk.columns:\n",
    "        dtype = upper_chunk[c].dtype\n",
    "        lower_chunk = lower_chunk.with_columns(pl.lit(None).cast(dtype).alias(c))\n",
    "    \n",
    "upper_chunk = upper_chunk.select(lower_chunk.columns)\n",
    "df = pl.concat([upper_chunk, lower_chunk])"
   ]
  },
  {
   "cell_type": "code",
   "execution_count": 620,
   "id": "d15353f7-8480-4fb9-8982-49944a81f4e7",
   "metadata": {
    "tags": []
   },
   "outputs": [],
   "source": [
    "df = df.select([\n",
    "    'description',\n",
    "    'local_code',\n",
    "    'code',\n",
    "    'hcpcs_cpt',\n",
    "    'modifiers',\n",
    "    'rev_code',\n",
    "    'ms_drg',\n",
    "    'apr_drg',\n",
    "    'apc',\n",
    "    'icd',\n",
    "    'thru',\n",
    "    'payer_name',\n",
    "    'payer_category',\n",
    "    'standard_charge_',\n",
    "    'standard_charge',\n",
    "    'standard_charge_percent',\n",
    "    'contracting_method',\n",
    "    'additional_generic_notes',\n",
    "    ])"
   ]
  },
  {
   "cell_type": "code",
   "execution_count": 621,
   "id": "5be727dd-ac31-4aa8-b96b-343f49032b5a",
   "metadata": {
    "tags": []
   },
   "outputs": [
    {
     "data": {
      "text/html": [
       "<div><style>\n",
       ".dataframe > thead > tr > th,\n",
       ".dataframe > tbody > tr > td {\n",
       "  text-align: right;\n",
       "}\n",
       "</style>\n",
       "<small>shape: (0, 18)</small><table border=\"1\" class=\"dataframe\"><thead><tr><th>description</th><th>local_code</th><th>code</th><th>hcpcs_cpt</th><th>modifiers</th><th>rev_code</th><th>ms_drg</th><th>apr_drg</th><th>apc</th><th>icd</th><th>thru</th><th>payer_name</th><th>payer_category</th><th>standard_charge_</th><th>standard_charge</th><th>standard_charge_percent</th><th>contracting_method</th><th>additional_generic_notes</th></tr><tr><td>str</td><td>str</td><td>str</td><td>str</td><td>str</td><td>str</td><td>str</td><td>str</td><td>str</td><td>str</td><td>str</td><td>str</td><td>str</td><td>str</td><td>str</td><td>str</td><td>str</td><td>str</td></tr></thead><tbody></tbody></table></div>"
      ],
      "text/plain": [
       "shape: (0, 18)\n",
       "┌───────────┬──────────┬──────┬───────────┬───┬────────────┬────────────┬────────────┬────────────┐\n",
       "│ descripti ┆ local_co ┆ code ┆ hcpcs_cpt ┆ … ┆ standard_c ┆ standard_c ┆ contractin ┆ additional │\n",
       "│ on        ┆ de       ┆ ---  ┆ ---       ┆   ┆ harge      ┆ harge_perc ┆ g_method   ┆ _generic_n │\n",
       "│ ---       ┆ ---      ┆ str  ┆ str       ┆   ┆ ---        ┆ ent        ┆ ---        ┆ otes       │\n",
       "│ str       ┆ str      ┆      ┆           ┆   ┆ str        ┆ ---        ┆ str        ┆ ---        │\n",
       "│           ┆          ┆      ┆           ┆   ┆            ┆ str        ┆            ┆ str        │\n",
       "╞═══════════╪══════════╪══════╪═══════════╪═══╪════════════╪════════════╪════════════╪════════════╡\n",
       "└───────────┴──────────┴──────┴───────────┴───┴────────────┴────────────┴────────────┴────────────┘"
      ]
     },
     "execution_count": 621,
     "metadata": {},
     "output_type": "execute_result"
    }
   ],
   "source": [
    "df.filter(pl.col('description').is_null())"
   ]
  },
  {
   "cell_type": "code",
   "execution_count": 622,
   "id": "992b2631-07cd-4103-a438-2b4f766d81e0",
   "metadata": {
    "tags": []
   },
   "outputs": [],
   "source": [
    "df.write_csv('HCAtest.csv')"
   ]
  },
  {
   "cell_type": "code",
   "execution_count": 623,
   "id": "16f886c7-4cc8-4488-a0b9-f18f578ab077",
   "metadata": {},
   "outputs": [],
   "source": [
    "# def move_modifiers(df):\n",
    "#     df = df.with_columns([\n",
    "#         pl.col('hcpcs_cpt').str.slice(offset = 0, length = 5).keep_name(),\n",
    "#         pl.col('hcpcs_cpt').str.slice(offset = 5, length = None).alias('modifiers'),\n",
    "#     ])\n",
    "#     return df\n",
    "\n",
    "# def split_modifier_string(s):\n",
    "#     chunks = [s[i:i+2] for i in range(0, len(s), 2)]\n",
    "#     return \"|\".join(chunks)\n",
    "\n",
    "# def split_modifier(df):\n",
    "#     df = df.with_columns(\n",
    "#         pl.col('modifiers').apply(split_modifier_string)\n",
    "#     )\n",
    "    \n",
    "#     return df"
   ]
  },
  {
   "cell_type": "code",
   "execution_count": null,
   "id": "816fa5b6-ecda-46a0-ac20-c28e448095be",
   "metadata": {},
   "outputs": [],
   "source": []
  }
 ],
 "metadata": {
  "kernelspec": {
   "display_name": "Python 3 (ipykernel)",
   "language": "python",
   "name": "python3"
  },
  "language_info": {
   "codemirror_mode": {
    "name": "ipython",
    "version": 3
   },
   "file_extension": ".py",
   "mimetype": "text/x-python",
   "name": "python",
   "nbconvert_exporter": "python",
   "pygments_lexer": "ipython3",
   "version": "3.9.16"
  }
 },
 "nbformat": 4,
 "nbformat_minor": 5
}
