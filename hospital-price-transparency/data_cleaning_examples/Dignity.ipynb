{
 "cells": [
  {
   "cell_type": "code",
   "execution_count": 190,
   "id": "099bb1ba-f502-49ea-acdc-c75723e6803f",
   "metadata": {
    "tags": []
   },
   "outputs": [],
   "source": [
    "import polars as pl\n",
    "import json"
   ]
  },
  {
   "cell_type": "markdown",
   "id": "850cd7ff-b067-4b11-96d5-097da3d2ec43",
   "metadata": {},
   "source": [
    "### Loading the file\n",
    "\n",
    "Try running this script on this file:"
   ]
  },
  {
   "cell_type": "code",
   "execution_count": 211,
   "id": "5b8028e6-eae7-40fb-bf22-78e0dec37bfa",
   "metadata": {
    "tags": []
   },
   "outputs": [
    {
     "data": {
      "text/plain": [
       "'https://www.dignityhealth.org/content/dam/dignity-health/documents/pricing-procedure-spreadsheets-2020/2023-mrf-price-transparency-files/465322209_St-Josephs-Behavioral-Health-Center_standardcharges.json'"
      ]
     },
     "execution_count": 211,
     "metadata": {},
     "output_type": "execute_result"
    }
   ],
   "source": [
    "'https://www.dignityhealth.org/content/dam/dignity-health/documents/pricing-procedure-spreadsheets-2020/2023-mrf-price-transparency-files/465322209_St-Josephs-Behavioral-Health-Center_standardcharges.json'"
   ]
  },
  {
   "cell_type": "code",
   "execution_count": 191,
   "id": "cd6d2733-3e31-4b76-8f8b-a3953ee6d66e",
   "metadata": {
    "tags": []
   },
   "outputs": [],
   "source": [
    "file = open('notebooks/465322209_St-Josephs-Behavioral-Health-Center_standardcharges.json')\n",
    "data = json.load(file)"
   ]
  },
  {
   "cell_type": "code",
   "execution_count": 192,
   "id": "a1bc1007-3d89-4baf-bd48-fcd052951789",
   "metadata": {
    "tags": []
   },
   "outputs": [],
   "source": [
    "for dict_ in data['standard_charge_information']:\n",
    "    for stdchg in dict_['standard_charges']:\n",
    "        stdchg.setdefault('gross_charge', None)\n",
    "        if not any('cash' in key for key in stdchg.keys()):\n",
    "            stdchg.setdefault('discounted_cash', None)"
   ]
  },
  {
   "cell_type": "markdown",
   "id": "18af7df8-b31e-465f-9c18-43ab3fb4f465",
   "metadata": {},
   "source": [
    "The above step is necessary since all structs must have the same number of fields. We basically set each struct (dict) to have a default value if they key isn't given."
   ]
  },
  {
   "cell_type": "markdown",
   "id": "4b59485d-dd04-43ad-aaec-a1e70c545c1a",
   "metadata": {},
   "source": [
    "### Flattening the dataframe piece by piece"
   ]
  },
  {
   "cell_type": "code",
   "execution_count": 193,
   "id": "fc231709-6c73-4d37-904b-f6686574c954",
   "metadata": {
    "tags": []
   },
   "outputs": [],
   "source": [
    "df = pl.DataFrame(data['standard_charge_information'])"
   ]
  },
  {
   "cell_type": "code",
   "execution_count": 194,
   "id": "33505933-9356-4668-829d-f1ef7393d032",
   "metadata": {
    "tags": []
   },
   "outputs": [],
   "source": [
    "df = df.explode('standard_charges')"
   ]
  },
  {
   "cell_type": "code",
   "execution_count": 195,
   "id": "09c99317-5a1f-4c6c-aa57-501a2abf438a",
   "metadata": {
    "tags": []
   },
   "outputs": [],
   "source": [
    "df = df.with_columns([\n",
    "    pl.col('standard_charges').struct.field('minimum').alias('minimum'),\n",
    "    pl.col('standard_charges').struct.field('maximum').alias('maximum'),\n",
    "    pl.col('standard_charges').struct.field('gross_charge').alias('gross_charge'),\n",
    "    pl.col('standard_charges').struct.field('discounted_cash').alias('discounted_cash'),\n",
    "\n",
    "    pl.col('standard_charges').struct.field('setting').alias('setting'),\n",
    "    pl.col('standard_charges').struct.field('payers_information').alias('payers_information'),\n",
    "    pl.col('standard_charges').struct.field('billing_class').alias('billing_class'),\n",
    "]).drop('standard_charges')"
   ]
  },
  {
   "cell_type": "code",
   "execution_count": 196,
   "id": "d82aada0-2483-4d7e-96ff-7fdd17b6fc83",
   "metadata": {
    "tags": []
   },
   "outputs": [],
   "source": [
    "df = df.explode('payers_information')"
   ]
  },
  {
   "cell_type": "code",
   "execution_count": 197,
   "id": "f4ff69d7-ab3b-4dd3-9ec2-1b58f6e26531",
   "metadata": {
    "tags": []
   },
   "outputs": [],
   "source": [
    "df = df.with_columns([\n",
    "    pl.col('payers_information').struct.field('payer_name').alias('payer_name'),\n",
    "    pl.col('payers_information').struct.field('plan_name').alias('plan_name'),\n",
    "    pl.col('payers_information').struct.field('standard_charge').alias('standard_charge'),\n",
    "    pl.col('payers_information').struct.field('contracting_method').alias('contracting_method'),\n",
    "    pl.col('payers_information').struct.field('standard_charge_percent').alias('standard_charge_percent'),\n",
    "]).drop('payers_information')"
   ]
  },
  {
   "cell_type": "code",
   "execution_count": 198,
   "id": "db92aef6-3c2b-44c5-ab01-2baf1508318b",
   "metadata": {
    "tags": []
   },
   "outputs": [],
   "source": [
    "df = df.with_columns(\n",
    "    pl.col('billing_code_information').arr.get(0).struct.field('code'),\n",
    "    pl.col('billing_code_information').arr.get(0).struct.field('type'),\n",
    "    pl.col('billing_code_information').arr.get(1).struct.field('code').alias('rev_code'),\n",
    ").drop(['billing_code_information'])"
   ]
  },
  {
   "cell_type": "code",
   "execution_count": 199,
   "id": "61529488-1761-4938-85fa-12400a1677c7",
   "metadata": {
    "tags": []
   },
   "outputs": [],
   "source": [
    "df = df.with_columns([\n",
    "    pl.when(pl.col('type') == 'CPT').then(pl.col('code')).alias('hcpcs_cpt'),\n",
    "    pl.when(pl.col('type') == 'MS-DRG').then(pl.col('code')).alias('ms_drg'),\n",
    "    pl.when(pl.col('type') == 'ICD').then(pl.col('code')).alias('icd'),\n",
    "])"
   ]
  },
  {
   "cell_type": "code",
   "execution_count": 200,
   "id": "459a980d-9551-42fa-906e-90d37a557aae",
   "metadata": {
    "tags": []
   },
   "outputs": [
    {
     "data": {
      "text/html": [
       "<div><style>\n",
       ".dataframe > thead > tr > th,\n",
       ".dataframe > tbody > tr > td {\n",
       "  text-align: right;\n",
       "}\n",
       "</style>\n",
       "<small>shape: (5, 18)</small><table border=\"1\" class=\"dataframe\"><thead><tr><th>description</th><th>minimum</th><th>maximum</th><th>gross_charge</th><th>discounted_cash</th><th>setting</th><th>billing_class</th><th>payer_name</th><th>plan_name</th><th>standard_charge</th><th>contracting_method</th><th>standard_charge_percent</th><th>code</th><th>type</th><th>rev_code</th><th>hcpcs_cpt</th><th>ms_drg</th><th>icd</th></tr><tr><td>str</td><td>f64</td><td>f64</td><td>null</td><td>null</td><td>str</td><td>str</td><td>str</td><td>str</td><td>f64</td><td>str</td><td>i64</td><td>str</td><td>str</td><td>str</td><td>str</td><td>str</td><td>str</td></tr></thead><tbody><tr><td>&quot;FNA BX W/US GD…</td><td>866.71</td><td>866.71</td><td>null</td><td>null</td><td>&quot;outpatient&quot;</td><td>&quot;facility&quot;</td><td>&quot;Blue Shield CA…</td><td>&quot;Commercial | A…</td><td>null</td><td>&quot;percent of tot…</td><td>94</td><td>&quot;10005&quot;</td><td>&quot;CPT&quot;</td><td>null</td><td>&quot;10005&quot;</td><td>null</td><td>null</td></tr><tr><td>&quot;FNA BX W/US GD…</td><td>866.71</td><td>866.71</td><td>null</td><td>null</td><td>&quot;outpatient&quot;</td><td>&quot;facility&quot;</td><td>&quot;Blue Shield CA…</td><td>&quot;Commercial | E…</td><td>null</td><td>&quot;percent of tot…</td><td>71</td><td>&quot;10005&quot;</td><td>&quot;CPT&quot;</td><td>null</td><td>&quot;10005&quot;</td><td>null</td><td>null</td></tr><tr><td>&quot;FNA BX W/US GD…</td><td>866.71</td><td>866.71</td><td>null</td><td>null</td><td>&quot;outpatient&quot;</td><td>&quot;facility&quot;</td><td>&quot;DHR&quot;</td><td>&quot;Commercial | A…</td><td>null</td><td>&quot;percent of tot…</td><td>28</td><td>&quot;10005&quot;</td><td>&quot;CPT&quot;</td><td>null</td><td>&quot;10005&quot;</td><td>null</td><td>null</td></tr><tr><td>&quot;FNA BX W/US GD…</td><td>866.71</td><td>866.71</td><td>null</td><td>null</td><td>&quot;outpatient&quot;</td><td>&quot;facility&quot;</td><td>&quot;First Health&quot;</td><td>&quot;Commercial | A…</td><td>null</td><td>&quot;percent of tot…</td><td>72</td><td>&quot;10005&quot;</td><td>&quot;CPT&quot;</td><td>null</td><td>&quot;10005&quot;</td><td>null</td><td>null</td></tr><tr><td>&quot;FNA BX W/US GD…</td><td>866.71</td><td>866.71</td><td>null</td><td>null</td><td>&quot;outpatient&quot;</td><td>&quot;facility&quot;</td><td>&quot;MultiPlan&quot;</td><td>&quot;Commercial | A…</td><td>null</td><td>&quot;percent of tot…</td><td>77</td><td>&quot;10005&quot;</td><td>&quot;CPT&quot;</td><td>null</td><td>&quot;10005&quot;</td><td>null</td><td>null</td></tr></tbody></table></div>"
      ],
      "text/plain": [
       "shape: (5, 18)\n",
       "┌─────────────────┬─────────┬─────────┬──────────────┬───┬──────────┬───────────┬────────┬──────┐\n",
       "│ description     ┆ minimum ┆ maximum ┆ gross_charge ┆ … ┆ rev_code ┆ hcpcs_cpt ┆ ms_drg ┆ icd  │\n",
       "│ ---             ┆ ---     ┆ ---     ┆ ---          ┆   ┆ ---      ┆ ---       ┆ ---    ┆ ---  │\n",
       "│ str             ┆ f64     ┆ f64     ┆ null         ┆   ┆ str      ┆ str       ┆ str    ┆ str  │\n",
       "╞═════════════════╪═════════╪═════════╪══════════════╪═══╪══════════╪═══════════╪════════╪══════╡\n",
       "│ FNA BX W/US GDN ┆ 866.71  ┆ 866.71  ┆ null         ┆ … ┆ null     ┆ 10005     ┆ null   ┆ null │\n",
       "│ 1ST LES         ┆         ┆         ┆              ┆   ┆          ┆           ┆        ┆      │\n",
       "│ FNA BX W/US GDN ┆ 866.71  ┆ 866.71  ┆ null         ┆ … ┆ null     ┆ 10005     ┆ null   ┆ null │\n",
       "│ 1ST LES         ┆         ┆         ┆              ┆   ┆          ┆           ┆        ┆      │\n",
       "│ FNA BX W/US GDN ┆ 866.71  ┆ 866.71  ┆ null         ┆ … ┆ null     ┆ 10005     ┆ null   ┆ null │\n",
       "│ 1ST LES         ┆         ┆         ┆              ┆   ┆          ┆           ┆        ┆      │\n",
       "│ FNA BX W/US GDN ┆ 866.71  ┆ 866.71  ┆ null         ┆ … ┆ null     ┆ 10005     ┆ null   ┆ null │\n",
       "│ 1ST LES         ┆         ┆         ┆              ┆   ┆          ┆           ┆        ┆      │\n",
       "│ FNA BX W/US GDN ┆ 866.71  ┆ 866.71  ┆ null         ┆ … ┆ null     ┆ 10005     ┆ null   ┆ null │\n",
       "│ 1ST LES         ┆         ┆         ┆              ┆   ┆          ┆           ┆        ┆      │\n",
       "└─────────────────┴─────────┴─────────┴──────────────┴───┴──────────┴───────────┴────────┴──────┘"
      ]
     },
     "execution_count": 200,
     "metadata": {},
     "output_type": "execute_result"
    }
   ],
   "source": [
    "df.head()"
   ]
  },
  {
   "cell_type": "markdown",
   "id": "2a04431c-c194-4cae-877c-aeade2aaec6f",
   "metadata": {},
   "source": [
    "### Melting the dataframe to unite the fictitious payers with the real payers"
   ]
  },
  {
   "cell_type": "code",
   "execution_count": 201,
   "id": "04f2baef-6e84-4bb9-ac54-3e1aff91bf29",
   "metadata": {
    "tags": []
   },
   "outputs": [],
   "source": [
    "fictitious_payers = ['minimum', 'maximum', 'gross_charge', 'discounted_cash', 'discounted_cash']"
   ]
  },
  {
   "cell_type": "code",
   "execution_count": 202,
   "id": "4775352d-f0ef-4681-94cc-738a4265ee46",
   "metadata": {
    "tags": []
   },
   "outputs": [],
   "source": [
    "df_other = df.select(\n",
    "    c for c in df.columns if c not in \n",
    "    ['payer_name', 'plan_name', 'standard_charge', 'contracting_method', 'standard_charge_percent']\n",
    ")"
   ]
  },
  {
   "cell_type": "code",
   "execution_count": 203,
   "id": "1d533c2b-12f9-487c-99eb-e75e719c84e8",
   "metadata": {
    "tags": []
   },
   "outputs": [],
   "source": [
    "df_other = df_other.melt(\n",
    "    id_vars = [c for c in df_other.columns if c not in fictitious_payers],\n",
    "    value_vars = fictitious_payers,\n",
    "    variable_name = 'payer_name', \n",
    "    value_name = 'standard_charge',\n",
    ")"
   ]
  },
  {
   "cell_type": "code",
   "execution_count": 204,
   "id": "88f44eb9-4bbd-4eec-b408-7424064bf243",
   "metadata": {
    "tags": []
   },
   "outputs": [],
   "source": [
    "df = df.drop(fictitious_payers)"
   ]
  },
  {
   "cell_type": "code",
   "execution_count": 205,
   "id": "2bcdc8c3-6456-4710-aa5e-4771df44007a",
   "metadata": {},
   "outputs": [],
   "source": [
    "for c in df.columns:\n",
    "    if c not in df_other:\n",
    "        dtype = df[c].dtype\n",
    "        df_other = df_other.with_columns(pl.lit(None).cast(dtype).alias(c))\n",
    "        \n",
    "df_other = df_other.select(df.columns)"
   ]
  },
  {
   "cell_type": "code",
   "execution_count": 206,
   "id": "2f0ffcf1-2491-496a-89fb-e2ea2b0dd7b2",
   "metadata": {
    "tags": []
   },
   "outputs": [],
   "source": [
    "df = pl.concat([df, df_other])"
   ]
  },
  {
   "cell_type": "code",
   "execution_count": 207,
   "id": "29cd5856-ebf4-48ca-ba01-daa504aa1e86",
   "metadata": {
    "tags": []
   },
   "outputs": [],
   "source": [
    "df = df.with_columns(\n",
    "    pl\n",
    "    .when(pl.col('payer_name') == 'minimum').then('min')\n",
    "    .when(pl.col('payer_name') == 'maximum').then('max')\n",
    "    .when(pl.col('payer_name') == 'gross_charges').then('gross')\n",
    "    .when(pl.col('payer_name') == 'discounted_cash').then('cash')\n",
    "    .otherwise('payer')\n",
    "    .alias('payer_category')\n",
    ")"
   ]
  },
  {
   "cell_type": "code",
   "execution_count": 208,
   "id": "dcdef949-f6cd-47dd-8299-4920cbe2b1fb",
   "metadata": {
    "tags": []
   },
   "outputs": [],
   "source": [
    "df = df.unique()"
   ]
  },
  {
   "cell_type": "code",
   "execution_count": 210,
   "id": "404afd94-0f73-417e-bc1d-07780e778559",
   "metadata": {
    "tags": []
   },
   "outputs": [
    {
     "data": {
      "text/html": [
       "<div>\n",
       "<style scoped>\n",
       "    .dataframe tbody tr th:only-of-type {\n",
       "        vertical-align: middle;\n",
       "    }\n",
       "\n",
       "    .dataframe tbody tr th {\n",
       "        vertical-align: top;\n",
       "    }\n",
       "\n",
       "    .dataframe thead th {\n",
       "        text-align: right;\n",
       "    }\n",
       "</style>\n",
       "<table border=\"1\" class=\"dataframe\">\n",
       "  <thead>\n",
       "    <tr style=\"text-align: right;\">\n",
       "      <th></th>\n",
       "      <th>description</th>\n",
       "      <th>setting</th>\n",
       "      <th>billing_class</th>\n",
       "      <th>payer_name</th>\n",
       "      <th>plan_name</th>\n",
       "      <th>standard_charge</th>\n",
       "      <th>contracting_method</th>\n",
       "      <th>standard_charge_percent</th>\n",
       "      <th>code</th>\n",
       "      <th>type</th>\n",
       "      <th>rev_code</th>\n",
       "      <th>hcpcs_cpt</th>\n",
       "      <th>ms_drg</th>\n",
       "      <th>icd</th>\n",
       "      <th>payer_category</th>\n",
       "    </tr>\n",
       "  </thead>\n",
       "  <tbody>\n",
       "    <tr>\n",
       "      <th>0</th>\n",
       "      <td>FNA BX W/US GDN 1ST LES</td>\n",
       "      <td>outpatient</td>\n",
       "      <td>facility</td>\n",
       "      <td>DHR</td>\n",
       "      <td>Commercial | All Plans</td>\n",
       "      <td>NaN</td>\n",
       "      <td>percent of total billed charge</td>\n",
       "      <td>28.0</td>\n",
       "      <td>10005</td>\n",
       "      <td>CPT</td>\n",
       "      <td>None</td>\n",
       "      <td>10005</td>\n",
       "      <td>None</td>\n",
       "      <td>None</td>\n",
       "      <td>payer</td>\n",
       "    </tr>\n",
       "    <tr>\n",
       "      <th>1</th>\n",
       "      <td>FNA BX W/O IMG GDN 1ST LES</td>\n",
       "      <td>outpatient</td>\n",
       "      <td>facility</td>\n",
       "      <td>First Health</td>\n",
       "      <td>Commercial | All Plans</td>\n",
       "      <td>NaN</td>\n",
       "      <td>percent of total billed charge</td>\n",
       "      <td>72.0</td>\n",
       "      <td>10021</td>\n",
       "      <td>CPT</td>\n",
       "      <td>None</td>\n",
       "      <td>10021</td>\n",
       "      <td>None</td>\n",
       "      <td>None</td>\n",
       "      <td>payer</td>\n",
       "    </tr>\n",
       "    <tr>\n",
       "      <th>2</th>\n",
       "      <td>ACNE SURGERY</td>\n",
       "      <td>outpatient</td>\n",
       "      <td>facility</td>\n",
       "      <td>Blue Shield CA</td>\n",
       "      <td>Commercial | All Other Plans</td>\n",
       "      <td>NaN</td>\n",
       "      <td>percent of total billed charge</td>\n",
       "      <td>94.0</td>\n",
       "      <td>10040</td>\n",
       "      <td>CPT</td>\n",
       "      <td>None</td>\n",
       "      <td>10040</td>\n",
       "      <td>None</td>\n",
       "      <td>None</td>\n",
       "      <td>payer</td>\n",
       "    </tr>\n",
       "    <tr>\n",
       "      <th>3</th>\n",
       "      <td>DRAINAGE OF SKIN ABSCESS</td>\n",
       "      <td>outpatient</td>\n",
       "      <td>facility</td>\n",
       "      <td>Anthem</td>\n",
       "      <td>Medicare | All Plans</td>\n",
       "      <td>498.24</td>\n",
       "      <td>case rate</td>\n",
       "      <td>NaN</td>\n",
       "      <td>10061</td>\n",
       "      <td>CPT</td>\n",
       "      <td>None</td>\n",
       "      <td>10061</td>\n",
       "      <td>None</td>\n",
       "      <td>None</td>\n",
       "      <td>payer</td>\n",
       "    </tr>\n",
       "    <tr>\n",
       "      <th>4</th>\n",
       "      <td>DRAINAGE OF SKIN ABSCESS</td>\n",
       "      <td>outpatient</td>\n",
       "      <td>facility</td>\n",
       "      <td>Kaiser</td>\n",
       "      <td>Medicare | All Plans</td>\n",
       "      <td>498.24</td>\n",
       "      <td>case rate</td>\n",
       "      <td>NaN</td>\n",
       "      <td>10061</td>\n",
       "      <td>CPT</td>\n",
       "      <td>None</td>\n",
       "      <td>10061</td>\n",
       "      <td>None</td>\n",
       "      <td>None</td>\n",
       "      <td>payer</td>\n",
       "    </tr>\n",
       "    <tr>\n",
       "      <th>...</th>\n",
       "      <td>...</td>\n",
       "      <td>...</td>\n",
       "      <td>...</td>\n",
       "      <td>...</td>\n",
       "      <td>...</td>\n",
       "      <td>...</td>\n",
       "      <td>...</td>\n",
       "      <td>...</td>\n",
       "      <td>...</td>\n",
       "      <td>...</td>\n",
       "      <td>...</td>\n",
       "      <td>...</td>\n",
       "      <td>...</td>\n",
       "      <td>...</td>\n",
       "      <td>...</td>\n",
       "    </tr>\n",
       "    <tr>\n",
       "      <th>108090</th>\n",
       "      <td>EEG AWAKE AND DROWSY</td>\n",
       "      <td>inpatient</td>\n",
       "      <td>facility</td>\n",
       "      <td>discounted_cash</td>\n",
       "      <td>None</td>\n",
       "      <td>NaN</td>\n",
       "      <td>None</td>\n",
       "      <td>NaN</td>\n",
       "      <td>95816</td>\n",
       "      <td>CPT</td>\n",
       "      <td>0740</td>\n",
       "      <td>95816</td>\n",
       "      <td>None</td>\n",
       "      <td>None</td>\n",
       "      <td>cash</td>\n",
       "    </tr>\n",
       "    <tr>\n",
       "      <th>108091</th>\n",
       "      <td>ST ASSESS APHASIA PER HR</td>\n",
       "      <td>inpatient</td>\n",
       "      <td>facility</td>\n",
       "      <td>discounted_cash</td>\n",
       "      <td>None</td>\n",
       "      <td>NaN</td>\n",
       "      <td>None</td>\n",
       "      <td>NaN</td>\n",
       "      <td>96105</td>\n",
       "      <td>CPT</td>\n",
       "      <td>0444</td>\n",
       "      <td>96105</td>\n",
       "      <td>None</td>\n",
       "      <td>None</td>\n",
       "      <td>cash</td>\n",
       "    </tr>\n",
       "    <tr>\n",
       "      <th>108092</th>\n",
       "      <td>PT THERAPY MANUAL EA 15</td>\n",
       "      <td>outpatient</td>\n",
       "      <td>facility</td>\n",
       "      <td>discounted_cash</td>\n",
       "      <td>None</td>\n",
       "      <td>NaN</td>\n",
       "      <td>None</td>\n",
       "      <td>NaN</td>\n",
       "      <td>97140</td>\n",
       "      <td>CPT</td>\n",
       "      <td>0420</td>\n",
       "      <td>97140</td>\n",
       "      <td>None</td>\n",
       "      <td>None</td>\n",
       "      <td>cash</td>\n",
       "    </tr>\n",
       "    <tr>\n",
       "      <th>108093</th>\n",
       "      <td>PT DEBR SL SESSION ADD 20</td>\n",
       "      <td>outpatient</td>\n",
       "      <td>facility</td>\n",
       "      <td>discounted_cash</td>\n",
       "      <td>None</td>\n",
       "      <td>NaN</td>\n",
       "      <td>None</td>\n",
       "      <td>NaN</td>\n",
       "      <td>97598</td>\n",
       "      <td>CPT</td>\n",
       "      <td>0420</td>\n",
       "      <td>97598</td>\n",
       "      <td>None</td>\n",
       "      <td>None</td>\n",
       "      <td>cash</td>\n",
       "    </tr>\n",
       "    <tr>\n",
       "      <th>108094</th>\n",
       "      <td>MODERATE SEDAT ADD 15MIN</td>\n",
       "      <td>outpatient</td>\n",
       "      <td>facility</td>\n",
       "      <td>discounted_cash</td>\n",
       "      <td>None</td>\n",
       "      <td>NaN</td>\n",
       "      <td>None</td>\n",
       "      <td>NaN</td>\n",
       "      <td>99153</td>\n",
       "      <td>CPT</td>\n",
       "      <td>0370</td>\n",
       "      <td>99153</td>\n",
       "      <td>None</td>\n",
       "      <td>None</td>\n",
       "      <td>cash</td>\n",
       "    </tr>\n",
       "  </tbody>\n",
       "</table>\n",
       "<p>108095 rows × 15 columns</p>\n",
       "</div>"
      ],
      "text/plain": [
       "                       description     setting billing_class       payer_name   \n",
       "0          FNA BX W/US GDN 1ST LES  outpatient      facility              DHR  \\\n",
       "1       FNA BX W/O IMG GDN 1ST LES  outpatient      facility     First Health   \n",
       "2                     ACNE SURGERY  outpatient      facility   Blue Shield CA   \n",
       "3         DRAINAGE OF SKIN ABSCESS  outpatient      facility           Anthem   \n",
       "4         DRAINAGE OF SKIN ABSCESS  outpatient      facility           Kaiser   \n",
       "...                            ...         ...           ...              ...   \n",
       "108090        EEG AWAKE AND DROWSY   inpatient      facility  discounted_cash   \n",
       "108091    ST ASSESS APHASIA PER HR   inpatient      facility  discounted_cash   \n",
       "108092     PT THERAPY MANUAL EA 15  outpatient      facility  discounted_cash   \n",
       "108093   PT DEBR SL SESSION ADD 20  outpatient      facility  discounted_cash   \n",
       "108094    MODERATE SEDAT ADD 15MIN  outpatient      facility  discounted_cash   \n",
       "\n",
       "                           plan_name  standard_charge   \n",
       "0             Commercial | All Plans              NaN  \\\n",
       "1             Commercial | All Plans              NaN   \n",
       "2       Commercial | All Other Plans              NaN   \n",
       "3               Medicare | All Plans           498.24   \n",
       "4               Medicare | All Plans           498.24   \n",
       "...                              ...              ...   \n",
       "108090                          None              NaN   \n",
       "108091                          None              NaN   \n",
       "108092                          None              NaN   \n",
       "108093                          None              NaN   \n",
       "108094                          None              NaN   \n",
       "\n",
       "                    contracting_method  standard_charge_percent   code type   \n",
       "0       percent of total billed charge                     28.0  10005  CPT  \\\n",
       "1       percent of total billed charge                     72.0  10021  CPT   \n",
       "2       percent of total billed charge                     94.0  10040  CPT   \n",
       "3                            case rate                      NaN  10061  CPT   \n",
       "4                            case rate                      NaN  10061  CPT   \n",
       "...                                ...                      ...    ...  ...   \n",
       "108090                            None                      NaN  95816  CPT   \n",
       "108091                            None                      NaN  96105  CPT   \n",
       "108092                            None                      NaN  97140  CPT   \n",
       "108093                            None                      NaN  97598  CPT   \n",
       "108094                            None                      NaN  99153  CPT   \n",
       "\n",
       "       rev_code hcpcs_cpt ms_drg   icd payer_category  \n",
       "0          None     10005   None  None          payer  \n",
       "1          None     10021   None  None          payer  \n",
       "2          None     10040   None  None          payer  \n",
       "3          None     10061   None  None          payer  \n",
       "4          None     10061   None  None          payer  \n",
       "...         ...       ...    ...   ...            ...  \n",
       "108090     0740     95816   None  None           cash  \n",
       "108091     0444     96105   None  None           cash  \n",
       "108092     0420     97140   None  None           cash  \n",
       "108093     0420     97598   None  None           cash  \n",
       "108094     0370     99153   None  None           cash  \n",
       "\n",
       "[108095 rows x 15 columns]"
      ]
     },
     "execution_count": 210,
     "metadata": {},
     "output_type": "execute_result"
    }
   ],
   "source": [
    "df.to_pandas()"
   ]
  }
 ],
 "metadata": {
  "kernelspec": {
   "display_name": "Python 3 (ipykernel)",
   "language": "python",
   "name": "python3"
  },
  "language_info": {
   "codemirror_mode": {
    "name": "ipython",
    "version": 3
   },
   "file_extension": ".py",
   "mimetype": "text/x-python",
   "name": "python",
   "nbconvert_exporter": "python",
   "pygments_lexer": "ipython3",
   "version": "3.9.16"
  }
 },
 "nbformat": 4,
 "nbformat_minor": 5
}
