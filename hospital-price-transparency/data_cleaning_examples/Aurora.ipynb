{
 "cells": [
  {
   "cell_type": "code",
   "execution_count": 66,
   "id": "37b13d2b-7b56-493b-8851-0adc584e1548",
   "metadata": {},
   "outputs": [],
   "source": [
    "base_url = 'https://www.aurorahealthcare.org/assets/documents/billing-insurance/pricing-transparency'\n",
    "\n",
    "data = [\n",
    "    {'stdchg_file_url':f'{base_url}/272953799_aurora-medical-center-grafton_standardcharges.xml', 'id':'520207'},\n",
    "    {'stdchg_file_url':f'{base_url}/390806347_aurora-lakeland-medical-center_standardcharges.xml', 'id':'520102'},\n",
    "    {'stdchg_file_url':f'{base_url}/390806347_aurora-medical-center-burlington_standardcharges.xml', 'id':'520059'},\n",
    "    {'stdchg_file_url':f'{base_url}/390806347_aurora-medical-center-kenosha_standardcharges.xml', 'id':'520189'},\n",
    "    {'stdchg_file_url':f'{base_url}/390806347_aurora-medical-center-summit_standardcharges.xml', 'id':'520206'},\n",
    "    {'stdchg_file_url':f'{base_url}/391947472_aurora-baycare-medical-center_standardcharges.xml', 'id':'520193'},\n",
    "    {'stdchg_file_url':f'{base_url}/390930748_aurora-sheboygan-memorial-medical-center_standardcharges.xml', 'id':'520035'},\n",
    "    {'stdchg_file_url':f'{base_url}/391027676_aurora-medical-center-oshkosh_standardcharges.xml', 'id':'520198'},\n",
    "    {'stdchg_file_url':f'{base_url}/391150165_aurora-medical-center-washington-county_standardcharges.xml', 'id':'520038'},\n",
    "    {'stdchg_file_url':f'{base_url}/391211629_aurora-medical-center-manitowoc-county_standardcharges.xml', 'id':'520034'},\n",
    "    {'stdchg_file_url':f'{base_url}/391528430_aurora-medical-center-bay-area_standardcharges.xml', 'id':'520113'},\n",
    "]\n",
    "\n",
    "transparency_page = 'https://www.aurorahealthcare.org/patients-visitors/billing-payment/health-care-costs'"
   ]
  },
  {
   "cell_type": "code",
   "execution_count": 67,
   "id": "8dbec9d6-2bff-40a9-996c-061f6aeb5033",
   "metadata": {},
   "outputs": [],
   "source": [
    "import pandas as pd\n",
    "import polars as pl"
   ]
  },
  {
   "cell_type": "code",
   "execution_count": 118,
   "id": "7788f5f4-d0c8-407d-9945-44f1230e213b",
   "metadata": {},
   "outputs": [],
   "source": [
    "renaming = {\n",
    "    'Type':'line_type',\n",
    "    'Chargecode_DRG_CPT':'code',\n",
    "    'Description':'description',\n",
    "    'Rev':'rev_code', \n",
    "    'CPT':'hcpcs_cpt', \n",
    "    'NDC':'ndc',\n",
    "}\n",
    "\n",
    "id_vars = ['line_type','code','description','rev_code','hcpcs_cpt','ndc',]\n",
    "\n",
    "def setting():\n",
    "    return (\n",
    "        pl\n",
    "        .when(pl.col('line_type').str.contains('^IP '))\n",
    "        .then('inpatient')\n",
    "        .when(pl.col('line_type').str.contains('^OP '))\n",
    "        .then('outpatient')\n",
    "        .otherwise(1)\n",
    "    ).alias('setting')\n",
    "\n",
    "def rev_code():\n",
    "    # rev code initially parsed as float by pandas\n",
    "    return (\n",
    "        pl.col('rev_code').cast(int).cast(str).str.zfill(4).fill_null('')\n",
    "    )\n",
    "\n",
    "def ms_drg():\n",
    "    # use line type to identify ms-drg\n",
    "    return (\n",
    "        pl.when(pl.col('line_type').str.contains('DRG'))\n",
    "        .then(pl.col('code'))\n",
    "        .otherwise(\"\")\n",
    "    ).alias('ms_drg')\n",
    "\n",
    "def standard_charge():\n",
    "    # casting to float will raise an error if some of the\n",
    "    # numbers aren't numeric\n",
    "    return pl.col('standard_charge').str.replace_all(',', '').cast(float)\n",
    "\n",
    "def payer_category():\n",
    "    # 1_1_23_fee is the fee as of 2023-01-01 (last_updated)\n",
    "    return (\n",
    "        pl\n",
    "        .when(pl.col('payer').str.contains('_1_1_23_Fee')).then('gross')\n",
    "        .when(pl.col('payer').str.contains('Max')).then('max')\n",
    "        .when(pl.col('payer').str.contains('Min')).then('min')\n",
    "        .when(pl.col('payer').str.contains('Self_Pay')).then('cash')\n",
    "        .otherwise('payer')\n",
    "        ).alias('payer_category')\n",
    "\n",
    "def hcpcs_cpt():\n",
    "    # hcpcs codes are sometimes hidden in line_type\n",
    "    # outpatient procedures\n",
    "    return (\n",
    "        pl.when(pl.col('line_type') == 'OP PROC*')\n",
    "        .then(pl.col('code'))\n",
    "        .otherwise(pl.col('hcpcs_cpt'))\n",
    "    ).alias('hcpcs_cpt')"
   ]
  },
  {
   "cell_type": "code",
   "execution_count": 119,
   "id": "c8303727-fcc7-4f12-8542-0451056642f0",
   "metadata": {},
   "outputs": [
    {
     "name": "stderr",
     "output_type": "stream",
     "text": [
      "100%|███████████████████████████████████████████████████████████████████████████████████████████████████████████████████████████████████████████████████████████████████████| 11/11 [00:16<00:00,  1.52s/it]\n"
     ]
    }
   ],
   "source": [
    "dfs = []\n",
    "qs = []\n",
    "\n",
    "from tqdm import tqdm\n",
    "\n",
    "for row in tqdm(data):\n",
    "    \n",
    "    stdchg_file_url = row['stdchg_file_url']\n",
    "    id = row['id']\n",
    "    \n",
    "    df = (\n",
    "            pl.from_pandas(pd.read_xml(stdchg_file_url))\n",
    "            .drop('Facility')\n",
    "            .rename(renaming)\n",
    "            .melt(id_vars = id_vars, variable_name = 'payer', value_name = 'standard_charge')\n",
    "            .with_columns([\n",
    "                setting(),\n",
    "                rev_code(),\n",
    "                ms_drg(),\n",
    "                standard_charge(),\n",
    "                payer_category(),\n",
    "                hcpcs_cpt(),\n",
    "            ])\n",
    "            .with_columns([\n",
    "                # some of the hcpcs codes are lowercased\n",
    "                pl.col(['hcpcs_cpt', 'ndc']).str.to_uppercase().fill_null(\"\"),\n",
    "                pl.lit(id).alias('hospital_id')\n",
    "            ])\n",
    "    )\n",
    "    \n",
    "    dfs.append(df)\n",
    "    \n",
    "    file_name = stdchg_file_url.split('/')[-1]\n",
    "    ein = file_name.split('_')[0]\n",
    "    ein = f'{ein[:2]}-{ein[2:]}'\n",
    "    last_updated = '2023-01-01'\n",
    "    \n",
    "    query = f\"\"\"\n",
    "    update hospital set \n",
    "    {ein=}, \n",
    "    {file_name=}, \n",
    "    {last_updated=}, \n",
    "    {stdchg_file_url=}, \n",
    "    {transparency_page=} \n",
    "    where {id=}\n",
    "    \"\"\"\n",
    "    qs.append(query)"
   ]
  },
  {
   "cell_type": "code",
   "execution_count": 121,
   "id": "899c154f-7eb5-443a-9b18-f2ae23ca315e",
   "metadata": {},
   "outputs": [],
   "source": [
    "# df = pl.concat(dfs)\n",
    "df.write_csv('aurora.csv')"
   ]
  },
  {
   "cell_type": "code",
   "execution_count": 128,
   "id": "60e2d052-28c4-4b86-9f9a-509155635879",
   "metadata": {},
   "outputs": [],
   "source": [
    "def correction_hcpcs():\n",
    "    \"\"\"\n",
    "    cause: Check constraint \"hcpcs_cpt_fmt\" violated\n",
    "    A bad row was encountered: [520113,CHARGE,RFEE 9,0300,,10006652,,,,RFEE9,,<nil>,<nil>,<nil>,,<nil>,<nil>,<nil>,1,1,gross,_1_1_23_Fee,,18.0,<nil>,<nil>,<nil>]: Check constraint \"hcpcs_cpt_fmt\" violated\n",
    "    \"\"\"\n",
    "    return (\n",
    "        pl.when(pl.col('hcpcs_cpt').str.contains('RFEE')).then('').otherwise(pl.col('hcpcs_cpt')).alias('hcpcs_cpt')\n",
    "    )"
   ]
  },
  {
   "cell_type": "code",
   "execution_count": 130,
   "id": "b0a194a2-2e2e-4435-a21b-1cd8e0bfc75d",
   "metadata": {},
   "outputs": [],
   "source": [
    "df = df.with_columns(\n",
    "    correction_hcpcs()\n",
    ")"
   ]
  },
  {
   "cell_type": "code",
   "execution_count": 131,
   "id": "b2360530-ba17-44a2-abc3-217267d0549b",
   "metadata": {},
   "outputs": [],
   "source": [
    "# df = pl.concat(dfs)\n",
    "df.write_csv('aurora.csv')"
   ]
  },
  {
   "cell_type": "code",
   "execution_count": 117,
   "id": "4f88d95a-5087-4b2e-85bb-eb77e66b240d",
   "metadata": {},
   "outputs": [],
   "source": [
    "with open('aurora.sql', 'w+') as f:  \n",
    "    for q in qs:\n",
    "        f.write(q + ';\\n')\n",
    "        \n",
    "# dolt sql < aurora.sql"
   ]
  },
  {
   "cell_type": "code",
   "execution_count": null,
   "id": "af5103ce-5985-4002-b29f-991b126e0424",
   "metadata": {},
   "outputs": [],
   "source": []
  }
 ],
 "metadata": {
  "kernelspec": {
   "display_name": "Python 3",
   "language": "python",
   "name": "python3"
  },
  "language_info": {
   "codemirror_mode": {
    "name": "ipython",
    "version": 3
   },
   "file_extension": ".py",
   "mimetype": "text/x-python",
   "name": "python",
   "nbconvert_exporter": "python",
   "pygments_lexer": "ipython3",
   "version": "3.9.12"
  }
 },
 "nbformat": 4,
 "nbformat_minor": 5
}
