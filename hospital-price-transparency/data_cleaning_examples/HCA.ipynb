{
 "cells": [
  {
   "cell_type": "code",
   "execution_count": 1,
   "id": "51392ac8-396a-4718-a2a6-f70be3f6dfb6",
   "metadata": {
    "tags": []
   },
   "outputs": [],
   "source": [
    "import polars as pl"
   ]
  },
  {
   "cell_type": "code",
   "execution_count": 93,
   "id": "f2493350-376e-4a3c-83fc-24e1be7e9fcb",
   "metadata": {
    "tags": []
   },
   "outputs": [],
   "source": [
    "url = 'https://core.secure.ehc.com/\\\n",
    "src/util/detail-price-list/\\\n",
    "050631189_hca-houston-pearland_standardcharges.csv'\n",
    "df = pl.read_csv(url, skip_rows = 1, infer_schema_length = 0)"
   ]
  },
  {
   "cell_type": "code",
   "execution_count": 94,
   "id": "194e9ca5-611c-4f23-9876-1809c4d5a7ed",
   "metadata": {
    "tags": []
   },
   "outputs": [],
   "source": [
    "def get_upper_chunk(df):\n",
    "    \"\"\"\n",
    "    Get just the upper part of the dataframe\n",
    "    with the HCPCS/CPT codes\n",
    "    \"\"\"\n",
    "    \n",
    "    df = df.with_row_count()\n",
    "\n",
    "    for row in df.iter_rows(named = True):\n",
    "        if not row['Description']:\n",
    "            end_row = row['row_nr']\n",
    "            break\n",
    "    \n",
    "    df = df.drop('row_nr').slice(0, end_row)\n",
    "    \n",
    "    return df"
   ]
  },
  {
   "cell_type": "code",
   "execution_count": 95,
   "id": "ca9b8ea5-07d8-4bee-8759-05ff0760273d",
   "metadata": {
    "tags": []
   },
   "outputs": [],
   "source": [
    "def get_lower_chunks(df):\n",
    "    \"\"\"\n",
    "    Return the lower section(s) as an array\n",
    "    of dataframe chunks\n",
    "    \"\"\"\n",
    "    \n",
    "    df = df.with_row_count()\n",
    "    \n",
    "    slices = []\n",
    "    \n",
    "    for row in df.iter_rows():\n",
    "        \n",
    "        if row[3] == 'Rate':\n",
    "            start = row[0] - 1\n",
    "            \n",
    "        if not any(row[1:]):\n",
    "            end = row[0]\n",
    "            slices.append((start, end))\n",
    "            start, end = None, None\n",
    "            \n",
    "        if row[1] == 'Service':\n",
    "            end = row[0]\n",
    "            slices.append((start, end))\n",
    "            \n",
    "            start, end = row[0], None\n",
    "        \n",
    "    slices.append((start, row[0] + 1))\n",
    "        \n",
    "    chunks = []\n",
    "    for slice_ in slices:\n",
    "        s, e = slice_\n",
    "        chunks.append(df.slice(s, e - s).drop('row_nr'))\n",
    "        \n",
    "    return chunks"
   ]
  },
  {
   "cell_type": "code",
   "execution_count": 96,
   "id": "baaf16ea-e215-4668-b1ed-041753a1ea50",
   "metadata": {
    "tags": []
   },
   "outputs": [],
   "source": [
    "upper_chunk = get_upper_chunk(df)\n",
    "lower_chunks = get_lower_chunks(df)"
   ]
  },
  {
   "cell_type": "code",
   "execution_count": 97,
   "id": "c2d325b4-d74c-4c80-a312-ae2c19616a20",
   "metadata": {
    "tags": []
   },
   "outputs": [
    {
     "data": {
      "text/html": [
       "<div><style>\n",
       ".dataframe > thead > tr > th,\n",
       ".dataframe > tbody > tr > td {\n",
       "  text-align: right;\n",
       "}\n",
       "</style>\n",
       "<small>shape: (5, 5)</small><table border=\"1\" class=\"dataframe\"><thead><tr><th>Procedure ID</th><th>HCPCS/CPT Code</th><th>Description</th><th>Gross Charge</th><th>Discounted Cash Price (Gross Charges)</th></tr><tr><td>str</td><td>str</td><td>str</td><td>str</td><td>str</td></tr></thead><tbody><tr><td>&quot;995324&quot;</td><td>&quot;              …</td><td>&quot;WICK EAR POPE …</td><td>&quot;94.00&quot;</td><td>&quot;94.00&quot;</td></tr><tr><td>&quot;101837&quot;</td><td>&quot;0C1876        …</td><td>&quot;STENT VASC 6X1…</td><td>&quot;8495.00&quot;</td><td>&quot;8495.00&quot;</td></tr><tr><td>&quot;901027&quot;</td><td>&quot;0J0330        …</td><td>&quot;SUCCINYLCHOL U…</td><td>&quot;29.43&quot;</td><td>&quot;29.43&quot;</td></tr><tr><td>&quot;956967&quot;</td><td>&quot;              …</td><td>&quot;SUTURE SILK SZ…</td><td>&quot;45.00&quot;</td><td>&quot;45.00&quot;</td></tr><tr><td>&quot;300171&quot;</td><td>&quot;0C1713        …</td><td>&quot;PLATE HAND PRF…</td><td>&quot;3737.00&quot;</td><td>&quot;3737.00&quot;</td></tr></tbody></table></div>"
      ],
      "text/plain": [
       "shape: (5, 5)\n",
       "┌──────────────┬────────────────┬─────────────────────────┬──────────────┬─────────────────────────┐\n",
       "│ Procedure ID ┆ HCPCS/CPT Code ┆ Description             ┆ Gross Charge ┆ Discounted Cash Price   │\n",
       "│ ---          ┆ ---            ┆ ---                     ┆ ---          ┆ (Gross Cha…             │\n",
       "│ str          ┆ str            ┆ str                     ┆ str          ┆ ---                     │\n",
       "│              ┆                ┆                         ┆              ┆ str                     │\n",
       "╞══════════════╪════════════════╪═════════════════════════╪══════════════╪═════════════════════════╡\n",
       "│ 995324       ┆                ┆ WICK EAR POPE 15MM      ┆ 94.00        ┆ 94.00                   │\n",
       "│ 101837       ┆ 0C1876         ┆ STENT VASC 6X150MM      ┆ 8495.00      ┆ 8495.00                 │\n",
       "│              ┆                ┆ 120CM                   ┆              ┆                         │\n",
       "│ 901027       ┆ 0J0330         ┆ SUCCINYLCHOL UP TO 20   ┆ 29.43        ┆ 29.43                   │\n",
       "│              ┆                ┆ MG                      ┆              ┆                         │\n",
       "│ 956967       ┆                ┆ SUTURE SILK SZ 2-0      ┆ 45.00        ┆ 45.00                   │\n",
       "│ 300171       ┆ 0C1713         ┆ PLATE HAND PRFL         ┆ 3737.00      ┆ 3737.00                 │\n",
       "│              ┆                ┆ 57-10391                ┆              ┆                         │\n",
       "└──────────────┴────────────────┴─────────────────────────┴──────────────┴─────────────────────────┘"
      ]
     },
     "execution_count": 97,
     "metadata": {},
     "output_type": "execute_result"
    }
   ],
   "source": [
    "upper_chunk.sample(5)"
   ]
  },
  {
   "cell_type": "markdown",
   "id": "5fc47de8-a385-427d-a12a-90892eb57a64",
   "metadata": {},
   "source": [
    "### Handling the upper chunk"
   ]
  },
  {
   "cell_type": "code",
   "execution_count": 98,
   "id": "cfb57e85-b877-436b-9069-8aafb1a08960",
   "metadata": {
    "tags": []
   },
   "outputs": [
    {
     "data": {
      "text/html": [
       "<div><style>\n",
       ".dataframe > thead > tr > th,\n",
       ".dataframe > tbody > tr > td {\n",
       "  text-align: right;\n",
       "}\n",
       "</style>\n",
       "<small>shape: (1, 5)</small><table border=\"1\" class=\"dataframe\"><thead><tr><th>Procedure ID</th><th>HCPCS/CPT Code</th><th>Description</th><th>Gross Charge</th><th>Discounted Cash Price (Gross Charges)</th></tr><tr><td>str</td><td>str</td><td>str</td><td>str</td><td>str</td></tr></thead><tbody><tr><td>&quot;999263&quot;</td><td>&quot;094660        …</td><td>&quot;CPAP VENT INT&amp;…</td><td>&quot;4931.30&quot;</td><td>&quot;4931.30&quot;</td></tr></tbody></table></div>"
      ],
      "text/plain": [
       "shape: (1, 5)\n",
       "┌──────────────┬────────────────┬─────────────────────────┬──────────────┬─────────────────────────┐\n",
       "│ Procedure ID ┆ HCPCS/CPT Code ┆ Description             ┆ Gross Charge ┆ Discounted Cash Price   │\n",
       "│ ---          ┆ ---            ┆ ---                     ┆ ---          ┆ (Gross Cha…             │\n",
       "│ str          ┆ str            ┆ str                     ┆ str          ┆ ---                     │\n",
       "│              ┆                ┆                         ┆              ┆ str                     │\n",
       "╞══════════════╪════════════════╪═════════════════════════╪══════════════╪═════════════════════════╡\n",
       "│ 999263       ┆ 094660         ┆ CPAP VENT INT&MGMT      ┆ 4931.30      ┆ 4931.30                 │\n",
       "└──────────────┴────────────────┴─────────────────────────┴──────────────┴─────────────────────────┘"
      ]
     },
     "execution_count": 98,
     "metadata": {},
     "output_type": "execute_result"
    }
   ],
   "source": [
    "upper_chunk.filter(pl.col('Procedure ID') == '999263')"
   ]
  },
  {
   "cell_type": "code",
   "execution_count": 99,
   "id": "1602cbed-4e81-46c1-af3d-9057a9a5f6ef",
   "metadata": {
    "tags": []
   },
   "outputs": [],
   "source": [
    "upper_chunk = (\n",
    "    upper_chunk.rename({\n",
    "        'Procedure ID':'local_code',\n",
    "        'HCPCS/CPT Code':'hcpcs_cpt',\n",
    "        'Description':'description'})\n",
    "    .with_columns(\n",
    "        # remove extra spaces and leading zeros\n",
    "        pl.col('hcpcs_cpt').str.strip().str.replace('^0', '')\n",
    "    )\n",
    "    .with_columns(\n",
    "        pl.when(pl.col('hcpcs_cpt').str.lengths() == 0).then(None)\n",
    "        .otherwise(pl.col('hcpcs_cpt')).keep_name()\n",
    "    )\n",
    "    .melt(['local_code', 'hcpcs_cpt', 'description'], \n",
    "        value_name = 'standard_charge', \n",
    "        variable_name = 'payer_name'\n",
    "    )\n",
    "    .with_columns(\n",
    "        pl.when(pl.col('payer_name') == 'Gross Charge').then('gross')\n",
    "        .when(pl.col('payer_name') == 'Discounted Cash Price (Gross Charges)').then('cash')\n",
    "        .alias('payer_category')\n",
    "    )\n",
    ")"
   ]
  },
  {
   "cell_type": "code",
   "execution_count": 100,
   "id": "776d5f28-a6fa-402e-ad5f-613b81656bc2",
   "metadata": {
    "tags": []
   },
   "outputs": [
    {
     "data": {
      "text/html": [
       "<div><style>\n",
       ".dataframe > thead > tr > th,\n",
       ".dataframe > tbody > tr > td {\n",
       "  text-align: right;\n",
       "}\n",
       "</style>\n",
       "<small>shape: (10, 6)</small><table border=\"1\" class=\"dataframe\"><thead><tr><th>local_code</th><th>hcpcs_cpt</th><th>description</th><th>payer_name</th><th>standard_charge</th><th>payer_category</th></tr><tr><td>str</td><td>str</td><td>str</td><td>str</td><td>str</td><td>str</td></tr></thead><tbody><tr><td>&quot;101505&quot;</td><td>&quot;C2623&quot;</td><td>&quot;CATH BLN 5F 4X…</td><td>&quot;Discounted Cas…</td><td>&quot;9747.00&quot;</td><td>&quot;cash&quot;</td></tr><tr><td>&quot;300347&quot;</td><td>&quot;C1713&quot;</td><td>&quot;PLATE BN 8HL 1…</td><td>&quot;Discounted Cas…</td><td>&quot;2945.00&quot;</td><td>&quot;cash&quot;</td></tr><tr><td>&quot;823295&quot;</td><td>null</td><td>&quot;DIVALPROEX 500…</td><td>&quot;Gross Charge&quot;</td><td>&quot;22.89&quot;</td><td>&quot;gross&quot;</td></tr><tr><td>&quot;302310&quot;</td><td>&quot;82310&quot;</td><td>&quot;CALCIUM TOTAL …</td><td>&quot;Gross Charge&quot;</td><td>&quot;615.85&quot;</td><td>&quot;gross&quot;</td></tr><tr><td>&quot;100961&quot;</td><td>&quot;C1713&quot;</td><td>&quot;STAPLE BN 20X2…</td><td>&quot;Discounted Cas…</td><td>&quot;11584.00&quot;</td><td>&quot;cash&quot;</td></tr><tr><td>&quot;101487&quot;</td><td>null</td><td>&quot;SIZER BREAST 3…</td><td>&quot;Gross Charge&quot;</td><td>&quot;1052.00&quot;</td><td>&quot;gross&quot;</td></tr><tr><td>&quot;600735&quot;</td><td>&quot;C1776&quot;</td><td>&quot;CUP ACTB PNCL …</td><td>&quot;Discounted Cas…</td><td>&quot;7719.00&quot;</td><td>&quot;cash&quot;</td></tr><tr><td>&quot;999418&quot;</td><td>null</td><td>&quot;REM S/D ICD EL…</td><td>&quot;Discounted Cas…</td><td>&quot;14980.96&quot;</td><td>&quot;cash&quot;</td></tr><tr><td>&quot;601094&quot;</td><td>&quot;C1776&quot;</td><td>&quot;STEM FEM 15MM …</td><td>&quot;Discounted Cas…</td><td>&quot;7565.00&quot;</td><td>&quot;cash&quot;</td></tr><tr><td>&quot;288011&quot;</td><td>null</td><td>&quot;TIB/PER REVASC…</td><td>&quot;Gross Charge&quot;</td><td>&quot;104444.89&quot;</td><td>&quot;gross&quot;</td></tr></tbody></table></div>"
      ],
      "text/plain": [
       "shape: (10, 6)\n",
       "┌────────────┬───────────┬───────────────────┬──────────────────┬─────────────────┬────────────────┐\n",
       "│ local_code ┆ hcpcs_cpt ┆ description       ┆ payer_name       ┆ standard_charge ┆ payer_category │\n",
       "│ ---        ┆ ---       ┆ ---               ┆ ---              ┆ ---             ┆ ---            │\n",
       "│ str        ┆ str       ┆ str               ┆ str              ┆ str             ┆ str            │\n",
       "╞════════════╪═══════════╪═══════════════════╪══════════════════╪═════════════════╪════════════════╡\n",
       "│ 101505     ┆ C2623     ┆ CATH BLN 5F       ┆ Discounted Cash  ┆ 9747.00         ┆ cash           │\n",
       "│            ┆           ┆ 4X40MM 80CM       ┆ Price (Gross     ┆                 ┆                │\n",
       "│            ┆           ┆                   ┆ Cha…             ┆                 ┆                │\n",
       "│ 300347     ┆ C1713     ┆ PLATE BN 8HL 1MM  ┆ Discounted Cash  ┆ 2945.00         ┆ cash           │\n",
       "│            ┆           ┆ 1.7MM             ┆ Price (Gross     ┆                 ┆                │\n",
       "│            ┆           ┆                   ┆ Cha…             ┆                 ┆                │\n",
       "│ 823295     ┆ null      ┆ DIVALPROEX 500MG  ┆ Gross Charge     ┆ 22.89           ┆ gross          │\n",
       "│            ┆           ┆ TAB               ┆                  ┆                 ┆                │\n",
       "│ 302310     ┆ 82310     ┆ CALCIUM TOTAL     ┆ Gross Charge     ┆ 615.85          ┆ gross          │\n",
       "│ …          ┆ …         ┆ …                 ┆ …                ┆ …               ┆ …              │\n",
       "│ 600735     ┆ C1776     ┆ CUP ACTB PNCL     ┆ Discounted Cash  ┆ 7719.00         ┆ cash           │\n",
       "│            ┆           ┆ GRPTN 48MM        ┆ Price (Gross     ┆                 ┆                │\n",
       "│            ┆           ┆                   ┆ Cha…             ┆                 ┆                │\n",
       "│ 999418     ┆ null      ┆ REM S/D ICD ELECT ┆ Discounted Cash  ┆ 14980.96        ┆ cash           │\n",
       "│            ┆           ┆ TRANSV            ┆ Price (Gross     ┆                 ┆                │\n",
       "│            ┆           ┆                   ┆ Cha…             ┆                 ┆                │\n",
       "│ 601094     ┆ C1776     ┆ STEM FEM 15MM     ┆ Discounted Cash  ┆ 7565.00         ┆ cash           │\n",
       "│            ┆           ┆ TPRLC 133         ┆ Price (Gross     ┆                 ┆                │\n",
       "│            ┆           ┆                   ┆ Cha…             ┆                 ┆                │\n",
       "│ 288011     ┆ null      ┆ TIB/PER REVASC    ┆ Gross Charge     ┆ 104444.89       ┆ gross          │\n",
       "│            ┆           ┆ W/ATHER           ┆                  ┆                 ┆                │\n",
       "└────────────┴───────────┴───────────────────┴──────────────────┴─────────────────┴────────────────┘"
      ]
     },
     "execution_count": 100,
     "metadata": {},
     "output_type": "execute_result"
    }
   ],
   "source": [
    "upper_chunk.sample(10)"
   ]
  },
  {
   "cell_type": "code",
   "execution_count": 101,
   "id": "dc74a1b3-850f-483d-8b1f-6eaa1d288064",
   "metadata": {
    "tags": []
   },
   "outputs": [],
   "source": [
    "upper_chunk = upper_chunk.with_columns(\n",
    "    pl.col('hcpcs_cpt').str.slice(0,5).keep_name(),\n",
    "    pl.when(pl.col('hcpcs_cpt').str.lengths() > 6).then(pl.col('hcpcs_cpt').str.slice(5,)).alias('modifiers')\n",
    ")"
   ]
  },
  {
   "cell_type": "code",
   "execution_count": 102,
   "id": "0d212345-c4fc-4fa2-b380-ea04c80ab54e",
   "metadata": {
    "tags": []
   },
   "outputs": [
    {
     "data": {
      "text/html": [
       "<div><style>\n",
       ".dataframe > thead > tr > th,\n",
       ".dataframe > tbody > tr > td {\n",
       "  text-align: right;\n",
       "}\n",
       "</style>\n",
       "<small>shape: (10, 7)</small><table border=\"1\" class=\"dataframe\"><thead><tr><th>local_code</th><th>hcpcs_cpt</th><th>description</th><th>payer_name</th><th>standard_charge</th><th>payer_category</th><th>modifiers</th></tr><tr><td>str</td><td>str</td><td>str</td><td>str</td><td>str</td><td>str</td><td>str</td></tr></thead><tbody><tr><td>&quot;621461&quot;</td><td>null</td><td>&quot;TIP DLV NDL 12…</td><td>&quot;Discounted Cas…</td><td>&quot;1127.00&quot;</td><td>&quot;cash&quot;</td><td>null</td></tr><tr><td>&quot;605438&quot;</td><td>null</td><td>&quot;CUP OCCLDR 2.5…</td><td>&quot;Discounted Cas…</td><td>&quot;1507.00&quot;</td><td>&quot;cash&quot;</td><td>null</td></tr><tr><td>&quot;753982&quot;</td><td>null</td><td>&quot;NEEDLE BIOPSY …</td><td>&quot;Gross Charge&quot;</td><td>&quot;1084.00&quot;</td><td>&quot;gross&quot;</td><td>null</td></tr><tr><td>&quot;992853&quot;</td><td>null</td><td>&quot;CATH CONNCTR U…</td><td>&quot;Discounted Cas…</td><td>&quot;329.00&quot;</td><td>&quot;cash&quot;</td><td>null</td></tr><tr><td>&quot;834160&quot;</td><td>&quot;J2930&quot;</td><td>&quot;METHYLPRED SUC…</td><td>&quot;Discounted Cas…</td><td>&quot;235.44&quot;</td><td>&quot;cash&quot;</td><td>null</td></tr><tr><td>&quot;601747&quot;</td><td>&quot;C1713&quot;</td><td>&quot;SCREW BN T10 3…</td><td>&quot;Discounted Cas…</td><td>&quot;766.00&quot;</td><td>&quot;cash&quot;</td><td>null</td></tr><tr><td>&quot;601540&quot;</td><td>&quot;C1887&quot;</td><td>&quot;CATH GD XB4.5 …</td><td>&quot;Discounted Cas…</td><td>&quot;1052.00&quot;</td><td>&quot;cash&quot;</td><td>null</td></tr><tr><td>&quot;904736&quot;</td><td>null</td><td>&quot;CATHETER XTRN …</td><td>&quot;Discounted Cas…</td><td>&quot;965.00&quot;</td><td>&quot;cash&quot;</td><td>null</td></tr><tr><td>&quot;620193&quot;</td><td>null</td><td>&quot;DEVICE SUT CPT…</td><td>&quot;Gross Charge&quot;</td><td>&quot;4288.00&quot;</td><td>&quot;gross&quot;</td><td>null</td></tr><tr><td>&quot;800358&quot;</td><td>&quot;C1776&quot;</td><td>&quot;INS TIB 3X8 LT…</td><td>&quot;Gross Charge&quot;</td><td>&quot;4968.00&quot;</td><td>&quot;gross&quot;</td><td>null</td></tr></tbody></table></div>"
      ],
      "text/plain": [
       "shape: (10, 7)\n",
       "┌────────────┬───────────┬───────────────┬───────────────┬──────────────┬──────────────┬───────────┐\n",
       "│ local_code ┆ hcpcs_cpt ┆ description   ┆ payer_name    ┆ standard_cha ┆ payer_catego ┆ modifiers │\n",
       "│ ---        ┆ ---       ┆ ---           ┆ ---           ┆ rge          ┆ ry           ┆ ---       │\n",
       "│ str        ┆ str       ┆ str           ┆ str           ┆ ---          ┆ ---          ┆ str       │\n",
       "│            ┆           ┆               ┆               ┆ str          ┆ str          ┆           │\n",
       "╞════════════╪═══════════╪═══════════════╪═══════════════╪══════════════╪══════════════╪═══════════╡\n",
       "│ 621461     ┆ null      ┆ TIP DLV NDL   ┆ Discounted    ┆ 1127.00      ┆ cash         ┆ null      │\n",
       "│            ┆           ┆ 12GAX7.5      ┆ Cash Price    ┆              ┆              ┆           │\n",
       "│            ┆           ┆               ┆ (Gross Cha…   ┆              ┆              ┆           │\n",
       "│ 605438     ┆ null      ┆ CUP OCCLDR    ┆ Discounted    ┆ 1507.00      ┆ cash         ┆ null      │\n",
       "│            ┆           ┆ 2.5CM         ┆ Cash Price    ┆              ┆              ┆           │\n",
       "│            ┆           ┆               ┆ (Gross Cha…   ┆              ┆              ┆           │\n",
       "│ 753982     ┆ null      ┆ NEEDLE BIOPSY ┆ Gross Charge  ┆ 1084.00      ┆ gross        ┆ null      │\n",
       "│            ┆           ┆ MC1816        ┆               ┆              ┆              ┆           │\n",
       "│ 992853     ┆ null      ┆ CATH CONNCTR  ┆ Discounted    ┆ 329.00       ┆ cash         ┆ null      │\n",
       "│            ┆           ┆ URET 3-6FR    ┆ Cash Price    ┆              ┆              ┆           │\n",
       "│            ┆           ┆               ┆ (Gross Cha…   ┆              ┆              ┆           │\n",
       "│ …          ┆ …         ┆ …             ┆ …             ┆ …            ┆ …            ┆ …         │\n",
       "│ 601540     ┆ C1887     ┆ CATH GD XB4.5 ┆ Discounted    ┆ 1052.00      ┆ cash         ┆ null      │\n",
       "│            ┆           ┆ 6FR 100CM     ┆ Cash Price    ┆              ┆              ┆           │\n",
       "│            ┆           ┆               ┆ (Gross Cha…   ┆              ┆              ┆           │\n",
       "│ 904736     ┆ null      ┆ CATHETER XTRN ┆ Discounted    ┆ 965.00       ┆ cash         ┆ null      │\n",
       "│            ┆           ┆ ULFLX 25MM    ┆ Cash Price    ┆              ┆              ┆           │\n",
       "│            ┆           ┆               ┆ (Gross Cha…   ┆              ┆              ┆           │\n",
       "│ 620193     ┆ null      ┆ DEVICE SUT    ┆ Gross Charge  ┆ 4288.00      ┆ gross        ┆ null      │\n",
       "│            ┆           ┆ CPTR 3X1.2MM  ┆               ┆              ┆              ┆           │\n",
       "│ 800358     ┆ C1776     ┆ INS TIB 3X8   ┆ Gross Charge  ┆ 4968.00      ┆ gross        ┆ null      │\n",
       "│            ┆           ┆ LT MDL RL     ┆               ┆              ┆              ┆           │\n",
       "└────────────┴───────────┴───────────────┴───────────────┴──────────────┴──────────────┴───────────┘"
      ]
     },
     "execution_count": 102,
     "metadata": {},
     "output_type": "execute_result"
    }
   ],
   "source": [
    "upper_chunk.sample(10)"
   ]
  },
  {
   "cell_type": "markdown",
   "id": "6c944cf9-d086-4dc4-aaf0-0fe1f0892724",
   "metadata": {},
   "source": [
    "### Handling the lower chunks"
   ]
  },
  {
   "cell_type": "code",
   "execution_count": 104,
   "id": "abd9d31b-6c6c-4bee-8d76-2f854f6bd1cc",
   "metadata": {
    "tags": []
   },
   "outputs": [],
   "source": [
    "new_lower_chunks = []\n",
    "for chunk in lower_chunks[:-1]:\n",
    "    chunk = (\n",
    "        chunk\n",
    "        .drop(['Gross Charge', 'Discounted Cash Price (Gross Charges)'])\n",
    "        # the payer name is always the first field in the Procedure ID col\n",
    "        .with_columns([\n",
    "            pl.lit(chunk['Procedure ID'][0]).alias('payer_name'),\n",
    "            pl.lit('payer').alias('payer_category')\n",
    "        ])\n",
    "        .rename({\n",
    "            'Procedure ID':'description',\n",
    "            'HCPCS/CPT Code':'code',\n",
    "            'Description':'standard_charge_'\n",
    "        })\n",
    "        .slice(2,)\n",
    "    )\n",
    "    \n",
    "    new_lower_chunks.append(chunk)"
   ]
  },
  {
   "cell_type": "code",
   "execution_count": 107,
   "id": "f465c6aa-12e8-4b26-b202-3c649457924d",
   "metadata": {
    "tags": []
   },
   "outputs": [],
   "source": [
    "new_lower_chunks.append(\n",
    "    lower_chunks[-1]\n",
    "    .drop('Discounted Cash Price (Gross Charges)')\n",
    "    .slice(1,)\n",
    "    .rename({\n",
    "        'Procedure ID':'description',\n",
    "        'HCPCS/CPT Code':'code',\n",
    "        'Description':'Min',\n",
    "        'Gross Charge':'Max',\n",
    "    })\n",
    "    .melt(['description', 'code'], variable_name = 'payer_name', value_name = 'standard_charge_')\n",
    "    .with_columns(\n",
    "        pl.when(pl.col('payer_name') == 'Min').then('min')\n",
    "        .when(pl.col('payer_name') == 'Max').then('max')\n",
    "        .alias('payer_category')\n",
    "    )\n",
    "    .select(['description', 'code', 'standard_charge_', 'payer_name', 'payer_category'])\n",
    ")"
   ]
  },
  {
   "cell_type": "code",
   "execution_count": 108,
   "id": "decba33d-e358-4c84-92a9-cd8516d32edc",
   "metadata": {
    "tags": []
   },
   "outputs": [],
   "source": [
    "lower_chunk = pl.concat(new_lower_chunks)"
   ]
  },
  {
   "cell_type": "code",
   "execution_count": 111,
   "id": "6785423d-8f6c-4a04-b700-de48d8d34df8",
   "metadata": {
    "tags": []
   },
   "outputs": [
    {
     "data": {
      "text/html": [
       "<div><style>\n",
       ".dataframe > thead > tr > th,\n",
       ".dataframe > tbody > tr > td {\n",
       "  text-align: right;\n",
       "}\n",
       "</style>\n",
       "<small>shape: (10, 5)</small><table border=\"1\" class=\"dataframe\"><thead><tr><th>description</th><th>code</th><th>standard_charge_</th><th>payer_name</th><th>payer_category</th></tr><tr><td>str</td><td>str</td><td>str</td><td>str</td><td>str</td></tr></thead><tbody><tr><td>&quot;Behavioral Hea…</td><td>null</td><td>&quot;$506.00 &quot;</td><td>&quot;BCBS HMO&quot;</td><td>&quot;payer&quot;</td></tr><tr><td>&quot;Cardiovascular…</td><td>&quot;MS-DRG 228&quot;</td><td>&quot;$84,037.67 &quot;</td><td>&quot;United&quot;</td><td>&quot;payer&quot;</td></tr><tr><td>&quot;Rehab&quot;</td><td>null</td><td>&quot;98% of CMG&quot;</td><td>&quot;Max&quot;</td><td>&quot;max&quot;</td></tr><tr><td>&quot;Oncology&quot;</td><td>&quot;MS-DRG 658&quot;</td><td>&quot;$16,322.33&quot;</td><td>&quot;Max&quot;</td><td>&quot;max&quot;</td></tr><tr><td>&quot;Lap Band&quot;</td><td>&quot;CPT/HCPC 43644…</td><td>&quot;$11,681.00 &quot;</td><td>&quot;Friday Health&quot;</td><td>&quot;payer&quot;</td></tr><tr><td>&quot;Diagnostic Ima…</td><td>null</td><td>&quot;324.67% of FS&quot;</td><td>&quot;Cigna&quot;</td><td>&quot;payer&quot;</td></tr><tr><td>&quot;Rad Therapy&quot;</td><td>null</td><td>&quot;1117% of FS&quot;</td><td>&quot;Humana&quot;</td><td>&quot;payer&quot;</td></tr><tr><td>&quot;Gamma Knife&quot;</td><td>&quot;CPT/HCPC 61781…</td><td>&quot;$40,178.00&quot;</td><td>&quot;Max&quot;</td><td>&quot;max&quot;</td></tr><tr><td>&quot;Cardiology&quot;</td><td>&quot;APR-DRG 160-16…</td><td>&quot;108% of MCD&quot;</td><td>&quot;Superior HP MC…</td><td>&quot;payer&quot;</td></tr><tr><td>&quot;Other Inpatien…</td><td>null</td><td>&quot;105% of MCR&quot;</td><td>&quot;Superior HP MC…</td><td>&quot;payer&quot;</td></tr></tbody></table></div>"
      ],
      "text/plain": [
       "shape: (10, 5)\n",
       "┌─────────────────────────┬──────────────────┬──────────────────┬─────────────────┬────────────────┐\n",
       "│ description             ┆ code             ┆ standard_charge_ ┆ payer_name      ┆ payer_category │\n",
       "│ ---                     ┆ ---              ┆ ---              ┆ ---             ┆ ---            │\n",
       "│ str                     ┆ str              ┆ str              ┆ str             ┆ str            │\n",
       "╞═════════════════════════╪══════════════════╪══════════════════╪═════════════════╪════════════════╡\n",
       "│ Behavioral Health       ┆ null             ┆ $506.00          ┆ BCBS HMO        ┆ payer          │\n",
       "│ Partial Hospit…         ┆                  ┆                  ┆                 ┆                │\n",
       "│ Cardiovascular Surgery  ┆ MS-DRG 228       ┆ $84,037.67       ┆ United          ┆ payer          │\n",
       "│ Rehab                   ┆ null             ┆ 98% of CMG       ┆ Max             ┆ max            │\n",
       "│ Oncology                ┆ MS-DRG 658       ┆ $16,322.33       ┆ Max             ┆ max            │\n",
       "│ …                       ┆ …                ┆ …                ┆ …               ┆ …              │\n",
       "│ Rad Therapy             ┆ null             ┆ 1117% of FS      ┆ Humana          ┆ payer          │\n",
       "│ Gamma Knife             ┆ CPT/HCPC         ┆ $40,178.00       ┆ Max             ┆ max            │\n",
       "│                         ┆ 61781-61783,     ┆                  ┆                 ┆                │\n",
       "│                         ┆ 61796-6180…      ┆                  ┆                 ┆                │\n",
       "│ Cardiology              ┆ APR-DRG 160-163, ┆ 108% of MCD      ┆ Superior HP MCD ┆ payer          │\n",
       "│                         ┆ 165-167, 169-17… ┆                  ┆                 ┆                │\n",
       "│ Other Inpatient         ┆ null             ┆ 105% of MCR      ┆ Superior HP MCR ┆ payer          │\n",
       "└─────────────────────────┴──────────────────┴──────────────────┴─────────────────┴────────────────┘"
      ]
     },
     "execution_count": 111,
     "metadata": {},
     "output_type": "execute_result"
    }
   ],
   "source": [
    "lower_chunk.sample(10)"
   ]
  },
  {
   "cell_type": "code",
   "execution_count": 112,
   "id": "350022d1-9b2f-4000-ad8d-15d21a87595f",
   "metadata": {
    "tags": []
   },
   "outputs": [],
   "source": [
    "def charge_cols():\n",
    "    \n",
    "    standard_charge = pl.col('standard_charge_')\n",
    "    \n",
    "    percent_bc  = standard_charge.str.contains('% of BC|% of Billable Gross Charges')\n",
    "    percent_mcr = standard_charge.str.contains('% of MCR')\n",
    "    percent_fs  = standard_charge.str.contains('% of FS')\n",
    "    percent_mcd = standard_charge.str.contains('% of MCR')\n",
    "    \n",
    "    description    = pl.col('description')\n",
    "    \n",
    "    per_diem    = description.str.to_lowercase().str.contains('per diem')\n",
    "    \n",
    "    standard_charge = (\n",
    "        pl.when(percent_bc|percent_mcr|percent_fs|percent_mcd).then(None)\n",
    "        .otherwise(standard_charge.str.replace('\\$', '').str.replace_all(',', '').str.strip())\n",
    "    ).alias('standard_charge')\n",
    "    \n",
    "    standard_charge_percent = (\n",
    "        pl.when(percent_bc|percent_mcr|percent_fs|percent_mcd)\n",
    "        .then(standard_charge.str.extract('(\\d+(?:\\.\\d+)?)%'))\n",
    "    ).alias('standard_charge_percent')\n",
    "    \n",
    "    contracting_method = (\n",
    "        pl.when(percent_bc).then('percent of total billed charge')\n",
    "        .when(percent_mcr|percent_fs|percent_mcd).then('other')\n",
    "        .when(per_diem).then('per diem')\n",
    "    ).alias('contracting_method')\n",
    "    \n",
    "    additional_generic_notes = (\n",
    "        pl.when(percent_mcr).then('billed as % of MCR')\n",
    "        .when(percent_fs).then('billed as % of FS')\n",
    "        .when(percent_mcd).then('billed as % of MCD')\n",
    "    ).alias('additional_generic_notes')\n",
    "    \n",
    "    return standard_charge, standard_charge_percent, contracting_method, additional_generic_notes"
   ]
  },
  {
   "cell_type": "code",
   "execution_count": 113,
   "id": "fbb4c117-f541-4ed6-bf55-ba1d709758d9",
   "metadata": {
    "tags": []
   },
   "outputs": [
    {
     "data": {
      "text/html": [
       "<div>\n",
       "<style scoped>\n",
       "    .dataframe tbody tr th:only-of-type {\n",
       "        vertical-align: middle;\n",
       "    }\n",
       "\n",
       "    .dataframe tbody tr th {\n",
       "        vertical-align: top;\n",
       "    }\n",
       "\n",
       "    .dataframe thead th {\n",
       "        text-align: right;\n",
       "    }\n",
       "</style>\n",
       "<table border=\"1\" class=\"dataframe\">\n",
       "  <thead>\n",
       "    <tr style=\"text-align: right;\">\n",
       "      <th></th>\n",
       "      <th>description</th>\n",
       "      <th>code</th>\n",
       "      <th>standard_charge_</th>\n",
       "      <th>payer_name</th>\n",
       "      <th>payer_category</th>\n",
       "      <th>standard_charge</th>\n",
       "      <th>standard_charge_percent</th>\n",
       "      <th>contracting_method</th>\n",
       "      <th>additional_generic_notes</th>\n",
       "    </tr>\n",
       "  </thead>\n",
       "  <tbody>\n",
       "    <tr>\n",
       "      <th>0</th>\n",
       "      <td>Additional days</td>\n",
       "      <td>MS-DRG 768, 796-798, 805-807</td>\n",
       "      <td>$3,580.38</td>\n",
       "      <td>Aetna</td>\n",
       "      <td>payer</td>\n",
       "      <td>3580.38</td>\n",
       "      <td>None</td>\n",
       "      <td>None</td>\n",
       "      <td>None</td>\n",
       "    </tr>\n",
       "    <tr>\n",
       "      <th>1</th>\n",
       "      <td>Additional days</td>\n",
       "      <td>MS-DRG 783-788</td>\n",
       "      <td>$3,580.38</td>\n",
       "      <td>Aetna</td>\n",
       "      <td>payer</td>\n",
       "      <td>3580.38</td>\n",
       "      <td>None</td>\n",
       "      <td>None</td>\n",
       "      <td>None</td>\n",
       "    </tr>\n",
       "    <tr>\n",
       "      <th>2</th>\n",
       "      <td>Angioplasty</td>\n",
       "      <td>CPT/HCPC 33967</td>\n",
       "      <td>$14,536.92</td>\n",
       "      <td>Aetna</td>\n",
       "      <td>payer</td>\n",
       "      <td>14536.92</td>\n",
       "      <td>None</td>\n",
       "      <td>None</td>\n",
       "      <td>None</td>\n",
       "    </tr>\n",
       "    <tr>\n",
       "      <th>3</th>\n",
       "      <td>Angioplasty</td>\n",
       "      <td>CPT/HCPC 92920-92921, 92924-92925, 92928-92929...</td>\n",
       "      <td>$21,113.92</td>\n",
       "      <td>Aetna</td>\n",
       "      <td>payer</td>\n",
       "      <td>21113.92</td>\n",
       "      <td>None</td>\n",
       "      <td>None</td>\n",
       "      <td>None</td>\n",
       "    </tr>\n",
       "    <tr>\n",
       "      <th>4</th>\n",
       "      <td>Cardiac Cath</td>\n",
       "      <td>CPT/HCPC 0293T, 0294T, 0408T, 0410T, 0411T, 04...</td>\n",
       "      <td>$12,188.46</td>\n",
       "      <td>Aetna</td>\n",
       "      <td>payer</td>\n",
       "      <td>12188.46</td>\n",
       "      <td>None</td>\n",
       "      <td>None</td>\n",
       "      <td>None</td>\n",
       "    </tr>\n",
       "    <tr>\n",
       "      <th>...</th>\n",
       "      <td>...</td>\n",
       "      <td>...</td>\n",
       "      <td>...</td>\n",
       "      <td>...</td>\n",
       "      <td>...</td>\n",
       "      <td>...</td>\n",
       "      <td>...</td>\n",
       "      <td>...</td>\n",
       "      <td>...</td>\n",
       "    </tr>\n",
       "    <tr>\n",
       "      <th>1713</th>\n",
       "      <td>Unlisted Grouper</td>\n",
       "      <td>None</td>\n",
       "      <td>$14,000.00</td>\n",
       "      <td>Max</td>\n",
       "      <td>max</td>\n",
       "      <td>14000.00</td>\n",
       "      <td>None</td>\n",
       "      <td>None</td>\n",
       "      <td>None</td>\n",
       "    </tr>\n",
       "    <tr>\n",
       "      <th>1714</th>\n",
       "      <td>Urgent Care</td>\n",
       "      <td>None</td>\n",
       "      <td>$241.00</td>\n",
       "      <td>Max</td>\n",
       "      <td>max</td>\n",
       "      <td>241.00</td>\n",
       "      <td>None</td>\n",
       "      <td>None</td>\n",
       "      <td>None</td>\n",
       "    </tr>\n",
       "    <tr>\n",
       "      <th>1715</th>\n",
       "      <td>Urinary System</td>\n",
       "      <td>CPT/HCPC 50080, 50081, 50543, 50544, 50590, 51...</td>\n",
       "      <td>$13,686.00</td>\n",
       "      <td>Max</td>\n",
       "      <td>max</td>\n",
       "      <td>13686.00</td>\n",
       "      <td>None</td>\n",
       "      <td>None</td>\n",
       "      <td>None</td>\n",
       "    </tr>\n",
       "    <tr>\n",
       "      <th>1716</th>\n",
       "      <td>Urology</td>\n",
       "      <td>MS-DRG 659-661, 693, 694, 707, 708; ICD 9/10 0...</td>\n",
       "      <td>$41,476.00</td>\n",
       "      <td>Max</td>\n",
       "      <td>max</td>\n",
       "      <td>41476.00</td>\n",
       "      <td>None</td>\n",
       "      <td>None</td>\n",
       "      <td>None</td>\n",
       "    </tr>\n",
       "    <tr>\n",
       "      <th>1717</th>\n",
       "      <td>Vascular Surgery</td>\n",
       "      <td>MS-DRG 034-036, 252-254, 263</td>\n",
       "      <td>$41,552.33</td>\n",
       "      <td>Max</td>\n",
       "      <td>max</td>\n",
       "      <td>41552.33</td>\n",
       "      <td>None</td>\n",
       "      <td>None</td>\n",
       "      <td>None</td>\n",
       "    </tr>\n",
       "  </tbody>\n",
       "</table>\n",
       "<p>1718 rows × 9 columns</p>\n",
       "</div>"
      ],
      "text/plain": [
       "           description                                               code   \n",
       "0      Additional days                       MS-DRG 768, 796-798, 805-807  \\\n",
       "1      Additional days                                     MS-DRG 783-788   \n",
       "2          Angioplasty                                     CPT/HCPC 33967   \n",
       "3          Angioplasty  CPT/HCPC 92920-92921, 92924-92925, 92928-92929...   \n",
       "4         Cardiac Cath  CPT/HCPC 0293T, 0294T, 0408T, 0410T, 0411T, 04...   \n",
       "...                ...                                                ...   \n",
       "1713  Unlisted Grouper                                               None   \n",
       "1714       Urgent Care                                               None   \n",
       "1715    Urinary System  CPT/HCPC 50080, 50081, 50543, 50544, 50590, 51...   \n",
       "1716           Urology  MS-DRG 659-661, 693, 694, 707, 708; ICD 9/10 0...   \n",
       "1717  Vascular Surgery                       MS-DRG 034-036, 252-254, 263   \n",
       "\n",
       "     standard_charge_ payer_name payer_category standard_charge   \n",
       "0          $3,580.38       Aetna          payer         3580.38  \\\n",
       "1          $3,580.38       Aetna          payer         3580.38   \n",
       "2         $14,536.92       Aetna          payer        14536.92   \n",
       "3         $21,113.92       Aetna          payer        21113.92   \n",
       "4         $12,188.46       Aetna          payer        12188.46   \n",
       "...               ...        ...            ...             ...   \n",
       "1713       $14,000.00        Max            max        14000.00   \n",
       "1714          $241.00        Max            max          241.00   \n",
       "1715       $13,686.00        Max            max        13686.00   \n",
       "1716       $41,476.00        Max            max        41476.00   \n",
       "1717       $41,552.33        Max            max        41552.33   \n",
       "\n",
       "     standard_charge_percent contracting_method additional_generic_notes  \n",
       "0                       None               None                     None  \n",
       "1                       None               None                     None  \n",
       "2                       None               None                     None  \n",
       "3                       None               None                     None  \n",
       "4                       None               None                     None  \n",
       "...                      ...                ...                      ...  \n",
       "1713                    None               None                     None  \n",
       "1714                    None               None                     None  \n",
       "1715                    None               None                     None  \n",
       "1716                    None               None                     None  \n",
       "1717                    None               None                     None  \n",
       "\n",
       "[1718 rows x 9 columns]"
      ]
     },
     "execution_count": 113,
     "metadata": {},
     "output_type": "execute_result"
    }
   ],
   "source": [
    "lower_chunk.with_columns(*charge_cols()).to_pandas()"
   ]
  },
  {
   "cell_type": "markdown",
   "id": "5a4e36a1-6d5f-4e6a-b125-2122d0bdaf8e",
   "metadata": {},
   "source": [
    "### Extracting with multiple identifiers\n",
    "Testing to see if any rows contain multiple identifiers"
   ]
  },
  {
   "cell_type": "code",
   "execution_count": 114,
   "id": "b3b382e8-58c8-4dd6-994d-42e69bc1d7ae",
   "metadata": {
    "tags": []
   },
   "outputs": [
    {
     "data": {
      "text/html": [
       "<div>\n",
       "<style scoped>\n",
       "    .dataframe tbody tr th:only-of-type {\n",
       "        vertical-align: middle;\n",
       "    }\n",
       "\n",
       "    .dataframe tbody tr th {\n",
       "        vertical-align: top;\n",
       "    }\n",
       "\n",
       "    .dataframe thead th {\n",
       "        text-align: right;\n",
       "    }\n",
       "</style>\n",
       "<table border=\"1\" class=\"dataframe\">\n",
       "  <thead>\n",
       "    <tr style=\"text-align: right;\">\n",
       "      <th></th>\n",
       "      <th>description</th>\n",
       "      <th>code</th>\n",
       "      <th>standard_charge_</th>\n",
       "      <th>payer_name</th>\n",
       "      <th>payer_category</th>\n",
       "      <th>id_ct</th>\n",
       "    </tr>\n",
       "  </thead>\n",
       "  <tbody>\n",
       "    <tr>\n",
       "      <th>0</th>\n",
       "      <td>Detoxification</td>\n",
       "      <td>None</td>\n",
       "      <td>$1,889.31</td>\n",
       "      <td>Aetna</td>\n",
       "      <td>payer</td>\n",
       "      <td>NaN</td>\n",
       "    </tr>\n",
       "    <tr>\n",
       "      <th>1</th>\n",
       "      <td>Grouper 1</td>\n",
       "      <td>None</td>\n",
       "      <td>$2,011.23</td>\n",
       "      <td>Aetna</td>\n",
       "      <td>payer</td>\n",
       "      <td>NaN</td>\n",
       "    </tr>\n",
       "    <tr>\n",
       "      <th>2</th>\n",
       "      <td>Grouper 2</td>\n",
       "      <td>None</td>\n",
       "      <td>$2,187.31</td>\n",
       "      <td>Aetna</td>\n",
       "      <td>payer</td>\n",
       "      <td>NaN</td>\n",
       "    </tr>\n",
       "    <tr>\n",
       "      <th>3</th>\n",
       "      <td>Grouper 3</td>\n",
       "      <td>None</td>\n",
       "      <td>$2,741.00</td>\n",
       "      <td>Aetna</td>\n",
       "      <td>payer</td>\n",
       "      <td>NaN</td>\n",
       "    </tr>\n",
       "    <tr>\n",
       "      <th>4</th>\n",
       "      <td>Grouper 4</td>\n",
       "      <td>None</td>\n",
       "      <td>$2,976.85</td>\n",
       "      <td>Aetna</td>\n",
       "      <td>payer</td>\n",
       "      <td>NaN</td>\n",
       "    </tr>\n",
       "    <tr>\n",
       "      <th>...</th>\n",
       "      <td>...</td>\n",
       "      <td>...</td>\n",
       "      <td>...</td>\n",
       "      <td>...</td>\n",
       "      <td>...</td>\n",
       "      <td>...</td>\n",
       "    </tr>\n",
       "    <tr>\n",
       "      <th>1713</th>\n",
       "      <td>Urology</td>\n",
       "      <td>MS-DRG 659-661, 693, 694, 707, 708; ICD 9/10 0...</td>\n",
       "      <td>$41,476.00</td>\n",
       "      <td>Max</td>\n",
       "      <td>max</td>\n",
       "      <td>2.0</td>\n",
       "    </tr>\n",
       "    <tr>\n",
       "      <th>1714</th>\n",
       "      <td>Obstetrics</td>\n",
       "      <td>MS-DRG 765-768, 774, 775, 783-788, 795-798, 80...</td>\n",
       "      <td>$680.00</td>\n",
       "      <td>Min</td>\n",
       "      <td>min</td>\n",
       "      <td>3.0</td>\n",
       "    </tr>\n",
       "    <tr>\n",
       "      <th>1715</th>\n",
       "      <td>Orthopedic</td>\n",
       "      <td>MS-DRG 467-470, 495-499; CPT/HCPC 23470, 23472...</td>\n",
       "      <td>$1,580.00</td>\n",
       "      <td>Min</td>\n",
       "      <td>min</td>\n",
       "      <td>3.0</td>\n",
       "    </tr>\n",
       "    <tr>\n",
       "      <th>1716</th>\n",
       "      <td>Obstetrics</td>\n",
       "      <td>MS-DRG 765-768, 774, 775, 783-788, 795-798, 80...</td>\n",
       "      <td>$12,724.85</td>\n",
       "      <td>Max</td>\n",
       "      <td>max</td>\n",
       "      <td>3.0</td>\n",
       "    </tr>\n",
       "    <tr>\n",
       "      <th>1717</th>\n",
       "      <td>Orthopedic</td>\n",
       "      <td>MS-DRG 467-470, 495-499; CPT/HCPC 23470, 23472...</td>\n",
       "      <td>$18,163.00</td>\n",
       "      <td>Max</td>\n",
       "      <td>max</td>\n",
       "      <td>3.0</td>\n",
       "    </tr>\n",
       "  </tbody>\n",
       "</table>\n",
       "<p>1718 rows × 6 columns</p>\n",
       "</div>"
      ],
      "text/plain": [
       "         description                                               code   \n",
       "0     Detoxification                                               None  \\\n",
       "1          Grouper 1                                               None   \n",
       "2          Grouper 2                                               None   \n",
       "3          Grouper 3                                               None   \n",
       "4          Grouper 4                                               None   \n",
       "...              ...                                                ...   \n",
       "1713         Urology  MS-DRG 659-661, 693, 694, 707, 708; ICD 9/10 0...   \n",
       "1714      Obstetrics  MS-DRG 765-768, 774, 775, 783-788, 795-798, 80...   \n",
       "1715      Orthopedic  MS-DRG 467-470, 495-499; CPT/HCPC 23470, 23472...   \n",
       "1716      Obstetrics  MS-DRG 765-768, 774, 775, 783-788, 795-798, 80...   \n",
       "1717      Orthopedic  MS-DRG 467-470, 495-499; CPT/HCPC 23470, 23472...   \n",
       "\n",
       "     standard_charge_ payer_name payer_category  id_ct  \n",
       "0          $1,889.31       Aetna          payer    NaN  \n",
       "1          $2,011.23       Aetna          payer    NaN  \n",
       "2          $2,187.31       Aetna          payer    NaN  \n",
       "3          $2,741.00       Aetna          payer    NaN  \n",
       "4          $2,976.85       Aetna          payer    NaN  \n",
       "...               ...        ...            ...    ...  \n",
       "1713       $41,476.00        Max            max    2.0  \n",
       "1714          $680.00        Min            min    3.0  \n",
       "1715        $1,580.00        Min            min    3.0  \n",
       "1716       $12,724.85        Max            max    3.0  \n",
       "1717       $18,163.00        Max            max    3.0  \n",
       "\n",
       "[1718 rows x 6 columns]"
      ]
     },
     "execution_count": 114,
     "metadata": {},
     "output_type": "execute_result"
    }
   ],
   "source": [
    "identifiers = ['CPT/HCPC', 'REV', 'MS-DRG', 'ICD 9/10', 'APC', 'APR-DRG']\n",
    "lower_chunk.with_columns(\n",
    "    pl.col('code').str.to_uppercase().apply(lambda x: sum([y in x for y in identifiers])).alias('id_ct')\n",
    ").sort('id_ct').to_pandas()"
   ]
  },
  {
   "cell_type": "markdown",
   "id": "e555d4e1-b5e9-4a52-9a77-18ac382d72e3",
   "metadata": {},
   "source": [
    "### Cleaning up the code column"
   ]
  },
  {
   "cell_type": "code",
   "execution_count": 115,
   "id": "75a5b1f3-38b2-465a-a0a8-0f2a26d29cf1",
   "metadata": {
    "tags": []
   },
   "outputs": [
    {
     "data": {
      "text/html": [
       "<div>\n",
       "<style scoped>\n",
       "    .dataframe tbody tr th:only-of-type {\n",
       "        vertical-align: middle;\n",
       "    }\n",
       "\n",
       "    .dataframe tbody tr th {\n",
       "        vertical-align: top;\n",
       "    }\n",
       "\n",
       "    .dataframe thead th {\n",
       "        text-align: right;\n",
       "    }\n",
       "</style>\n",
       "<table border=\"1\" class=\"dataframe\">\n",
       "  <thead>\n",
       "    <tr style=\"text-align: right;\">\n",
       "      <th></th>\n",
       "      <th>description</th>\n",
       "      <th>code</th>\n",
       "      <th>standard_charge_</th>\n",
       "      <th>payer_name</th>\n",
       "      <th>payer_category</th>\n",
       "      <th>id_ct</th>\n",
       "    </tr>\n",
       "  </thead>\n",
       "  <tbody>\n",
       "    <tr>\n",
       "      <th>0</th>\n",
       "      <td>Detoxification</td>\n",
       "      <td>None</td>\n",
       "      <td>$1,889.31</td>\n",
       "      <td>Aetna</td>\n",
       "      <td>payer</td>\n",
       "      <td>NaN</td>\n",
       "    </tr>\n",
       "    <tr>\n",
       "      <th>1</th>\n",
       "      <td>Grouper 1</td>\n",
       "      <td>None</td>\n",
       "      <td>$2,011.23</td>\n",
       "      <td>Aetna</td>\n",
       "      <td>payer</td>\n",
       "      <td>NaN</td>\n",
       "    </tr>\n",
       "    <tr>\n",
       "      <th>2</th>\n",
       "      <td>Grouper 2</td>\n",
       "      <td>None</td>\n",
       "      <td>$2,187.31</td>\n",
       "      <td>Aetna</td>\n",
       "      <td>payer</td>\n",
       "      <td>NaN</td>\n",
       "    </tr>\n",
       "    <tr>\n",
       "      <th>3</th>\n",
       "      <td>Grouper 3</td>\n",
       "      <td>None</td>\n",
       "      <td>$2,741.00</td>\n",
       "      <td>Aetna</td>\n",
       "      <td>payer</td>\n",
       "      <td>NaN</td>\n",
       "    </tr>\n",
       "    <tr>\n",
       "      <th>4</th>\n",
       "      <td>Grouper 4</td>\n",
       "      <td>None</td>\n",
       "      <td>$2,976.85</td>\n",
       "      <td>Aetna</td>\n",
       "      <td>payer</td>\n",
       "      <td>NaN</td>\n",
       "    </tr>\n",
       "    <tr>\n",
       "      <th>...</th>\n",
       "      <td>...</td>\n",
       "      <td>...</td>\n",
       "      <td>...</td>\n",
       "      <td>...</td>\n",
       "      <td>...</td>\n",
       "      <td>...</td>\n",
       "    </tr>\n",
       "    <tr>\n",
       "      <th>1749</th>\n",
       "      <td>Ultrasound</td>\n",
       "      <td>CPT/HCPC 75989, 76376, 76377, 76506, 76510-765...</td>\n",
       "      <td>$4,099.50</td>\n",
       "      <td>Max</td>\n",
       "      <td>max</td>\n",
       "      <td>1.0</td>\n",
       "    </tr>\n",
       "    <tr>\n",
       "      <th>1750</th>\n",
       "      <td>Urinary System</td>\n",
       "      <td>CPT/HCPC 50080, 50081, 50543, 50544, 50590, 51...</td>\n",
       "      <td>$13,686.00</td>\n",
       "      <td>Max</td>\n",
       "      <td>max</td>\n",
       "      <td>1.0</td>\n",
       "    </tr>\n",
       "    <tr>\n",
       "      <th>1751</th>\n",
       "      <td>Urology</td>\n",
       "      <td>MS-DRG 659-661, 693, 694, 707, 708</td>\n",
       "      <td>$41,476.00</td>\n",
       "      <td>Max</td>\n",
       "      <td>max</td>\n",
       "      <td>1.0</td>\n",
       "    </tr>\n",
       "    <tr>\n",
       "      <th>1752</th>\n",
       "      <td>Urology</td>\n",
       "      <td>ICD 9/10 0TF3XZZ, 0TF4XZZ, 0TF6XZZ, 0TF7XZZ, ...</td>\n",
       "      <td>$41,476.00</td>\n",
       "      <td>Max</td>\n",
       "      <td>max</td>\n",
       "      <td>1.0</td>\n",
       "    </tr>\n",
       "    <tr>\n",
       "      <th>1753</th>\n",
       "      <td>Vascular Surgery</td>\n",
       "      <td>MS-DRG 034-036, 252-254, 263</td>\n",
       "      <td>$41,552.33</td>\n",
       "      <td>Max</td>\n",
       "      <td>max</td>\n",
       "      <td>1.0</td>\n",
       "    </tr>\n",
       "  </tbody>\n",
       "</table>\n",
       "<p>1754 rows × 6 columns</p>\n",
       "</div>"
      ],
      "text/plain": [
       "           description                                               code   \n",
       "0       Detoxification                                               None  \\\n",
       "1            Grouper 1                                               None   \n",
       "2            Grouper 2                                               None   \n",
       "3            Grouper 3                                               None   \n",
       "4            Grouper 4                                               None   \n",
       "...                ...                                                ...   \n",
       "1749        Ultrasound  CPT/HCPC 75989, 76376, 76377, 76506, 76510-765...   \n",
       "1750    Urinary System  CPT/HCPC 50080, 50081, 50543, 50544, 50590, 51...   \n",
       "1751           Urology                 MS-DRG 659-661, 693, 694, 707, 708   \n",
       "1752           Urology   ICD 9/10 0TF3XZZ, 0TF4XZZ, 0TF6XZZ, 0TF7XZZ, ...   \n",
       "1753  Vascular Surgery                       MS-DRG 034-036, 252-254, 263   \n",
       "\n",
       "     standard_charge_ payer_name payer_category  id_ct  \n",
       "0          $1,889.31       Aetna          payer    NaN  \n",
       "1          $2,011.23       Aetna          payer    NaN  \n",
       "2          $2,187.31       Aetna          payer    NaN  \n",
       "3          $2,741.00       Aetna          payer    NaN  \n",
       "4          $2,976.85       Aetna          payer    NaN  \n",
       "...               ...        ...            ...    ...  \n",
       "1749        $4,099.50        Max            max    1.0  \n",
       "1750       $13,686.00        Max            max    1.0  \n",
       "1751       $41,476.00        Max            max    1.0  \n",
       "1752       $41,476.00        Max            max    1.0  \n",
       "1753       $41,552.33        Max            max    1.0  \n",
       "\n",
       "[1754 rows x 6 columns]"
      ]
     },
     "execution_count": 115,
     "metadata": {},
     "output_type": "execute_result"
    }
   ],
   "source": [
    "lower_chunk.with_columns(\n",
    "    # some codes have junk like \\n in them\n",
    "    pl.col('code').str.replace_all('\\n', '').str.split(';')\n",
    ").explode('code').with_columns(\n",
    "    pl.col('code').str.to_uppercase().apply(lambda row: sum([id_ in row for id_ in identifiers])).alias('id_ct')\n",
    ").sort('id_ct').to_pandas()"
   ]
  },
  {
   "cell_type": "code",
   "execution_count": 116,
   "id": "a9998cfc-f73f-4ed6-a6ad-f014a7b6728a",
   "metadata": {
    "tags": []
   },
   "outputs": [
    {
     "data": {
      "text/plain": [
       "'CPT/HCPC 0293T, 0294T, 0408T, 0410T, 0411T, 0413T, 0415T, 33340, 33477, C9741, 93451- 93462, 93503-93505, 93530-93533, 93590, 93591, 93592, G0448'"
      ]
     },
     "execution_count": 116,
     "metadata": {},
     "output_type": "execute_result"
    }
   ],
   "source": [
    "lower_chunk.filter(pl.col('code').str.contains('- ')).to_pandas()['code'][0]"
   ]
  },
  {
   "cell_type": "code",
   "execution_count": 117,
   "id": "e6539d87-c086-4503-b23d-e2aaac61534b",
   "metadata": {
    "tags": []
   },
   "outputs": [
    {
     "data": {
      "text/plain": [
       "\"CPT/HCPC Cigna 2020 Grouper - lam and Lap Chole listed in Cigna's grouper schedule assigned to Grouper 9.  Groupers 79 and 99 removed from the grouper schedule.\""
      ]
     },
     "execution_count": 117,
     "metadata": {},
     "output_type": "execute_result"
    }
   ],
   "source": [
    "lower_chunk.filter(pl.col('code').str.contains('- ')).to_pandas()['code'][1]"
   ]
  },
  {
   "cell_type": "markdown",
   "id": "ff71bcf9-b999-4036-8a42-a6aa918f2689",
   "metadata": {},
   "source": [
    "We'll want to replace things like `93451- 93462` with the appropriate range. A range is when you have two values with the same length connected by either a dash or a dash + space.\n",
    "\n",
    "We also have rows like\n",
    "\n",
    "```\n",
    "'ICD 9/10 27125, 27130, 27132, 27134, 27137, 27138, 27445, 27446, 27447, 27486, 27487'\n",
    "```\n",
    "that are totally mislabeled.\n",
    "\n",
    "All rows where `code` is not null have an identifier:"
   ]
  },
  {
   "cell_type": "code",
   "execution_count": 118,
   "id": "132a2702-91d4-4915-b35d-f4728abf455b",
   "metadata": {
    "tags": []
   },
   "outputs": [
    {
     "data": {
      "text/html": [
       "<div><style>\n",
       ".dataframe > thead > tr > th,\n",
       ".dataframe > tbody > tr > td {\n",
       "  text-align: right;\n",
       "}\n",
       "</style>\n",
       "<small>shape: (0, 6)</small><table border=\"1\" class=\"dataframe\"><thead><tr><th>description</th><th>code</th><th>standard_charge_</th><th>payer_name</th><th>payer_category</th><th>id_ct</th></tr><tr><td>str</td><td>str</td><td>str</td><td>str</td><td>str</td><td>i64</td></tr></thead><tbody></tbody></table></div>"
      ],
      "text/plain": [
       "shape: (0, 6)\n",
       "┌─────────────┬──────┬──────────────────┬────────────┬────────────────┬───────┐\n",
       "│ description ┆ code ┆ standard_charge_ ┆ payer_name ┆ payer_category ┆ id_ct │\n",
       "│ ---         ┆ ---  ┆ ---              ┆ ---        ┆ ---            ┆ ---   │\n",
       "│ str         ┆ str  ┆ str              ┆ str        ┆ str            ┆ i64   │\n",
       "╞═════════════╪══════╪══════════════════╪════════════╪════════════════╪═══════╡\n",
       "└─────────────┴──────┴──────────────────┴────────────┴────────────────┴───────┘"
      ]
     },
     "execution_count": 118,
     "metadata": {},
     "output_type": "execute_result"
    }
   ],
   "source": [
    "lower_chunk.with_columns(\n",
    "    pl.col('code').str.split(';')\n",
    ").explode('code').with_columns(\n",
    "    pl.col('code').str.to_uppercase().apply(lambda row: sum([id_ in row for id_ in identifiers])).alias('id_ct')\n",
    ").filter(pl.col('id_ct').is_null()).filter(pl.col('code').is_not_null())"
   ]
  },
  {
   "cell_type": "code",
   "execution_count": 119,
   "id": "ab733807-5abb-4d03-87f7-2beb20816c36",
   "metadata": {
    "tags": []
   },
   "outputs": [],
   "source": [
    "lower_chunk = (\n",
    "    lower_chunk\n",
    "    .with_columns(pl.col('code').str.replace_all('\\n', '').str.split(';'))\n",
    "    .explode('code')\n",
    "    .with_columns(pl.col('code').str.to_uppercase().apply(lambda row: sum([id_ in row for id_ in identifiers])).alias('id_ct'))\n",
    ")"
   ]
  },
  {
   "cell_type": "markdown",
   "id": "dd6d850b-ef37-4098-b414-72ba9a480637",
   "metadata": {},
   "source": [
    "### Putting codes in their proper columns"
   ]
  },
  {
   "cell_type": "code",
   "execution_count": 120,
   "id": "15d76c03-715a-40da-9993-984a94a64555",
   "metadata": {
    "tags": []
   },
   "outputs": [],
   "source": [
    "col_map = {\n",
    "    'CPT/HCPC|HCPC Codes':'hcpcs_cpt',\n",
    "    'REV':'rev_code',\n",
    "    'MS-DRG':'ms_drg',\n",
    "    'ICD 9/10':'icd',\n",
    "    'APC':'apc',\n",
    "    'APR-DRG':'apr_drg',\n",
    "    'CMG':'cmg', # for good measure\n",
    "}"
   ]
  },
  {
   "cell_type": "code",
   "execution_count": 121,
   "id": "e48d99ae-bdc6-464b-b808-375364adfc9a",
   "metadata": {
    "tags": []
   },
   "outputs": [],
   "source": [
    "for k, v in col_map.items():\n",
    "    lower_chunk = lower_chunk.with_columns(\n",
    "        pl.when(pl.col('code').str.contains(k)).then(pl.col('code').str.replace_all(k, '').str.strip()).alias(v)\n",
    "    )"
   ]
  },
  {
   "cell_type": "code",
   "execution_count": 122,
   "id": "c8b011e0-bbca-49a4-8d46-a7dcc4812cf3",
   "metadata": {
    "tags": []
   },
   "outputs": [
    {
     "data": {
      "text/html": [
       "<div><style>\n",
       ".dataframe > thead > tr > th,\n",
       ".dataframe > tbody > tr > td {\n",
       "  text-align: right;\n",
       "}\n",
       "</style>\n",
       "<small>shape: (10, 13)</small><table border=\"1\" class=\"dataframe\"><thead><tr><th>description</th><th>code</th><th>standard_charge_</th><th>payer_name</th><th>payer_category</th><th>id_ct</th><th>hcpcs_cpt</th><th>rev_code</th><th>ms_drg</th><th>icd</th><th>apc</th><th>apr_drg</th><th>cmg</th></tr><tr><td>str</td><td>str</td><td>str</td><td>str</td><td>str</td><td>i64</td><td>str</td><td>str</td><td>str</td><td>str</td><td>str</td><td>str</td><td>str</td></tr></thead><tbody><tr><td>&quot;Neurosurgery&quot;</td><td>&quot;MS-DRG 027&quot;</td><td>&quot;$49,896.67 &quot;</td><td>&quot;United&quot;</td><td>&quot;payer&quot;</td><td>1</td><td>null</td><td>null</td><td>&quot;027&quot;</td><td>null</td><td>null</td><td>null</td><td>null</td></tr><tr><td>&quot;Medicine&quot;</td><td>&quot;CPT/HCPC 91037…</td><td>&quot;$1,031.16 &quot;</td><td>&quot;Cigna&quot;</td><td>&quot;payer&quot;</td><td>1</td><td>&quot;91037&quot;</td><td>null</td><td>null</td><td>null</td><td>null</td><td>null</td><td>null</td></tr><tr><td>&quot;Medicine&quot;</td><td>&quot;CPT/HCPC 96102…</td><td>&quot;$754.16 &quot;</td><td>&quot;Cigna&quot;</td><td>&quot;payer&quot;</td><td>1</td><td>&quot;96102&quot;</td><td>null</td><td>null</td><td>null</td><td>null</td><td>null</td><td>null</td></tr><tr><td>&quot;Female Genital…</td><td>&quot;CPT/HCPC 58541…</td><td>&quot;$15,854.00 &quot;</td><td>&quot;Evry Health&quot;</td><td>&quot;payer&quot;</td><td>1</td><td>&quot;58541-58544, 5…</td><td>null</td><td>null</td><td>null</td><td>null</td><td>null</td><td>null</td></tr><tr><td>&quot;Neonate&quot;</td><td>&quot;MS-DRG 789-795…</td><td>&quot;$436.00&quot;</td><td>&quot;Min&quot;</td><td>&quot;min&quot;</td><td>1</td><td>null</td><td>null</td><td>&quot;789-795&quot;</td><td>null</td><td>null</td><td>null</td><td>null</td></tr><tr><td>&quot;Sleep Studies&quot;</td><td>&quot;CPT/HCPC 95782…</td><td>&quot;$2,673.00&quot;</td><td>&quot;Max&quot;</td><td>&quot;max&quot;</td><td>1</td><td>&quot;95782-95783, 9…</td><td>null</td><td>null</td><td>null</td><td>null</td><td>null</td><td>null</td></tr><tr><td>&quot;Cardiovascular…</td><td>&quot;MS-DRG 229&quot;</td><td>&quot;$91,388.33 &quot;</td><td>&quot;Cigna&quot;</td><td>&quot;payer&quot;</td><td>1</td><td>null</td><td>null</td><td>&quot;229&quot;</td><td>null</td><td>null</td><td>null</td><td>null</td></tr><tr><td>&quot;Other Outpatie…</td><td>null</td><td>&quot;100% of MCR&quot;</td><td>&quot;HUMANA MCR PPO…</td><td>&quot;payer&quot;</td><td>null</td><td>null</td><td>null</td><td>null</td><td>null</td><td>null</td><td>null</td><td>null</td></tr><tr><td>&quot;Cardiovascular…</td><td>&quot;MS-DRG 216-228…</td><td>&quot;$13,058.00 &quot;</td><td>&quot;BCBS HMO&quot;</td><td>&quot;payer&quot;</td><td>1</td><td>null</td><td>null</td><td>&quot;216-228, 231, …</td><td>null</td><td>null</td><td>null</td><td>null</td></tr><tr><td>&quot;Medicine&quot;</td><td>&quot;CPT/HCPC 93325…</td><td>&quot;$423.03 &quot;</td><td>&quot;Cigna&quot;</td><td>&quot;payer&quot;</td><td>1</td><td>&quot;93325&quot;</td><td>null</td><td>null</td><td>null</td><td>null</td><td>null</td><td>null</td></tr></tbody></table></div>"
      ],
      "text/plain": [
       "shape: (10, 13)\n",
       "┌───────────────┬───────────────┬───────────────┬───────────────┬───┬──────┬──────┬─────────┬──────┐\n",
       "│ description   ┆ code          ┆ standard_char ┆ payer_name    ┆ … ┆ icd  ┆ apc  ┆ apr_drg ┆ cmg  │\n",
       "│ ---           ┆ ---           ┆ ge_           ┆ ---           ┆   ┆ ---  ┆ ---  ┆ ---     ┆ ---  │\n",
       "│ str           ┆ str           ┆ ---           ┆ str           ┆   ┆ str  ┆ str  ┆ str     ┆ str  │\n",
       "│               ┆               ┆ str           ┆               ┆   ┆      ┆      ┆         ┆      │\n",
       "╞═══════════════╪═══════════════╪═══════════════╪═══════════════╪═══╪══════╪══════╪═════════╪══════╡\n",
       "│ Neurosurgery  ┆ MS-DRG 027    ┆ $49,896.67    ┆ United        ┆ … ┆ null ┆ null ┆ null    ┆ null │\n",
       "│ Medicine      ┆ CPT/HCPC      ┆ $1,031.16     ┆ Cigna         ┆ … ┆ null ┆ null ┆ null    ┆ null │\n",
       "│               ┆ 91037         ┆               ┆               ┆   ┆      ┆      ┆         ┆      │\n",
       "│ Medicine      ┆ CPT/HCPC      ┆ $754.16       ┆ Cigna         ┆ … ┆ null ┆ null ┆ null    ┆ null │\n",
       "│               ┆ 96102         ┆               ┆               ┆   ┆      ┆      ┆         ┆      │\n",
       "│ Female        ┆ CPT/HCPC      ┆ $15,854.00    ┆ Evry Health   ┆ … ┆ null ┆ null ┆ null    ┆ null │\n",
       "│ Genital       ┆ 58541-58544,  ┆               ┆               ┆   ┆      ┆      ┆         ┆      │\n",
       "│ System        ┆ 58548, 585…   ┆               ┆               ┆   ┆      ┆      ┆         ┆      │\n",
       "│ …             ┆ …             ┆ …             ┆ …             ┆ … ┆ …    ┆ …    ┆ …       ┆ …    │\n",
       "│ Cardiovascula ┆ MS-DRG 229    ┆ $91,388.33    ┆ Cigna         ┆ … ┆ null ┆ null ┆ null    ┆ null │\n",
       "│ r Surgery     ┆               ┆               ┆               ┆   ┆      ┆      ┆         ┆      │\n",
       "│ Other         ┆ null          ┆ 100% of MCR   ┆ HUMANA MCR    ┆ … ┆ null ┆ null ┆ null    ┆ null │\n",
       "│ Outpatient    ┆               ┆               ┆ PPO HMO       ┆   ┆      ┆      ┆         ┆      │\n",
       "│ Cardiovascula ┆ MS-DRG        ┆ $13,058.00    ┆ BCBS HMO      ┆ … ┆ null ┆ null ┆ null    ┆ null │\n",
       "│ r Surgery     ┆ 216-228, 231, ┆               ┆               ┆   ┆      ┆      ┆         ┆      │\n",
       "│               ┆ 232, 242-24…  ┆               ┆               ┆   ┆      ┆      ┆         ┆      │\n",
       "│ Medicine      ┆ CPT/HCPC      ┆ $423.03       ┆ Cigna         ┆ … ┆ null ┆ null ┆ null    ┆ null │\n",
       "│               ┆ 93325         ┆               ┆               ┆   ┆      ┆      ┆         ┆      │\n",
       "└───────────────┴───────────────┴───────────────┴───────────────┴───┴──────┴──────┴─────────┴──────┘"
      ]
     },
     "execution_count": 122,
     "metadata": {},
     "output_type": "execute_result"
    }
   ],
   "source": [
    "lower_chunk.sample(10)"
   ]
  },
  {
   "cell_type": "code",
   "execution_count": 123,
   "id": "95d1e057-6c68-48af-9061-16c1104bf1dc",
   "metadata": {
    "tags": []
   },
   "outputs": [],
   "source": [
    "start = '(^|\\\\b)'\n",
    "end = '($|\\\\b)'\n",
    "\n",
    "def cpt_capture_template(pat):\n",
    "    range_grp = f'{start}{pat}-\\s?{pat}{end}'\n",
    "    modifier_grp = f'{start}{pat}-\\w{{2}}{end}'\n",
    "    singlet_grp = f'{start}{pat}{end}'\n",
    "    return f'(?:({range_grp})|({modifier_grp})|({singlet_grp}))'\n",
    "\n",
    "def other_capture_template(pat):\n",
    "    range_grp = f'{start}{pat}-\\s?{pat}{end}'\n",
    "    singlet_grp = f'{start}{pat}{end}'\n",
    "    return f'(?:({range_grp})|({singlet_grp}))'"
   ]
  },
  {
   "cell_type": "code",
   "execution_count": 124,
   "id": "067676d6-1d1c-4131-8a1f-9c566701c869",
   "metadata": {
    "tags": []
   },
   "outputs": [],
   "source": [
    "cpt_pats = ['[A-Z]\\d{4}',  #A1234\n",
    "            '\\d{4}[A-Z]',  #1234A\n",
    "            '\\d{5}',       #12345\n",
    "]\n",
    "\n",
    "icd_pats = [\n",
    "    '\\w{7}',            # any 7 char sequence TODO\n",
    "    '\\d{3}\\.?\\d{0,2}',  # ICD9: 123, 123.1, 123.12\n",
    "    'E\\d{3}\\.?\\d?',     # ICD9: E123, E123.1\n",
    "    'V\\d{2}\\.?\\d{0,2}', # ICD9: V12, V12.123\n",
    "]\n",
    "\n",
    "cpt_pat = '|'.join(cpt_pats)\n",
    "icd_pat = '|'.join(icd_pats)\n",
    "ms_drg_pat = '\\d{3}x?'\n",
    "apr_drg_pat = '\\d{3}(\\d|x)?'\n",
    "apc_pat = '\\d{2,4}'\n",
    "rev_pat = '\\d{3,4}'\n",
    "\n",
    "cpt_template = '|'.join(cpt_capture_template(pat) for pat in cpt_pats)\n",
    "icd_template = '|'.join(other_capture_template(pat) for pat in icd_pats)\n",
    "ms_drg_template = other_capture_template(ms_drg_pat)\n",
    "apr_drg_template = other_capture_template(apr_drg_pat)\n",
    "apc_template = other_capture_template(apc_pat)\n",
    "rev_template = other_capture_template(rev_pat)"
   ]
  },
  {
   "cell_type": "code",
   "execution_count": 125,
   "id": "bb9ffd26-8ad4-4575-be1c-9f9aba4795e4",
   "metadata": {
    "tags": []
   },
   "outputs": [],
   "source": [
    "def split_through(colname, pat):\n",
    "    return (\n",
    "        pl.col(colname).str.extract(f'-({pat})$').alias(f'thru_{colname}'),\n",
    "        pl.col(colname).str.extract(f'^({pat})-?').alias(colname)\n",
    "    )"
   ]
  },
  {
   "cell_type": "code",
   "execution_count": 126,
   "id": "b64537c9-2da5-497e-8102-7a191da9177a",
   "metadata": {
    "tags": []
   },
   "outputs": [
    {
     "data": {
      "text/html": [
       "<div><style>\n",
       ".dataframe > thead > tr > th,\n",
       ".dataframe > tbody > tr > td {\n",
       "  text-align: right;\n",
       "}\n",
       "</style>\n",
       "<small>shape: (20, 15)</small><table border=\"1\" class=\"dataframe\"><thead><tr><th>description</th><th>code</th><th>standard_charge_</th><th>payer_name</th><th>payer_category</th><th>id_ct</th><th>hcpcs_cpt</th><th>rev_code</th><th>ms_drg</th><th>icd</th><th>apc</th><th>apr_drg</th><th>cmg</th><th>modifiers</th><th>thru</th></tr><tr><td>str</td><td>str</td><td>str</td><td>str</td><td>str</td><td>i64</td><td>str</td><td>str</td><td>str</td><td>str</td><td>str</td><td>str</td><td>str</td><td>str</td><td>str</td></tr></thead><tbody><tr><td>&quot;Laparoscopic&quot;</td><td>&quot;CPT/HCPC 43289…</td><td>&quot;$10,131.33&quot;</td><td>&quot;Max&quot;</td><td>&quot;max&quot;</td><td>1</td><td>&quot;58541&quot;</td><td>null</td><td>null</td><td>null</td><td>null</td><td>null</td><td>null</td><td>null</td><td>&quot;58546&quot;</td></tr><tr><td>&quot;Chemotherapy D…</td><td>&quot;CPT/HCPC A9513…</td><td>&quot;41.35% of BC&quot;</td><td>&quot;Max&quot;</td><td>&quot;max&quot;</td><td>1</td><td>&quot;J9035&quot;</td><td>null</td><td>null</td><td>null</td><td>null</td><td>null</td><td>null</td><td>null</td><td>null</td></tr><tr><td>&quot;Behavioral Hea…</td><td>null</td><td>&quot;$386.00 &quot;</td><td>&quot;BCBS Blue Adva…</td><td>&quot;payer&quot;</td><td>null</td><td>null</td><td>null</td><td>null</td><td>null</td><td>null</td><td>null</td><td>null</td><td>null</td><td>null</td></tr><tr><td>&quot;PT/OT/ST&quot;</td><td>&quot;CPT/HCPC 92507…</td><td>&quot;634.58% of FS&quot;</td><td>&quot;Aetna&quot;</td><td>&quot;payer&quot;</td><td>1</td><td>&quot;92507&quot;</td><td>null</td><td>null</td><td>null</td><td>null</td><td>null</td><td>null</td><td>null</td><td>&quot;92508&quot;</td></tr><tr><td>&quot;Trauma&quot;</td><td>null</td><td>&quot;28% of BC&quot;</td><td>&quot;Friday Health&quot;</td><td>&quot;payer&quot;</td><td>null</td><td>null</td><td>null</td><td>null</td><td>null</td><td>null</td><td>null</td><td>null</td><td>null</td><td>null</td></tr><tr><td>&quot;Neurosurgery&quot;</td><td>&quot;CPT/HCPC 22532…</td><td>&quot;$35,000.00 &quot;</td><td>&quot;Evry Health&quot;</td><td>&quot;payer&quot;</td><td>1</td><td>&quot;22610&quot;</td><td>null</td><td>null</td><td>null</td><td>null</td><td>null</td><td>null</td><td>null</td><td>null</td></tr><tr><td>&quot;Other Surgical…</td><td>&quot;CPT/HCPC 15002…</td><td>&quot;$3,475.00 &quot;</td><td>&quot;Molina MCR &quot;</td><td>&quot;payer&quot;</td><td>1</td><td>&quot;69631&quot;</td><td>null</td><td>null</td><td>null</td><td>null</td><td>null</td><td>null</td><td>null</td><td>&quot;69676&quot;</td></tr><tr><td>&quot;Orthopedics&quot;</td><td>&quot; CPT/HCPC  , 1…</td><td>&quot;$8,313.67&quot;</td><td>&quot;Min&quot;</td><td>&quot;min&quot;</td><td>1</td><td>&quot;23472&quot;</td><td>null</td><td>null</td><td>null</td><td>null</td><td>null</td><td>null</td><td>null</td><td>&quot;23474&quot;</td></tr><tr><td>&quot;Male Genital S…</td><td>&quot;CPT/HCPC 54400…</td><td>&quot;$21,079.33&quot;</td><td>&quot;Min&quot;</td><td>&quot;min&quot;</td><td>1</td><td>&quot;54405&quot;</td><td>null</td><td>null</td><td>null</td><td>null</td><td>null</td><td>null</td><td>null</td><td>null</td></tr><tr><td>&quot;Angioplasty&quot;</td><td>&quot;CPT/HCPC 92928…</td><td>&quot;$25,132.00 &quot;</td><td>&quot;United&quot;</td><td>&quot;payer&quot;</td><td>1</td><td>&quot;92937&quot;</td><td>null</td><td>null</td><td>null</td><td>null</td><td>null</td><td>null</td><td>null</td><td>&quot;92938&quot;</td></tr><tr><td>&quot;Medicine&quot;</td><td>&quot;CPT/HCPC 95812…</td><td>&quot;$603.08 &quot;</td><td>&quot;Cigna&quot;</td><td>&quot;payer&quot;</td><td>1</td><td>&quot;95812&quot;</td><td>null</td><td>null</td><td>null</td><td>null</td><td>null</td><td>null</td><td>null</td><td>null</td></tr><tr><td>&quot;Orthopedic&quot;</td><td>&quot;CPT/HCPC 23470…</td><td>&quot;125% of MCR&quot;</td><td>&quot;Max&quot;</td><td>&quot;max&quot;</td><td>1</td><td>&quot;27138&quot;</td><td>null</td><td>null</td><td>null</td><td>null</td><td>null</td><td>null</td><td>null</td><td>null</td></tr><tr><td>&quot;General Surger…</td><td>&quot; ICD 9/10 0D16…</td><td>&quot;$17,682.00 &quot;</td><td>&quot;United&quot;</td><td>&quot;payer&quot;</td><td>1</td><td>null</td><td>null</td><td>null</td><td>&quot;0D164KB&quot;</td><td>null</td><td>null</td><td>null</td><td>null</td><td>null</td></tr><tr><td>&quot;Grouper 3&quot;</td><td>null</td><td>&quot;$2,741.00 &quot;</td><td>&quot;Aetna&quot;</td><td>&quot;payer&quot;</td><td>null</td><td>null</td><td>null</td><td>null</td><td>null</td><td>null</td><td>null</td><td>null</td><td>null</td><td>null</td></tr><tr><td>&quot;Medicine&quot;</td><td>&quot; CPT/HCPC 9076…</td><td>&quot;$47.85&quot;</td><td>&quot;Min&quot;</td><td>&quot;min&quot;</td><td>1</td><td>&quot;96425&quot;</td><td>null</td><td>null</td><td>null</td><td>null</td><td>null</td><td>null</td><td>null</td><td>null</td></tr><tr><td>&quot;Nervous System…</td><td>&quot;CPT/HCPC 29848…</td><td>&quot;$5,034.85&quot;</td><td>&quot;Min&quot;</td><td>&quot;min&quot;</td><td>1</td><td>&quot;64575&quot;</td><td>null</td><td>null</td><td>null</td><td>null</td><td>null</td><td>null</td><td>null</td><td>null</td></tr><tr><td>&quot;General Surger…</td><td>&quot; ICD 9/10 0D16…</td><td>&quot;$33,273.00&quot;</td><td>&quot;Max&quot;</td><td>&quot;max&quot;</td><td>1</td><td>null</td><td>null</td><td>null</td><td>&quot;0D164Z9&quot;</td><td>null</td><td>null</td><td>null</td><td>null</td><td>null</td></tr><tr><td>&quot;Grouper 3&quot;</td><td>null</td><td>&quot;$2,704.00 &quot;</td><td>&quot;Healthcare Hig…</td><td>&quot;payer&quot;</td><td>null</td><td>null</td><td>null</td><td>null</td><td>null</td><td>null</td><td>null</td><td>null</td><td>null</td><td>null</td></tr><tr><td>&quot;Cardiac Cath&quot;</td><td>&quot;CPT/HCPC 0293T…</td><td>&quot;$12,188.46 &quot;</td><td>&quot;Aetna&quot;</td><td>&quot;payer&quot;</td><td>1</td><td>&quot;G0448&quot;</td><td>null</td><td>null</td><td>null</td><td>null</td><td>null</td><td>null</td><td>null</td><td>null</td></tr><tr><td>&quot;General Surger…</td><td>&quot; ICD 9/10 0D16…</td><td>&quot;$7,354.00&quot;</td><td>&quot;Min&quot;</td><td>&quot;min&quot;</td><td>1</td><td>null</td><td>null</td><td>null</td><td>&quot;0D164Z9&quot;</td><td>null</td><td>null</td><td>null</td><td>null</td><td>null</td></tr></tbody></table></div>"
      ],
      "text/plain": [
       "shape: (20, 15)\n",
       "┌──────────────┬──────────────┬────────────┬──────────────┬───┬─────────┬──────┬───────────┬───────┐\n",
       "│ description  ┆ code         ┆ standard_c ┆ payer_name   ┆ … ┆ apr_drg ┆ cmg  ┆ modifiers ┆ thru  │\n",
       "│ ---          ┆ ---          ┆ harge_     ┆ ---          ┆   ┆ ---     ┆ ---  ┆ ---       ┆ ---   │\n",
       "│ str          ┆ str          ┆ ---        ┆ str          ┆   ┆ str     ┆ str  ┆ str       ┆ str   │\n",
       "│              ┆              ┆ str        ┆              ┆   ┆         ┆      ┆           ┆       │\n",
       "╞══════════════╪══════════════╪════════════╪══════════════╪═══╪═════════╪══════╪═══════════╪═══════╡\n",
       "│ Laparoscopic ┆ CPT/HCPC     ┆ $10,131.33 ┆ Max          ┆ … ┆ null    ┆ null ┆ null      ┆ 58546 │\n",
       "│              ┆ 43289,       ┆            ┆              ┆   ┆         ┆      ┆           ┆       │\n",
       "│              ┆ 43644-43645, ┆            ┆              ┆   ┆         ┆      ┆           ┆       │\n",
       "│              ┆ 442…         ┆            ┆              ┆   ┆         ┆      ┆           ┆       │\n",
       "│ Chemotherapy ┆ CPT/HCPC     ┆ 41.35% of  ┆ Max          ┆ … ┆ null    ┆ null ┆ null      ┆ null  │\n",
       "│ Drugs        ┆ A9513,       ┆ BC         ┆              ┆   ┆         ┆      ┆           ┆       │\n",
       "│              ┆ C9038,       ┆            ┆              ┆   ┆         ┆      ┆           ┆       │\n",
       "│              ┆ C9408, J0…   ┆            ┆              ┆   ┆         ┆      ┆           ┆       │\n",
       "│ Behavioral   ┆ null         ┆ $386.00    ┆ BCBS Blue    ┆ … ┆ null    ┆ null ┆ null      ┆ null  │\n",
       "│ Health       ┆              ┆            ┆ Advantage    ┆   ┆         ┆      ┆           ┆       │\n",
       "│ Intensive    ┆              ┆            ┆              ┆   ┆         ┆      ┆           ┆       │\n",
       "│ Outp…        ┆              ┆            ┆              ┆   ┆         ┆      ┆           ┆       │\n",
       "│ PT/OT/ST     ┆ CPT/HCPC     ┆ 634.58% of ┆ Aetna        ┆ … ┆ null    ┆ null ┆ null      ┆ 92508 │\n",
       "│              ┆ 92507-92508, ┆ FS         ┆              ┆   ┆         ┆      ┆           ┆       │\n",
       "│              ┆ 92521, 925…  ┆            ┆              ┆   ┆         ┆      ┆           ┆       │\n",
       "│ …            ┆ …            ┆ …          ┆ …            ┆ … ┆ …       ┆ …    ┆ …         ┆ …     │\n",
       "│ General      ┆ ICD 9/10     ┆ $33,273.00 ┆ Max          ┆ … ┆ null    ┆ null ┆ null      ┆ null  │\n",
       "│ Surgery      ┆ 0D16079,     ┆            ┆              ┆   ┆         ┆      ┆           ┆       │\n",
       "│              ┆ 0D1607A,     ┆            ┆              ┆   ┆         ┆      ┆           ┆       │\n",
       "│              ┆ 0D16…        ┆            ┆              ┆   ┆         ┆      ┆           ┆       │\n",
       "│ Grouper 3    ┆ null         ┆ $2,704.00  ┆ Healthcare   ┆ … ┆ null    ┆ null ┆ null      ┆ null  │\n",
       "│              ┆              ┆            ┆ Highways     ┆   ┆         ┆      ┆           ┆       │\n",
       "│ Cardiac Cath ┆ CPT/HCPC     ┆ $12,188.46 ┆ Aetna        ┆ … ┆ null    ┆ null ┆ null      ┆ null  │\n",
       "│              ┆ 0293T,       ┆            ┆              ┆   ┆         ┆      ┆           ┆       │\n",
       "│              ┆ 0294T,       ┆            ┆              ┆   ┆         ┆      ┆           ┆       │\n",
       "│              ┆ 0408T, 04…   ┆            ┆              ┆   ┆         ┆      ┆           ┆       │\n",
       "│ General      ┆ ICD 9/10     ┆ $7,354.00  ┆ Min          ┆ … ┆ null    ┆ null ┆ null      ┆ null  │\n",
       "│ Surgery      ┆ 0D16079,     ┆            ┆              ┆   ┆         ┆      ┆           ┆       │\n",
       "│              ┆ 0D1607A,     ┆            ┆              ┆   ┆         ┆      ┆           ┆       │\n",
       "│              ┆ 0D16…        ┆            ┆              ┆   ┆         ┆      ┆           ┆       │\n",
       "└──────────────┴──────────────┴────────────┴──────────────┴───┴─────────┴──────┴───────────┴───────┘"
      ]
     },
     "execution_count": 126,
     "metadata": {},
     "output_type": "execute_result"
    }
   ],
   "source": [
    "(\n",
    "    lower_chunk.with_columns([\n",
    "    \n",
    "        # we need to string capture the CPT codes when they're mislabled as ICDs\n",
    "        pl.concat_str([\n",
    "            pl.col('hcpcs_cpt').fill_null(''), pl.col('icd').fill_null('')\n",
    "        ]).str.extract_all(cpt_template).alias('hcpcs_cpt'),\n",
    "        \n",
    "        # remove the extracted CPT codes before we look for ICD codes\n",
    "        pl.col('icd').str.replace_all(cpt_pat, '').str.extract_all(icd_template).keep_name(),\n",
    "\n",
    "        # these appear to be OK\n",
    "        pl.col('ms_drg').str.extract_all(ms_drg_template).keep_name(),\n",
    "        pl.col('apr_drg').str.extract_all(apr_drg_template).keep_name(),\n",
    "        pl.col('apc').str.extract_all(apc_template).keep_name(),\n",
    "        pl.col('rev_code').str.extract_all(rev_template).keep_name(),\n",
    "    ])\n",
    "    \n",
    "    # all these need to be exploded separately since they have different array lengths\n",
    "    .explode('hcpcs_cpt').explode('ms_drg').explode('icd').explode('apc').explode('apr_drg').explode('rev_code')\n",
    "    \n",
    "    .with_columns([\n",
    "        *split_through('hcpcs_cpt', cpt_pat),\n",
    "        *split_through('icd', icd_pat),\n",
    "        *split_through('ms_drg', ms_drg_pat),\n",
    "        *split_through('apr_drg', apr_drg_pat),\n",
    "        *split_through('apc', apc_pat),\n",
    "        *split_through('rev_code', rev_pat),\n",
    "        pl.col('hcpcs_cpt').str.extract(f'-(\\w{{2}})$').alias('modifiers'),\n",
    "    ])    \n",
    "    .with_columns(\n",
    "        pl.coalesce(pl.col(['thru_hcpcs_cpt', 'thru_rev_code', 'thru_icd', 'thru_ms_drg', 'thru_apr_drg', 'thru_apc'])).alias('thru')\n",
    "    )\n",
    "    .select([pl.exclude('^thru_.*$')])\n",
    "\n",
    ").sample(20)"
   ]
  },
  {
   "cell_type": "markdown",
   "id": "967526c0-ca9d-45dc-bf45-70d844c466cb",
   "metadata": {},
   "source": [
    "### Putting it all together"
   ]
  },
  {
   "cell_type": "code",
   "execution_count": 127,
   "id": "2d75c5b6-f4f9-4550-b168-8615e96f7206",
   "metadata": {
    "tags": []
   },
   "outputs": [],
   "source": [
    "lower_chunk = (\n",
    "  lower_chunk.with_columns([\n",
    "    \n",
    "        # we need to string capture the CPT codes when they're mislabled as ICDs\n",
    "        pl.concat_str([\n",
    "            pl.col('hcpcs_cpt').fill_null(''), pl.col('icd').fill_null('')\n",
    "        ]).str.extract_all(cpt_template).alias('hcpcs_cpt'),\n",
    "        \n",
    "        # remove the extracted CPT codes before we look for ICD codes\n",
    "        pl.col('icd').str.replace_all(cpt_pat, '').str.extract_all(icd_template).keep_name(),\n",
    "\n",
    "        # these appear to be OK\n",
    "        pl.col('ms_drg').str.extract_all(ms_drg_template).keep_name(),\n",
    "        pl.col('apr_drg').str.extract_all(apr_drg_template).keep_name(),\n",
    "        pl.col('apc').str.extract_all(apc_template).keep_name(),\n",
    "        pl.col('rev_code').str.extract_all(rev_template).keep_name(),\n",
    "    ])\n",
    "    \n",
    "    # all these need to be exploded separately since they have different array lengths\n",
    "    .explode('hcpcs_cpt').explode('ms_drg').explode('icd').explode('apc').explode('apr_drg').explode('rev_code')\n",
    "    \n",
    "    .with_columns([\n",
    "        *split_through('hcpcs_cpt', cpt_pat),\n",
    "        *split_through('icd', icd_pat),\n",
    "        *split_through('ms_drg', ms_drg_pat),\n",
    "        *split_through('apr_drg', apr_drg_pat),\n",
    "        *split_through('apc', apc_pat),\n",
    "        *split_through('rev_code', rev_pat),\n",
    "        pl.col('hcpcs_cpt').str.extract(f'-(\\w{{2}})$').alias('modifiers'),\n",
    "    ])    \n",
    "    .with_columns(\n",
    "        pl.coalesce(pl.col(['thru_hcpcs_cpt', 'thru_rev_code', 'thru_icd', 'thru_ms_drg', 'thru_apr_drg', 'thru_apc'])).alias('thru')\n",
    "    ).drop(['thru_hcpcs_cpt', 'thru_rev_code', 'thru_icd', 'thru_ms_drg', 'thru_apr_drg', 'thru_apc'])\n",
    "    .with_columns(\n",
    "        *charge_cols()\n",
    "    )\n",
    ")"
   ]
  },
  {
   "cell_type": "code",
   "execution_count": 128,
   "id": "66f27035-04e7-414e-a5a6-0a7d991bd0c3",
   "metadata": {
    "tags": []
   },
   "outputs": [],
   "source": [
    "for c in lower_chunk.columns + upper_chunk.columns:\n",
    "    if c not in upper_chunk.columns:\n",
    "        dtype = lower_chunk[c].dtype\n",
    "        upper_chunk = upper_chunk.with_columns(pl.lit(None).cast(dtype).alias(c))\n",
    "        \n",
    "    if c not in lower_chunk.columns:\n",
    "        dtype = upper_chunk[c].dtype\n",
    "        lower_chunk = lower_chunk.with_columns(pl.lit(None).cast(dtype).alias(c))\n",
    "    \n",
    "upper_chunk = upper_chunk.select(lower_chunk.columns)\n",
    "df = pl.concat([upper_chunk, lower_chunk])"
   ]
  },
  {
   "cell_type": "code",
   "execution_count": 129,
   "id": "d15353f7-8480-4fb9-8982-49944a81f4e7",
   "metadata": {
    "tags": []
   },
   "outputs": [],
   "source": [
    "df = df.select([\n",
    "    'description',\n",
    "    'local_code',\n",
    "    'code',\n",
    "    'hcpcs_cpt',\n",
    "    'modifiers',\n",
    "    'rev_code',\n",
    "    'ms_drg',\n",
    "    'apr_drg',\n",
    "    'apc',\n",
    "    'icd',\n",
    "    'thru',\n",
    "    'payer_name',\n",
    "    'payer_category',\n",
    "    'standard_charge_',\n",
    "    'standard_charge',\n",
    "    'standard_charge_percent',\n",
    "    'contracting_method',\n",
    "    'additional_generic_notes',\n",
    "    ])"
   ]
  },
  {
   "cell_type": "code",
   "execution_count": 142,
   "id": "9112bf29-e328-4ee2-b083-3daa18e2b57e",
   "metadata": {
    "tags": []
   },
   "outputs": [],
   "source": [
    "def split_modifier_string(s):\n",
    "    chunks = [s[i:i+2] for i in range(0, len(s), 2)]\n",
    "    return \"|\".join(chunks)"
   ]
  },
  {
   "cell_type": "code",
   "execution_count": 143,
   "id": "4f1e7c44-4c87-422a-90f3-d5dcfa760214",
   "metadata": {
    "tags": []
   },
   "outputs": [],
   "source": [
    "df = df.with_columns(\n",
    "    pl.col('modifiers').apply(split_modifier_string).alias('modifiers')\n",
    ")"
   ]
  },
  {
   "cell_type": "code",
   "execution_count": 145,
   "id": "992b2631-07cd-4103-a438-2b4f766d81e0",
   "metadata": {
    "tags": []
   },
   "outputs": [],
   "source": [
    "df.write_csv('hca_out.csv')"
   ]
  }
 ],
 "metadata": {
  "kernelspec": {
   "display_name": "Python 3 (ipykernel)",
   "language": "python",
   "name": "python3"
  },
  "language_info": {
   "codemirror_mode": {
    "name": "ipython",
    "version": 3
   },
   "file_extension": ".py",
   "mimetype": "text/x-python",
   "name": "python",
   "nbconvert_exporter": "python",
   "pygments_lexer": "ipython3",
   "version": "3.9.16"
  }
 },
 "nbformat": 4,
 "nbformat_minor": 5
}
