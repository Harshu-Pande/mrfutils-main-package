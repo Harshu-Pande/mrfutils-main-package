{
 "cells": [
  {
   "cell_type": "markdown",
   "id": "a057990c-ddcf-4daa-8668-39ba947d9064",
   "metadata": {},
   "source": [
    "### Sutter Health\n",
    "\n",
    "We have quite a few of these in our database and I thought it might be instructive to pull some of them.\n",
    "\n",
    "I'm gonna use the (unauthenticated) DoltHub API to get the files. I already manually checked that the files matched the right hospitals."
   ]
  },
  {
   "cell_type": "code",
   "execution_count": 3,
   "id": "64cf755d-8952-499d-9537-531f334ae075",
   "metadata": {},
   "outputs": [],
   "source": [
    "import requests\n",
    "\n",
    "owner = 'dolthub'\n",
    "repo = 'standard-charge-files'\n",
    "branch = 'main'\n",
    "standard_charge_file_indirect_url = 'https://www.sutterhealth.org/for-patients/healthcare-cost-transparency'\n",
    "\n",
    "query = f\"\"\"\n",
    "SELECT ccn, doing_business_as_name, standard_charge_file_url \n",
    "FROM hospitals \n",
    "where {standard_charge_file_indirect_url=}\n",
    "\"\"\"\n",
    "\n",
    "res = requests.get(\n",
    "    \"https://www.dolthub.com/api/v1alpha1/{}/{}\".format(owner, repo, branch),\n",
    "    params={\"q\": query},\n",
    ")"
   ]
  },
  {
   "cell_type": "markdown",
   "id": "5bf30ab3-3188-4a44-a01d-bcff5a26a154",
   "metadata": {},
   "source": [
    "Let's put these in a dataframe:"
   ]
  },
  {
   "cell_type": "code",
   "execution_count": 4,
   "id": "7f481704-d85d-4906-9c1e-474d7c6bb9a0",
   "metadata": {},
   "outputs": [],
   "source": [
    "import polars as pl\n",
    "files = pl.DataFrame(res.json()['rows'])"
   ]
  },
  {
   "cell_type": "markdown",
   "id": "1c47bbcb-0703-40b6-9df7-b5b51cec0147",
   "metadata": {},
   "source": [
    "Sometimes the last_updated is in the first row of the file, in the second column."
   ]
  },
  {
   "cell_type": "code",
   "execution_count": 8,
   "id": "178e37df-3a69-4a8a-863e-3943dcd65889",
   "metadata": {},
   "outputs": [],
   "source": [
    "def get_last_updated(df):\n",
    "    return df.columns[1]"
   ]
  },
  {
   "cell_type": "markdown",
   "id": "f42259c4-3ddd-47e1-a3b1-f71e640d20b8",
   "metadata": {},
   "source": [
    "Sometimes there's header metadata. This looks for any time a row contains the header\n",
    "columns, then renames the columns to match that row. Then we slice off the rows that\n",
    "contain the metadata. We limit ourselves to searching the first 10 rows"
   ]
  },
  {
   "cell_type": "code",
   "execution_count": 20,
   "id": "471108ca-b052-4717-bef2-1a617768e6d2",
   "metadata": {},
   "outputs": [],
   "source": [
    "def find_header_row(df):\n",
    "\n",
    "    header_row_cols = ['ID', 'SERVICE_SETTING', 'DESCRIPTION', 'CPT', 'NDC', 'REVENUE_CODE']    \n",
    "\n",
    "    while not all(c in df.columns for c in header_row_cols):\n",
    "        df = df.rename(df.to_dicts()[0])\n",
    "        df = df.slice(1,)\n",
    "        \n",
    "    return df"
   ]
  },
  {
   "cell_type": "markdown",
   "id": "583922aa-5d17-4809-913c-75ba4f22288b",
   "metadata": {},
   "source": [
    "Rename the cols to fit the unified schema."
   ]
  },
  {
   "cell_type": "code",
   "execution_count": 21,
   "id": "a5d41dfd-7843-4000-80e0-c823efa11edf",
   "metadata": {},
   "outputs": [],
   "source": [
    "rename_dict = ({\n",
    "    'ID':'local_code',\n",
    "    'SERVICE_SETTING':'setting',\n",
    "    'DESCRIPTION':'description',\n",
    "    'CPT':'hcpcs_cpt',\n",
    "    'NDC':'ndc',\n",
    "    'REVENUE_CODE':'rev_code',\n",
    "})"
   ]
  },
  {
   "cell_type": "markdown",
   "id": "1537979a-5a07-41c5-b589-657426635493",
   "metadata": {},
   "source": [
    "The MSDRG and APR-DRG codes are actually hidden in the \"internal_code\" column. So we extract them out."
   ]
  },
  {
   "cell_type": "code",
   "execution_count": 22,
   "id": "0ff5f558-79b2-41df-89a2-642c5cef1175",
   "metadata": {},
   "outputs": [],
   "source": [
    "def extract_codes():\n",
    "    col = pl.col('local_code')\n",
    "    \n",
    "    ms_drg = col.str.extract('MSDRG-(\\d{3})').alias('ms_drg')\n",
    "    apr_drg = col.str.extract('APRDRG-(\\d{3}-\\d{1})').alias('apr_drg')\n",
    "    \n",
    "    return ms_drg, apr_drg"
   ]
  },
  {
   "cell_type": "code",
   "execution_count": 23,
   "id": "923d2541-b46c-4aa6-804b-47d0df62fc3f",
   "metadata": {},
   "outputs": [],
   "source": [
    "def clean_stdchg():\n",
    "    \n",
    "    return (\n",
    "        pl.col('standard_charge')\n",
    "        .str.replace('\\$', '')\n",
    "        .str.replace_all(',', '')\n",
    "        .str.strip()\n",
    "        .keep_name()\n",
    "    )"
   ]
  },
  {
   "cell_type": "code",
   "execution_count": 24,
   "id": "505f8d2d-f1f1-410e-a0d6-c4ef714efbd8",
   "metadata": {},
   "outputs": [],
   "source": [
    "def payer_cat():\n",
    "    \n",
    "    is_in_col = pl.col('payer').str.to_lowercase().str.contains\n",
    "    \n",
    "    expr = (\n",
    "        pl.when(is_in_col('gross ')).then('gross')\n",
    "        .when(is_in_col('cash ')).then('cash')\n",
    "        .when(is_in_col('minimum ')).then('min')\n",
    "        .when(is_in_col('maximum ')).then('max')\n",
    "        .otherwise('payer').alias('payer_category')\n",
    "    )\n",
    "    \n",
    "    return expr"
   ]
  },
  {
   "cell_type": "code",
   "execution_count": 25,
   "id": "ba3d6b70-08f1-4dad-9b28-bfdffb1339c9",
   "metadata": {},
   "outputs": [],
   "source": [
    "def fill_null_pks(df):\n",
    "    \n",
    "    primary_keys = ['hospital_id','local_code','code','ms_drg',\n",
    "                    'apr_drg','hcpcs_cpt','modifiers','ndc',\n",
    "                    'rev_code', 'billing_class', 'setting','payer','plan'\n",
    "                   ]\n",
    "    \n",
    "    to_fill = [c for c in df.columns if c in primary_keys]\n",
    "    df = df.with_columns(\n",
    "        pl.col(to_fill).fill_null('').keep_name()\n",
    "    )\n",
    "    return df"
   ]
  },
  {
   "cell_type": "code",
   "execution_count": 52,
   "id": "4d0e326f-dd6c-4c8f-9cc8-5337cedbf579",
   "metadata": {},
   "outputs": [],
   "source": [
    "def clean_hcpcs():\n",
    "    \n",
    "    # There are generic HCPCS codes like 30XX0\n",
    "    # that appear to stand for code ranges, but it's hard to tell\n",
    "    # Around 600 of them in the entire dataset. They don't \n",
    "    # fit the schema, so we're gonna null them. The code\n",
    "    # is repeated in the local_code column regardless, as well\n",
    "    # as the description\n",
    "    \n",
    "    # Also, some of the HCPCS codes are lowercased for some reason\n",
    "    \n",
    "    col = pl.col('hcpcs_cpt')\n",
    "\n",
    "    middle_x = col.str.to_uppercase().str.contains('X') & ~col.str.contains('^X|X$')\n",
    "    double_x = col.str.to_uppercase().str.contains('XX')\n",
    "    \n",
    "    return (\n",
    "        pl.when(middle_x | double_x)\n",
    "        .then(None)\n",
    "        .otherwise(col.str.to_uppercase())\n",
    "        .alias('hcpcs_cpt')\n",
    "    )"
   ]
  },
  {
   "cell_type": "code",
   "execution_count": 53,
   "id": "0081368d-3c64-4f50-a18a-94edfe83cae7",
   "metadata": {},
   "outputs": [],
   "source": [
    "def extract_ein(url):\n",
    "    \n",
    "    ein = url.split('/')[-1].split('-')[0]\n",
    "    ein_dashed = ein[:2] + '-' + ein[2:]\n",
    "    return ein_dashed"
   ]
  },
  {
   "cell_type": "code",
   "execution_count": 54,
   "id": "7edeab38-f01a-4997-966f-8a2c1205b26e",
   "metadata": {},
   "outputs": [],
   "source": [
    "def extract_filename(url):\n",
    "    \n",
    "    return url.split('/')[-1]"
   ]
  },
  {
   "cell_type": "code",
   "execution_count": 80,
   "id": "bc425778-6dc1-4492-98fa-071d5c4ca39b",
   "metadata": {},
   "outputs": [
    {
     "name": "stderr",
     "output_type": "stream",
     "text": [
      "100%|███████████████████████████████████████████████████████████████████████████████████████████████████████████████████████████████████████████████████████████████████████| 24/24 [00:47<00:00,  1.97s/it]\n"
     ]
    }
   ],
   "source": [
    "from tqdm import tqdm\n",
    "\n",
    "transparency_page = 'https://www.sutterhealth.org/for-patients/healthcare-cost-transparency'\n",
    "\n",
    "queries = []\n",
    "dfs = []\n",
    "\n",
    "for row in tqdm(files.rows()):\n",
    "    \n",
    "    id, dba, stdchg_file_url = row\n",
    "    ein = extract_ein(stdchg_file_url)\n",
    "    file_name = extract_filename(stdchg_file_url)\n",
    "    \n",
    "    # this one's busted\n",
    "    if id == '124001':\n",
    "        continue\n",
    "    \n",
    "    df = pl.read_csv(\n",
    "        stdchg_file_url, \n",
    "        encoding = 'latin-1', \n",
    "        infer_schema_length = 0, \n",
    "        null_values = ['NULL']\n",
    "    )\n",
    "    \n",
    "    last_updated = get_last_updated(df)\n",
    "    try:\n",
    "        mm, dd, yy = last_updated.split('/')\n",
    "        last_updated = f'{yy}-{mm}-{dd}'\n",
    "    except ValueError:\n",
    "        last_updated = '2021-01-01'\n",
    "    \n",
    "    query = f\"\"\"\n",
    "    update hospital set \n",
    "    {ein=}, \n",
    "    {file_name=}, \n",
    "    {last_updated=}, \n",
    "    {stdchg_file_url=}, \n",
    "    {transparency_page=} \n",
    "    where {id=}\n",
    "    \"\"\"\n",
    "    queries.append(query)\n",
    "\n",
    "    id_vars = list(rename_dict.values())\n",
    "\n",
    "    df = (\n",
    "        df\n",
    "        .pipe(find_header_row)\n",
    "        .rename(rename_dict)\n",
    "        .melt(\n",
    "            id_vars = id_vars,\n",
    "            variable_name = 'payer',\n",
    "            value_name = 'standard_charge',                       \n",
    "        )\n",
    "        .with_columns([\n",
    "            *extract_codes(),\n",
    "            clean_stdchg(),\n",
    "            payer_cat(),\n",
    "            pl.col('setting').str.to_lowercase(),\n",
    "            pl.col('hcpcs_cpt').str.to_uppercase(),\n",
    "            pl.col('rev_code').str.zfill(4),\n",
    "            pl.lit(id).alias('hospital_id')\n",
    "        ])\n",
    "        .with_columns(\n",
    "            clean_hcpcs()\n",
    "        )\n",
    "        .filter(pl.col('standard_charge').is_not_null())\n",
    "        .unique()\n",
    "    )\n",
    "    \n",
    "    dfs.append(df)\n",
    "    "
   ]
  },
  {
   "cell_type": "code",
   "execution_count": 81,
   "id": "5a9c1a33-261b-432b-b48c-0ebc76c12226",
   "metadata": {},
   "outputs": [],
   "source": [
    "df = pl.concat(dfs)"
   ]
  },
  {
   "cell_type": "code",
   "execution_count": 82,
   "id": "4020e5da-d93a-4f34-b2c3-c281de073117",
   "metadata": {},
   "outputs": [],
   "source": [
    "df = df.pipe(fill_null_pks)"
   ]
  },
  {
   "cell_type": "markdown",
   "id": "46cfa025-ee38-4143-ba19-358ae10ecce4",
   "metadata": {},
   "source": [
    "I had to correct some rows upon importing:"
   ]
  },
  {
   "cell_type": "code",
   "execution_count": 83,
   "id": "236199c2-ea35-4339-86a9-2c1340bab661",
   "metadata": {},
   "outputs": [],
   "source": [
    "def correction_singlet():\n",
    "    \"\"\"\n",
    "    cause: string 'J90739' is too large for column 'hcpcs_cpt'\n",
    "    A bad row was encountered: [050108,<nil>,HEPATITIS B RECOMBINANT 20MCG/0.5ML SOSY,0636,IP_RX-81000008-ERX309777,,,,,J90739,,<nil>,<nil>,<nil>,43528-003-05,<nil>,<nil>,<nil>,1,inpatient,gross,Gross Charge,,975.00,<nil>,<nil>,<nil>]: string 'J90739' is too large for column 'hcpcs_cpt'\n",
    "    \n",
    "    I learned that this was a miscoding of J90739 --> 90739 (google search.)\n",
    "    \"\"\"\n",
    "    expr = (pl.when(pl.col('hcpcs_cpt') == 'J90739').then('90739').otherwise(pl.col('hcpcs_cpt')).keep_name())\n",
    "    \n",
    "    return expr"
   ]
  },
  {
   "cell_type": "code",
   "execution_count": 84,
   "id": "2a75b945-ebf8-4fd1-8087-c6fd1ee14182",
   "metadata": {},
   "outputs": [],
   "source": [
    "def correction_modifiers():\n",
    "    \"\"\"\n",
    "    cause: string '8707059' is too large for column 'hcpcs_cpt'\n",
    "    A bad row was encountered: [050766,<nil>,AEROBIC CULTURE - SEPARATE,0300,IP-3008707059,,,,,8707059,,<nil>,<nil>,<nil>,,<nil>,<nil>,<nil>,1,inpatient,gross,Gross Charge,,85.00,<nil>,<nil>,<nil>]: string '8707059' is too large for column 'hcpcs_cpt'\n",
    "    \n",
    "    >> this should be 87070 59 (modifier)\n",
    "    \"\"\"\n",
    "    col = pl.col('hcpcs_cpt')\n",
    "    return (\n",
    "        pl.when(col.str.lengths() == 7).then(col.str.slice(5,)).otherwise('').alias('modifiers'),\n",
    "        pl.when(col.str.lengths() == 7).then(col.str.slice(0,5)).otherwise(col).alias('hcpcs_cpt')\n",
    "    )"
   ]
  },
  {
   "cell_type": "code",
   "execution_count": 86,
   "id": "e2c536c4-fde7-4b94-97b8-f96bf8d86f98",
   "metadata": {},
   "outputs": [],
   "source": [
    "df = df.with_columns([\n",
    "    correction_singlet(),\n",
    "    *correction_modifiers(),\n",
    "])"
   ]
  },
  {
   "cell_type": "code",
   "execution_count": 88,
   "id": "181d6da8-2be4-4135-a500-b77755ea81ee",
   "metadata": {},
   "outputs": [],
   "source": [
    "df.write_csv('sutter.csv')"
   ]
  },
  {
   "cell_type": "markdown",
   "id": "bb077ed5-b659-40b7-b44d-7fb4c9db1b1a",
   "metadata": {},
   "source": [
    "This is what I used to modify the hospitals table:"
   ]
  },
  {
   "cell_type": "code",
   "execution_count": 63,
   "id": "eb3d9ac5-f63f-4a6a-aea9-1bcbf3f56610",
   "metadata": {},
   "outputs": [],
   "source": [
    "with open('sutter.sql', 'w+') as f:  \n",
    "    for q in queries:\n",
    "        f.write(q + ';\\n')\n",
    "        \n",
    "# dolt sql < sutter.sql"
   ]
  },
  {
   "cell_type": "code",
   "execution_count": null,
   "id": "4a84b292-f90c-4d85-b035-06d9cb9f85d7",
   "metadata": {},
   "outputs": [],
   "source": []
  }
 ],
 "metadata": {
  "kernelspec": {
   "display_name": "Python 3",
   "language": "python",
   "name": "python3"
  },
  "language_info": {
   "codemirror_mode": {
    "name": "ipython",
    "version": 3
   },
   "file_extension": ".py",
   "mimetype": "text/x-python",
   "name": "python",
   "nbconvert_exporter": "python",
   "pygments_lexer": "ipython3",
   "version": "3.9.12"
  }
 },
 "nbformat": 4,
 "nbformat_minor": 5
}
