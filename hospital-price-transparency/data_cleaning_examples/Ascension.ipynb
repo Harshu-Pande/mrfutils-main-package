{
 "cells": [
  {
   "cell_type": "code",
   "execution_count": null,
   "id": "0074fdf2-4f18-4300-8fe5-cc959c10219c",
   "metadata": {},
   "outputs": [],
   "source": [
    "import polars as pl"
   ]
  },
  {
   "cell_type": "markdown",
   "id": "1bd142e6-e624-4f1e-87ee-c866a17b27c8",
   "metadata": {},
   "source": [
    "### Expressions for defining columns"
   ]
  },
  {
   "cell_type": "code",
   "execution_count": 18,
   "id": "2fd678b4-7bfd-47e2-83c2-01e2a7f9219b",
   "metadata": {
    "tags": []
   },
   "outputs": [],
   "source": [
    "def payer_category():\n",
    "    return (\n",
    "        pl.when(pl.col('payer_name') == 'Gross_Charge').then('gross')\n",
    "        .when(pl.col('payer_name') == 'Cash_Charge').then('cash')\n",
    "        .when(pl.col('payer_name') == 'Min_Negotiated_Rate').then('min')\n",
    "        .when(pl.col('payer_name') == 'Max_Negotiated_Rate').then('max')\n",
    "        .otherwise('payer').alias('payer_category')\n",
    "    )\n",
    "\n",
    "def hcpcs_cpt_and_drg():\n",
    "    \n",
    "    hcpcs_cpt = pl.when(pl.col('line_type') == '2-CPT').then(pl.col('code')).alias('hcpcs_cpt')\n",
    "    ms_drg = pl.when(pl.col('line_type') == '3-DRG').then(pl.col('code')).str.zfill(3).alias('ms_drg')\n",
    "    \n",
    "    return hcpcs_cpt, ms_drg\n",
    "\n",
    "def all_charges():\n",
    "    \n",
    "    standard_charge_percent = (\n",
    "        pl.col('standard_charge')\n",
    "        .str.extract('(\\d+)% of gross charges')\n",
    "        .alias('standard_charge_percent')\n",
    "    )\n",
    "    \n",
    "    contracting_method = (\n",
    "        pl.when(pl.col('standard_charge').str.contains('\\% of gross charges'))\n",
    "        .then('percent of total billed charge')\n",
    "        .alias('contracting_method')\n",
    "    )\n",
    "    \n",
    "    standard_charge = (\n",
    "        pl.when(pl.col('standard_charge').str.contains('\\% of gross charges'))\n",
    "        .then(None).otherwise(pl.col('standard_charge')).alias('standard_charge')\n",
    "    )\n",
    "\n",
    "    return standard_charge, standard_charge_percent, contracting_method"
   ]
  },
  {
   "cell_type": "markdown",
   "id": "d69d9485-c77d-4a75-8939-2a405a28ce0e",
   "metadata": {},
   "source": [
    "### The following code transforms the entire file in one pass"
   ]
  },
  {
   "cell_type": "code",
   "execution_count": 23,
   "id": "ec1d839b-cf78-4420-9174-42259735a08a",
   "metadata": {
    "tags": []
   },
   "outputs": [],
   "source": [
    "file = '474063406_Ascension Saint Thomas Highlands_standardcharges.xlsx'\n",
    "\n",
    "read_csv_options = {\n",
    "    'skip_rows': 1, \n",
    "    'infer_schema_length': 0, \n",
    "    'null_values': ['N/A']\n",
    "}"
   ]
  },
  {
   "cell_type": "code",
   "execution_count": 22,
   "id": "1834a321-65e7-44c8-aca4-d8b73579adbb",
   "metadata": {
    "tags": []
   },
   "outputs": [
    {
     "data": {
      "text/html": [
       "<div><style>\n",
       ".dataframe > thead > tr > th,\n",
       ".dataframe > tbody > tr > td {\n",
       "  text-align: right;\n",
       "}\n",
       "</style>\n",
       "<small>shape: (79_080, 11)</small><table border=\"1\" class=\"dataframe\"><thead><tr><th>line_type</th><th>code</th><th>description</th><th>rev_code</th><th>payer_name</th><th>standard_charge</th><th>payer_category</th><th>hcpcs_cpt</th><th>ms_drg</th><th>standard_charge_percent</th><th>contracting_method</th></tr><tr><td>str</td><td>str</td><td>str</td><td>str</td><td>str</td><td>str</td><td>str</td><td>str</td><td>str</td><td>str</td><td>str</td></tr></thead><tbody><tr><td>&quot;1-CDM&quot;</td><td>&quot;1600044&quot;</td><td>&quot;BUPIVACAINE/EP…</td><td>&quot;0251&quot;</td><td>&quot;Gross_Charge&quot;</td><td>&quot;33.65&quot;</td><td>&quot;gross&quot;</td><td>null</td><td>null</td><td>null</td><td>null</td></tr><tr><td>&quot;1-CDM&quot;</td><td>&quot;1600206&quot;</td><td>&quot;GENTAMICIN 40 …</td><td>&quot;0636&quot;</td><td>&quot;Gross_Charge&quot;</td><td>&quot;23&quot;</td><td>&quot;gross&quot;</td><td>null</td><td>null</td><td>null</td><td>null</td></tr><tr><td>&quot;1-CDM&quot;</td><td>&quot;1600273&quot;</td><td>&quot;LIDOCAINE/EPI …</td><td>&quot;0250&quot;</td><td>&quot;Gross_Charge&quot;</td><td>&quot;24.8&quot;</td><td>&quot;gross&quot;</td><td>null</td><td>null</td><td>null</td><td>null</td></tr><tr><td>&quot;1-CDM&quot;</td><td>&quot;1600486&quot;</td><td>&quot;TOBRAMYCIN 40 …</td><td>&quot;0636&quot;</td><td>&quot;Gross_Charge&quot;</td><td>&quot;23.65&quot;</td><td>&quot;gross&quot;</td><td>null</td><td>null</td><td>null</td><td>null</td></tr><tr><td>&quot;1-CDM&quot;</td><td>&quot;1600648&quot;</td><td>&quot;AMP-SULBAC 1.5…</td><td>&quot;0636&quot;</td><td>&quot;Gross_Charge&quot;</td><td>&quot;36.5&quot;</td><td>&quot;gross&quot;</td><td>null</td><td>null</td><td>null</td><td>null</td></tr><tr><td>&quot;1-CDM&quot;</td><td>&quot;1600680&quot;</td><td>&quot;VANCOMYCIN 500…</td><td>&quot;0636&quot;</td><td>&quot;Gross_Charge&quot;</td><td>&quot;55.95&quot;</td><td>&quot;gross&quot;</td><td>null</td><td>null</td><td>null</td><td>null</td></tr><tr><td>&quot;1-CDM&quot;</td><td>&quot;1600788&quot;</td><td>&quot;METRONIDAZOLE …</td><td>&quot;0251&quot;</td><td>&quot;Gross_Charge&quot;</td><td>&quot;15.45&quot;</td><td>&quot;gross&quot;</td><td>null</td><td>null</td><td>null</td><td>null</td></tr><tr><td>&quot;1-CDM&quot;</td><td>&quot;1600923&quot;</td><td>&quot;D5% 100ML&quot;</td><td>&quot;0258&quot;</td><td>&quot;Gross_Charge&quot;</td><td>&quot;154.35&quot;</td><td>&quot;gross&quot;</td><td>null</td><td>null</td><td>null</td><td>null</td></tr><tr><td>&quot;1-CDM&quot;</td><td>&quot;1600931&quot;</td><td>&quot;NACL 0.9% 100 …</td><td>&quot;0258&quot;</td><td>&quot;Gross_Charge&quot;</td><td>&quot;154.35&quot;</td><td>&quot;gross&quot;</td><td>null</td><td>null</td><td>null</td><td>null</td></tr><tr><td>&quot;1-CDM&quot;</td><td>&quot;1600974&quot;</td><td>&quot;NACL 0.9% 50 M…</td><td>&quot;0258&quot;</td><td>&quot;Gross_Charge&quot;</td><td>&quot;154.35&quot;</td><td>&quot;gross&quot;</td><td>null</td><td>null</td><td>null</td><td>null</td></tr><tr><td>&quot;1-CDM&quot;</td><td>&quot;1601202&quot;</td><td>&quot;PANTOPRAZOLE 4…</td><td>&quot;0637&quot;</td><td>&quot;Gross_Charge&quot;</td><td>&quot;10.35&quot;</td><td>&quot;gross&quot;</td><td>null</td><td>null</td><td>null</td><td>null</td></tr><tr><td>&quot;1-CDM&quot;</td><td>&quot;1601229&quot;</td><td>&quot;CLINDAMYCIN 15…</td><td>&quot;0251&quot;</td><td>&quot;Gross_Charge&quot;</td><td>&quot;18.14999999999…</td><td>&quot;gross&quot;</td><td>null</td><td>null</td><td>null</td><td>null</td></tr><tr><td>&hellip;</td><td>&hellip;</td><td>&hellip;</td><td>&hellip;</td><td>&hellip;</td><td>&hellip;</td><td>&hellip;</td><td>&hellip;</td><td>&hellip;</td><td>&hellip;</td><td>&hellip;</td></tr><tr><td>&quot;1-CDM&quot;</td><td>&quot;37801496&quot;</td><td>&quot;CUSTOM SPLINT …</td><td>&quot;0450&quot;</td><td>&quot;W02_TENNCARE_S…</td><td>&quot;255.3&quot;</td><td>&quot;payer&quot;</td><td>null</td><td>null</td><td>null</td><td>null</td></tr><tr><td>&quot;1-CDM&quot;</td><td>&quot;37830038&quot;</td><td>&quot;ER CARE I&quot;</td><td>&quot;0450&quot;</td><td>&quot;W02_TENNCARE_S…</td><td>&quot;255.3&quot;</td><td>&quot;payer&quot;</td><td>null</td><td>null</td><td>null</td><td>null</td></tr><tr><td>&quot;1-CDM&quot;</td><td>&quot;37830046&quot;</td><td>&quot;ER CARE II&quot;</td><td>&quot;0450&quot;</td><td>&quot;W02_TENNCARE_S…</td><td>&quot;255.3&quot;</td><td>&quot;payer&quot;</td><td>null</td><td>null</td><td>null</td><td>null</td></tr><tr><td>&quot;1-CDM&quot;</td><td>&quot;37830054&quot;</td><td>&quot;ER CARE III&quot;</td><td>&quot;0450&quot;</td><td>&quot;W02_TENNCARE_S…</td><td>&quot;255.3&quot;</td><td>&quot;payer&quot;</td><td>null</td><td>null</td><td>null</td><td>null</td></tr><tr><td>&quot;1-CDM&quot;</td><td>&quot;37830062&quot;</td><td>&quot;EMER RM CARE I…</td><td>&quot;0450&quot;</td><td>&quot;W02_TENNCARE_S…</td><td>&quot;255.3&quot;</td><td>&quot;payer&quot;</td><td>null</td><td>null</td><td>null</td><td>null</td></tr><tr><td>&quot;1-CDM&quot;</td><td>&quot;37830070&quot;</td><td>&quot;EMER RM CARE V…</td><td>&quot;0450&quot;</td><td>&quot;W02_TENNCARE_S…</td><td>&quot;255.3&quot;</td><td>&quot;payer&quot;</td><td>null</td><td>null</td><td>null</td><td>null</td></tr><tr><td>&quot;1-CDM&quot;</td><td>&quot;37850381&quot;</td><td>&quot;CRITICAL CARE …</td><td>&quot;0450&quot;</td><td>&quot;W02_TENNCARE_S…</td><td>&quot;255.3&quot;</td><td>&quot;payer&quot;</td><td>null</td><td>null</td><td>null</td><td>null</td></tr><tr><td>&quot;2-CPT&quot;</td><td>&quot;99281&quot;</td><td>&quot;EMERGENCY DEPA…</td><td>null</td><td>&quot;W02_TENNCARE_S…</td><td>&quot;60&quot;</td><td>&quot;payer&quot;</td><td>&quot;99281&quot;</td><td>null</td><td>null</td><td>null</td></tr><tr><td>&quot;2-CPT&quot;</td><td>&quot;99282&quot;</td><td>&quot;EMERGENCY DEPA…</td><td>null</td><td>&quot;W02_TENNCARE_S…</td><td>&quot;70&quot;</td><td>&quot;payer&quot;</td><td>&quot;99282&quot;</td><td>null</td><td>null</td><td>null</td></tr><tr><td>&quot;2-CPT&quot;</td><td>&quot;99283&quot;</td><td>&quot;EMERGENCY DEPA…</td><td>null</td><td>&quot;W02_TENNCARE_S…</td><td>&quot;87.77&quot;</td><td>&quot;payer&quot;</td><td>&quot;99283&quot;</td><td>null</td><td>null</td><td>null</td></tr><tr><td>&quot;2-CPT&quot;</td><td>&quot;99284&quot;</td><td>&quot;EMERGENCY DEPA…</td><td>null</td><td>&quot;W02_TENNCARE_S…</td><td>&quot;135.6399999999…</td><td>&quot;payer&quot;</td><td>&quot;99284&quot;</td><td>null</td><td>null</td><td>null</td></tr><tr><td>&quot;2-CPT&quot;</td><td>&quot;99285&quot;</td><td>&quot;EMERGENCY DEPT…</td><td>null</td><td>&quot;W02_TENNCARE_S…</td><td>&quot;255.3&quot;</td><td>&quot;payer&quot;</td><td>&quot;99285&quot;</td><td>null</td><td>null</td><td>null</td></tr></tbody></table></div>"
      ],
      "text/plain": [
       "shape: (79_080, 11)\n",
       "┌───────────┬─────────┬───────────┬──────────┬───┬───────────┬────────┬────────────┬───────────────┐\n",
       "│ line_type ┆ code    ┆ descripti ┆ rev_code ┆ … ┆ hcpcs_cpt ┆ ms_drg ┆ standard_c ┆ contracting_m │\n",
       "│ ---       ┆ ---     ┆ on        ┆ ---      ┆   ┆ ---       ┆ ---    ┆ harge_perc ┆ ethod         │\n",
       "│ str       ┆ str     ┆ ---       ┆ str      ┆   ┆ str       ┆ str    ┆ ent        ┆ ---           │\n",
       "│           ┆         ┆ str       ┆          ┆   ┆           ┆        ┆ ---        ┆ str           │\n",
       "│           ┆         ┆           ┆          ┆   ┆           ┆        ┆ str        ┆               │\n",
       "╞═══════════╪═════════╪═══════════╪══════════╪═══╪═══════════╪════════╪════════════╪═══════════════╡\n",
       "│ 1-CDM     ┆ 1600044 ┆ BUPIVACAI ┆ 0251     ┆ … ┆ null      ┆ null   ┆ null       ┆ null          │\n",
       "│           ┆         ┆ NE/EPI    ┆          ┆   ┆           ┆        ┆            ┆               │\n",
       "│           ┆         ┆ 0.5% 30ML ┆          ┆   ┆           ┆        ┆            ┆               │\n",
       "│ 1-CDM     ┆ 1600206 ┆ GENTAMICI ┆ 0636     ┆ … ┆ null      ┆ null   ┆ null       ┆ null          │\n",
       "│           ┆         ┆ N 40      ┆          ┆   ┆           ┆        ┆            ┆               │\n",
       "│           ┆         ┆ MG/ML 2   ┆          ┆   ┆           ┆        ┆            ┆               │\n",
       "│           ┆         ┆ ML IN     ┆          ┆   ┆           ┆        ┆            ┆               │\n",
       "│ 1-CDM     ┆ 1600273 ┆ LIDOCAINE ┆ 0250     ┆ … ┆ null      ┆ null   ┆ null       ┆ null          │\n",
       "│           ┆         ┆ /EPI 1%   ┆          ┆   ┆           ┆        ┆            ┆               │\n",
       "│           ┆         ┆ 50ML INJ  ┆          ┆   ┆           ┆        ┆            ┆               │\n",
       "│ 1-CDM     ┆ 1600486 ┆ TOBRAMYCI ┆ 0636     ┆ … ┆ null      ┆ null   ┆ null       ┆ null          │\n",
       "│           ┆         ┆ N 40      ┆          ┆   ┆           ┆        ┆            ┆               │\n",
       "│           ┆         ┆ MG/ML 2   ┆          ┆   ┆           ┆        ┆            ┆               │\n",
       "│           ┆         ┆ ML IN     ┆          ┆   ┆           ┆        ┆            ┆               │\n",
       "│ …         ┆ …       ┆ …         ┆ …        ┆ … ┆ …         ┆ …      ┆ …          ┆ …             │\n",
       "│ 2-CPT     ┆ 99282   ┆ EMERGENCY ┆ null     ┆ … ┆ 99282     ┆ null   ┆ null       ┆ null          │\n",
       "│           ┆         ┆ DEPARTMEN ┆          ┆   ┆           ┆        ┆            ┆               │\n",
       "│           ┆         ┆ T VISIT   ┆          ┆   ┆           ┆        ┆            ┆               │\n",
       "│           ┆         ┆ LOW/M…    ┆          ┆   ┆           ┆        ┆            ┆               │\n",
       "│ 2-CPT     ┆ 99283   ┆ EMERGENCY ┆ null     ┆ … ┆ 99283     ┆ null   ┆ null       ┆ null          │\n",
       "│           ┆         ┆ DEPARTMEN ┆          ┆   ┆           ┆        ┆            ┆               │\n",
       "│           ┆         ┆ T VISIT   ┆          ┆   ┆           ┆        ┆            ┆               │\n",
       "│           ┆         ┆ MODER…    ┆          ┆   ┆           ┆        ┆            ┆               │\n",
       "│ 2-CPT     ┆ 99284   ┆ EMERGENCY ┆ null     ┆ … ┆ 99284     ┆ null   ┆ null       ┆ null          │\n",
       "│           ┆         ┆ DEPARTMEN ┆          ┆   ┆           ┆        ┆            ┆               │\n",
       "│           ┆         ┆ T VISIT   ┆          ┆   ┆           ┆        ┆            ┆               │\n",
       "│           ┆         ┆ HIGH/…    ┆          ┆   ┆           ┆        ┆            ┆               │\n",
       "│ 2-CPT     ┆ 99285   ┆ EMERGENCY ┆ null     ┆ … ┆ 99285     ┆ null   ┆ null       ┆ null          │\n",
       "│           ┆         ┆ DEPT      ┆          ┆   ┆           ┆        ┆            ┆               │\n",
       "│           ┆         ┆ VISIT     ┆          ┆   ┆           ┆        ┆            ┆               │\n",
       "│           ┆         ┆ HIGH      ┆          ┆   ┆           ┆        ┆            ┆               │\n",
       "│           ┆         ┆ SEVERI…   ┆          ┆   ┆           ┆        ┆            ┆               │\n",
       "└───────────┴─────────┴───────────┴──────────┴───┴───────────┴────────┴────────────┴───────────────┘"
      ]
     },
     "execution_count": 22,
     "metadata": {},
     "output_type": "execute_result"
    }
   ],
   "source": [
    "(\n",
    "    pl.read_excel(file, sheet_id = 2, read_csv_options = read_csv_options)\n",
    "    .slice(3,)\n",
    "    .drop(['Facility_BU_ID', 'UB_Revenue_Description'])\n",
    "    .rename({\n",
    "        'Code_Type':'line_type',\n",
    "        'Code':'code',\n",
    "        'Description':'description',\n",
    "        'UB_Revenue_Code':'rev_code',\n",
    "    })\n",
    "    .melt(\n",
    "        ['line_type', 'code', 'description', 'rev_code'],\n",
    "        variable_name = 'payer_name',\n",
    "        value_name = 'standard_charge',\n",
    "    )\n",
    "    .filter(pl.col('standard_charge').is_not_null())\n",
    "    .with_columns([\n",
    "        payer_category(),\n",
    "        pl.col('rev_code').str.zfill(4).keep_name(),\n",
    "        *hcpcs_cpt_and_drg(),\n",
    "        *all_charges(),\n",
    "    ])\n",
    ")"
   ]
  },
  {
   "cell_type": "code",
   "execution_count": null,
   "id": "d93a5f10-fb26-4c3f-ac22-a37f40b21589",
   "metadata": {},
   "outputs": [],
   "source": []
  }
 ],
 "metadata": {
  "kernelspec": {
   "display_name": "Python 3 (ipykernel)",
   "language": "python",
   "name": "python3"
  },
  "language_info": {
   "codemirror_mode": {
    "name": "ipython",
    "version": 3
   },
   "file_extension": ".py",
   "mimetype": "text/x-python",
   "name": "python",
   "nbconvert_exporter": "python",
   "pygments_lexer": "ipython3",
   "version": "3.9.16"
  }
 },
 "nbformat": 4,
 "nbformat_minor": 5
}
