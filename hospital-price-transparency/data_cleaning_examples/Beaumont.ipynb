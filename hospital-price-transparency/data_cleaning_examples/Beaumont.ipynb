{
 "cells": [
  {
   "cell_type": "code",
   "execution_count": 1,
   "id": "d0728eaf-d9f5-4b43-b9b4-6c28870d9783",
   "metadata": {
    "tags": []
   },
   "outputs": [],
   "source": [
    "import polars as pl\n",
    "from tqdm import tqdm\n",
    "\n",
    "transparency_page = 'https://www.beaumont.org/patients-families/billing/pricing/beaumont-health-price-transparency-information'"
   ]
  },
  {
   "cell_type": "code",
   "execution_count": 2,
   "id": "0ad11481-2d07-4041-985b-edd38a81ffa8",
   "metadata": {
    "tags": []
   },
   "outputs": [],
   "source": [
    "def stdcharge():\n",
    "    \n",
    "    stdcharge = pl.col('standard_charge_')\n",
    "    \n",
    "    cleaned = (\n",
    "        stdcharge\n",
    "        .str.strip()\n",
    "        .str.replace('\\$', '')\n",
    "        .str.replace_all(',', '')\n",
    "        .str.replace_all('-|#N/A|#VALUE|!', '')\n",
    "    )\n",
    "    \n",
    "    return pl.when(cleaned.str.lengths() == 0).then(None).otherwise(cleaned).alias('standard_charge')\n"
   ]
  },
  {
   "cell_type": "markdown",
   "id": "696eb53f-91d4-4cff-a928-be8572754cbc",
   "metadata": {},
   "source": [
    "### Facility rates"
   ]
  },
  {
   "cell_type": "code",
   "execution_count": 5,
   "id": "b558f753-1eb2-4836-aae9-6fb82ae753ee",
   "metadata": {
    "tags": []
   },
   "outputs": [],
   "source": [
    "data_fac = [\n",
    "    {'id':'230020', 'url': 'https://www.beaumont.org/docs/default-source/default-document-library/cdm-documents/2023/381405141_beaumont-hospital-dearborn-hospital_standardcharges.csv?sfvrsn=bffa40fb_3&download=true'},\n",
    "    {'id':'230151', 'url': 'https://www.beaumont.org/docs/default-source/default-document-library/cdm-documents/2023/381426929_beaumont-hospital-farmington-hills-hospital_standardcharges.csv?sfvrsn=fdfa40fb_3&download=true'},\n",
    "    {'id':'230089', 'url': 'https://www.beaumont.org/docs/default-source/default-document-library/cdm-documents/2023/381459362_beaumont-hospital-grosse-pointe-hospital_standardcharges.csv?sfvrsn=62fa40fb_5&download=true'},\n",
    "    {'id':'230130', 'url': 'https://www.beaumont.org/docs/default-source/default-document-library/cdm-documents/2023/381459362_beaumont-hospital-royal-oak-hospital_standardcharges.csv?sfvrsn=5cfa40fb_7&download=true'},\n",
    "    {'id':'230270', 'url': 'https://www.beaumont.org/docs/default-source/default-document-library/cdm-documents/2023/381405141_beaumont-hospital-taylor-hospital_standardcharges.csv?sfvrsn=99fa40fb_5&download=true'},\n",
    "    {'id':'230176', 'url': 'https://www.beaumont.org/docs/default-source/default-document-library/cdm-documents/2023/381405141_beaumont-hospital-trenton-hospital_standardcharges.csv?sfvrsn=affa40fb_5&download=true'},\n",
    "    {'id':'230269', 'url': 'https://www.beaumont.org/docs/default-source/default-document-library/cdm-documents/2023/381459362_beaumont-hospital-troy-hospital_standardcharges.csv?sfvrsn=4bfa40fb_3&download=true'},\n",
    "    {'id':'230142', 'url': 'https://www.beaumont.org/docs/default-source/default-document-library/cdm-documents/2023/381405141_beaumont-hospital-wayne-hospital_standardcharges.csv?sfvrsn=c6fa40fb_1&download=true'},\n",
    "]"
   ]
  },
  {
   "cell_type": "code",
   "execution_count": 6,
   "id": "265c2270-a6e1-4b0f-984d-68858e8d6709",
   "metadata": {
    "tags": []
   },
   "outputs": [],
   "source": [
    "subs = {\n",
    "    'Code Type':'line_type',\n",
    "    'Procedure':'local_code',\n",
    "    'Code':'code',\n",
    "    'NDC':'ndc',\n",
    "    'Rev Code':'rev_code',\n",
    "    'REV CODE':'rev_code',\n",
    "    'Procedure Description':'description',\n",
    "}"
   ]
  },
  {
   "cell_type": "code",
   "execution_count": 7,
   "id": "149e1f2c-7ff9-4ed0-b356-d9f2f89e0700",
   "metadata": {
    "tags": []
   },
   "outputs": [],
   "source": [
    "def extract_codes():\n",
    "    \n",
    "    local_code = pl.col('local_code')\n",
    "    code = pl.col('code')\n",
    "    \n",
    "    ms_drg = pl.when(code.str.contains('MSDRG')).then(code.str.extract('MSDRG (\\d+)$')).alias('ms_drg')\n",
    "    hcpcs_cpt = pl.when(code.str.lengths() == 5).then(code).alias('hcpcs_cpt')\n",
    "    \n",
    "    return ms_drg, hcpcs_cpt\n",
    "\n",
    "\n",
    "def payer_cat():\n",
    "    payer = pl.col('payer')\n",
    "    expr = (pl.when(payer.str.contains('GROSS|RECONSTRUCTED CHARGE')).then('gross')\n",
    "    .when(payer.str.contains('MAXIMUM')).then('max')\n",
    "    .when(payer.str.contains('MINIMUM')).then('min')\n",
    "    .when(payer.str.contains('CASH PRICE')).then('cash')\n",
    "    .otherwise('payer')).alias('payer_category')\n",
    "    \n",
    "    return expr"
   ]
  },
  {
   "cell_type": "code",
   "execution_count": 8,
   "id": "ee19de30-a86f-47e2-9c6a-825cfad64e41",
   "metadata": {
    "tags": []
   },
   "outputs": [
    {
     "name": "stderr",
     "output_type": "stream",
     "text": [
      "8it [00:37,  4.73s/it]\n"
     ]
    }
   ],
   "source": [
    "dfs = []\n",
    "\n",
    "for idx, row in tqdm(enumerate(data_fac)):\n",
    "    \n",
    "    read_csv_options = {\n",
    "        'encoding': 'latin-1'\n",
    "    }\n",
    "    \n",
    "    if idx == 3:\n",
    "        read_csv_options.update({'skip_rows':1})\n",
    "    \n",
    "    url = row['url']\n",
    "    id_ = row['id']\n",
    "    \n",
    "    df = pl.read_csv(url, **read_csv_options)\n",
    "    \n",
    "    if idx == 5:\n",
    "        df = df.drop('')\n",
    "\n",
    "    df = df.rename({c: c.strip() for c in df.columns})\n",
    "    df_subs = {c: s for c, s in subs.items() if c in df.columns}\n",
    "\n",
    "    df = df.rename(df_subs)\n",
    "    id_vars = list(df_subs.values())\n",
    "    \n",
    "\n",
    "    df = (\n",
    "        df\n",
    "        .melt(id_vars, variable_name = 'payer', value_name = 'standard_charge_')\n",
    "        .with_columns([\n",
    "            *extract_codes(),\n",
    "            stdcharge(),\n",
    "            payer_cat(),\n",
    "            pl.lit('facility').alias('billing_class'),\n",
    "            pl.lit(id_).alias('hospital_id')\n",
    "        ])\n",
    "        .filter(pl.col('standard_charge').is_not_null())\n",
    "    )\n",
    "    \n",
    "    file_name = url.split('/')[-1].split('?')[0]\n",
    "    ein = file_name.split('_')[0]\n",
    "    ein = f'{ein[:2]}-{ein[2:]}'\n",
    "    last_updated = '2023-01-01'\n",
    "    stdchg_file_url = url\n",
    "    \n",
    "    dfs.append(df)"
   ]
  },
  {
   "cell_type": "code",
   "execution_count": 10,
   "id": "bb89fa5a-d3e6-45e0-b3ce-3c3c5b43fba6",
   "metadata": {
    "tags": []
   },
   "outputs": [],
   "source": [
    "df = pl.concat(dfs)"
   ]
  },
  {
   "cell_type": "code",
   "execution_count": 11,
   "id": "4f2b48ee-a947-40ee-9098-0d203b9e917c",
   "metadata": {
    "tags": []
   },
   "outputs": [
    {
     "data": {
      "text/plain": [
       "6664399"
      ]
     },
     "execution_count": 11,
     "metadata": {},
     "output_type": "execute_result"
    }
   ],
   "source": [
    "df.height"
   ]
  },
  {
   "cell_type": "code",
   "execution_count": 12,
   "id": "ca3168e5-9ac5-47d8-827b-c65645b93f18",
   "metadata": {
    "tags": []
   },
   "outputs": [
    {
     "data": {
      "text/plain": [
       "6664035"
      ]
     },
     "execution_count": 12,
     "metadata": {},
     "output_type": "execute_result"
    }
   ],
   "source": [
    "df.unique().height"
   ]
  },
  {
   "cell_type": "code",
   "execution_count": 9,
   "id": "e6a9bae0-c518-441c-98f4-abe10238aad8",
   "metadata": {
    "tags": []
   },
   "outputs": [],
   "source": [
    "pl.concat(dfs).write_csv('beaumont_fac.csv')"
   ]
  },
  {
   "cell_type": "markdown",
   "id": "e12c3041-9f5d-486b-80c4-affc0d02e668",
   "metadata": {},
   "source": [
    "### Professional rates"
   ]
  },
  {
   "cell_type": "code",
   "execution_count": 33,
   "id": "3f9b3588-da0a-4502-a062-7016e8a5fdcd",
   "metadata": {
    "tags": []
   },
   "outputs": [],
   "source": [
    "data_prof = [\n",
    "    {'id':'230020', 'url': 'https://www.beaumont.org/docs/default-source/default-document-library/cdm-documents/2023/381405141_beaumont-hospital-dearborn-professional_standardcharges.csv?sfvrsn=f8fb40fb_3&download=true'},\n",
    "    {'id':'230151', 'url': 'https://www.beaumont.org/docs/default-source/default-document-library/cdm-documents/2023/381426929_beaumont-hospital-farmington-hills-professional_standardcharges.csv?sfvrsn=aafb40fb_3&download=true'},\n",
    "    {'id':'230089', 'url': 'https://www.beaumont.org/docs/default-source/default-document-library/cdm-documents/2023/381459362_beaumont-hospital-grosse-pointe-professional_standardcharges.csv?sfvrsn=dfa40fb_3&download=true'},\n",
    "    {'id':'230130', 'url': 'https://www.beaumont.org/docs/default-source/default-document-library/cdm-documents/2023/381459362_beaumont-hospital-royal-oak-professional_standardcharges.csv?sfvrsn=a1fb40fb_5&download=true'},\n",
    "    {'id':'230270', 'url': 'https://www.beaumont.org/docs/default-source/default-document-library/cdm-documents/2023/381405141_beaumont-hospital-taylor-professional_standardcharges.csv?sfvrsn=25fa40fb_5&download=true'},\n",
    "    {'id':'230176', 'url': 'https://www.beaumont.org/docs/default-source/default-document-library/cdm-documents/2023/381405141_beaumont-hospital-trenton-professional_standardcharges.csv?sfvrsn=c1fb40fb_5&download=true'},\n",
    "    {'id':'230269', 'url': 'https://www.beaumont.org/docs/default-source/default-document-library/cdm-documents/2023/381459362_beaumont-hospital-troy-professional_standardcharges.csv?sfvrsn=b7fb40fb_5&download=true'},\n",
    "    {'id':'230142', 'url': 'https://www.beaumont.org/docs/default-source/default-document-library/cdm-documents/2023/381405141_beaumont-hospital-wayne-professional_standardcharges.csv?sfvrsn=efa40fb_3&download=true'},\n",
    "]\n",
    "\n",
    "transparency_page = 'https://www.beaumont.org/patients-families/billing/pricing/beaumont-health-price-transparency-information'"
   ]
  },
  {
   "cell_type": "code",
   "execution_count": 34,
   "id": "9f9c535f-3c78-445f-aa6a-09a969cd60ca",
   "metadata": {
    "tags": []
   },
   "outputs": [],
   "source": [
    "def payer_cat():\n",
    "    payer = pl.col('payer')\n",
    "    expr = (pl.when(payer.str.contains('GROSS')).then('gross')\n",
    "    .when(payer.str.contains('DEIDENTIFIED MAX|Max Price')).then('max')\n",
    "    .when(payer.str.contains('DEIDENTIFIED MIN|Min Price')).then('min')\n",
    "    .when(payer.str.contains('CASH PRICE')).then('cash')\n",
    "    .otherwise('payer')).alias('payer_category')\n",
    "    \n",
    "    return expr"
   ]
  },
  {
   "cell_type": "code",
   "execution_count": 40,
   "id": "cecf2f13-cd3b-49f8-be25-933d932b17e3",
   "metadata": {
    "tags": []
   },
   "outputs": [
    {
     "name": "stderr",
     "output_type": "stream",
     "text": [
      "8it [00:24,  3.12s/it]\n"
     ]
    }
   ],
   "source": [
    "dfs = []\n",
    "\n",
    "for idx, row in tqdm(enumerate(data_prof)):\n",
    "    url = row['url']\n",
    "    id_ = row['id']\n",
    "\n",
    "    df = (pl\n",
    "          .read_csv(url, encoding = 'latin-1', infer_schema_length = 0, null_values = ['#N/A'])\n",
    "          # .drop(['FS ID']) this should be updated to line_type\n",
    "          .rename({\n",
    "              'CPT/HCPCS Code ':'hcpcs_cpt',\n",
    "              'Beaumont Health Charge Code Description':'description',\n",
    "              'NDC':'ndc',              \n",
    "          })\n",
    "          .melt(id_vars = ['hcpcs_cpt', 'description', 'ndc'], variable_name = 'payer', value_name = 'standard_charge_')\n",
    "          .with_columns([\n",
    "              payer_cat(),\n",
    "              stdcharge(),\n",
    "              pl.lit('professional').alias('billing_class'),\n",
    "              pl.lit(id_).alias('hospital_id')\n",
    "          ])\n",
    "          .filter(pl.col('standard_charge').is_not_null())\n",
    "         )\n",
    "\n",
    "    dfs.append(df)"
   ]
  },
  {
   "cell_type": "code",
   "execution_count": 41,
   "id": "cab1182a-af72-4166-9d7b-5b52021cf876",
   "metadata": {
    "tags": []
   },
   "outputs": [],
   "source": [
    "pl.concat(dfs).write_csv('beaumont_prof.csv')"
   ]
  },
  {
   "cell_type": "code",
   "execution_count": 42,
   "id": "a6dfc7d6-d137-49d6-bf40-1f376c81041d",
   "metadata": {
    "tags": []
   },
   "outputs": [],
   "source": [
    "qs = []\n",
    "for row_fac, row_prof in zip(data_fac, data_prof):\n",
    "    assert row_fac['id'] == row_prof['id']\n",
    "    \n",
    "    id = row_fac['id']\n",
    "    url_fac = row_fac['url']\n",
    "    url_prof = row_prof['url']\n",
    "    \n",
    "    file_name_prof = url_prof.split('/')[-1].split('?')[0]\n",
    "    file_name_fac = url_fac.split('/')[-1].split('?')[0]\n",
    "    \n",
    "    file_name = f'{file_name_fac}|{file_name_prof}'\n",
    "    \n",
    "    \n",
    "    ein = file_name.split('_')[0]\n",
    "    ein = f'{ein[:2]}-{ein[2:]}'\n",
    "    \n",
    "    last_updated = '2023-01-01'\n",
    "    \n",
    "    stdchg_file_url = f'{url_fac}|{url_prof}'\n",
    "    \n",
    "    q = f\"\"\"\n",
    "update hospital set\n",
    "{ein=},\n",
    "{transparency_page=},\n",
    "{file_name=},\n",
    "{last_updated=},\n",
    "{stdchg_file_url=}\n",
    "where {id=}\n",
    "\"\"\"\n",
    "    \n",
    "    qs.append(q)"
   ]
  },
  {
   "cell_type": "code",
   "execution_count": 43,
   "id": "d1d044d9-3b01-4a4f-86eb-44880c867794",
   "metadata": {
    "tags": []
   },
   "outputs": [],
   "source": [
    "with open('beaumont.sql', 'w+') as f:  \n",
    "    for q in qs:\n",
    "        f.write(q + ';\\n')"
   ]
  },
  {
   "cell_type": "code",
   "execution_count": null,
   "id": "610aa737-e6db-4382-b9fa-5ab47ea50002",
   "metadata": {},
   "outputs": [],
   "source": []
  }
 ],
 "metadata": {
  "kernelspec": {
   "display_name": "Python 3 (ipykernel)",
   "language": "python",
   "name": "python3"
  },
  "language_info": {
   "codemirror_mode": {
    "name": "ipython",
    "version": 3
   },
   "file_extension": ".py",
   "mimetype": "text/x-python",
   "name": "python",
   "nbconvert_exporter": "python",
   "pygments_lexer": "ipython3",
   "version": "3.9.16"
  }
 },
 "nbformat": 4,
 "nbformat_minor": 5
}
