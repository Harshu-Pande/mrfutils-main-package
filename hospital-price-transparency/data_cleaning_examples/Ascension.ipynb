{
 "cells": [
  {
   "cell_type": "code",
   "execution_count": 188,
   "id": "0074fdf2-4f18-4300-8fe5-cc959c10219c",
   "metadata": {},
   "outputs": [],
   "source": [
    "import polars as pl"
   ]
  },
  {
   "cell_type": "markdown",
   "id": "1bd142e6-e624-4f1e-87ee-c866a17b27c8",
   "metadata": {},
   "source": [
    "### Expressions for defining columns"
   ]
  },
  {
   "cell_type": "code",
   "execution_count": 189,
   "id": "2fd678b4-7bfd-47e2-83c2-01e2a7f9219b",
   "metadata": {
    "tags": []
   },
   "outputs": [],
   "source": [
    "def payer_category():\n",
    "    return (\n",
    "        pl.when(pl.col('payer_name') == 'Gross_Charge').then('gross')\n",
    "        .when(pl.col('payer_name') == 'Cash_Charge').then('cash')\n",
    "        .when(pl.col('payer_name') == 'Min_Negotiated_Rate').then('min')\n",
    "        .when(pl.col('payer_name') == 'Max_Negotiated_Rate').then('max')\n",
    "        .otherwise('payer').alias('payer_category')\n",
    "    )\n",
    "\n",
    "def hcpcs_cpt_and_drg():\n",
    "    \n",
    "    hcpcs_cpt = pl.when(pl.col('line_type') == '2-CPT').then(pl.col('code')).alias('hcpcs_cpt')\n",
    "    ms_drg = pl.when(pl.col('line_type') == '3-DRG').then(pl.col('code')).str.zfill(3).alias('ms_drg')\n",
    "    \n",
    "    return hcpcs_cpt, ms_drg\n",
    "\n",
    "def all_charges():\n",
    "    \n",
    "    standard_charge_percent = (\n",
    "        pl.col('standard_charge')\n",
    "        .str.extract('(\\d+)% of gross charges')\n",
    "        .alias('standard_charge_percent')\n",
    "    )\n",
    "    \n",
    "    contracting_method = (\n",
    "        pl.when(pl.col('standard_charge').str.contains('\\% of gross charges'))\n",
    "        .then('percent of total billed charge')\n",
    "        .alias('contracting_method')\n",
    "    )\n",
    "    \n",
    "    standard_charge = (\n",
    "        pl.when(pl.col('standard_charge').str.contains('\\% of gross charges'))\n",
    "        .then(None).otherwise(pl.col('standard_charge')).alias('standard_charge')\n",
    "    )\n",
    "\n",
    "    return standard_charge, standard_charge_percent, contracting_method"
   ]
  },
  {
   "cell_type": "code",
   "execution_count": 190,
   "id": "ec1d839b-cf78-4420-9174-42259735a08a",
   "metadata": {
    "tags": []
   },
   "outputs": [],
   "source": [
    "file = '474063406_Ascension Saint Thomas Highlands_standardcharges.xlsx'\n",
    "\n",
    "# These are things I learned from trial and error working with these files\n",
    "# and also examining them in Numbers\n",
    "read_csv_options = {\n",
    "    'skip_rows': 1, \n",
    "    'infer_schema_length': 0, \n",
    "    'null_values': ['N/A']\n",
    "}"
   ]
  },
  {
   "cell_type": "markdown",
   "id": "85ba976b-1537-4db0-9d37-1a6b3bc0ed15",
   "metadata": {},
   "source": [
    "### Trying a single file: an easy and fast workflow\n",
    "\n",
    "My workflow is to build a single parenned object like\n",
    "```py\n",
    "(\n",
    "    df\n",
    "    .transformation\n",
    "    .transformation\n",
    "    ...\n",
    ")\n",
    "```\n",
    "and then keep adding transformations until I get the dataframe I like. I do this in a single cell.\n",
    "\n",
    "So I started like\n",
    "\n",
    "```py\n",
    "(\n",
    "    pl.read_excel(file, sheet_id = 2, read_csv_options = read_csv_options)\n",
    ")\n",
    "```\n",
    "and noticed that I could slice off the first 3 rows, so then I did\n",
    "```py\n",
    "(\n",
    "    pl.read_excel(file, sheet_id = 2, read_csv_options = read_csv_options)\n",
    "    .slice(3,)\n",
    ")\n",
    "```\n",
    "and so on. What I ended up with was this:"
   ]
  },
  {
   "cell_type": "code",
   "execution_count": 191,
   "id": "1834a321-65e7-44c8-aca4-d8b73579adbb",
   "metadata": {
    "tags": []
   },
   "outputs": [
    {
     "data": {
      "text/html": [
       "<div><style>\n",
       ".dataframe > thead > tr > th,\n",
       ".dataframe > tbody > tr > td {\n",
       "  text-align: right;\n",
       "}\n",
       "</style>\n",
       "<small>shape: (20, 11)</small><table border=\"1\" class=\"dataframe\"><thead><tr><th>line_type</th><th>code</th><th>description</th><th>rev_code</th><th>payer_name</th><th>standard_charge</th><th>payer_category</th><th>hcpcs_cpt</th><th>ms_drg</th><th>standard_charge_percent</th><th>contracting_method</th></tr><tr><td>str</td><td>str</td><td>str</td><td>str</td><td>str</td><td>str</td><td>str</td><td>str</td><td>str</td><td>str</td><td>str</td></tr></thead><tbody><tr><td>&quot;1-CDM&quot;</td><td>&quot;30013417&quot;</td><td>&quot;PEG DRILL INBO…</td><td>&quot;0272&quot;</td><td>&quot;Max_Negotiated…</td><td>&quot;446.52&quot;</td><td>&quot;max&quot;</td><td>null</td><td>null</td><td>null</td><td>null</td></tr><tr><td>&quot;3-DRG&quot;</td><td>&quot;674&quot;</td><td>&quot;Other Kidney A…</td><td>null</td><td>&quot;H85_HUMANA_CHO…</td><td>&quot;34625.3&quot;</td><td>&quot;payer&quot;</td><td>null</td><td>&quot;674&quot;</td><td>null</td><td>null</td></tr><tr><td>&quot;2-CPT&quot;</td><td>&quot;86603&quot;</td><td>&quot;ANTIBODY ADENO…</td><td>null</td><td>&quot;Max_Negotiated…</td><td>&quot;21.54&quot;</td><td>&quot;max&quot;</td><td>&quot;86603&quot;</td><td>null</td><td>null</td><td>null</td></tr><tr><td>&quot;2-CPT&quot;</td><td>&quot;90870&quot;</td><td>&quot;ELECTROCONVULS…</td><td>null</td><td>&quot;Max_Negotiated…</td><td>&quot;172.65&quot;</td><td>&quot;max&quot;</td><td>&quot;90870&quot;</td><td>null</td><td>null</td><td>null</td></tr><tr><td>&quot;3-DRG&quot;</td><td>&quot;453&quot;</td><td>&quot;Combined Anter…</td><td>null</td><td>&quot;H83_HUMANA_MED…</td><td>&quot;69087.33&quot;</td><td>&quot;payer&quot;</td><td>null</td><td>&quot;453&quot;</td><td>null</td><td>null</td></tr><tr><td>&quot;2-CPT&quot;</td><td>&quot;92273&quot;</td><td>&quot;FULL FIELD ERG…</td><td>null</td><td>&quot;Min_Negotiated…</td><td>&quot;76.84&quot;</td><td>&quot;min&quot;</td><td>&quot;92273&quot;</td><td>null</td><td>null</td><td>null</td></tr><tr><td>&quot;2-CPT&quot;</td><td>&quot;15630&quot;</td><td>&quot;DELAY FLAP/SCT…</td><td>null</td><td>&quot;Max_Negotiated…</td><td>&quot;1598.83&quot;</td><td>&quot;max&quot;</td><td>&quot;15630&quot;</td><td>null</td><td>null</td><td>null</td></tr><tr><td>&quot;1-CDM&quot;</td><td>&quot;42106119&quot;</td><td>&quot;XR SHOULDER 1 …</td><td>&quot;0320&quot;</td><td>&quot;A09_AETNA_2005…</td><td>&quot;223.6&quot;</td><td>&quot;payer&quot;</td><td>null</td><td>null</td><td>null</td><td>null</td></tr><tr><td>&quot;1-CDM&quot;</td><td>&quot;1656775&quot;</td><td>&quot;ZIPRASIDONE 10…</td><td>&quot;0636&quot;</td><td>&quot;C04_CIGNA_PPO_…</td><td>&quot;110.56&quot;</td><td>&quot;payer&quot;</td><td>null</td><td>null</td><td>null</td><td>null</td></tr><tr><td>&quot;3-DRG&quot;</td><td>&quot;698&quot;</td><td>&quot;Other Kidney A…</td><td>null</td><td>&quot;C40_OPTUM_VA_2…</td><td>&quot;12073.9&quot;</td><td>&quot;payer&quot;</td><td>null</td><td>&quot;698&quot;</td><td>null</td><td>null</td></tr><tr><td>&quot;3-DRG&quot;</td><td>&quot;710&quot;</td><td>&quot;Penis Procedur…</td><td>null</td><td>&quot;U53_UHC_COMPAS…</td><td>&quot;17962.08&quot;</td><td>&quot;payer&quot;</td><td>null</td><td>&quot;710&quot;</td><td>null</td><td>null</td></tr><tr><td>&quot;3-DRG&quot;</td><td>&quot;622&quot;</td><td>&quot;Skin Grafts An…</td><td>null</td><td>&quot;C26_CIGNA_MEDI…</td><td>&quot;27149.18&quot;</td><td>&quot;payer&quot;</td><td>null</td><td>&quot;622&quot;</td><td>null</td><td>null</td></tr><tr><td>&quot;2-CPT&quot;</td><td>&quot;J7504&quot;</td><td>&quot;LYMPHOCYTE IMM…</td><td>null</td><td>&quot;Min_Negotiated…</td><td>&quot;130.3300000000…</td><td>&quot;min&quot;</td><td>&quot;J7504&quot;</td><td>null</td><td>null</td><td>null</td></tr><tr><td>&quot;2-CPT&quot;</td><td>&quot;86832&quot;</td><td>&quot;ANTIBODY HLA C…</td><td>null</td><td>&quot;Max_Negotiated…</td><td>&quot;228.65&quot;</td><td>&quot;max&quot;</td><td>&quot;86832&quot;</td><td>null</td><td>null</td><td>null</td></tr><tr><td>&quot;2-CPT&quot;</td><td>&quot;44322&quot;</td><td>&quot;COLOSTOMY/SKN …</td><td>null</td><td>&quot;Max_Negotiated…</td><td>&quot;1748.82&quot;</td><td>&quot;max&quot;</td><td>&quot;44322&quot;</td><td>null</td><td>null</td><td>null</td></tr><tr><td>&quot;2-CPT&quot;</td><td>&quot;95981&quot;</td><td>&quot;ELEC ALYS NSTI…</td><td>null</td><td>&quot;Min_Negotiated…</td><td>&quot;21.95&quot;</td><td>&quot;min&quot;</td><td>&quot;95981&quot;</td><td>null</td><td>null</td><td>null</td></tr><tr><td>&quot;3-DRG&quot;</td><td>&quot;788&quot;</td><td>&quot;Cesarean Secti…</td><td>null</td><td>&quot;U55_UHC_RIVERV…</td><td>&quot;6666.31&quot;</td><td>&quot;payer&quot;</td><td>null</td><td>&quot;788&quot;</td><td>null</td><td>null</td></tr><tr><td>&quot;3-DRG&quot;</td><td>&quot;637&quot;</td><td>&quot;Diabetes With …</td><td>null</td><td>&quot;C26_CIGNA_MEDI…</td><td>&quot;10330.49&quot;</td><td>&quot;payer&quot;</td><td>null</td><td>&quot;637&quot;</td><td>null</td><td>null</td></tr><tr><td>&quot;3-DRG&quot;</td><td>&quot;334&quot;</td><td>&quot;Rectal Resecti…</td><td>null</td><td>&quot;U50_UHC_COMMER…</td><td>&quot;21255.92&quot;</td><td>&quot;payer&quot;</td><td>null</td><td>&quot;334&quot;</td><td>null</td><td>null</td></tr><tr><td>&quot;2-CPT&quot;</td><td>&quot;L6675&quot;</td><td>&quot;HARNESS FIGURE…</td><td>null</td><td>&quot;Max_Negotiated…</td><td>&quot;176.84&quot;</td><td>&quot;max&quot;</td><td>&quot;L6675&quot;</td><td>null</td><td>null</td><td>null</td></tr></tbody></table></div>"
      ],
      "text/plain": [
       "shape: (20, 11)\n",
       "┌───────────┬──────────┬───────────┬──────────┬───┬───────────┬────────┬────────────┬──────────────┐\n",
       "│ line_type ┆ code     ┆ descripti ┆ rev_code ┆ … ┆ hcpcs_cpt ┆ ms_drg ┆ standard_c ┆ contracting_ │\n",
       "│ ---       ┆ ---      ┆ on        ┆ ---      ┆   ┆ ---       ┆ ---    ┆ harge_perc ┆ method       │\n",
       "│ str       ┆ str      ┆ ---       ┆ str      ┆   ┆ str       ┆ str    ┆ ent        ┆ ---          │\n",
       "│           ┆          ┆ str       ┆          ┆   ┆           ┆        ┆ ---        ┆ str          │\n",
       "│           ┆          ┆           ┆          ┆   ┆           ┆        ┆ str        ┆              │\n",
       "╞═══════════╪══════════╪═══════════╪══════════╪═══╪═══════════╪════════╪════════════╪══════════════╡\n",
       "│ 1-CDM     ┆ 30013417 ┆ PEG DRILL ┆ 0272     ┆ … ┆ null      ┆ null   ┆ null       ┆ null         │\n",
       "│           ┆          ┆ INBONE    ┆          ┆   ┆           ┆        ┆            ┆              │\n",
       "│           ┆          ┆ 4MM       ┆          ┆   ┆           ┆        ┆            ┆              │\n",
       "│ 3-DRG     ┆ 674      ┆ Other     ┆ null     ┆ … ┆ null      ┆ 674    ┆ null       ┆ null         │\n",
       "│           ┆          ┆ Kidney    ┆          ┆   ┆           ┆        ┆            ┆              │\n",
       "│           ┆          ┆ And       ┆          ┆   ┆           ┆        ┆            ┆              │\n",
       "│           ┆          ┆ Urinary   ┆          ┆   ┆           ┆        ┆            ┆              │\n",
       "│           ┆          ┆ Tract P…  ┆          ┆   ┆           ┆        ┆            ┆              │\n",
       "│ 2-CPT     ┆ 86603    ┆ ANTIBODY  ┆ null     ┆ … ┆ 86603     ┆ null   ┆ null       ┆ null         │\n",
       "│           ┆          ┆ ADENOVIRU ┆          ┆   ┆           ┆        ┆            ┆              │\n",
       "│           ┆          ┆ S         ┆          ┆   ┆           ┆        ┆            ┆              │\n",
       "│ 2-CPT     ┆ 90870    ┆ ELECTROCO ┆ null     ┆ … ┆ 90870     ┆ null   ┆ null       ┆ null         │\n",
       "│           ┆          ┆ NVULSIVE  ┆          ┆   ┆           ┆        ┆            ┆              │\n",
       "│           ┆          ┆ THERAPY   ┆          ┆   ┆           ┆        ┆            ┆              │\n",
       "│ …         ┆ …        ┆ …         ┆ …        ┆ … ┆ …         ┆ …      ┆ …          ┆ …            │\n",
       "│ 3-DRG     ┆ 788      ┆ Cesarean  ┆ null     ┆ … ┆ null      ┆ 788    ┆ null       ┆ null         │\n",
       "│           ┆          ┆ Section   ┆          ┆   ┆           ┆        ┆            ┆              │\n",
       "│           ┆          ┆ Without   ┆          ┆   ┆           ┆        ┆            ┆              │\n",
       "│           ┆          ┆ Sterili…  ┆          ┆   ┆           ┆        ┆            ┆              │\n",
       "│ 3-DRG     ┆ 637      ┆ Diabetes  ┆ null     ┆ … ┆ null      ┆ 637    ┆ null       ┆ null         │\n",
       "│           ┆          ┆ With MCC  ┆          ┆   ┆           ┆        ┆            ┆              │\n",
       "│ 3-DRG     ┆ 334      ┆ Rectal    ┆ null     ┆ … ┆ null      ┆ 334    ┆ null       ┆ null         │\n",
       "│           ┆          ┆ Resection ┆          ┆   ┆           ┆        ┆            ┆              │\n",
       "│           ┆          ┆ Without   ┆          ┆   ┆           ┆        ┆            ┆              │\n",
       "│           ┆          ┆ CC/MCC    ┆          ┆   ┆           ┆        ┆            ┆              │\n",
       "│ 2-CPT     ┆ L6675    ┆ HARNESS   ┆ null     ┆ … ┆ L6675     ┆ null   ┆ null       ┆ null         │\n",
       "│           ┆          ┆ FIGURE OF ┆          ┆   ┆           ┆        ┆            ┆              │\n",
       "│           ┆          ┆ 8 SING    ┆          ┆   ┆           ┆        ┆            ┆              │\n",
       "│           ┆          ┆ CON       ┆          ┆   ┆           ┆        ┆            ┆              │\n",
       "└───────────┴──────────┴───────────┴──────────┴───┴───────────┴────────┴────────────┴──────────────┘"
      ]
     },
     "execution_count": 191,
     "metadata": {},
     "output_type": "execute_result"
    }
   ],
   "source": [
    "(\n",
    "    pl.read_excel(file, sheet_id = 2, read_csv_options = read_csv_options)\n",
    "    .slice(3,)\n",
    "    .drop(['Facility_BU_ID', 'UB_Revenue_Description'])\n",
    "    .rename({\n",
    "        'Code_Type':'line_type',\n",
    "        'Code':'code',\n",
    "        'Description':'description',\n",
    "        'UB_Revenue_Code':'rev_code',\n",
    "    })\n",
    "    .melt(\n",
    "        ['line_type', 'code', 'description', 'rev_code'],\n",
    "        variable_name = 'payer_name',\n",
    "        value_name = 'standard_charge',\n",
    "    )\n",
    "    .filter(pl.col('standard_charge').is_not_null())\n",
    "    .with_columns([\n",
    "        payer_category(),\n",
    "        pl.col('rev_code').str.zfill(4).keep_name(),\n",
    "        *hcpcs_cpt_and_drg(),\n",
    "        *all_charges(),\n",
    "    ])\n",
    ").sample(20)"
   ]
  },
  {
   "cell_type": "markdown",
   "id": "94599060-8c9a-4776-8beb-ac87cdbc6169",
   "metadata": {},
   "source": [
    "Let's turn this into a function so that we can process any excel file (assuming they're formatted the same way. We'll inspect this later."
   ]
  },
  {
   "cell_type": "code",
   "execution_count": 192,
   "id": "66c39a64-51ac-475f-b9c4-5a61dde1db70",
   "metadata": {
    "tags": []
   },
   "outputs": [],
   "source": [
    "def process(url):\n",
    "    \n",
    "    ### Putting my notes here as I go:\n",
    "    \n",
    "    ### Around the 20th file in: upon trying to cast \n",
    "    ### 'standard_charge' to float, I got:\n",
    "    \n",
    "    ### ComputeError: strict conversion from `str` to `f64` failed for value(s) \n",
    "    ### [\"85% of gross charges\", \"65% of gross charges\", … \"82% of gross charges\"]; \n",
    "    ### if you were trying to cast Utf8 to temporal dtypes, consider using `strptime`\n",
    "    \n",
    "    ### So this tells me that this a relatively uncommon thing, but that it does happen\n",
    "    \n",
    "    print(url)    \n",
    "                \n",
    "    df = (\n",
    "        pl.read_excel(url, sheet_id = 2, read_csv_options = read_csv_options)\n",
    "        .slice(3,)\n",
    "        .drop(['Facility_BU_ID', 'UB_Revenue_Description'])\n",
    "        .rename({\n",
    "            'Code_Type':'line_type',\n",
    "            'Code':'code',\n",
    "            'Description':'description',\n",
    "            'UB_Revenue_Code':'rev_code',\n",
    "        })\n",
    "        .melt(\n",
    "            ['line_type', 'code', 'description', 'rev_code'],\n",
    "            variable_name = 'payer_name',\n",
    "            value_name = 'standard_charge',\n",
    "        )\n",
    "        .filter(pl.col('standard_charge').is_not_null())\n",
    "        .with_columns([\n",
    "            payer_category(),\n",
    "            pl.col('rev_code').str.zfill(4).keep_name(),\n",
    "            *hcpcs_cpt_and_drg(),\n",
    "            *all_charges(),\n",
    "        ])\n",
    "    )\n",
    "    \n",
    "    return df"
   ]
  },
  {
   "cell_type": "markdown",
   "id": "f8999414-bc3b-401d-a08f-db29b18cf86e",
   "metadata": {},
   "source": [
    "### Getting the MRF links from the Ascension page"
   ]
  },
  {
   "cell_type": "code",
   "execution_count": 193,
   "id": "a0cfcdeb-cbf3-41c8-b280-c1e78eaa8286",
   "metadata": {
    "tags": []
   },
   "outputs": [],
   "source": [
    "from bs4 import BeautifulSoup\n",
    "import requests\n",
    "\n",
    "headers = {\n",
    "    \"Connection\": \"keep-alive\",\n",
    "    \"User-Agent\": \"Mozilla/5.0 (Windows NT 10.0; Win64; x64) AppleWebKit/537.36 (KHTML, like Gecko) Chrome/72.0.3626.121 Safari/537.36\"\n",
    "}\n",
    "\n",
    "mrf_page = 'https://healthcare.ascension.org/price-transparency/price-transparency-files'\n",
    "\n",
    "resp = requests.get(mrf_page, headers = headers)"
   ]
  },
  {
   "cell_type": "code",
   "execution_count": 194,
   "id": "7a12ab0f-1adc-4a00-9bd9-287a2c582e28",
   "metadata": {
    "tags": []
   },
   "outputs": [
    {
     "name": "stdout",
     "output_type": "stream",
     "text": [
      "The number of MRFs found was 116\n"
     ]
    }
   ],
   "source": [
    "soup = BeautifulSoup(resp.content)\n",
    "mrfs = []\n",
    "base_url = 'https://healthcare.ascension.org'\n",
    "for link in soup.find_all('a'):\n",
    "    if '.xlsx' in link.get('href'):\n",
    "        mrfs.append((base_url + link.get('href'), link.text))\n",
    "        \n",
    "print(f'The number of MRFs found was {len(mrfs)}')"
   ]
  },
  {
   "cell_type": "markdown",
   "id": "c17017da-1074-4efa-9822-f74f890cd355",
   "metadata": {},
   "source": [
    "Here's an example of what's in the list of MRF tuples: it's just the link to the MRF, plus the hospital name as shown on the Ascension website."
   ]
  },
  {
   "cell_type": "code",
   "execution_count": 195,
   "id": "4d81aad1-5f5c-4c11-aec3-d06c6fc4cd11",
   "metadata": {
    "tags": []
   },
   "outputs": [
    {
     "data": {
      "text/plain": [
       "('https://healthcare.ascension.org/-/media/project/ascension/healthcare/price-transparency-files/fl/300577249_ascension-sacred-heart-gulf_standardcharges.xlsx',\n",
       " 'Ascension Sacred Heart Gulf')"
      ]
     },
     "execution_count": 195,
     "metadata": {},
     "output_type": "execute_result"
    }
   ],
   "source": [
    "mrfs[12]"
   ]
  },
  {
   "cell_type": "markdown",
   "id": "2c4355b8-8cb9-4db5-9408-bee13e5e91de",
   "metadata": {},
   "source": [
    "### Looping through all the Ascension MRFs"
   ]
  },
  {
   "cell_type": "code",
   "execution_count": 196,
   "id": "2c3ad2eb-5d59-429a-8548-deeaadb0d1fe",
   "metadata": {
    "tags": []
   },
   "outputs": [],
   "source": [
    "from tqdm import tqdm\n",
    "from glob import glob\n",
    "import os"
   ]
  },
  {
   "cell_type": "code",
   "execution_count": null,
   "id": "4f776bf1-08b4-44f7-b2fa-c4badccfae06",
   "metadata": {
    "tags": []
   },
   "outputs": [
    {
     "name": "stderr",
     "output_type": "stream",
     "text": [
      "  0%|                                                                                                                                                     | 0/116 [00:00<?, ?it/s]"
     ]
    },
    {
     "name": "stdout",
     "output_type": "stream",
     "text": [
      "data/630578923_ascension-saint-vincents-east_standardcharges.xlsx\n"
     ]
    },
    {
     "name": "stderr",
     "output_type": "stream",
     "text": [
      "  1%|█▏                                                                                                                                           | 1/116 [00:12<23:06, 12.05s/it]"
     ]
    },
    {
     "name": "stdout",
     "output_type": "stream",
     "text": [
      "630578923_ascension-saint-vincents-east_standardcharges.parquet\n",
      "data/630909073_saint-vincents-blount_standardcharges.xlsx\n"
     ]
    },
    {
     "name": "stderr",
     "output_type": "stream",
     "text": [
      "  2%|██▍                                                                                                                                          | 2/116 [00:17<15:51,  8.35s/it]"
     ]
    },
    {
     "name": "stdout",
     "output_type": "stream",
     "text": [
      "630909073_saint-vincents-blount_standardcharges.parquet\n",
      "data/630288864_saint-vincents-birmingham_standardcharges.xlsx\n"
     ]
    },
    {
     "name": "stderr",
     "output_type": "stream",
     "text": [
      "  3%|███▋                                                                                                                                         | 3/116 [00:35<23:46, 12.62s/it]"
     ]
    },
    {
     "name": "stdout",
     "output_type": "stream",
     "text": [
      "630288864_saint-vincents-birmingham_standardcharges.parquet\n",
      "data/810935368_saint-vincents-chilton_standardcharges.xlsx\n"
     ]
    },
    {
     "name": "stderr",
     "output_type": "stream",
     "text": [
      "  3%|████▊                                                                                                                                        | 4/116 [00:44<20:54, 11.20s/it]"
     ]
    },
    {
     "name": "stdout",
     "output_type": "stream",
     "text": [
      "810935368_saint-vincents-chilton_standardcharges.parquet\n",
      "data/631146531_saint-vincents-saint-clair_standardcharges.xlsx\n"
     ]
    },
    {
     "name": "stderr",
     "output_type": "stream",
     "text": [
      "  4%|██████                                                                                                                                       | 5/116 [00:50<17:21,  9.38s/it]"
     ]
    },
    {
     "name": "stdout",
     "output_type": "stream",
     "text": [
      "631146531_saint-vincents-saint-clair_standardcharges.parquet\n",
      "data/630288861_ascension-providence_standardcharges.xlsx\n"
     ]
    },
    {
     "name": "stderr",
     "output_type": "stream",
     "text": [
      "  5%|███████▎                                                                                                                                     | 6/116 [01:14<26:15, 14.32s/it]"
     ]
    },
    {
     "name": "stdout",
     "output_type": "stream",
     "text": [
      "630288861_ascension-providence_standardcharges.parquet\n",
      "data/590624449_ascension-st-vincents-riverside_standardcharges.xlsx\n"
     ]
    },
    {
     "name": "stderr",
     "output_type": "stream",
     "text": [
      "  6%|████████▌                                                                                                                                    | 7/116 [02:08<49:27, 27.23s/it]"
     ]
    },
    {
     "name": "stdout",
     "output_type": "stream",
     "text": [
      "590624449_ascension-st-vincents-riverside_standardcharges.parquet\n",
      "data/260479484_ascension-st-vincents-southside_standardcharges.xlsx\n"
     ]
    },
    {
     "name": "stderr",
     "output_type": "stream",
     "text": [
      "  7%|█████████▋                                                                                                                                   | 8/116 [02:36<49:37, 27.57s/it]"
     ]
    },
    {
     "name": "stdout",
     "output_type": "stream",
     "text": [
      "260479484_ascension-st-vincents-southside_standardcharges.parquet\n",
      "data/461523194_ascension-st-vincents-clay-county_standardcharges.xlsx\n"
     ]
    },
    {
     "name": "stderr",
     "output_type": "stream",
     "text": [
      "  8%|██████████▉                                                                                                                                  | 9/116 [02:56<44:44, 25.09s/it]"
     ]
    },
    {
     "name": "stdout",
     "output_type": "stream",
     "text": [
      "461523194_ascension-st-vincents-clay-county_standardcharges.parquet\n",
      "data/593650609_ascension-st-vincents-st-johns-county_standardcharges.xlsx\n"
     ]
    },
    {
     "name": "stderr",
     "output_type": "stream",
     "text": [
      "  9%|████████████                                                                                                                                | 10/116 [03:27<47:54, 27.11s/it]"
     ]
    },
    {
     "name": "stdout",
     "output_type": "stream",
     "text": [
      "593650609_ascension-st-vincents-st-johns-county_standardcharges.parquet\n",
      "data/590634434_ascension-sacred-heart-pensacola_standardcharges.xlsx\n"
     ]
    },
    {
     "name": "stderr",
     "output_type": "stream",
     "text": [
      "  9%|█████████████▎                                                                                                                              | 11/116 [03:51<45:37, 26.07s/it]"
     ]
    },
    {
     "name": "stdout",
     "output_type": "stream",
     "text": [
      "590634434_ascension-sacred-heart-pensacola_standardcharges.parquet\n",
      "data/721529708_ascension-sacred-heart-emerald-coast_standardcharges.xlsx\n"
     ]
    },
    {
     "name": "stderr",
     "output_type": "stream",
     "text": [
      " 10%|██████████████▍                                                                                                                             | 12/116 [03:58<35:17, 20.36s/it]"
     ]
    },
    {
     "name": "stdout",
     "output_type": "stream",
     "text": [
      "721529708_ascension-sacred-heart-emerald-coast_standardcharges.parquet\n",
      "data/300577249_ascension-sacred-heart-gulf_standardcharges.xlsx\n"
     ]
    },
    {
     "name": "stderr",
     "output_type": "stream",
     "text": [
      " 11%|███████████████▋                                                                                                                            | 13/116 [04:04<27:24, 15.97s/it]"
     ]
    },
    {
     "name": "stdout",
     "output_type": "stream",
     "text": [
      "300577249_ascension-sacred-heart-gulf_standardcharges.parquet\n",
      "data/900799724_ascension-sacred-heart-bay_standardcharges.xlsx\n"
     ]
    },
    {
     "name": "stderr",
     "output_type": "stream",
     "text": [
      " 12%|████████████████▉                                                                                                                           | 14/116 [04:14<24:02, 14.14s/it]"
     ]
    },
    {
     "name": "stdout",
     "output_type": "stream",
     "text": [
      "900799724_ascension-sacred-heart-bay_standardcharges.parquet\n",
      "data/362596381_amita-health-alexian-brothers-medical-center-elk-grove-village-and-amita-health-rehabilitation-hospital-elk-grove-village_standardcharges.xlsx\n"
     ]
    },
    {
     "name": "stderr",
     "output_type": "stream",
     "text": [
      " 13%|██████████████████                                                                                                                          | 15/116 [04:37<27:58, 16.62s/it]"
     ]
    },
    {
     "name": "stdout",
     "output_type": "stream",
     "text": [
      "362596381_amita-health-alexian-brothers-medical-center-elk-grove-village-and-amita-health-rehabilitation-hospital-elk-grove-village_standardcharges.parquet\n",
      "data/364251846_amita-health-st-alexius-medical-center-hoffman-estates-and-amita-health-women-and-childrens-hospital-hoffman-estates_standardcharges.xlsx\n"
     ]
    },
    {
     "name": "stderr",
     "output_type": "stream",
     "text": [
      " 14%|███████████████████▎                                                                                                                        | 16/116 [04:50<25:54, 15.54s/it]"
     ]
    },
    {
     "name": "stdout",
     "output_type": "stream",
     "text": [
      "364251846_amita-health-st-alexius-medical-center-hoffman-estates-and-amita-health-women-and-childrens-hospital-hoffman-estates_standardcharges.parquet\n",
      "data/364251848_alexian-brothers-behavioral-health-hospital_standardcharges.xlsx\n"
     ]
    },
    {
     "name": "stderr",
     "output_type": "stream",
     "text": [
      " 15%|████████████████████▌                                                                                                                       | 17/116 [04:51<18:30, 11.21s/it]"
     ]
    },
    {
     "name": "stdout",
     "output_type": "stream",
     "text": [
      "364251848_alexian-brothers-behavioral-health-hospital_standardcharges.parquet\n",
      "data/362235165_amita-health-holy-family-medical-center-des-plaines_standardcharges.xlsx\n"
     ]
    },
    {
     "name": "stderr",
     "output_type": "stream",
     "text": [
      " 16%|█████████████████████▋                                                                                                                      | 18/116 [05:00<17:10, 10.52s/it]"
     ]
    },
    {
     "name": "stdout",
     "output_type": "stream",
     "text": [
      "362235165_amita-health-holy-family-medical-center-des-plaines_standardcharges.parquet\n",
      "data/362235165_amita-health-resurrection-medical-center-chicago_standardcharges.xlsx\n"
     ]
    },
    {
     "name": "stderr",
     "output_type": "stream",
     "text": [
      " 16%|██████████████████████▉                                                                                                                     | 19/116 [05:08<15:59,  9.89s/it]"
     ]
    },
    {
     "name": "stdout",
     "output_type": "stream",
     "text": [
      "362235165_amita-health-resurrection-medical-center-chicago_standardcharges.parquet\n",
      "data/362235165_amita-health-saint-joseph-hospital-chicago_standardcharges.xlsx\n"
     ]
    },
    {
     "name": "stderr",
     "output_type": "stream",
     "text": [
      " 17%|████████████████████████▏                                                                                                                   | 20/116 [05:31<21:56, 13.71s/it]"
     ]
    },
    {
     "name": "stdout",
     "output_type": "stream",
     "text": [
      "362235165_amita-health-saint-joseph-hospital-chicago_standardcharges.parquet\n",
      "data/362235165_amita-health-saints-mary-and-elizabeth-medical-center-chicago_standardcharges.xlsx\n"
     ]
    },
    {
     "name": "stderr",
     "output_type": "stream",
     "text": [
      " 18%|█████████████████████████▎                                                                                                                  | 21/116 [06:29<43:05, 27.22s/it]"
     ]
    },
    {
     "name": "stdout",
     "output_type": "stream",
     "text": [
      "362235165_amita-health-saints-mary-and-elizabeth-medical-center-chicago_standardcharges.parquet\n",
      "data/364195126_amita-health-mercy-medical-center-aurora_standardcharges.xlsx\n"
     ]
    },
    {
     "name": "stderr",
     "output_type": "stream",
     "text": [
      " 19%|██████████████████████████▌                                                                                                                 | 22/116 [06:49<38:54, 24.84s/it]"
     ]
    },
    {
     "name": "stdout",
     "output_type": "stream",
     "text": [
      "364195126_amita-health-mercy-medical-center-aurora_standardcharges.parquet\n",
      "data/362235165_amita-health-saint-francis-hospital-evanston_standardcharges.xlsx\n"
     ]
    },
    {
     "name": "stderr",
     "output_type": "stream",
     "text": [
      " 20%|███████████████████████████▊                                                                                                                | 23/116 [06:54<29:34, 19.08s/it]"
     ]
    },
    {
     "name": "stdout",
     "output_type": "stream",
     "text": [
      "362235165_amita-health-saint-francis-hospital-evanston_standardcharges.parquet\n",
      "data/364195126_amita-health-saint-joseph-hospital-elgin_standardcharges.xlsx\n"
     ]
    },
    {
     "name": "stderr",
     "output_type": "stream",
     "text": [
      " 21%|████████████████████████████▉                                                                                                               | 24/116 [07:01<23:22, 15.25s/it]"
     ]
    },
    {
     "name": "stdout",
     "output_type": "stream",
     "text": [
      "364195126_amita-health-saint-joseph-hospital-elgin_standardcharges.parquet\n",
      "data/364195126_amita-health-saint-joseph-medical-center-joliet_standardcharges.xlsx\n"
     ]
    },
    {
     "name": "stderr",
     "output_type": "stream",
     "text": [
      " 22%|██████████████████████████████▏                                                                                                             | 25/116 [07:28<28:45, 18.96s/it]"
     ]
    },
    {
     "name": "stdout",
     "output_type": "stream",
     "text": [
      "364195126_amita-health-saint-joseph-medical-center-joliet_standardcharges.parquet\n",
      "data/364195126_amita-health-st-marys-hospital-kankakee_standardcharges.xlsx\n"
     ]
    },
    {
     "name": "stderr",
     "output_type": "stream",
     "text": [
      " 22%|███████████████████████████████▍                                                                                                            | 26/116 [07:53<31:07, 20.75s/it]"
     ]
    },
    {
     "name": "stdout",
     "output_type": "stream",
     "text": [
      "364195126_amita-health-st-marys-hospital-kankakee_standardcharges.parquet\n",
      "data/364195126_amita-health-st-marys-hospital-kankakee_standardcharges.xlsx\n"
     ]
    },
    {
     "name": "stderr",
     "output_type": "stream",
     "text": [
      " 23%|████████████████████████████████▌                                                                                                           | 27/116 [08:18<32:38, 22.01s/it]"
     ]
    },
    {
     "name": "stdout",
     "output_type": "stream",
     "text": [
      "364195126_amita-health-st-marys-hospital-kankakee_standardcharges.parquet\n",
      "data/350992717_ascension-st-vincent-kokomo-_standardcharges.xlsx\n"
     ]
    },
    {
     "name": "stderr",
     "output_type": "stream",
     "text": [
      " 24%|█████████████████████████████████▊                                                                                                          | 28/116 [08:35<30:03, 20.49s/it]"
     ]
    },
    {
     "name": "stdout",
     "output_type": "stream",
     "text": [
      "350992717_ascension-st-vincent-kokomo-_standardcharges.parquet\n",
      "data/350869066_ascension-st-vincent-hospital_standardcharges.xlsx\n"
     ]
    },
    {
     "name": "stderr",
     "output_type": "stream",
     "text": [
      " 25%|███████████████████████████████████                                                                                                         | 29/116 [09:50<53:17, 36.76s/it]"
     ]
    },
    {
     "name": "stdout",
     "output_type": "stream",
     "text": [
      "350869066_ascension-st-vincent-hospital_standardcharges.parquet\n",
      "data/460877261_ascension-st-vincent-anderson_standardcharges.xlsx\n"
     ]
    },
    {
     "name": "stderr",
     "output_type": "stream",
     "text": [
      " 26%|████████████████████████████████████▏                                                                                                       | 30/116 [10:22<50:33, 35.28s/it]"
     ]
    },
    {
     "name": "stdout",
     "output_type": "stream",
     "text": [
      "460877261_ascension-st-vincent-anderson_standardcharges.parquet\n",
      "data/350869065_ascension-st-vincent-evansville_standardcharges.xlsx\n"
     ]
    },
    {
     "name": "stderr",
     "output_type": "stream",
     "text": [
      " 27%|█████████████████████████████████████▍                                                                                                      | 31/116 [10:55<48:56, 34.55s/it]"
     ]
    },
    {
     "name": "stdout",
     "output_type": "stream",
     "text": [
      "350869065_ascension-st-vincent-evansville_standardcharges.parquet\n",
      "data/364492612_ascension-st-vincent-heart-center_standardcharges.xlsx\n"
     ]
    },
    {
     "name": "stderr",
     "output_type": "stream",
     "text": [
      " 28%|██████████████████████████████████████▌                                                                                                     | 32/116 [11:07<39:04, 27.91s/it]"
     ]
    },
    {
     "name": "stdout",
     "output_type": "stream",
     "text": [
      "364492612_ascension-st-vincent-heart-center_standardcharges.parquet\n",
      "data/743107055_ascension-st-vincent-carmel_standardcharges.xlsx\n"
     ]
    },
    {
     "name": "stderr",
     "output_type": "stream",
     "text": [
      " 28%|███████████████████████████████████████▊                                                                                                    | 33/116 [11:30<36:34, 26.43s/it]"
     ]
    },
    {
     "name": "stdout",
     "output_type": "stream",
     "text": [
      "743107055_ascension-st-vincent-carmel_standardcharges.parquet\n",
      "data/454243702_ascension-st-vincent-fishers_standardcharges.xlsx\n"
     ]
    },
    {
     "name": "stderr",
     "output_type": "stream",
     "text": [
      " 29%|█████████████████████████████████████████                                                                                                   | 34/116 [11:49<33:03, 24.19s/it]"
     ]
    },
    {
     "name": "stdout",
     "output_type": "stream",
     "text": [
      "454243702_ascension-st-vincent-fishers_standardcharges.parquet\n",
      "data/352103153_ascension-st-vincent-randolph_standardcharges.xlsx\n"
     ]
    },
    {
     "name": "stderr",
     "output_type": "stream",
     "text": [
      " 30%|██████████████████████████████████████████▏                                                                                                 | 35/116 [11:56<25:40, 19.02s/it]"
     ]
    },
    {
     "name": "stdout",
     "output_type": "stream",
     "text": [
      "352103153_ascension-st-vincent-randolph_standardcharges.parquet\n",
      "data/351841606_ascension-st-vincent-jennings_standardcharges.xlsx\n"
     ]
    },
    {
     "name": "stderr",
     "output_type": "stream",
     "text": [
      " 31%|███████████████████████████████████████████▍                                                                                                | 36/116 [12:05<21:19, 15.99s/it]"
     ]
    },
    {
     "name": "stdout",
     "output_type": "stream",
     "text": [
      "351841606_ascension-st-vincent-jennings_standardcharges.parquet\n",
      "data/350784551_ascension-st-vincent-williamsport_standardcharges.xlsx\n"
     ]
    },
    {
     "name": "stderr",
     "output_type": "stream",
     "text": [
      " 32%|████████████████████████████████████████████▋                                                                                               | 37/116 [12:09<16:33, 12.58s/it]"
     ]
    },
    {
     "name": "stdout",
     "output_type": "stream",
     "text": [
      "350784551_ascension-st-vincent-williamsport_standardcharges.parquet\n",
      "data/350876389_ascension-st-vincent-mercy_standardcharges.xlsx\n"
     ]
    },
    {
     "name": "stderr",
     "output_type": "stream",
     "text": [
      " 33%|█████████████████████████████████████████████▊                                                                                              | 38/116 [12:14<13:15, 10.19s/it]"
     ]
    },
    {
     "name": "stdout",
     "output_type": "stream",
     "text": [
      "350876389_ascension-st-vincent-mercy_standardcharges.parquet\n",
      "data/352112529_ascension-st-vincent-clay_standardcharges.xlsx\n"
     ]
    },
    {
     "name": "stderr",
     "output_type": "stream",
     "text": [
      " 34%|███████████████████████████████████████████████                                                                                             | 39/116 [12:16<10:02,  7.82s/it]"
     ]
    },
    {
     "name": "stdout",
     "output_type": "stream",
     "text": [
      "352112529_ascension-st-vincent-clay_standardcharges.parquet\n",
      "data/270847538_ascension-st-vincent-salem_standardcharges.xlsx\n"
     ]
    },
    {
     "name": "stderr",
     "output_type": "stream",
     "text": [
      " 34%|████████████████████████████████████████████████▎                                                                                           | 40/116 [12:24<09:48,  7.75s/it]"
     ]
    },
    {
     "name": "stdout",
     "output_type": "stream",
     "text": [
      "270847538_ascension-st-vincent-salem_standardcharges.parquet\n",
      "data/351343019_ascension-st-vincent-warrick_standardcharges.xlsx\n"
     ]
    },
    {
     "name": "stderr",
     "output_type": "stream",
     "text": [
      " 35%|█████████████████████████████████████████████████▍                                                                                          | 41/116 [12:26<07:37,  6.10s/it]"
     ]
    },
    {
     "name": "stdout",
     "output_type": "stream",
     "text": [
      "An error occurred: Facility_BU_ID\n",
      "The problematic url was: https://healthcare.ascension.org/-/media/project/ascension/healthcare/price-transparency-files/in/351343019_ascension-st-vincent-warrick_standardcharges.xlsx\n",
      "data/272192831_ascension-st-vincent-dunn_standardcharges.xlsx\n"
     ]
    },
    {
     "name": "stderr",
     "output_type": "stream",
     "text": [
      " 36%|██████████████████████████████████████████████████▋                                                                                         | 42/116 [12:30<06:40,  5.42s/it]"
     ]
    },
    {
     "name": "stdout",
     "output_type": "stream",
     "text": [
      "272192831_ascension-st-vincent-dunn_standardcharges.parquet\n",
      "data/351712001_ascension-st-vincent-seton-specialty-hospital_standardcharges.xlsx\n"
     ]
    },
    {
     "name": "stderr",
     "output_type": "stream",
     "text": [
      " 37%|███████████████████████████████████████████████████▉                                                                                        | 43/116 [12:30<04:43,  3.89s/it]"
     ]
    },
    {
     "name": "stdout",
     "output_type": "stream",
     "text": [
      "351712001_ascension-st-vincent-seton-specialty-hospital_standardcharges.parquet\n",
      "data/351991390_ascension-st-vincent-naab-road-surgery-center_standardcharges.xlsx\n"
     ]
    },
    {
     "name": "stderr",
     "output_type": "stream",
     "text": [
      " 38%|█████████████████████████████████████████████████████                                                                                       | 44/116 [12:54<11:45,  9.80s/it]"
     ]
    },
    {
     "name": "stdout",
     "output_type": "stream",
     "text": [
      "351991390_ascension-st-vincent-naab-road-surgery-center_standardcharges.parquet\n",
      "data/320014795_ascension-st-vincent-carmel-asc_standardcharges.xlsx\n"
     ]
    },
    {
     "name": "stderr",
     "output_type": "stream",
     "text": [
      " 39%|██████████████████████████████████████████████████████▎                                                                                     | 45/116 [13:18<16:30, 13.95s/it]"
     ]
    },
    {
     "name": "stdout",
     "output_type": "stream",
     "text": [
      "320014795_ascension-st-vincent-carmel-asc_standardcharges.parquet\n",
      "data/320029881_ascension-st-vincent-endoscopy-center_standardcharges.xlsx\n"
     ]
    },
    {
     "name": "stderr",
     "output_type": "stream",
     "text": [
      " 40%|███████████████████████████████████████████████████████▌                                                                                    | 46/116 [13:41<19:33, 16.76s/it]"
     ]
    },
    {
     "name": "stdout",
     "output_type": "stream",
     "text": [
      "320029881_ascension-st-vincent-endoscopy-center_standardcharges.parquet\n",
      "data/ascension-medical-group-st-vincent-urgent-care.xlsx\n",
      "An error occurred: Facility_BU_ID\n",
      "The problematic url was: https://healthcare.ascension.org/-/media/project/ascension/healthcare/price-transparency-files/in/ascension-medical-group-st-vincent-urgent-care.xlsx\n",
      "data/481186704_ascension-via-christi-hospital-_standardcharges.xlsx\n"
     ]
    },
    {
     "name": "stderr",
     "output_type": "stream",
     "text": [
      " 41%|█████████████████████████████████████████████████████████▉                                                                                  | 48/116 [13:52<13:08, 11.60s/it]"
     ]
    },
    {
     "name": "stdout",
     "output_type": "stream",
     "text": [
      "481186704_ascension-via-christi-hospital-_standardcharges.parquet\n",
      "data/480543778_ascension-via-christi-hospital_standardcharges.xlsx\n"
     ]
    },
    {
     "name": "stderr",
     "output_type": "stream",
     "text": [
      " 42%|███████████████████████████████████████████████████████████▏                                                                                | 49/116 [14:04<12:57, 11.61s/it]"
     ]
    },
    {
     "name": "stdout",
     "output_type": "stream",
     "text": [
      "480543778_ascension-via-christi-hospital_standardcharges.parquet\n",
      "data/481172106_ascension-via-christi-st-francis-_standardcharges.xlsx\n"
     ]
    },
    {
     "name": "stderr",
     "output_type": "stream",
     "text": [
      " 43%|████████████████████████████████████████████████████████████▎                                                                               | 50/116 [14:54<23:55, 21.75s/it]"
     ]
    },
    {
     "name": "stdout",
     "output_type": "stream",
     "text": [
      "481172106_ascension-via-christi-st-francis-_standardcharges.parquet\n",
      "data/271965272_ascension-via-christi-st-teresa_standardcharges.xlsx\n"
     ]
    },
    {
     "name": "stderr",
     "output_type": "stream",
     "text": [
      " 44%|█████████████████████████████████████████████████████████████▌                                                                              | 51/116 [15:12<22:27, 20.73s/it]"
     ]
    },
    {
     "name": "stdout",
     "output_type": "stream",
     "text": [
      "271965272_ascension-via-christi-st-teresa_standardcharges.parquet\n",
      "data/721526400_wamego-health-center_standardcharges.xlsx\n"
     ]
    },
    {
     "name": "stderr",
     "output_type": "stream",
     "text": [
      " 45%|██████████████████████████████████████████████████████████████▊                                                                             | 52/116 [15:18<17:37, 16.52s/it]"
     ]
    },
    {
     "name": "stdout",
     "output_type": "stream",
     "text": [
      "721526400_wamego-health-center_standardcharges.parquet\n",
      "data/481158274_ascension-via-christi-rehabiliatation-hospital_standardcharges.xlsx\n"
     ]
    },
    {
     "name": "stderr",
     "output_type": "stream",
     "text": [
      " 46%|███████████████████████████████████████████████████████████████▉                                                                            | 53/116 [15:26<14:52, 14.17s/it]"
     ]
    },
    {
     "name": "stdout",
     "output_type": "stream",
     "text": [
      "481158274_ascension-via-christi-rehabiliatation-hospital_standardcharges.parquet\n",
      "data/520591657_saint-agnes-hospital_standardcharges.xlsx\n"
     ]
    },
    {
     "name": "stderr",
     "output_type": "stream",
     "text": [
      " 47%|█████████████████████████████████████████████████████████████████▏                                                                          | 54/116 [15:33<12:28, 12.07s/it]"
     ]
    },
    {
     "name": "stdout",
     "output_type": "stream",
     "text": [
      "520591657_saint-agnes-hospital_standardcharges.parquet\n",
      "data/381358212_ascension-providence-hospital-southfield-campus_standardcharges.xlsx\n"
     ]
    },
    {
     "name": "stderr",
     "output_type": "stream",
     "text": [
      " 47%|██████████████████████████████████████████████████████████████████▍                                                                         | 55/116 [15:36<09:26,  9.29s/it]"
     ]
    },
    {
     "name": "stdout",
     "output_type": "stream",
     "text": [
      "An error occurred: Error: potential invalid date format.\n",
      "The problematic url was: https://healthcare.ascension.org/-/media/project/ascension/healthcare/price-transparency-files/mi/381358212_ascension-providence-hospital-southfield-campus_standardcharges.xlsx\n",
      "data/381358212_ascension-providence-hospital-novi-campus_standardcharges.xlsx\n"
     ]
    },
    {
     "name": "stderr",
     "output_type": "stream",
     "text": [
      " 48%|███████████████████████████████████████████████████████████████████▌                                                                        | 56/116 [15:38<07:12,  7.21s/it]"
     ]
    },
    {
     "name": "stdout",
     "output_type": "stream",
     "text": [
      "An error occurred: Error: potential invalid date format.\n",
      "The problematic url was: https://healthcare.ascension.org/-/media/project/ascension/healthcare/price-transparency-files/mi/381358212_ascension-providence-hospital-novi-campus_standardcharges.xlsx\n",
      "data/381359063_ascension-st-john-hospital_standardcharges.xlsx\n"
     ]
    },
    {
     "name": "stderr",
     "output_type": "stream",
     "text": [
      " 49%|████████████████████████████████████████████████████████████████████▊                                                                       | 57/116 [16:26<19:11, 19.51s/it]"
     ]
    },
    {
     "name": "stdout",
     "output_type": "stream",
     "text": [
      "381359063_ascension-st-john-hospital_standardcharges.parquet\n",
      "data/383322109_ascension-macomb-oakland-hospital-warren-campus_standardcharges.xlsx\n"
     ]
    },
    {
     "name": "stderr",
     "output_type": "stream",
     "text": [
      " 50%|██████████████████████████████████████████████████████████████████████                                                                      | 58/116 [16:41<17:22, 17.97s/it]"
     ]
    },
    {
     "name": "stdout",
     "output_type": "stream",
     "text": [
      "383322109_ascension-macomb-oakland-hospital-warren-campus_standardcharges.parquet\n",
      "data/383322109_ascension-macomb-oakland-hospital-madison-heights-campus_standardcharges.xlsx\n"
     ]
    },
    {
     "name": "stderr",
     "output_type": "stream",
     "text": [
      " 51%|███████████████████████████████████████████████████████████████████████▏                                                                    | 59/116 [16:46<13:35, 14.30s/it]"
     ]
    },
    {
     "name": "stdout",
     "output_type": "stream",
     "text": [
      "383322109_ascension-macomb-oakland-hospital-madison-heights-campus_standardcharges.parquet\n",
      "data/383160564_ascension-river-district-hospital_standardcharges.xlsx\n"
     ]
    },
    {
     "name": "stderr",
     "output_type": "stream",
     "text": [
      " 52%|████████████████████████████████████████████████████████████████████████▍                                                                   | 60/116 [17:00<13:13, 14.17s/it]"
     ]
    },
    {
     "name": "stdout",
     "output_type": "stream",
     "text": [
      "383160564_ascension-river-district-hospital_standardcharges.parquet\n"
     ]
    },
    {
     "name": "stderr",
     "output_type": "stream",
     "text": [
      " 53%|█████████████████████████████████████████████████████████████████████████▌                                                                  | 61/116 [17:01<09:13, 10.07s/it]"
     ]
    },
    {
     "name": "stdout",
     "output_type": "stream",
     "text": [
      "data/381576680_ascension-brighton-center-for-recovery_standardcharges.xlsx\n",
      "381576680_ascension-brighton-center-for-recovery_standardcharges.parquet\n",
      "data/382377821_ascension-genesys-hospital_standardcharges.xlsx\n"
     ]
    },
    {
     "name": "stderr",
     "output_type": "stream",
     "text": [
      " 53%|██████████████████████████████████████████████████████████████████████████▊                                                                 | 62/116 [17:31<14:31, 16.14s/it]"
     ]
    },
    {
     "name": "stdout",
     "output_type": "stream",
     "text": [
      "382377821_ascension-genesys-hospital_standardcharges.parquet\n"
     ]
    },
    {
     "name": "stderr",
     "output_type": "stream",
     "text": [
      "Exception ignored in: <function Xlsx2csv.__del__ at 0x7f3ae9e774c0>\n",
      "Traceback (most recent call last):\n",
      "  File \"/home/ubuntu/.local/lib/python3.9/site-packages/xlsx2csv.py\", line 219, in __del__\n",
      "    self.ziphandle.close()\n",
      "AttributeError: 'Xlsx2csv' object has no attribute 'ziphandle'\n",
      " 54%|████████████████████████████████████████████████████████████████████████████                                                                | 63/116 [17:38<11:40, 13.22s/it]"
     ]
    },
    {
     "name": "stdout",
     "output_type": "stream",
     "text": [
      "data/381360526_ascension-borgess-hospital-and-ascension-borgess-pipp-hospital_standardcharges.xlsx\n",
      "An error occurred: Invalid xlsx file: data/381360526_ascension-borgess-hospital-and-ascension-borgess-pipp-hospital_standardcharges.xlsx\n",
      "The problematic url was: https://healthcare.ascension.org/-/media/project/ascension/healthcare/price-transparency-files/mi/381360526_ascension-borgess-hospital-and-ascension-borgess-pipp-hospital_standardcharges.xlsx\n",
      "data/381359180_ascension-borgess-allegan-hospital_standardcharges.xlsx\n"
     ]
    },
    {
     "name": "stderr",
     "output_type": "stream",
     "text": [
      " 55%|█████████████████████████████████████████████████████████████████████████████▏                                                              | 64/116 [17:39<08:27,  9.77s/it]"
     ]
    },
    {
     "name": "stdout",
     "output_type": "stream",
     "text": [
      "An error occurred: Error: potential invalid date format.\n",
      "The problematic url was: https://healthcare.ascension.org/-/media/project/ascension/healthcare/price-transparency-files/mi/381359180_ascension-borgess-allegan-hospital_standardcharges.xlsx\n",
      "data/381490190_ascension-borgess-lee-hospital_standardcharges.xlsx\n"
     ]
    }
   ],
   "source": [
    "for mrf_url, hospital_name in tqdm(mrfs):\n",
    "    # Process each Excel file and save the processed data\n",
    "    # in a .parquet file\n",
    "    \n",
    "    if not os.path.exists('data'):\n",
    "        os.mkdir('data')\n",
    "        \n",
    "    basename = os.path.basename(mrf_url)\n",
    "    \n",
    "    path = f'data/{basename}'\n",
    "    filename, ext = os.path.splitext(basename)\n",
    "    \n",
    "    parquet_name = f'{filename}.parquet'\n",
    "    \n",
    "    # Ascension won't serve you the binary unless you have the\n",
    "    # right headers. So it's necessary to download the file with\n",
    "    # requests and then open it up in a dataframe library.\n",
    "    # This is fine, since we can then cache the files for later.\n",
    "    \n",
    "    if parquet_name in glob('data/*'):\n",
    "        # We've already processed the file\n",
    "        continue\n",
    "    \n",
    "    if path not in glob('data/*'):\n",
    "        resp = requests.get(mrf_url, headers = headers)\n",
    "        output = open(path, 'wb')\n",
    "        output.write(resp.content)\n",
    "        output.close()\n",
    "\n",
    "    try:\n",
    "        df = process(path)    \n",
    "        df.write_parquet(f'data/{parquet_name}')\n",
    "    except Exception as e:\n",
    "        print(f\"An error occurred: {e}\")\n",
    "        print(f\"The problematic url was: {mrf_url}\")"
   ]
  },
  {
   "cell_type": "code",
   "execution_count": null,
   "id": "6aadfc0f-7232-4c4d-abdf-75af0ba53144",
   "metadata": {
    "tags": []
   },
   "outputs": [],
   "source": [
    "dfs"
   ]
  },
  {
   "cell_type": "markdown",
   "id": "594192c5-1012-44b7-8b1a-3d60d1cff651",
   "metadata": {},
   "source": [
    "### Some problematic files:\n",
    "\n",
    "* 272192831_ascension-st-vincent-dunn_standardcharges.xlsx doesn't have a Facility_BU_ID column (everything else is the same)\n",
    "* ascension-medical-group-st-vincent-urgent-care.xlsx doesn't match the schema at all"
   ]
  },
  {
   "cell_type": "markdown",
   "id": "206672ef-fdbf-4193-aa1b-0b2706c72705",
   "metadata": {},
   "source": [
    "### A script for matching names to CCNs"
   ]
  },
  {
   "cell_type": "code",
   "execution_count": null,
   "id": "1ab14199-295e-499a-a056-f2a0fe42fa0b",
   "metadata": {},
   "outputs": [],
   "source": []
  }
 ],
 "metadata": {
  "kernelspec": {
   "display_name": "Python 3 (ipykernel)",
   "language": "python",
   "name": "python3"
  },
  "language_info": {
   "codemirror_mode": {
    "name": "ipython",
    "version": 3
   },
   "file_extension": ".py",
   "mimetype": "text/x-python",
   "name": "python",
   "nbconvert_exporter": "python",
   "pygments_lexer": "ipython3",
   "version": "3.9.16"
  }
 },
 "nbformat": 4,
 "nbformat_minor": 5
}
