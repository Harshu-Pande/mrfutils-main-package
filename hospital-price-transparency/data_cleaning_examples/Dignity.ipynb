{
 "cells": [
  {
   "cell_type": "code",
   "execution_count": 58,
   "id": "099bb1ba-f502-49ea-acdc-c75723e6803f",
   "metadata": {
    "tags": []
   },
   "outputs": [],
   "source": [
    "import polars as pl\n",
    "import json"
   ]
  },
  {
   "cell_type": "markdown",
   "id": "850cd7ff-b067-4b11-96d5-097da3d2ec43",
   "metadata": {},
   "source": [
    "### Loading the file\n",
    "\n",
    "Try running this script on this file:"
   ]
  },
  {
   "cell_type": "code",
   "execution_count": 59,
   "id": "5b8028e6-eae7-40fb-bf22-78e0dec37bfa",
   "metadata": {
    "tags": []
   },
   "outputs": [
    {
     "data": {
      "text/plain": [
       "'https://www.dignityhealth.org/content/dam/dignity-health/documents/pricing-procedure-spreadsheets-2020/2023-mrf-price-transparency-files/465322209_St-Josephs-Behavioral-Health-Center_standardcharges.json'"
      ]
     },
     "execution_count": 59,
     "metadata": {},
     "output_type": "execute_result"
    }
   ],
   "source": [
    "'https://www.dignityhealth.org/content/dam/dignity-health/documents/pricing-procedure-spreadsheets-2020/2023-mrf-price-transparency-files/465322209_St-Josephs-Behavioral-Health-Center_standardcharges.json'"
   ]
  },
  {
   "cell_type": "code",
   "execution_count": 60,
   "id": "cd6d2733-3e31-4b76-8f8b-a3953ee6d66e",
   "metadata": {
    "tags": []
   },
   "outputs": [],
   "source": [
    "file = open('465322209_St-Josephs-Behavioral-Health-Center_standardcharges.json')\n",
    "data = json.load(file)"
   ]
  },
  {
   "cell_type": "code",
   "execution_count": 61,
   "id": "a1bc1007-3d89-4baf-bd48-fcd052951789",
   "metadata": {
    "tags": []
   },
   "outputs": [],
   "source": [
    "for dict_ in data['standard_charge_information']:\n",
    "    for stdchg in dict_['standard_charges']:\n",
    "        stdchg.setdefault('gross_charge', None)\n",
    "        if not any('cash' in key for key in stdchg.keys()):\n",
    "            stdchg.setdefault('discounted_cash', None)"
   ]
  },
  {
   "cell_type": "markdown",
   "id": "18af7df8-b31e-465f-9c18-43ab3fb4f465",
   "metadata": {},
   "source": [
    "The above step is necessary since all structs must have the same number of fields. We basically set each struct (dict) to have a default value if they key isn't given."
   ]
  },
  {
   "cell_type": "markdown",
   "id": "4b59485d-dd04-43ad-aaec-a1e70c545c1a",
   "metadata": {},
   "source": [
    "### Flattening the dataframe piece by piece"
   ]
  },
  {
   "cell_type": "code",
   "execution_count": 62,
   "id": "fc231709-6c73-4d37-904b-f6686574c954",
   "metadata": {
    "tags": []
   },
   "outputs": [],
   "source": [
    "df = pl.DataFrame(data['standard_charge_information'])"
   ]
  },
  {
   "cell_type": "code",
   "execution_count": 63,
   "id": "33505933-9356-4668-829d-f1ef7393d032",
   "metadata": {
    "tags": []
   },
   "outputs": [],
   "source": [
    "df = df.explode('standard_charges')"
   ]
  },
  {
   "cell_type": "code",
   "execution_count": 64,
   "id": "09c99317-5a1f-4c6c-aa57-501a2abf438a",
   "metadata": {
    "tags": []
   },
   "outputs": [],
   "source": [
    "df = df.with_columns([\n",
    "    pl.col('standard_charges').struct.field('minimum').alias('minimum'),\n",
    "    pl.col('standard_charges').struct.field('maximum').alias('maximum'),\n",
    "    pl.col('standard_charges').struct.field('gross_charge').alias('gross_charge'),\n",
    "    pl.col('standard_charges').struct.field('discounted_cash').alias('discounted_cash'),\n",
    "\n",
    "    pl.col('standard_charges').struct.field('setting').alias('setting'),\n",
    "    pl.col('standard_charges').struct.field('payers_information').alias('payers_information'),\n",
    "    pl.col('standard_charges').struct.field('billing_class').alias('billing_class'),\n",
    "]).drop('standard_charges')"
   ]
  },
  {
   "cell_type": "code",
   "execution_count": 65,
   "id": "d82aada0-2483-4d7e-96ff-7fdd17b6fc83",
   "metadata": {
    "tags": []
   },
   "outputs": [],
   "source": [
    "df = df.explode('payers_information')"
   ]
  },
  {
   "cell_type": "code",
   "execution_count": 66,
   "id": "f4ff69d7-ab3b-4dd3-9ec2-1b58f6e26531",
   "metadata": {
    "tags": []
   },
   "outputs": [],
   "source": [
    "df = df.with_columns([\n",
    "    pl.col('payers_information').struct.field('payer_name').alias('payer_name'),\n",
    "    pl.col('payers_information').struct.field('plan_name').alias('plan_name'),\n",
    "    pl.col('payers_information').struct.field('standard_charge').alias('standard_charge'),\n",
    "    pl.col('payers_information').struct.field('contracting_method').alias('contracting_method'),\n",
    "    pl.col('payers_information').struct.field('standard_charge_percent').alias('standard_charge_percent'),\n",
    "]).drop('payers_information')"
   ]
  },
  {
   "cell_type": "code",
   "execution_count": 67,
   "id": "db92aef6-3c2b-44c5-ab01-2baf1508318b",
   "metadata": {
    "tags": []
   },
   "outputs": [],
   "source": [
    "df = df.with_columns(\n",
    "    pl.col('billing_code_information').arr.get(0).struct.field('code'),\n",
    "    pl.col('billing_code_information').arr.get(0).struct.field('type'),\n",
    "    pl.col('billing_code_information').arr.get(1).struct.field('code').alias('rev_code'),\n",
    ").drop(['billing_code_information'])"
   ]
  },
  {
   "cell_type": "code",
   "execution_count": 68,
   "id": "61529488-1761-4938-85fa-12400a1677c7",
   "metadata": {
    "tags": []
   },
   "outputs": [],
   "source": [
    "df = df.with_columns([\n",
    "    pl.when(pl.col('type') == 'CPT').then(pl.col('code')).alias('hcpcs_cpt'),\n",
    "    pl.when(pl.col('type') == 'MS-DRG').then(pl.col('code')).alias('ms_drg'),\n",
    "    pl.when(pl.col('type') == 'ICD').then(pl.col('code')).alias('icd'),\n",
    "])"
   ]
  },
  {
   "cell_type": "code",
   "execution_count": 69,
   "id": "459a980d-9551-42fa-906e-90d37a557aae",
   "metadata": {
    "tags": []
   },
   "outputs": [
    {
     "data": {
      "text/html": [
       "<div><style>\n",
       ".dataframe > thead > tr > th,\n",
       ".dataframe > tbody > tr > td {\n",
       "  text-align: right;\n",
       "}\n",
       "</style>\n",
       "<small>shape: (5, 18)</small><table border=\"1\" class=\"dataframe\"><thead><tr><th>description</th><th>minimum</th><th>maximum</th><th>gross_charge</th><th>discounted_cash</th><th>setting</th><th>billing_class</th><th>payer_name</th><th>plan_name</th><th>standard_charge</th><th>contracting_method</th><th>standard_charge_percent</th><th>code</th><th>type</th><th>rev_code</th><th>hcpcs_cpt</th><th>ms_drg</th><th>icd</th></tr><tr><td>str</td><td>f64</td><td>f64</td><td>null</td><td>null</td><td>str</td><td>str</td><td>str</td><td>str</td><td>f64</td><td>str</td><td>i64</td><td>str</td><td>str</td><td>str</td><td>str</td><td>str</td><td>str</td></tr></thead><tbody><tr><td>&quot;FNA BX W/US GD…</td><td>866.71</td><td>866.71</td><td>null</td><td>null</td><td>&quot;outpatient&quot;</td><td>&quot;facility&quot;</td><td>&quot;Blue Shield CA…</td><td>&quot;Commercial | A…</td><td>null</td><td>&quot;percent of tot…</td><td>94</td><td>&quot;10005&quot;</td><td>&quot;CPT&quot;</td><td>null</td><td>&quot;10005&quot;</td><td>null</td><td>null</td></tr><tr><td>&quot;FNA BX W/US GD…</td><td>866.71</td><td>866.71</td><td>null</td><td>null</td><td>&quot;outpatient&quot;</td><td>&quot;facility&quot;</td><td>&quot;Blue Shield CA…</td><td>&quot;Commercial | E…</td><td>null</td><td>&quot;percent of tot…</td><td>71</td><td>&quot;10005&quot;</td><td>&quot;CPT&quot;</td><td>null</td><td>&quot;10005&quot;</td><td>null</td><td>null</td></tr><tr><td>&quot;FNA BX W/US GD…</td><td>866.71</td><td>866.71</td><td>null</td><td>null</td><td>&quot;outpatient&quot;</td><td>&quot;facility&quot;</td><td>&quot;DHR&quot;</td><td>&quot;Commercial | A…</td><td>null</td><td>&quot;percent of tot…</td><td>28</td><td>&quot;10005&quot;</td><td>&quot;CPT&quot;</td><td>null</td><td>&quot;10005&quot;</td><td>null</td><td>null</td></tr><tr><td>&quot;FNA BX W/US GD…</td><td>866.71</td><td>866.71</td><td>null</td><td>null</td><td>&quot;outpatient&quot;</td><td>&quot;facility&quot;</td><td>&quot;First Health&quot;</td><td>&quot;Commercial | A…</td><td>null</td><td>&quot;percent of tot…</td><td>72</td><td>&quot;10005&quot;</td><td>&quot;CPT&quot;</td><td>null</td><td>&quot;10005&quot;</td><td>null</td><td>null</td></tr><tr><td>&quot;FNA BX W/US GD…</td><td>866.71</td><td>866.71</td><td>null</td><td>null</td><td>&quot;outpatient&quot;</td><td>&quot;facility&quot;</td><td>&quot;MultiPlan&quot;</td><td>&quot;Commercial | A…</td><td>null</td><td>&quot;percent of tot…</td><td>77</td><td>&quot;10005&quot;</td><td>&quot;CPT&quot;</td><td>null</td><td>&quot;10005&quot;</td><td>null</td><td>null</td></tr></tbody></table></div>"
      ],
      "text/plain": [
       "shape: (5, 18)\n",
       "┌─────────────────┬─────────┬─────────┬──────────────┬───┬──────────┬───────────┬────────┬──────┐\n",
       "│ description     ┆ minimum ┆ maximum ┆ gross_charge ┆ … ┆ rev_code ┆ hcpcs_cpt ┆ ms_drg ┆ icd  │\n",
       "│ ---             ┆ ---     ┆ ---     ┆ ---          ┆   ┆ ---      ┆ ---       ┆ ---    ┆ ---  │\n",
       "│ str             ┆ f64     ┆ f64     ┆ null         ┆   ┆ str      ┆ str       ┆ str    ┆ str  │\n",
       "╞═════════════════╪═════════╪═════════╪══════════════╪═══╪══════════╪═══════════╪════════╪══════╡\n",
       "│ FNA BX W/US GDN ┆ 866.71  ┆ 866.71  ┆ null         ┆ … ┆ null     ┆ 10005     ┆ null   ┆ null │\n",
       "│ 1ST LES         ┆         ┆         ┆              ┆   ┆          ┆           ┆        ┆      │\n",
       "│ FNA BX W/US GDN ┆ 866.71  ┆ 866.71  ┆ null         ┆ … ┆ null     ┆ 10005     ┆ null   ┆ null │\n",
       "│ 1ST LES         ┆         ┆         ┆              ┆   ┆          ┆           ┆        ┆      │\n",
       "│ FNA BX W/US GDN ┆ 866.71  ┆ 866.71  ┆ null         ┆ … ┆ null     ┆ 10005     ┆ null   ┆ null │\n",
       "│ 1ST LES         ┆         ┆         ┆              ┆   ┆          ┆           ┆        ┆      │\n",
       "│ FNA BX W/US GDN ┆ 866.71  ┆ 866.71  ┆ null         ┆ … ┆ null     ┆ 10005     ┆ null   ┆ null │\n",
       "│ 1ST LES         ┆         ┆         ┆              ┆   ┆          ┆           ┆        ┆      │\n",
       "│ FNA BX W/US GDN ┆ 866.71  ┆ 866.71  ┆ null         ┆ … ┆ null     ┆ 10005     ┆ null   ┆ null │\n",
       "│ 1ST LES         ┆         ┆         ┆              ┆   ┆          ┆           ┆        ┆      │\n",
       "└─────────────────┴─────────┴─────────┴──────────────┴───┴──────────┴───────────┴────────┴──────┘"
      ]
     },
     "execution_count": 69,
     "metadata": {},
     "output_type": "execute_result"
    }
   ],
   "source": [
    "df.head()"
   ]
  },
  {
   "cell_type": "markdown",
   "id": "2a04431c-c194-4cae-877c-aeade2aaec6f",
   "metadata": {},
   "source": [
    "### Melting the dataframe to unite the fictitious payers with the real payers"
   ]
  },
  {
   "cell_type": "code",
   "execution_count": 70,
   "id": "04f2baef-6e84-4bb9-ac54-3e1aff91bf29",
   "metadata": {
    "tags": []
   },
   "outputs": [],
   "source": [
    "fictitious_payers = ['minimum', 'maximum', 'gross_charge', 'discounted_cash', 'discounted_cash']"
   ]
  },
  {
   "cell_type": "code",
   "execution_count": 71,
   "id": "4775352d-f0ef-4681-94cc-738a4265ee46",
   "metadata": {
    "tags": []
   },
   "outputs": [],
   "source": [
    "df_other = df.select(\n",
    "    c for c in df.columns if c not in \n",
    "    ['payer_name', 'plan_name', 'standard_charge', 'contracting_method', 'standard_charge_percent']\n",
    ")"
   ]
  },
  {
   "cell_type": "code",
   "execution_count": 72,
   "id": "1d533c2b-12f9-487c-99eb-e75e719c84e8",
   "metadata": {
    "tags": []
   },
   "outputs": [],
   "source": [
    "df_other = df_other.melt(\n",
    "    id_vars = [c for c in df_other.columns if c not in fictitious_payers],\n",
    "    value_vars = fictitious_payers,\n",
    "    variable_name = 'payer_name', \n",
    "    value_name = 'standard_charge',\n",
    ")"
   ]
  },
  {
   "cell_type": "code",
   "execution_count": 73,
   "id": "88f44eb9-4bbd-4eec-b408-7424064bf243",
   "metadata": {
    "tags": []
   },
   "outputs": [],
   "source": [
    "df = df.drop(fictitious_payers)"
   ]
  },
  {
   "cell_type": "code",
   "execution_count": 74,
   "id": "2bcdc8c3-6456-4710-aa5e-4771df44007a",
   "metadata": {},
   "outputs": [],
   "source": [
    "for c in df.columns:\n",
    "    if c not in df_other:\n",
    "        dtype = df[c].dtype\n",
    "        df_other = df_other.with_columns(pl.lit(None).cast(dtype).alias(c))\n",
    "        \n",
    "df_other = df_other.select(df.columns)"
   ]
  },
  {
   "cell_type": "code",
   "execution_count": 75,
   "id": "2f0ffcf1-2491-496a-89fb-e2ea2b0dd7b2",
   "metadata": {
    "tags": []
   },
   "outputs": [],
   "source": [
    "df = pl.concat([df, df_other])"
   ]
  },
  {
   "cell_type": "code",
   "execution_count": 76,
   "id": "29cd5856-ebf4-48ca-ba01-daa504aa1e86",
   "metadata": {
    "tags": []
   },
   "outputs": [],
   "source": [
    "df = df.with_columns(\n",
    "    pl\n",
    "    .when(pl.col('payer_name') == 'minimum').then('min')\n",
    "    .when(pl.col('payer_name') == 'maximum').then('max')\n",
    "    .when(pl.col('payer_name') == 'gross_charges').then('gross')\n",
    "    .when(pl.col('payer_name') == 'discounted_cash').then('cash')\n",
    "    .otherwise('payer')\n",
    "    .alias('payer_category')\n",
    ")"
   ]
  },
  {
   "cell_type": "code",
   "execution_count": 77,
   "id": "dcdef949-f6cd-47dd-8299-4920cbe2b1fb",
   "metadata": {
    "tags": []
   },
   "outputs": [],
   "source": [
    "df = df.unique()"
   ]
  },
  {
   "cell_type": "code",
   "execution_count": 78,
   "id": "09426f78-bed8-4d8d-9d21-ebb2cae4fb25",
   "metadata": {
    "tags": []
   },
   "outputs": [],
   "source": [
    "df = df.with_columns(\n",
    "    pl.when(pl.col('standard_charge') == -1).then(None).otherwise(pl.col('standard_charge')).keep_name()\n",
    ")"
   ]
  },
  {
   "cell_type": "code",
   "execution_count": 81,
   "id": "b250db45-2064-468f-b867-e6b0a58cb54a",
   "metadata": {},
   "outputs": [],
   "source": [
    "df = df.filter(~(pl.col('standard_charge').is_null() & pl.col('standard_charge_percent').is_null()))"
   ]
  },
  {
   "cell_type": "code",
   "execution_count": 82,
   "id": "21058e50-d261-43cc-b4da-c333eb80bcff",
   "metadata": {
    "tags": []
   },
   "outputs": [
    {
     "data": {
      "text/html": [
       "<div><style>\n",
       ".dataframe > thead > tr > th,\n",
       ".dataframe > tbody > tr > td {\n",
       "  text-align: right;\n",
       "}\n",
       "</style>\n",
       "<small>shape: (100, 15)</small><table border=\"1\" class=\"dataframe\"><thead><tr><th>description</th><th>setting</th><th>billing_class</th><th>payer_name</th><th>plan_name</th><th>standard_charge</th><th>contracting_method</th><th>standard_charge_percent</th><th>code</th><th>type</th><th>rev_code</th><th>hcpcs_cpt</th><th>ms_drg</th><th>icd</th><th>payer_category</th></tr><tr><td>str</td><td>str</td><td>str</td><td>str</td><td>str</td><td>f64</td><td>str</td><td>i64</td><td>str</td><td>str</td><td>str</td><td>str</td><td>str</td><td>str</td><td>str</td></tr></thead><tbody><tr><td>&quot;ALOGLIPTIN 6.2…</td><td>&quot;outpatient&quot;</td><td>&quot;facility&quot;</td><td>&quot;DHR&quot;</td><td>&quot;Commercial | A…</td><td>14.0</td><td>&quot;fee schedule&quot;</td><td>null</td><td>&quot;6381752&quot;</td><td>&quot;CDM&quot;</td><td>&quot;0637&quot;</td><td>null</td><td>null</td><td>null</td><td>&quot;payer&quot;</td></tr><tr><td>&quot;RL-Q-COXSAK B …</td><td>&quot;outpatient&quot;</td><td>&quot;facility&quot;</td><td>&quot;DHR&quot;</td><td>&quot;Commercial | A…</td><td>1.11</td><td>&quot;fee schedule&quot;</td><td>null</td><td>&quot;86658&quot;</td><td>&quot;CPT&quot;</td><td>&quot;0302&quot;</td><td>&quot;86658&quot;</td><td>null</td><td>null</td><td>&quot;payer&quot;</td></tr><tr><td>&quot;IA INFLUENZA R…</td><td>&quot;outpatient&quot;</td><td>&quot;facility&quot;</td><td>&quot;Anthem&quot;</td><td>&quot;Commercial | E…</td><td>329.42</td><td>&quot;fee schedule&quot;</td><td>null</td><td>&quot;87502&quot;</td><td>&quot;CPT&quot;</td><td>&quot;0306&quot;</td><td>&quot;87502&quot;</td><td>null</td><td>null</td><td>&quot;payer&quot;</td></tr><tr><td>&quot;RL-A-PM/SCL 20…</td><td>&quot;outpatient&quot;</td><td>&quot;facility&quot;</td><td>&quot;Blue Shield CA…</td><td>&quot;Commercial | E…</td><td>46.15</td><td>&quot;fee schedule&quot;</td><td>null</td><td>&quot;86235&quot;</td><td>&quot;CPT&quot;</td><td>&quot;0302&quot;</td><td>&quot;86235&quot;</td><td>null</td><td>null</td><td>&quot;payer&quot;</td></tr><tr><td>&quot;KIDNEY ENDOSCO…</td><td>&quot;outpatient&quot;</td><td>&quot;facility&quot;</td><td>&quot;Blue Shield CA…</td><td>&quot;Commercial | E…</td><td>null</td><td>&quot;percent of tot…</td><td>71</td><td>&quot;50572&quot;</td><td>&quot;CPT&quot;</td><td>null</td><td>&quot;50572&quot;</td><td>null</td><td>null</td><td>&quot;payer&quot;</td></tr><tr><td>&quot;SINUS SURGERY …</td><td>&quot;outpatient&quot;</td><td>&quot;facility&quot;</td><td>&quot;DHR&quot;</td><td>&quot;Commercial | A…</td><td>null</td><td>&quot;percent of tot…</td><td>28</td><td>&quot;31299&quot;</td><td>&quot;CPT&quot;</td><td>null</td><td>&quot;31299&quot;</td><td>null</td><td>null</td><td>&quot;payer&quot;</td></tr><tr><td>&quot;INSERTION OF C…</td><td>&quot;outpatient&quot;</td><td>&quot;facility&quot;</td><td>&quot;First Health&quot;</td><td>&quot;Commercial | A…</td><td>null</td><td>&quot;percent of tot…</td><td>72</td><td>&quot;36800&quot;</td><td>&quot;CPT&quot;</td><td>null</td><td>&quot;36800&quot;</td><td>null</td><td>null</td><td>&quot;payer&quot;</td></tr><tr><td>&quot;INJECTION TREA…</td><td>&quot;outpatient&quot;</td><td>&quot;facility&quot;</td><td>&quot;Blue Shield CA…</td><td>&quot;Commercial | E…</td><td>null</td><td>&quot;percent of tot…</td><td>71</td><td>&quot;66030&quot;</td><td>&quot;CPT&quot;</td><td>null</td><td>&quot;66030&quot;</td><td>null</td><td>null</td><td>&quot;payer&quot;</td></tr><tr><td>&quot;SJM-CULT BODY …</td><td>&quot;inpatient&quot;</td><td>&quot;facility&quot;</td><td>&quot;maximum&quot;</td><td>null</td><td>19.25</td><td>null</td><td>null</td><td>&quot;87070&quot;</td><td>&quot;CPT&quot;</td><td>&quot;0306&quot;</td><td>&quot;87070&quot;</td><td>null</td><td>null</td><td>&quot;max&quot;</td></tr><tr><td>&quot;H-FOLATE SERUM…</td><td>&quot;outpatient&quot;</td><td>&quot;facility&quot;</td><td>&quot;MultiPlan&quot;</td><td>&quot;Commercial | A…</td><td>149.38</td><td>&quot;fee schedule&quot;</td><td>null</td><td>&quot;82746&quot;</td><td>&quot;CPT&quot;</td><td>&quot;0301&quot;</td><td>&quot;82746&quot;</td><td>null</td><td>null</td><td>&quot;payer&quot;</td></tr><tr><td>&quot;RL-A-KID 20843…</td><td>&quot;inpatient&quot;</td><td>&quot;facility&quot;</td><td>&quot;minimum&quot;</td><td>null</td><td>6.5592</td><td>null</td><td>null</td><td>&quot;84560&quot;</td><td>&quot;CPT&quot;</td><td>&quot;0301&quot;</td><td>&quot;84560&quot;</td><td>null</td><td>null</td><td>&quot;min&quot;</td></tr><tr><td>&quot;LAPARO-ASST VA…</td><td>&quot;outpatient&quot;</td><td>&quot;facility&quot;</td><td>&quot;Anthem&quot;</td><td>&quot;Medicare | All…</td><td>6960.93</td><td>&quot;case rate&quot;</td><td>null</td><td>&quot;58550&quot;</td><td>&quot;CPT&quot;</td><td>null</td><td>&quot;58550&quot;</td><td>null</td><td>null</td><td>&quot;payer&quot;</td></tr><tr><td>&hellip;</td><td>&hellip;</td><td>&hellip;</td><td>&hellip;</td><td>&hellip;</td><td>&hellip;</td><td>&hellip;</td><td>&hellip;</td><td>&hellip;</td><td>&hellip;</td><td>&hellip;</td><td>&hellip;</td><td>&hellip;</td><td>&hellip;</td><td>&hellip;</td></tr><tr><td>&quot;PLT PHERL ACDA…</td><td>&quot;outpatient&quot;</td><td>&quot;facility&quot;</td><td>&quot;DHR&quot;</td><td>&quot;Commercial | A…</td><td>399.84</td><td>&quot;fee schedule&quot;</td><td>null</td><td>&quot;3001413&quot;</td><td>&quot;CDM&quot;</td><td>&quot;0390&quot;</td><td>null</td><td>null</td><td>null</td><td>&quot;payer&quot;</td></tr><tr><td>&quot;RECONSTRUCTION…</td><td>&quot;outpatient&quot;</td><td>&quot;facility&quot;</td><td>&quot;Anthem&quot;</td><td>&quot;Medicare | All…</td><td>17425.97</td><td>&quot;case rate&quot;</td><td>null</td><td>&quot;27428&quot;</td><td>&quot;CPT&quot;</td><td>null</td><td>&quot;27428&quot;</td><td>null</td><td>null</td><td>&quot;payer&quot;</td></tr><tr><td>&quot;HCG PREG QL UR…</td><td>&quot;outpatient&quot;</td><td>&quot;facility&quot;</td><td>&quot;First Health&quot;</td><td>&quot;Commercial | A…</td><td>21.6</td><td>&quot;fee schedule&quot;</td><td>null</td><td>&quot;84703&quot;</td><td>&quot;CPT&quot;</td><td>&quot;0301&quot;</td><td>&quot;84703&quot;</td><td>null</td><td>null</td><td>&quot;payer&quot;</td></tr><tr><td>&quot;MECHANIC CHEST…</td><td>&quot;outpatient&quot;</td><td>&quot;facility&quot;</td><td>&quot;MultiPlan&quot;</td><td>&quot;Commercial | A…</td><td>195.58</td><td>&quot;fee schedule&quot;</td><td>null</td><td>&quot;94669&quot;</td><td>&quot;CPT&quot;</td><td>&quot;0410&quot;</td><td>&quot;94669&quot;</td><td>null</td><td>null</td><td>&quot;payer&quot;</td></tr><tr><td>&quot;BIOPSY THIGH S…</td><td>&quot;outpatient&quot;</td><td>&quot;facility&quot;</td><td>&quot;DHR&quot;</td><td>&quot;Commercial | A…</td><td>null</td><td>&quot;percent of tot…</td><td>28</td><td>&quot;27323&quot;</td><td>&quot;CPT&quot;</td><td>null</td><td>&quot;27323&quot;</td><td>null</td><td>null</td><td>&quot;payer&quot;</td></tr><tr><td>&quot;PERQ VERTEBRAL…</td><td>&quot;outpatient&quot;</td><td>&quot;facility&quot;</td><td>&quot;maximum&quot;</td><td>null</td><td>8833.97</td><td>null</td><td>null</td><td>&quot;22514&quot;</td><td>&quot;CPT&quot;</td><td>null</td><td>&quot;22514&quot;</td><td>null</td><td>null</td><td>&quot;max&quot;</td></tr><tr><td>&quot;EXCISION OF GU…</td><td>&quot;outpatient&quot;</td><td>&quot;facility&quot;</td><td>&quot;MultiPlan&quot;</td><td>&quot;Commercial | A…</td><td>null</td><td>&quot;percent of tot…</td><td>77</td><td>&quot;41826&quot;</td><td>&quot;CPT&quot;</td><td>null</td><td>&quot;41826&quot;</td><td>null</td><td>null</td><td>&quot;payer&quot;</td></tr><tr><td>&quot;REMOVE ELBOW J…</td><td>&quot;outpatient&quot;</td><td>&quot;facility&quot;</td><td>&quot;DHR&quot;</td><td>&quot;Medicaid | All…</td><td>null</td><td>&quot;percent of tot…</td><td>10</td><td>&quot;24102&quot;</td><td>&quot;CPT&quot;</td><td>null</td><td>&quot;24102&quot;</td><td>null</td><td>null</td><td>&quot;payer&quot;</td></tr><tr><td>&quot;ST TEST DEVELO…</td><td>&quot;outpatient&quot;</td><td>&quot;facility&quot;</td><td>&quot;minimum&quot;</td><td>null</td><td>21.3</td><td>null</td><td>null</td><td>&quot;96113&quot;</td><td>&quot;CPT&quot;</td><td>&quot;0440&quot;</td><td>&quot;96113&quot;</td><td>null</td><td>null</td><td>&quot;min&quot;</td></tr><tr><td>&quot;RL-A-LIVER PAN…</td><td>&quot;outpatient&quot;</td><td>&quot;facility&quot;</td><td>&quot;Anthem&quot;</td><td>&quot;Commercial | N…</td><td>8.95</td><td>&quot;fee schedule&quot;</td><td>null</td><td>&quot;83516&quot;</td><td>&quot;CPT&quot;</td><td>&quot;0301&quot;</td><td>&quot;83516&quot;</td><td>null</td><td>null</td><td>&quot;payer&quot;</td></tr><tr><td>&quot;REMOVAL OF SUT…</td><td>&quot;outpatient&quot;</td><td>&quot;facility&quot;</td><td>&quot;Blue Shield CA…</td><td>&quot;Commercial | A…</td><td>null</td><td>&quot;percent of tot…</td><td>94</td><td>&quot;46754&quot;</td><td>&quot;CPT&quot;</td><td>null</td><td>&quot;46754&quot;</td><td>null</td><td>null</td><td>&quot;payer&quot;</td></tr><tr><td>&quot;REMOVAL OF THY…</td><td>&quot;outpatient&quot;</td><td>&quot;facility&quot;</td><td>&quot;Kaiser&quot;</td><td>&quot;Medicare | All…</td><td>6960.93</td><td>&quot;case rate&quot;</td><td>null</td><td>&quot;60240&quot;</td><td>&quot;CPT&quot;</td><td>null</td><td>&quot;60240&quot;</td><td>null</td><td>null</td><td>&quot;payer&quot;</td></tr></tbody></table></div>"
      ],
      "text/plain": [
       "shape: (100, 15)\n",
       "┌───────────┬────────────┬────────────┬───────────────┬───┬───────────┬────────┬──────┬────────────┐\n",
       "│ descripti ┆ setting    ┆ billing_cl ┆ payer_name    ┆ … ┆ hcpcs_cpt ┆ ms_drg ┆ icd  ┆ payer_cate │\n",
       "│ on        ┆ ---        ┆ ass        ┆ ---           ┆   ┆ ---       ┆ ---    ┆ ---  ┆ gory       │\n",
       "│ ---       ┆ str        ┆ ---        ┆ str           ┆   ┆ str       ┆ str    ┆ str  ┆ ---        │\n",
       "│ str       ┆            ┆ str        ┆               ┆   ┆           ┆        ┆      ┆ str        │\n",
       "╞═══════════╪════════════╪════════════╪═══════════════╪═══╪═══════════╪════════╪══════╪════════════╡\n",
       "│ ALOGLIPTI ┆ outpatient ┆ facility   ┆ DHR           ┆ … ┆ null      ┆ null   ┆ null ┆ payer      │\n",
       "│ N 6.25 MG ┆            ┆            ┆               ┆   ┆           ┆        ┆      ┆            │\n",
       "│ TAB       ┆            ┆            ┆               ┆   ┆           ┆        ┆      ┆            │\n",
       "│ RL-Q-COXS ┆ outpatient ┆ facility   ┆ DHR           ┆ … ┆ 86658     ┆ null   ┆ null ┆ payer      │\n",
       "│ AK B VRS  ┆            ┆            ┆               ┆   ┆           ┆        ┆      ┆            │\n",
       "│ AB TP 4   ┆            ┆            ┆               ┆   ┆           ┆        ┆      ┆            │\n",
       "│ IA        ┆ outpatient ┆ facility   ┆ Anthem        ┆ … ┆ 87502     ┆ null   ┆ null ┆ payer      │\n",
       "│ INFLUENZA ┆            ┆            ┆               ┆   ┆           ┆        ┆      ┆            │\n",
       "│ RT AMP    ┆            ┆            ┆               ┆   ┆           ┆        ┆      ┆            │\n",
       "│ 1ST 2     ┆            ┆            ┆               ┆   ┆           ┆        ┆      ┆            │\n",
       "│ RL-A-PM/S ┆ outpatient ┆ facility   ┆ Blue Shield   ┆ … ┆ 86235     ┆ null   ┆ null ┆ payer      │\n",
       "│ CL        ┆            ┆            ┆ CA            ┆   ┆           ┆        ┆      ┆            │\n",
       "│ 2003040   ┆            ┆            ┆               ┆   ┆           ┆        ┆      ┆            │\n",
       "│ …         ┆ …          ┆ …          ┆ …             ┆ … ┆ …         ┆ …      ┆ …    ┆ …          │\n",
       "│ ST TEST   ┆ outpatient ┆ facility   ┆ minimum       ┆ … ┆ 96113     ┆ null   ┆ null ┆ min        │\n",
       "│ DEVELOPMN ┆            ┆            ┆               ┆   ┆           ┆        ┆      ┆            │\n",
       "│ T ADD 30  ┆            ┆            ┆               ┆   ┆           ┆        ┆      ┆            │\n",
       "│ RL-A-LIVE ┆ outpatient ┆ facility   ┆ Anthem        ┆ … ┆ 83516     ┆ null   ┆ null ┆ payer      │\n",
       "│ R PAN     ┆            ┆            ┆               ┆   ┆           ┆        ┆      ┆            │\n",
       "│ 3002479C  ┆            ┆            ┆               ┆   ┆           ┆        ┆      ┆            │\n",
       "│ REMOVAL   ┆ outpatient ┆ facility   ┆ Blue Shield   ┆ … ┆ 46754     ┆ null   ┆ null ┆ payer      │\n",
       "│ OF SUTURE ┆            ┆            ┆ CA            ┆   ┆           ┆        ┆      ┆            │\n",
       "│ FROM ANUS ┆            ┆            ┆               ┆   ┆           ┆        ┆      ┆            │\n",
       "│ REMOVAL   ┆ outpatient ┆ facility   ┆ Kaiser        ┆ … ┆ 60240     ┆ null   ┆ null ┆ payer      │\n",
       "│ OF        ┆            ┆            ┆               ┆   ┆           ┆        ┆      ┆            │\n",
       "│ THYROID   ┆            ┆            ┆               ┆   ┆           ┆        ┆      ┆            │\n",
       "└───────────┴────────────┴────────────┴───────────────┴───┴───────────┴────────┴──────┴────────────┘"
      ]
     },
     "execution_count": 82,
     "metadata": {},
     "output_type": "execute_result"
    }
   ],
   "source": [
    "df.sample(100)"
   ]
  },
  {
   "cell_type": "code",
   "execution_count": 83,
   "id": "5821519c-0ed4-4247-ab37-ddceb76ed9d1",
   "metadata": {
    "tags": []
   },
   "outputs": [
    {
     "data": {
      "text/plain": [
       "87027"
      ]
     },
     "execution_count": 83,
     "metadata": {},
     "output_type": "execute_result"
    }
   ],
   "source": [
    "len(df)"
   ]
  },
  {
   "cell_type": "code",
   "execution_count": null,
   "id": "0da3c448-69f8-48aa-a70f-b4a3c97c9882",
   "metadata": {},
   "outputs": [],
   "source": [
    "df.write_csv('dignity_test.csv')"
   ]
  }
 ],
 "metadata": {
  "kernelspec": {
   "display_name": "Python 3 (ipykernel)",
   "language": "python",
   "name": "python3"
  },
  "language_info": {
   "codemirror_mode": {
    "name": "ipython",
    "version": 3
   },
   "file_extension": ".py",
   "mimetype": "text/x-python",
   "name": "python",
   "nbconvert_exporter": "python",
   "pygments_lexer": "ipython3",
   "version": "3.9.16"
  }
 },
 "nbformat": 4,
 "nbformat_minor": 5
}
