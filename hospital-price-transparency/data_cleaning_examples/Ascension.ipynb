{
 "cells": [
  {
   "cell_type": "code",
   "execution_count": 1,
   "id": "0074fdf2-4f18-4300-8fe5-cc959c10219c",
   "metadata": {},
   "outputs": [],
   "source": [
    "import polars as pl"
   ]
  },
  {
   "cell_type": "markdown",
   "id": "1bd142e6-e624-4f1e-87ee-c866a17b27c8",
   "metadata": {},
   "source": [
    "### Expressions for defining columns"
   ]
  },
  {
   "cell_type": "code",
   "execution_count": 2,
   "id": "2fd678b4-7bfd-47e2-83c2-01e2a7f9219b",
   "metadata": {
    "tags": []
   },
   "outputs": [],
   "source": [
    "def payer_category():\n",
    "    return (\n",
    "        pl.when(pl.col('payer_name') == 'Gross_Charge').then('gross')\n",
    "        .when(pl.col('payer_name') == 'Cash_Charge').then('cash')\n",
    "        .when(pl.col('payer_name') == 'Min_Negotiated_Rate').then('min')\n",
    "        .when(pl.col('payer_name') == 'Max_Negotiated_Rate').then('max')\n",
    "        .otherwise('payer').alias('payer_category')\n",
    "    )\n",
    "\n",
    "def hcpcs_cpt_and_drg():\n",
    "    \n",
    "    hcpcs_cpt = pl.when(pl.col('line_type') == '2-CPT').then(pl.col('code')).alias('hcpcs_cpt')\n",
    "    ms_drg = pl.when(pl.col('line_type') == '3-DRG').then(pl.col('code')).str.zfill(3).alias('ms_drg')\n",
    "    \n",
    "    return hcpcs_cpt, ms_drg\n",
    "\n",
    "def all_charges():\n",
    "    \n",
    "    standard_charge_percent = (\n",
    "        pl.col('standard_charge')\n",
    "        .str.extract('(\\d+)% of gross charges')\n",
    "        .alias('standard_charge_percent')\n",
    "    )\n",
    "    \n",
    "    contracting_method = (\n",
    "        pl.when(pl.col('standard_charge').str.contains('\\% of gross charges'))\n",
    "        .then('percent of total billed charge')\n",
    "        .alias('contracting_method')\n",
    "    )\n",
    "    \n",
    "    standard_charge = (\n",
    "        pl.when(pl.col('standard_charge').str.contains('\\% of gross charges'))\n",
    "        .then(None).otherwise(pl.col('standard_charge')).alias('standard_charge')\n",
    "    )\n",
    "\n",
    "    return standard_charge, standard_charge_percent, contracting_method"
   ]
  },
  {
   "cell_type": "code",
   "execution_count": 3,
   "id": "ec1d839b-cf78-4420-9174-42259735a08a",
   "metadata": {
    "tags": []
   },
   "outputs": [],
   "source": [
    "file = '474063406_Ascension Saint Thomas Highlands_standardcharges.xlsx'\n",
    "\n",
    "# These are things I learned from trial and error working with these files\n",
    "# and also examining them in Numbers\n",
    "read_csv_options = {\n",
    "    'skip_rows': 1, \n",
    "    'infer_schema_length': 0, \n",
    "    'null_values': ['N/A']\n",
    "}"
   ]
  },
  {
   "cell_type": "markdown",
   "id": "85ba976b-1537-4db0-9d37-1a6b3bc0ed15",
   "metadata": {},
   "source": [
    "### Trying a single file: an easy and fast workflow\n",
    "\n",
    "My workflow is to build a single parenned object like\n",
    "```py\n",
    "(\n",
    "    df\n",
    "    .transformation\n",
    "    .transformation\n",
    "    ...\n",
    ")\n",
    "```\n",
    "and then keep adding transformations until I get the dataframe I like. I do this in a single cell.\n",
    "\n",
    "So I started like\n",
    "\n",
    "```py\n",
    "(\n",
    "    pl.read_excel(file, sheet_id = 2, read_csv_options = read_csv_options)\n",
    ")\n",
    "```\n",
    "and noticed that I could slice off the first 3 rows, so then I did\n",
    "```py\n",
    "(\n",
    "    pl.read_excel(file, sheet_id = 2, read_csv_options = read_csv_options)\n",
    "    .slice(3,)\n",
    ")\n",
    "```\n",
    "and so on. What I ended up with was this:"
   ]
  },
  {
   "cell_type": "code",
   "execution_count": 4,
   "id": "1834a321-65e7-44c8-aca4-d8b73579adbb",
   "metadata": {
    "tags": []
   },
   "outputs": [
    {
     "data": {
      "text/html": [
       "<div><style>\n",
       ".dataframe > thead > tr > th,\n",
       ".dataframe > tbody > tr > td {\n",
       "  text-align: right;\n",
       "}\n",
       "</style>\n",
       "<small>shape: (10, 11)</small><table border=\"1\" class=\"dataframe\"><thead><tr><th>line_type</th><th>code</th><th>description</th><th>rev_code</th><th>payer_name</th><th>standard_charge</th><th>payer_category</th><th>hcpcs_cpt</th><th>ms_drg</th><th>standard_charge_percent</th><th>contracting_method</th></tr><tr><td>str</td><td>str</td><td>str</td><td>str</td><td>str</td><td>str</td><td>str</td><td>str</td><td>str</td><td>str</td><td>str</td></tr></thead><tbody><tr><td>&quot;3-DRG&quot;</td><td>&quot;820&quot;</td><td>&quot;Lymphoma And L…</td><td>null</td><td>&quot;U57_UNITED_WC_…</td><td>&quot;75123.55&quot;</td><td>&quot;payer&quot;</td><td>null</td><td>&quot;820&quot;</td><td>null</td><td>null</td></tr><tr><td>&quot;1-CDM&quot;</td><td>&quot;42616672&quot;</td><td>&quot;CTA HEAD&quot;</td><td>&quot;0351&quot;</td><td>&quot;Min_Negotiated…</td><td>&quot;813&quot;</td><td>&quot;min&quot;</td><td>null</td><td>null</td><td>null</td><td>null</td></tr><tr><td>&quot;1-CDM&quot;</td><td>&quot;1626345&quot;</td><td>&quot;CLONIDINE 0.1 …</td><td>&quot;0637&quot;</td><td>&quot;Max_Negotiated…</td><td>&quot;50.94&quot;</td><td>&quot;max&quot;</td><td>null</td><td>null</td><td>null</td><td>null</td></tr><tr><td>&quot;1-CDM&quot;</td><td>&quot;1630474&quot;</td><td>&quot;HYDROMORPHONE …</td><td>&quot;0637&quot;</td><td>&quot;Gross_Charge&quot;</td><td>&quot;1.8&quot;</td><td>&quot;gross&quot;</td><td>null</td><td>null</td><td>null</td><td>null</td></tr><tr><td>&quot;3-DRG&quot;</td><td>&quot;737&quot;</td><td>&quot;Uterine And Ad…</td><td>null</td><td>&quot;H83_HUMANA_MED…</td><td>&quot;15466.8&quot;</td><td>&quot;payer&quot;</td><td>null</td><td>&quot;737&quot;</td><td>null</td><td>null</td></tr><tr><td>&quot;3-DRG&quot;</td><td>&quot;156&quot;</td><td>&quot;Other Ear, Nos…</td><td>null</td><td>&quot;H02_CIGNA_MEDI…</td><td>&quot;4941.68&quot;</td><td>&quot;payer&quot;</td><td>null</td><td>&quot;156&quot;</td><td>null</td><td>null</td></tr><tr><td>&quot;1-CDM&quot;</td><td>&quot;1629069&quot;</td><td>&quot;NALOXONE 0.4 M…</td><td>&quot;0251&quot;</td><td>&quot;Max_Negotiated…</td><td>&quot;83.84&quot;</td><td>&quot;max&quot;</td><td>null</td><td>null</td><td>null</td><td>null</td></tr><tr><td>&quot;1-CDM&quot;</td><td>&quot;37805971&quot;</td><td>&quot;SPLINT ORTHOGL…</td><td>&quot;0270&quot;</td><td>&quot;Max_Negotiated…</td><td>&quot;459.06&quot;</td><td>&quot;max&quot;</td><td>null</td><td>null</td><td>null</td><td>null</td></tr><tr><td>&quot;3-DRG&quot;</td><td>&quot;787&quot;</td><td>&quot;Cesarean Secti…</td><td>null</td><td>&quot;H46_AETNA_MCAR…</td><td>&quot;8145.61&quot;</td><td>&quot;payer&quot;</td><td>null</td><td>&quot;787&quot;</td><td>null</td><td>null</td></tr><tr><td>&quot;3-DRG&quot;</td><td>&quot;806&quot;</td><td>&quot;Vaginal Delive…</td><td>null</td><td>&quot;H50_SMARTHEALT…</td><td>&quot;7774.94&quot;</td><td>&quot;payer&quot;</td><td>null</td><td>&quot;806&quot;</td><td>null</td><td>null</td></tr></tbody></table></div>"
      ],
      "text/plain": [
       "shape: (10, 11)\n",
       "┌───────────┬──────────┬───────────┬──────────┬───┬───────────┬────────┬────────────┬──────────────┐\n",
       "│ line_type ┆ code     ┆ descripti ┆ rev_code ┆ … ┆ hcpcs_cpt ┆ ms_drg ┆ standard_c ┆ contracting_ │\n",
       "│ ---       ┆ ---      ┆ on        ┆ ---      ┆   ┆ ---       ┆ ---    ┆ harge_perc ┆ method       │\n",
       "│ str       ┆ str      ┆ ---       ┆ str      ┆   ┆ str       ┆ str    ┆ ent        ┆ ---          │\n",
       "│           ┆          ┆ str       ┆          ┆   ┆           ┆        ┆ ---        ┆ str          │\n",
       "│           ┆          ┆           ┆          ┆   ┆           ┆        ┆ str        ┆              │\n",
       "╞═══════════╪══════════╪═══════════╪══════════╪═══╪═══════════╪════════╪════════════╪══════════════╡\n",
       "│ 3-DRG     ┆ 820      ┆ Lymphoma  ┆ null     ┆ … ┆ null      ┆ 820    ┆ null       ┆ null         │\n",
       "│           ┆          ┆ And       ┆          ┆   ┆           ┆        ┆            ┆              │\n",
       "│           ┆          ┆ Leukemia  ┆          ┆   ┆           ┆        ┆            ┆              │\n",
       "│           ┆          ┆ With      ┆          ┆   ┆           ┆        ┆            ┆              │\n",
       "│           ┆          ┆ Major…    ┆          ┆   ┆           ┆        ┆            ┆              │\n",
       "│ 1-CDM     ┆ 42616672 ┆ CTA HEAD  ┆ 0351     ┆ … ┆ null      ┆ null   ┆ null       ┆ null         │\n",
       "│ 1-CDM     ┆ 1626345  ┆ CLONIDINE ┆ 0637     ┆ … ┆ null      ┆ null   ┆ null       ┆ null         │\n",
       "│           ┆          ┆ 0.1 MG/24 ┆          ┆   ┆           ┆        ┆            ┆              │\n",
       "│           ┆          ┆ HR PATCH  ┆          ┆   ┆           ┆        ┆            ┆              │\n",
       "│ 1-CDM     ┆ 1630474  ┆ HYDROMORP ┆ 0637     ┆ … ┆ null      ┆ null   ┆ null       ┆ null         │\n",
       "│           ┆          ┆ HONE 2 MG ┆          ┆   ┆           ┆        ┆            ┆              │\n",
       "│           ┆          ┆ TAB       ┆          ┆   ┆           ┆        ┆            ┆              │\n",
       "│ …         ┆ …        ┆ …         ┆ …        ┆ … ┆ …         ┆ …      ┆ …          ┆ …            │\n",
       "│ 1-CDM     ┆ 1629069  ┆ NALOXONE  ┆ 0251     ┆ … ┆ null      ┆ null   ┆ null       ┆ null         │\n",
       "│           ┆          ┆ 0.4 MG/ML ┆          ┆   ┆           ┆        ┆            ┆              │\n",
       "│           ┆          ┆ 1 ML INJ  ┆          ┆   ┆           ┆        ┆            ┆              │\n",
       "│ 1-CDM     ┆ 37805971 ┆ SPLINT    ┆ 0270     ┆ … ┆ null      ┆ null   ┆ null       ┆ null         │\n",
       "│           ┆          ┆ ORTHOGLAS ┆          ┆   ┆           ┆        ┆            ┆              │\n",
       "│           ┆          ┆ S 6 IN    ┆          ┆   ┆           ┆        ┆            ┆              │\n",
       "│ 3-DRG     ┆ 787      ┆ Cesarean  ┆ null     ┆ … ┆ null      ┆ 787    ┆ null       ┆ null         │\n",
       "│           ┆          ┆ Section   ┆          ┆   ┆           ┆        ┆            ┆              │\n",
       "│           ┆          ┆ Without   ┆          ┆   ┆           ┆        ┆            ┆              │\n",
       "│           ┆          ┆ Sterili…  ┆          ┆   ┆           ┆        ┆            ┆              │\n",
       "│ 3-DRG     ┆ 806      ┆ Vaginal   ┆ null     ┆ … ┆ null      ┆ 806    ┆ null       ┆ null         │\n",
       "│           ┆          ┆ Delivery  ┆          ┆   ┆           ┆        ┆            ┆              │\n",
       "│           ┆          ┆ Without   ┆          ┆   ┆           ┆        ┆            ┆              │\n",
       "│           ┆          ┆ Sterili…  ┆          ┆   ┆           ┆        ┆            ┆              │\n",
       "└───────────┴──────────┴───────────┴──────────┴───┴───────────┴────────┴────────────┴──────────────┘"
      ]
     },
     "execution_count": 4,
     "metadata": {},
     "output_type": "execute_result"
    }
   ],
   "source": [
    "(\n",
    "    pl.read_excel(file, sheet_id = 2, read_csv_options = read_csv_options)\n",
    "    .slice(3,)\n",
    "    .drop(['Facility_BU_ID', 'UB_Revenue_Description'])\n",
    "    .rename({\n",
    "        'Code_Type':'line_type',\n",
    "        'Code':'code',\n",
    "        'Description':'description',\n",
    "        'UB_Revenue_Code':'rev_code',\n",
    "    })\n",
    "    .melt(\n",
    "        ['line_type', 'code', 'description', 'rev_code'],\n",
    "        variable_name = 'payer_name',\n",
    "        value_name = 'standard_charge',\n",
    "    )\n",
    "    .filter(pl.col('standard_charge').is_not_null())\n",
    "    .with_columns([\n",
    "        payer_category(),\n",
    "        pl.col('rev_code').str.zfill(4).keep_name(),\n",
    "        *hcpcs_cpt_and_drg(),\n",
    "        *all_charges(),\n",
    "    ])\n",
    ").sample(10)"
   ]
  },
  {
   "cell_type": "markdown",
   "id": "94599060-8c9a-4776-8beb-ac87cdbc6169",
   "metadata": {},
   "source": [
    "Let's turn this into a function so that we can process any excel file (assuming they're formatted the same way. We'll inspect this later."
   ]
  },
  {
   "cell_type": "code",
   "execution_count": 22,
   "id": "66c39a64-51ac-475f-b9c4-5a61dde1db70",
   "metadata": {
    "tags": []
   },
   "outputs": [],
   "source": [
    "def process(url):\n",
    "    \n",
    "    # Putting my notes here as I go:\n",
    "    \n",
    "    # Around the 20th file in: upon trying to cast \n",
    "    # 'standard_charge' to float, I got:\n",
    "    \n",
    "    # ComputeError: strict conversion from `str` to `f64` failed for value(s) \n",
    "    # [\"85% of gross charges\", \"65% of gross charges\", … \"82% of gross charges\"]; \n",
    "    # if you were trying to cast Utf8 to temporal dtypes, consider using `strptime`\n",
    "    \n",
    "    # So this tells me that this a relatively uncommon thing, but that it does happen\n",
    "    \n",
    "    df = (\n",
    "        pl.read_excel(url, sheet_id = 2, read_csv_options = read_csv_options)\n",
    "        .slice(3,)\n",
    "    )\n",
    "    \n",
    "    # This column is present in most of the files, but not all:\n",
    "    if 'Facility_BU_ID' in df.columns:\n",
    "        df = df.drop('Facility_BU_ID')\n",
    "    \n",
    "    df = (\n",
    "        df\n",
    "        .drop('UB_Revenue_Description')\n",
    "        .rename({\n",
    "            'Code_Type':'line_type',\n",
    "            'Code':'code',\n",
    "            'Description':'description',\n",
    "            'UB_Revenue_Code':'rev_code',\n",
    "        })\n",
    "        .melt(\n",
    "            ['line_type', 'code', 'description', 'rev_code'],\n",
    "            variable_name = 'payer_name',\n",
    "            value_name = 'standard_charge',\n",
    "        )\n",
    "        .filter(pl.col('standard_charge').is_not_null())\n",
    "        .with_columns([\n",
    "            payer_category(),\n",
    "            pl.col('rev_code').str.zfill(4).keep_name(),\n",
    "            *hcpcs_cpt_and_drg(),\n",
    "            *all_charges(),\n",
    "        ])\n",
    "    )\n",
    "    \n",
    "    return df"
   ]
  },
  {
   "cell_type": "markdown",
   "id": "f8999414-bc3b-401d-a08f-db29b18cf86e",
   "metadata": {},
   "source": [
    "### Getting the MRF links from the Ascension page"
   ]
  },
  {
   "cell_type": "code",
   "execution_count": 23,
   "id": "a0cfcdeb-cbf3-41c8-b280-c1e78eaa8286",
   "metadata": {
    "tags": []
   },
   "outputs": [],
   "source": [
    "from bs4 import BeautifulSoup\n",
    "import requests\n",
    "\n",
    "headers = {\n",
    "    \"Connection\": \"keep-alive\",\n",
    "    \"User-Agent\": \"Mozilla/5.0 (Windows NT 10.0; Win64; x64) AppleWebKit/537.36 (KHTML, like Gecko) Chrome/72.0.3626.121 Safari/537.36\"\n",
    "}\n",
    "\n",
    "mrf_page = 'https://healthcare.ascension.org/price-transparency/price-transparency-files'\n",
    "\n",
    "resp = requests.get(mrf_page, headers = headers)"
   ]
  },
  {
   "cell_type": "code",
   "execution_count": 24,
   "id": "7a12ab0f-1adc-4a00-9bd9-287a2c582e28",
   "metadata": {
    "tags": []
   },
   "outputs": [
    {
     "name": "stdout",
     "output_type": "stream",
     "text": [
      "The number of MRFs found was 116\n"
     ]
    }
   ],
   "source": [
    "soup = BeautifulSoup(resp.content)\n",
    "mrfs = []\n",
    "base_url = 'https://healthcare.ascension.org'\n",
    "for link in soup.find_all('a'):\n",
    "    if '.xlsx' in link.get('href'):\n",
    "        mrfs.append((base_url + link.get('href'), link.text))\n",
    "        \n",
    "print(f'The number of MRFs found was {len(mrfs)}')"
   ]
  },
  {
   "cell_type": "markdown",
   "id": "c17017da-1074-4efa-9822-f74f890cd355",
   "metadata": {},
   "source": [
    "Here's an example of what's in the list of MRF tuples: it's just the link to the MRF, plus the hospital name as shown on the Ascension website."
   ]
  },
  {
   "cell_type": "code",
   "execution_count": 25,
   "id": "4d81aad1-5f5c-4c11-aec3-d06c6fc4cd11",
   "metadata": {
    "tags": []
   },
   "outputs": [
    {
     "data": {
      "text/plain": [
       "('https://healthcare.ascension.org/-/media/project/ascension/healthcare/price-transparency-files/fl/300577249_ascension-sacred-heart-gulf_standardcharges.xlsx',\n",
       " 'Ascension Sacred Heart Gulf')"
      ]
     },
     "execution_count": 25,
     "metadata": {},
     "output_type": "execute_result"
    }
   ],
   "source": [
    "mrfs[12]"
   ]
  },
  {
   "cell_type": "markdown",
   "id": "2c4355b8-8cb9-4db5-9408-bee13e5e91de",
   "metadata": {},
   "source": [
    "### Looping through all the Ascension MRFs"
   ]
  },
  {
   "cell_type": "code",
   "execution_count": 26,
   "id": "2c3ad2eb-5d59-429a-8548-deeaadb0d1fe",
   "metadata": {
    "tags": []
   },
   "outputs": [],
   "source": [
    "from tqdm import tqdm\n",
    "from glob import glob\n",
    "import os"
   ]
  },
  {
   "cell_type": "code",
   "execution_count": 28,
   "id": "4f776bf1-08b4-44f7-b2fa-c4badccfae06",
   "metadata": {
    "tags": []
   },
   "outputs": [
    {
     "name": "stderr",
     "output_type": "stream",
     "text": [
      " 47%|██████████████████████████████████████████████████████████████████▍                                                                         | 55/116 [00:02<00:02, 22.00it/s]"
     ]
    },
    {
     "name": "stdout",
     "output_type": "stream",
     "text": [
      "An error occurred: Error: potential invalid date format.\n",
      "The problematic url was: https://healthcare.ascension.org/-/media/project/ascension/healthcare/price-transparency-files/mi/381358212_ascension-providence-hospital-southfield-campus_standardcharges.xlsx\n"
     ]
    },
    {
     "name": "stderr",
     "output_type": "stream",
     "text": [
      " 50%|██████████████████████████████████████████████████████████████████████                                                                      | 58/116 [00:04<00:05, 10.40it/s]Exception ignored in: <function Xlsx2csv.__del__ at 0x7f9bf0181940>\n",
      "Traceback (most recent call last):\n",
      "  File \"/home/ubuntu/.local/lib/python3.9/site-packages/xlsx2csv.py\", line 219, in __del__\n",
      "    self.ziphandle.close()\n",
      "AttributeError: 'Xlsx2csv' object has no attribute 'ziphandle'\n"
     ]
    },
    {
     "name": "stdout",
     "output_type": "stream",
     "text": [
      "An error occurred: Error: potential invalid date format.\n",
      "The problematic url was: https://healthcare.ascension.org/-/media/project/ascension/healthcare/price-transparency-files/mi/381358212_ascension-providence-hospital-novi-campus_standardcharges.xlsx\n",
      "An error occurred: Invalid xlsx file: data/381360526_ascension-borgess-hospital-and-ascension-borgess-pipp-hospital_standardcharges.xlsx\n",
      "The problematic url was: https://healthcare.ascension.org/-/media/project/ascension/healthcare/price-transparency-files/mi/381360526_ascension-borgess-hospital-and-ascension-borgess-pipp-hospital_standardcharges.xlsx\n"
     ]
    },
    {
     "name": "stderr",
     "output_type": "stream",
     "text": [
      " 55%|█████████████████████████████████████████████████████████████████████████████▏                                                              | 64/116 [00:06<00:06,  8.49it/s]Exception ignored in: <function Xlsx2csv.__del__ at 0x7f9bf0181940>\n",
      "Traceback (most recent call last):\n",
      "  File \"/home/ubuntu/.local/lib/python3.9/site-packages/xlsx2csv.py\", line 219, in __del__\n",
      "    self.ziphandle.close()\n",
      "AttributeError: 'Xlsx2csv' object has no attribute 'ziphandle'\n",
      "100%|███████████████████████████████████████████████████████████████████████████████████████████████████████████████████████████████████████████| 116/116 [00:06<00:00, 18.64it/s]"
     ]
    },
    {
     "name": "stdout",
     "output_type": "stream",
     "text": [
      "An error occurred: Error: potential invalid date format.\n",
      "The problematic url was: https://healthcare.ascension.org/-/media/project/ascension/healthcare/price-transparency-files/mi/381359180_ascension-borgess-allegan-hospital_standardcharges.xlsx\n",
      "An error occurred: Bad magic number for file header\n",
      "The problematic url was: https://healthcare.ascension.org/-/media/project/ascension/healthcare/price-transparency-files/mi/381359247_asccension-providence-rochester-hospital_standardcharges.xlsx\n",
      "An error occurred: Invalid xlsx file: data/380997730_ascension-st-marys-hospital_standardcharges.xlsx\n",
      "The problematic url was: https://healthcare.ascension.org/-/media/project/ascension/healthcare/price-transparency-files/mi/380997730_ascension-st-marys-hospital_standardcharges.xlsx\n",
      "An error occurred: Error: potential invalid date format.\n",
      "The problematic url was: https://healthcare.ascension.org/-/media/project/ascension/healthcare/price-transparency-files/tx/741109643_ascension-seton-shoal-creek-ip-psych_standardcharges.xlsx\n"
     ]
    },
    {
     "name": "stderr",
     "output_type": "stream",
     "text": [
      "\n"
     ]
    }
   ],
   "source": [
    "for mrf_url, hospital_name in tqdm(mrfs):\n",
    "    # Process each Excel file and save the processed data\n",
    "    # in a .parquet file\n",
    "    \n",
    "    if not os.path.exists('data'):\n",
    "        os.mkdir('data')\n",
    "        \n",
    "    basename = os.path.basename(mrf_url)\n",
    "    \n",
    "    # We want to omit files without the EIN for now\n",
    "    if not basename[:9].isdigit():\n",
    "        continue\n",
    "\n",
    "    \n",
    "    path = f'data/{basename}'\n",
    "    filename, ext = os.path.splitext(basename)\n",
    "    \n",
    "    parquet_name = f'{filename}.parquet'\n",
    "    parquet_path = 'data/' + parquet_name\n",
    "    \n",
    "    # Ascension won't serve you the binary unless you have the\n",
    "    # right headers. So it's necessary to download the file with\n",
    "    # requests and then open it up in a dataframe library.\n",
    "    # This is fine, since we can then cache the files for later.\n",
    "    \n",
    "    if parquet_path in glob('data/*'):\n",
    "        # We've already processed the file\n",
    "        continue\n",
    "    \n",
    "    if path not in glob('data/*'):\n",
    "        resp = requests.get(mrf_url, headers = headers)\n",
    "        output = open(path, 'wb')\n",
    "        output.write(resp.content)\n",
    "        output.close()\n",
    "\n",
    "    try:\n",
    "        df = process(path)    \n",
    "        df.write_parquet(parquet_path)\n",
    "    except Exception as e:\n",
    "        print(f\"An error occurred: {e}\")\n",
    "        print(f\"The problematic url was: {mrf_url}\")"
   ]
  },
  {
   "cell_type": "markdown",
   "id": "594192c5-1012-44b7-8b1a-3d60d1cff651",
   "metadata": {},
   "source": [
    "### Some problematic files:\n",
    "\n",
    "* 272192831_ascension-st-vincent-dunn_standardcharges.xlsx doesn't have a Facility_BU_ID column (everything else is the same)\n",
    "* ascension-medical-group-st-vincent-urgent-care.xlsx doesn't match the schema at all"
   ]
  },
  {
   "cell_type": "markdown",
   "id": "c05f356c-1a37-4e82-9c9a-4dca7932c45e",
   "metadata": {},
   "source": [
    "### Looking at the files as a whole"
   ]
  },
  {
   "cell_type": "code",
   "execution_count": 29,
   "id": "1fd4a2fb-5643-4360-acaf-f1def5d9b552",
   "metadata": {
    "tags": []
   },
   "outputs": [],
   "source": [
    "import polars as pl\n",
    "from glob import glob"
   ]
  },
  {
   "cell_type": "code",
   "execution_count": 40,
   "id": "a57b21e0-09f5-4ee2-a2f6-e5af4e13d7db",
   "metadata": {
    "tags": []
   },
   "outputs": [
    {
     "data": {
      "text/plain": [
       "['630288861_ascension-providence_standardcharges',\n",
       " '474063232_ascension-saint-thomas-stones-river_standardcharges',\n",
       " '741109643_ascension-seton-edgar-b-davis_standardcharges',\n",
       " '362235165_amita-health-resurrection-medical-center-chicago_standardcharges',\n",
       " '593650609_ascension-st-vincents-st-johns-county_standardcharges',\n",
       " '474063406_ascension-saint-thomas-highlands_standardcharges',\n",
       " '461523194_ascension-st-vincents-clay-county_standardcharges',\n",
       " '562592868_midwest-orthopedic-specialty-hospital_standardcharges',\n",
       " '721526400_wamego-health-center_standardcharges',\n",
       " '741109643_ascension-seton-hays_standardcharges',\n",
       " '454243702_ascension-st-vincent-fishers_standardcharges',\n",
       " '630288864_saint-vincents-birmingham_standardcharges',\n",
       " '391264986_ascension-all-saints-hospital-wisconsin-avenue-campus_standardcharges',\n",
       " '350992717_ascension-st-vincent-kokomo-_standardcharges',\n",
       " '810935368_saint-vincents-chilton_standardcharges',\n",
       " '741109636_ascension-providence-depaul-distinct-part-unit_standardcharges',\n",
       " '741109643_ascension-seton-southwest_standardcharges',\n",
       " '351841606_ascension-st-vincent-jennings_standardcharges',\n",
       " '730662663_ascension-st-john-sapulpa_standardcharges',\n",
       " '203700131_ascension-st-john-owasso_standardcharges',\n",
       " '741109643_dell-childrens-medical-center_standardcharges',\n",
       " '150532221_our-lady-of-lourdes-memorial-hospital_standardcharges',\n",
       " '300577249_ascension-sacred-heart-gulf_standardcharges',\n",
       " '474063149_ascension-saint-thomas-river-park_standardcharges',\n",
       " '590624449_ascension-st-vincents-riverside_standardcharges',\n",
       " '352112529_ascension-st-vincent-clay_standardcharges',\n",
       " '381490190_ascension-borgess-lee-hospital_standardcharges',\n",
       " '270847538_ascension-st-vincent-salem_standardcharges',\n",
       " '362235165_amita-health-holy-family-medical-center-des-plaines_standardcharges',\n",
       " '481186704_ascension-via-christi-hospital-_standardcharges',\n",
       " '364195126_amita-health-saint-joseph-hospital-elgin_standardcharges',\n",
       " '351343019_ascension-st-vincent-warrick_standardcharges',\n",
       " '320029881_ascension-st-vincent-endoscopy-center_standardcharges',\n",
       " '620347580_ascension-saint-thomas-hospital-west_standardcharges',\n",
       " '390905385_ascension-calumet-hospital_standardcharges',\n",
       " '351991390_ascension-st-vincent-naab-road-surgery-center_standardcharges',\n",
       " '390806315_ascension-columbia-st-marys-hospital-milwaukee-incl-columbia-st-marys-womens-hospital_standardcharges',\n",
       " '362235165_amita-health-saints-mary-and-elizabeth-medical-center-chicago_standardcharges',\n",
       " '271965272_ascension-via-christi-st-teresa_standardcharges',\n",
       " '730606129_ascension-st-john-jane-phillips_standardcharges',\n",
       " '460877261_ascension-st-vincent-anderson_standardcharges',\n",
       " '381576680_ascension-brighton-center-for-recovery_standardcharges',\n",
       " '383322109_ascension-macomb-oakland-hospital-madison-heights-campus_standardcharges',\n",
       " '741109643_ascension-seton-williamson_standardcharges',\n",
       " '900799724_ascension-sacred-heart-bay_standardcharges',\n",
       " '390816857_ascension-se-wisconsin-hospital-st-joseph-campus_standardcharges',\n",
       " '390907740_ascension-st-francis-hospital_standardcharges',\n",
       " '381671120_ascension-standish-hospital_standardcharges',\n",
       " '364195126_amita-health-saint-joseph-medical-center-joliet_standardcharges',\n",
       " '364251848_alexian-brothers-behavioral-health-hospital_standardcharges',\n",
       " '364251846_amita-health-st-alexius-medical-center-hoffman-estates-and-amita-health-women-and-childrens-hospital-hoffman-estates_standardcharges',\n",
       " '352103153_ascension-st-vincent-randolph_standardcharges',\n",
       " '362235165_amita-health-saint-joseph-hospital-chicago_standardcharges',\n",
       " '392015655_orthopaedic-hospital-of-wisconsin_standardcharges',\n",
       " '741109636_ascension-providence_standardcharges',\n",
       " '364195126_amita-health-mercy-medical-center-aurora_standardcharges',\n",
       " '362235165_amita-health-saint-francis-hospital-evanston_standardcharges',\n",
       " '362596381_amita-health-alexian-brothers-medical-center-elk-grove-village-and-amita-health-rehabilitation-hospital-elk-grove-village_standardcharges',\n",
       " '730579286_ascension-st-john-medical-center_standardcharges',\n",
       " '351712001_ascension-st-vincent-seton-specialty-hospital_standardcharges',\n",
       " '390902199_ascension-sacred-heart-rehabilitation-hospital_standardcharges',\n",
       " '381359063_ascension-st-john-hospital_standardcharges',\n",
       " '631146531_saint-vincents-saint-clair_standardcharges',\n",
       " '383160564_ascension-river-district-hospital_standardcharges',\n",
       " '731440267_ascension-st-john-nowata_standardcharges',\n",
       " '350876389_ascension-st-vincent-mercy_standardcharges',\n",
       " '630578923_ascension-saint-vincents-east_standardcharges',\n",
       " '481172106_ascension-via-christi-st-francis-_standardcharges',\n",
       " '480543778_ascension-via-christi-hospital_standardcharges',\n",
       " '721529708_ascension-sacred-heart-emerald-coast_standardcharges',\n",
       " '272192831_ascension-st-vincent-dunn_standardcharges',\n",
       " '364492612_ascension-st-vincent-heart-center_standardcharges',\n",
       " '620475842_ascension-saint-thomas-rutherford_standardcharges',\n",
       " '390816857_ascension-se-wisconsin-hospital-elmbrook-campus_standardcharges',\n",
       " '390816818_ascension-ne-wisconsin-mercy-campus_standardcharges',\n",
       " '383322109_ascension-macomb-oakland-hospital-warren-campus_standardcharges',\n",
       " '741109643_ascension-seton-medical-center-austin_standardcharges',\n",
       " '741109643_ascension-seton-smithville_standardcharges',\n",
       " '620347580_ascension-saint-thomas-hospital-midtown_standardcharges',\n",
       " '390816818_ascension-ne-wisconsin-st-elizabeth-campus_standardcharges',\n",
       " '741109643_ascension-seton-bastrop_standardcharges',\n",
       " '741109643_dell-seton-medical-center-at-the-university-of-texas_standardcharges',\n",
       " '390816857_ascension-se-wisconsin-hospital-franklin-campus_standardcharges',\n",
       " '741109643_ascension-seton-highland-lakes_standardcharges',\n",
       " '743107055_ascension-st-vincent-carmel_standardcharges',\n",
       " '520591657_saint-agnes-hospital_standardcharges',\n",
       " '581737573_ascension-saint-thomas-hickman_standardcharges',\n",
       " '383833117_ascension-st-john-broken-arrow_standardcharges',\n",
       " '630909073_saint-vincents-blount_standardcharges',\n",
       " '320014795_ascension-st-vincent-carmel-asc_standardcharges',\n",
       " '382377821_ascension-genesys-hospital_standardcharges',\n",
       " '590634434_ascension-sacred-heart-pensacola_standardcharges',\n",
       " '474063289_ascension-saint-thomas-dekalb_standardcharges',\n",
       " '741109643_ascension-seton-northwest_standardcharges',\n",
       " '364195126_amita-health-st-marys-hospital-kankakee_standardcharges',\n",
       " '350784551_ascension-st-vincent-williamsport_standardcharges',\n",
       " '390806315_ascension-columbia-st-marys-hospital-ozaukee_standardcharges',\n",
       " '381443395_ascension-st-joseph-hospital_standardcharges',\n",
       " '481158274_ascension-via-christi-rehabiliatation-hospital_standardcharges',\n",
       " '350869065_ascension-st-vincent-evansville_standardcharges',\n",
       " '350869066_ascension-st-vincent-hospital_standardcharges',\n",
       " '260479484_ascension-st-vincents-southside_standardcharges']"
      ]
     },
     "execution_count": 40,
     "metadata": {},
     "output_type": "execute_result"
    }
   ],
   "source": [
    "[ for f in glob('data/*.parquet')]"
   ]
  },
  {
   "cell_type": "code",
   "execution_count": 49,
   "id": "6552b8f3-c26a-49c8-8947-84ab8ec79d55",
   "metadata": {
    "tags": []
   },
   "outputs": [],
   "source": [
    "df = pl.concat(pl.read_parquet(f).with_columns(pl.lit(f.split('/')[1].split('.')[0]).alias('file')) for f in glob('data/*.parquet'))"
   ]
  },
  {
   "cell_type": "code",
   "execution_count": 50,
   "id": "231223ad-c6d3-4b3e-a824-37cc418d250b",
   "metadata": {},
   "outputs": [
    {
     "data": {
      "text/html": [
       "<div>\n",
       "<style scoped>\n",
       "    .dataframe tbody tr th:only-of-type {\n",
       "        vertical-align: middle;\n",
       "    }\n",
       "\n",
       "    .dataframe tbody tr th {\n",
       "        vertical-align: top;\n",
       "    }\n",
       "\n",
       "    .dataframe thead th {\n",
       "        text-align: right;\n",
       "    }\n",
       "</style>\n",
       "<table border=\"1\" class=\"dataframe\">\n",
       "  <thead>\n",
       "    <tr style=\"text-align: right;\">\n",
       "      <th></th>\n",
       "      <th>line_type</th>\n",
       "      <th>code</th>\n",
       "      <th>description</th>\n",
       "      <th>rev_code</th>\n",
       "      <th>payer_name</th>\n",
       "      <th>standard_charge</th>\n",
       "      <th>payer_category</th>\n",
       "      <th>hcpcs_cpt</th>\n",
       "      <th>ms_drg</th>\n",
       "      <th>standard_charge_percent</th>\n",
       "      <th>contracting_method</th>\n",
       "      <th>file</th>\n",
       "    </tr>\n",
       "  </thead>\n",
       "  <tbody>\n",
       "    <tr>\n",
       "      <th>0</th>\n",
       "      <td>2-CPT</td>\n",
       "      <td>20690.000000</td>\n",
       "      <td>APPLICATION UNIPLANE EXTERNAL FIXATION SYSTEM</td>\n",
       "      <td>None</td>\n",
       "      <td>Min_Negotiated_Rate</td>\n",
       "      <td>966.8</td>\n",
       "      <td>min</td>\n",
       "      <td>20690.000000</td>\n",
       "      <td>None</td>\n",
       "      <td>None</td>\n",
       "      <td>None</td>\n",
       "      <td>390905385_ascension-calumet-hospital_standardc...</td>\n",
       "    </tr>\n",
       "    <tr>\n",
       "      <th>1</th>\n",
       "      <td>2-CPT</td>\n",
       "      <td>812</td>\n",
       "      <td>Anes lwr intst scr colsc</td>\n",
       "      <td>None</td>\n",
       "      <td>BCKSFED_BLUE_CROSS_FEP_BLUE_FOCUS_544</td>\n",
       "      <td>540.92</td>\n",
       "      <td>payer</td>\n",
       "      <td>812</td>\n",
       "      <td>None</td>\n",
       "      <td>None</td>\n",
       "      <td>None</td>\n",
       "      <td>721526400_wamego-health-center_standardcharges</td>\n",
       "    </tr>\n",
       "    <tr>\n",
       "      <th>2</th>\n",
       "      <td>2-CPT</td>\n",
       "      <td>12031.000000</td>\n",
       "      <td>REPAIR INTERMEDIATE S/A/T/E 2.5 CM/&lt;</td>\n",
       "      <td>None</td>\n",
       "      <td>NETPRESNE_NETWORK_HEALTH_PRESTIGENE_764</td>\n",
       "      <td>513.01</td>\n",
       "      <td>payer</td>\n",
       "      <td>12031.000000</td>\n",
       "      <td>None</td>\n",
       "      <td>None</td>\n",
       "      <td>None</td>\n",
       "      <td>390905385_ascension-calumet-hospital_standardc...</td>\n",
       "    </tr>\n",
       "    <tr>\n",
       "      <th>3</th>\n",
       "      <td>2-CPT</td>\n",
       "      <td>15738.000000</td>\n",
       "      <td>MUSC MYOCUTANEOUS/FASCIOCUTANEOUS FLAP LXTR</td>\n",
       "      <td>None</td>\n",
       "      <td>Min_Negotiated_Rate</td>\n",
       "      <td>2880.74</td>\n",
       "      <td>min</td>\n",
       "      <td>15738.000000</td>\n",
       "      <td>None</td>\n",
       "      <td>None</td>\n",
       "      <td>None</td>\n",
       "      <td>390905385_ascension-calumet-hospital_standardc...</td>\n",
       "    </tr>\n",
       "    <tr>\n",
       "      <th>4</th>\n",
       "      <td>2-CPT</td>\n",
       "      <td>22310.000000</td>\n",
       "      <td>CLTX VRT BDY FX W/O MANJ REQ&amp;W/CSTING/BRACING</td>\n",
       "      <td>None</td>\n",
       "      <td>Max_Negotiated_Rate</td>\n",
       "      <td>923.24</td>\n",
       "      <td>max</td>\n",
       "      <td>22310.000000</td>\n",
       "      <td>None</td>\n",
       "      <td>None</td>\n",
       "      <td>None</td>\n",
       "      <td>390905385_ascension-calumet-hospital_standardc...</td>\n",
       "    </tr>\n",
       "    <tr>\n",
       "      <th>5</th>\n",
       "      <td>2-CPT</td>\n",
       "      <td>21282.000000</td>\n",
       "      <td>LATERAL CANTHOPEXY</td>\n",
       "      <td>None</td>\n",
       "      <td>EOSUMR8_UMRBOX_30541EOS_795</td>\n",
       "      <td>1257.37</td>\n",
       "      <td>payer</td>\n",
       "      <td>21282.000000</td>\n",
       "      <td>None</td>\n",
       "      <td>None</td>\n",
       "      <td>None</td>\n",
       "      <td>390905385_ascension-calumet-hospital_standardc...</td>\n",
       "    </tr>\n",
       "    <tr>\n",
       "      <th>6</th>\n",
       "      <td>2-CPT</td>\n",
       "      <td>21268.000000</td>\n",
       "      <td>ORBITAL REPOSITIONING W/BONE GRAFTS ICRA &amp; XTRC</td>\n",
       "      <td>None</td>\n",
       "      <td>Min_Negotiated_Rate</td>\n",
       "      <td>3639.56</td>\n",
       "      <td>min</td>\n",
       "      <td>21268.000000</td>\n",
       "      <td>None</td>\n",
       "      <td>None</td>\n",
       "      <td>None</td>\n",
       "      <td>390905385_ascension-calumet-hospital_standardc...</td>\n",
       "    </tr>\n",
       "    <tr>\n",
       "      <th>7</th>\n",
       "      <td>2-CPT</td>\n",
       "      <td>11305.000000</td>\n",
       "      <td>SHAVING SKIN LESION 1 S/N/H/F/G DIAM 0.5 CM/&lt;</td>\n",
       "      <td>None</td>\n",
       "      <td>UHCCP_DO_NOT_USE_2272020_795</td>\n",
       "      <td>67</td>\n",
       "      <td>payer</td>\n",
       "      <td>11305.000000</td>\n",
       "      <td>None</td>\n",
       "      <td>None</td>\n",
       "      <td>None</td>\n",
       "      <td>390905385_ascension-calumet-hospital_standardc...</td>\n",
       "    </tr>\n",
       "    <tr>\n",
       "      <th>8</th>\n",
       "      <td>2-CPT</td>\n",
       "      <td>15758.000000</td>\n",
       "      <td>FREE FASCIAL FLAP W/MICROVASCULAR ANASTOMOSIS</td>\n",
       "      <td>None</td>\n",
       "      <td>UHCCPALL_ALL_SAVERSAMSBX31375UHC_795</td>\n",
       "      <td>7423.41</td>\n",
       "      <td>payer</td>\n",
       "      <td>15758.000000</td>\n",
       "      <td>None</td>\n",
       "      <td>None</td>\n",
       "      <td>None</td>\n",
       "      <td>390905385_ascension-calumet-hospital_standardc...</td>\n",
       "    </tr>\n",
       "    <tr>\n",
       "      <th>9</th>\n",
       "      <td>2-CPT</td>\n",
       "      <td>21282.000000</td>\n",
       "      <td>LATERAL CANTHOPEXY</td>\n",
       "      <td>None</td>\n",
       "      <td>UHCCPMEDI_MEDICABX_30990UHC_795</td>\n",
       "      <td>1257.37</td>\n",
       "      <td>payer</td>\n",
       "      <td>21282.000000</td>\n",
       "      <td>None</td>\n",
       "      <td>None</td>\n",
       "      <td>None</td>\n",
       "      <td>390905385_ascension-calumet-hospital_standardc...</td>\n",
       "    </tr>\n",
       "  </tbody>\n",
       "</table>\n",
       "</div>"
      ],
      "text/plain": [
       "  line_type          code                                      description   \n",
       "0     2-CPT  20690.000000    APPLICATION UNIPLANE EXTERNAL FIXATION SYSTEM  \\\n",
       "1     2-CPT           812                         Anes lwr intst scr colsc   \n",
       "2     2-CPT  12031.000000             REPAIR INTERMEDIATE S/A/T/E 2.5 CM/<   \n",
       "3     2-CPT  15738.000000      MUSC MYOCUTANEOUS/FASCIOCUTANEOUS FLAP LXTR   \n",
       "4     2-CPT  22310.000000    CLTX VRT BDY FX W/O MANJ REQ&W/CSTING/BRACING   \n",
       "5     2-CPT  21282.000000                               LATERAL CANTHOPEXY   \n",
       "6     2-CPT  21268.000000  ORBITAL REPOSITIONING W/BONE GRAFTS ICRA & XTRC   \n",
       "7     2-CPT  11305.000000    SHAVING SKIN LESION 1 S/N/H/F/G DIAM 0.5 CM/<   \n",
       "8     2-CPT  15758.000000    FREE FASCIAL FLAP W/MICROVASCULAR ANASTOMOSIS   \n",
       "9     2-CPT  21282.000000                               LATERAL CANTHOPEXY   \n",
       "\n",
       "  rev_code                               payer_name standard_charge   \n",
       "0     None                      Min_Negotiated_Rate           966.8  \\\n",
       "1     None    BCKSFED_BLUE_CROSS_FEP_BLUE_FOCUS_544          540.92   \n",
       "2     None  NETPRESNE_NETWORK_HEALTH_PRESTIGENE_764          513.01   \n",
       "3     None                      Min_Negotiated_Rate         2880.74   \n",
       "4     None                      Max_Negotiated_Rate          923.24   \n",
       "5     None              EOSUMR8_UMRBOX_30541EOS_795         1257.37   \n",
       "6     None                      Min_Negotiated_Rate         3639.56   \n",
       "7     None             UHCCP_DO_NOT_USE_2272020_795              67   \n",
       "8     None     UHCCPALL_ALL_SAVERSAMSBX31375UHC_795         7423.41   \n",
       "9     None          UHCCPMEDI_MEDICABX_30990UHC_795         1257.37   \n",
       "\n",
       "  payer_category     hcpcs_cpt ms_drg standard_charge_percent   \n",
       "0            min  20690.000000   None                    None  \\\n",
       "1          payer           812   None                    None   \n",
       "2          payer  12031.000000   None                    None   \n",
       "3            min  15738.000000   None                    None   \n",
       "4            max  22310.000000   None                    None   \n",
       "5          payer  21282.000000   None                    None   \n",
       "6            min  21268.000000   None                    None   \n",
       "7          payer  11305.000000   None                    None   \n",
       "8          payer  15758.000000   None                    None   \n",
       "9          payer  21282.000000   None                    None   \n",
       "\n",
       "  contracting_method                                               file  \n",
       "0               None  390905385_ascension-calumet-hospital_standardc...  \n",
       "1               None     721526400_wamego-health-center_standardcharges  \n",
       "2               None  390905385_ascension-calumet-hospital_standardc...  \n",
       "3               None  390905385_ascension-calumet-hospital_standardc...  \n",
       "4               None  390905385_ascension-calumet-hospital_standardc...  \n",
       "5               None  390905385_ascension-calumet-hospital_standardc...  \n",
       "6               None  390905385_ascension-calumet-hospital_standardc...  \n",
       "7               None  390905385_ascension-calumet-hospital_standardc...  \n",
       "8               None  390905385_ascension-calumet-hospital_standardc...  \n",
       "9               None  390905385_ascension-calumet-hospital_standardc...  "
      ]
     },
     "execution_count": 50,
     "metadata": {},
     "output_type": "execute_result"
    }
   ],
   "source": [
    "df.filter(~pl.col('hcpcs_cpt').str.contains('^[A-Z]\\d{4}$|^\\d{5}$|^\\d{4}[A-Z]$')).sample(10).to_pandas()"
   ]
  },
  {
   "cell_type": "markdown",
   "id": "3c855a6d-15ab-4957-9f48-eb74f505d31a",
   "metadata": {},
   "source": [
    "Findings:\n",
    "* some CPT codes look like: **21552.000000** | EXC TUMOR SOFT TIS NECK/ANT THORAX SUBQ 3 CM. We can safely remove these 6 zeros. These all come from the file: 390905385_ascension-calumet-hospital_standardcharges\n",
    "* some rows have description = `- None -`. We can safely remove these rows.\n",
    "* some lines look like: 2-CPT | **0346T+** │ Ultrasound elastography. These are add-on codes https://www.medicalcodemode.com/cpt-code-symbols We can extract the CPT from them.\n",
    "* 2-CPT │ **368X8**   Stent plmt ctr dialysis seg reveals the existence of temporary or filler codes.\n",
    "* 2-CPT │ **ATP23**   Auto.Test Panel Pricing Code, 23 Tests -- these are not HCPCS codes\n",
    "\n",
    "I also found these codes, which I didn't understand:\n",
    "\n",
    "     PB111       | REDUCED PHYSICAL FUNCTION , ADL INDEX 2-5/5-DAY OR READMISSION RETURN AND SCSA OR 5-DAY OR READMISSION RETURN AND SCPA OR 5-DAY OR READMISSION RETURN AND CCA.\n",
    "     PA107       │ PHYSICAL FUNCTION REDUCED, ADL INDEX 4 - 5, NOT RECEIVING NURSING REHABILITATION/MEDICARE 14 DAY ASSESSMENT (FULL OR COMPREHENSIVE)\n",
    "     CC101       │ CLINICALLY COMPLEX , ADL INDEX 6-10/STAND-ALONE OBRA SCSA OR SCPA OR CCA.\n",
    "     RLX11       │ LOW REHAB PLUS EXTENSIVE , ADL INDEX 2-16/5-DAY OR READMISSION RETURN AND SCSA OR 5-DAY OR READMISSION RETURN AND SCPA OR 5-DAY OR READMISSION RETURN AND CCA.\n",
    "     RHL32       │ HIGH REHAB PLUS EXTENSIVE , ADL INDEX 2-10/30-DAY AND SOT OMRA (NOT MEDICARE SHORT STAY).\n",
    "     BB107       │ BEHAVIOR ONLY, ADL INDEX 6 - 10, NOT RECEIVING NURSING REHABILITATION/MEDICARE 14 DAY ASSESSMENT (FULL OR COMPREHENSIVE)\n",
    "     PE217       │ REDUCED PHYSICAL FUNCTION , ADL INDEX 15-16/5-DAY OR READMISSION RETURN AND MEDICARE SHORT STAY ASSESSMENT AND SCSA OR 5-DAY OR READMISSION RETURN AND MEDICARE SHORT STAY ASSESSMENT AND …\n",
    "     IA211       │ IMPAIRED COGNITION, ADL INDEX 4 - 5/MEDICARE 5 DAY ASSESSMENT (COMPREHENSIVE) AND INITIAL ADMISSION ASSESSMENT\n",
    "    \n",
    "However I did learn that a lot of Anesthesia codes, which start with 0, were improperly truncated:\n",
    "\n",
    "    820         │ Anesth abdominal wall surg\n",
    "    830         │ Anesth repair of hernia\n",
    "    832         │ Anesth repair of hernia\n",
    "    834         │ Anesth hernia repair < 1 yr\n",
    "    836         │ Anesth hernia repair preemie\n",
    "    840         │ Anesth surg lower abdomen\n",
    "    842         │ Anesth amniocentesis\n",
    "    844         │ Anesth pelvis surgery\n",
    "    846         │ Anesth hysterectomy\n",
    "    848         │ Anesth pelvic organ surg\n",
    "    862         │ Anesth kidney/ureter surg\n",
    "    864         │ Anesth removal of bladder\n",
    "    865         │ Anesth removal of prostate\n",
    "    866         │ Anesth removal of adrenal\n",
    "    868         │ Anesth kidney transplant\n",
    "    870         │ Anesth bladder stone surg\n",
    "    872         │ Anesth kidney stone destruct\n",
    "    880         │ Anesth abdomen vessel surg\n",
    "    882         │ Anesth major vein ligation\n",
    "    902         │ Anesth anorectal surgery\n",
    "    904         │ Anesth perineal surgery\n",
    "    906         │ Anesth removal of vulva\n",
    "    908         │ Anesth removal of prostate"
   ]
  },
  {
   "cell_type": "code",
   "execution_count": 51,
   "id": "b6da9336-c66d-41be-b1ea-bfbfddaad3b6",
   "metadata": {
    "tags": []
   },
   "outputs": [],
   "source": [
    "non_cpts = ['PB111', 'PA107', 'CC101', 'RLX11', 'RHL32', 'BB107', 'PE217', 'IA211']\n",
    "\n",
    "def clean_hcpcs_cpt():\n",
    "    hcpcs_cpt = (\n",
    "        pl.col('hcpcs_cpt')\n",
    "        .str.strip()\n",
    "        # some add-on codes have a plus sign\n",
    "        .str.replace('\\+', '')\n",
    "        # 390905385_ascension-calumet-hospital_standardcharges has these\n",
    "        .str.replace('.000000$', '')\n",
    "        \n",
    "    )\n",
    "    \n",
    "    hcpcs_cpt = (\n",
    "        # APT codes\n",
    "        pl.when(hcpcs_cpt.str.contains('^ATP')).then(None)\n",
    "        \n",
    "        # temporary or placeholder CPTs\n",
    "        .when(hcpcs_cpt.str.contains('\\d{3}X(\\d|\\w)')).then(None)\n",
    "        \n",
    "        .when(hcpcs_cpt.is_in(non_cpts)).then(None)\n",
    "        \n",
    "        .when(hcpcs_cpt == '-----').then(None)\n",
    "        # Anesthesia codes\n",
    "        \n",
    "        .when(pl.col('description').str.contains('^Anes|^Hosp manage cont drug admin') & pl.col('hcpcs_cpt').str.lengths() < 5).then(hcpcs_cpt.str.zfill(5))\n",
    "        \n",
    "        .otherwise(hcpcs_cpt)\n",
    "    )\n",
    "    \n",
    "    return hcpcs_cpt.alias('hcpcs_cpt')"
   ]
  },
  {
   "cell_type": "code",
   "execution_count": null,
   "id": "1d87fbcb-0f8d-4d37-a6cb-4249c26e1773",
   "metadata": {
    "tags": []
   },
   "outputs": [],
   "source": [
    "df = df.with_columns(clean_hcpcs_cpt())"
   ]
  },
  {
   "cell_type": "code",
   "execution_count": null,
   "id": "bd90386f-cb64-4e88-b5dc-6a00c66252ee",
   "metadata": {
    "tags": []
   },
   "outputs": [],
   "source": [
    "df.write_parquet('ascension.parquet')"
   ]
  },
  {
   "cell_type": "code",
   "execution_count": null,
   "id": "ec47618e-4cc5-458b-8c9e-3d1f4499d4eb",
   "metadata": {},
   "outputs": [],
   "source": []
  }
 ],
 "metadata": {
  "kernelspec": {
   "display_name": "Python 3 (ipykernel)",
   "language": "python",
   "name": "python3"
  },
  "language_info": {
   "codemirror_mode": {
    "name": "ipython",
    "version": 3
   },
   "file_extension": ".py",
   "mimetype": "text/x-python",
   "name": "python",
   "nbconvert_exporter": "python",
   "pygments_lexer": "ipython3",
   "version": "3.9.16"
  }
 },
 "nbformat": 4,
 "nbformat_minor": 5
}
