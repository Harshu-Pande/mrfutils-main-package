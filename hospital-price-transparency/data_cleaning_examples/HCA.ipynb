{
 "cells": [
  {
   "cell_type": "code",
   "execution_count": 1,
   "id": "51392ac8-396a-4718-a2a6-f70be3f6dfb6",
   "metadata": {
    "tags": []
   },
   "outputs": [],
   "source": [
    "import polars as pl"
   ]
  },
  {
   "cell_type": "code",
   "execution_count": 2,
   "id": "f2493350-376e-4a3c-83fc-24e1be7e9fcb",
   "metadata": {
    "tags": []
   },
   "outputs": [],
   "source": [
    "url = 'https://core.secure.ehc.com/\\\n",
    "src/util/detail-price-list/\\\n",
    "050631189_hca-houston-pearland_standardcharges.csv'\n",
    "df = pl.read_csv(url, skip_rows = 1, infer_schema_length = 0)"
   ]
  },
  {
   "cell_type": "code",
   "execution_count": 3,
   "id": "194e9ca5-611c-4f23-9876-1809c4d5a7ed",
   "metadata": {
    "tags": []
   },
   "outputs": [],
   "source": [
    "def get_upper_chunk(df):\n",
    "    \"\"\"\n",
    "    Get just the upper part of the dataframe\n",
    "    with the HCPCS/CPT codes\n",
    "    \"\"\"\n",
    "    \n",
    "    df = df.with_row_count()\n",
    "\n",
    "    for row in df.iter_rows(named = True):\n",
    "        if not row['Description']:\n",
    "            end_row = row['row_nr']\n",
    "            break\n",
    "    \n",
    "    df = df.drop('row_nr').slice(0, end_row)\n",
    "    \n",
    "    return df"
   ]
  },
  {
   "cell_type": "code",
   "execution_count": 4,
   "id": "ca9b8ea5-07d8-4bee-8759-05ff0760273d",
   "metadata": {
    "tags": []
   },
   "outputs": [],
   "source": [
    "def get_lower_chunks(df):\n",
    "    \"\"\"\n",
    "    Return the lower section(s) as an array\n",
    "    of dataframe chunks\n",
    "    \"\"\"\n",
    "    \n",
    "    df = df.with_row_count()\n",
    "    \n",
    "    slice_idxs = []\n",
    "    for row in df.iter_rows():\n",
    "        if row[1] == 'Service Description':\n",
    "            slice_idxs.append(row[0] - 1)\n",
    "            \n",
    "    slices = [(s, t-1) for s, t in zip(slice_idxs, slice_idxs[1:])]\n",
    "    \n",
    "    chunks = []\n",
    "    for slice_ in slices:\n",
    "        chunk = df.slice(slice_[0], slice_[1] - slice_[0])\n",
    "        chunk = chunk.drop('row_nr')\n",
    "        chunks.append(chunk)\n",
    "        \n",
    "    return chunks"
   ]
  },
  {
   "cell_type": "code",
   "execution_count": 5,
   "id": "baaf16ea-e215-4668-b1ed-041753a1ea50",
   "metadata": {
    "tags": []
   },
   "outputs": [],
   "source": [
    "upper_chunk = get_upper_chunk(df)\n",
    "lower_chunks = get_lower_chunks(df)"
   ]
  },
  {
   "cell_type": "code",
   "execution_count": 6,
   "id": "c2d325b4-d74c-4c80-a312-ae2c19616a20",
   "metadata": {
    "tags": []
   },
   "outputs": [
    {
     "data": {
      "text/html": [
       "<div><style>\n",
       ".dataframe > thead > tr > th,\n",
       ".dataframe > tbody > tr > td {\n",
       "  text-align: right;\n",
       "}\n",
       "</style>\n",
       "<small>shape: (5, 5)</small><table border=\"1\" class=\"dataframe\"><thead><tr><th>Procedure ID</th><th>HCPCS/CPT Code</th><th>Description</th><th>Gross Charge</th><th>Discounted Cash Price (Gross Charges)</th></tr><tr><td>str</td><td>str</td><td>str</td><td>str</td><td>str</td></tr></thead><tbody><tr><td>&quot;981056&quot;</td><td>&quot;073610LT      …</td><td>&quot;XR ANKLE 3 + V…</td><td>&quot;1434.44&quot;</td><td>&quot;1434.44&quot;</td></tr><tr><td>&quot;602016&quot;</td><td>&quot;0C1817        …</td><td>&quot;OCLDR HLX ASD …</td><td>&quot;1083.00&quot;</td><td>&quot;1083.00&quot;</td></tr><tr><td>&quot;102248&quot;</td><td>&quot;              …</td><td>&quot;DEVICE WNDCLS …</td><td>&quot;1052.00&quot;</td><td>&quot;1052.00&quot;</td></tr><tr><td>&quot;601252&quot;</td><td>&quot;0C1725        …</td><td>&quot;CATH BLN 6X200…</td><td>&quot;1934.00&quot;</td><td>&quot;1934.00&quot;</td></tr><tr><td>&quot;861180&quot;</td><td>&quot;              …</td><td>&quot;CALCITONIN NAS…</td><td>&quot;307.38&quot;</td><td>&quot;307.38&quot;</td></tr></tbody></table></div>"
      ],
      "text/plain": [
       "shape: (5, 5)\n",
       "┌──────────────┬────────────────┬─────────────────────────┬──────────────┬─────────────────────────┐\n",
       "│ Procedure ID ┆ HCPCS/CPT Code ┆ Description             ┆ Gross Charge ┆ Discounted Cash Price   │\n",
       "│ ---          ┆ ---            ┆ ---                     ┆ ---          ┆ (Gross Cha…             │\n",
       "│ str          ┆ str            ┆ str                     ┆ str          ┆ ---                     │\n",
       "│              ┆                ┆                         ┆              ┆ str                     │\n",
       "╞══════════════╪════════════════╪═════════════════════════╪══════════════╪═════════════════════════╡\n",
       "│ 981056       ┆ 073610LT       ┆ XR ANKLE 3 + V LT       ┆ 1434.44      ┆ 1434.44                 │\n",
       "│ 602016       ┆ 0C1817         ┆ OCLDR HLX ASD 15        ┆ 1083.00      ┆ 1083.00                 │\n",
       "│ 102248       ┆                ┆ DEVICE WNDCLS 23CM SZ0  ┆ 1052.00      ┆ 1052.00                 │\n",
       "│ 601252       ┆ 0C1725         ┆ CATH BLN 6X200MM 135CM  ┆ 1934.00      ┆ 1934.00                 │\n",
       "│ 861180       ┆                ┆ CALCITONIN NASAL SOL    ┆ 307.38       ┆ 307.38                  │\n",
       "└──────────────┴────────────────┴─────────────────────────┴──────────────┴─────────────────────────┘"
      ]
     },
     "execution_count": 6,
     "metadata": {},
     "output_type": "execute_result"
    }
   ],
   "source": [
    "upper_chunk.sample(5)"
   ]
  },
  {
   "cell_type": "markdown",
   "id": "5fc47de8-a385-427d-a12a-90892eb57a64",
   "metadata": {},
   "source": [
    "### Handling the upper chunk"
   ]
  },
  {
   "cell_type": "code",
   "execution_count": 7,
   "id": "1602cbed-4e81-46c1-af3d-9057a9a5f6ef",
   "metadata": {
    "tags": []
   },
   "outputs": [],
   "source": [
    "upper_chunk = (\n",
    "    upper_chunk.rename({\n",
    "        'Procedure ID':'local_code',\n",
    "        'HCPCS/CPT Code':'hcpcs_cpt',\n",
    "        'Description':'description'})\n",
    "    .with_columns(\n",
    "        # remove extra spaces and leading zeros\n",
    "        pl.col('hcpcs_cpt').str.strip().str.replace('^0', '')\n",
    "    )\n",
    "    .with_columns(\n",
    "        pl.when(pl.col('hcpcs_cpt').str.lengths() == 0).then(None)\n",
    "        .otherwise(pl.col('hcpcs_cpt')).keep_name()\n",
    "    )\n",
    "    .melt(['local_code', 'hcpcs_cpt', 'description'], \n",
    "        value_name = 'standard_charge', \n",
    "        variable_name = 'payer_name'\n",
    "    )\n",
    "    .with_columns(\n",
    "        pl.when(pl.col('payer_name') == 'Gross Charge').then('gross')\n",
    "        .when(pl.col('payer_name') == 'Discounted Cash Price (Gross Charges)').then('cash')\n",
    "        .alias('payer_category')\n",
    "    )\n",
    ")"
   ]
  },
  {
   "cell_type": "code",
   "execution_count": 8,
   "id": "776d5f28-a6fa-402e-ad5f-613b81656bc2",
   "metadata": {
    "tags": []
   },
   "outputs": [
    {
     "data": {
      "text/html": [
       "<div><style>\n",
       ".dataframe > thead > tr > th,\n",
       ".dataframe > tbody > tr > td {\n",
       "  text-align: right;\n",
       "}\n",
       "</style>\n",
       "<small>shape: (10, 6)</small><table border=\"1\" class=\"dataframe\"><thead><tr><th>local_code</th><th>hcpcs_cpt</th><th>description</th><th>payer_name</th><th>standard_charge</th><th>payer_category</th></tr><tr><td>str</td><td>str</td><td>str</td><td>str</td><td>str</td><td>str</td></tr></thead><tbody><tr><td>&quot;621686&quot;</td><td>null</td><td>&quot;CATH ANGIO 5FR…</td><td>&quot;Discounted Cas…</td><td>&quot;1507.00&quot;</td><td>&quot;cash&quot;</td></tr><tr><td>&quot;800695&quot;</td><td>&quot;C1713&quot;</td><td>&quot;SCREW BNE 3.5X…</td><td>&quot;Gross Charge&quot;</td><td>&quot;490.00&quot;</td><td>&quot;gross&quot;</td></tr><tr><td>&quot;259005&quot;</td><td>&quot;70545&quot;</td><td>&quot;MRA HD W/CONTR…</td><td>&quot;Discounted Cas…</td><td>&quot;10120.65&quot;</td><td>&quot;cash&quot;</td></tr><tr><td>&quot;622594&quot;</td><td>null</td><td>&quot;DRSG WND 5LYR …</td><td>&quot;Gross Charge&quot;</td><td>&quot;191.00&quot;</td><td>&quot;gross&quot;</td></tr><tr><td>&quot;100583&quot;</td><td>&quot;96376&quot;</td><td>&quot;IVP EA ADD SEQ…</td><td>&quot;Discounted Cas…</td><td>&quot;815.32&quot;</td><td>&quot;cash&quot;</td></tr><tr><td>&quot;5682&quot;</td><td>&quot;Q9967&quot;</td><td>&quot;LOCM 300-399 I…</td><td>&quot;Discounted Cas…</td><td>&quot;26.16&quot;</td><td>&quot;cash&quot;</td></tr><tr><td>&quot;622673&quot;</td><td>&quot;C1874&quot;</td><td>&quot;STENT COR 3.00…</td><td>&quot;Gross Charge&quot;</td><td>&quot;7040.00&quot;</td><td>&quot;gross&quot;</td></tr><tr><td>&quot;903339&quot;</td><td>&quot;C1725&quot;</td><td>&quot;CATH BLDL 5X15…</td><td>&quot;Discounted Cas…</td><td>&quot;1961.00&quot;</td><td>&quot;cash&quot;</td></tr><tr><td>&quot;622392&quot;</td><td>null</td><td>&quot;NEEDLE IO 45MM…</td><td>&quot;Discounted Cas…</td><td>&quot;1354.00&quot;</td><td>&quot;cash&quot;</td></tr><tr><td>&quot;153&quot;</td><td>null</td><td>&quot;CATH ANGIO .04…</td><td>&quot;Discounted Cas…</td><td>&quot;883.00&quot;</td><td>&quot;cash&quot;</td></tr></tbody></table></div>"
      ],
      "text/plain": [
       "shape: (10, 6)\n",
       "┌────────────┬───────────┬───────────────────┬──────────────────┬─────────────────┬────────────────┐\n",
       "│ local_code ┆ hcpcs_cpt ┆ description       ┆ payer_name       ┆ standard_charge ┆ payer_category │\n",
       "│ ---        ┆ ---       ┆ ---               ┆ ---              ┆ ---             ┆ ---            │\n",
       "│ str        ┆ str       ┆ str               ┆ str              ┆ str             ┆ str            │\n",
       "╞════════════╪═══════════╪═══════════════════╪══════════════════╪═════════════════╪════════════════╡\n",
       "│ 621686     ┆ null      ┆ CATH ANGIO 5FR    ┆ Discounted Cash  ┆ 1507.00         ┆ cash           │\n",
       "│            ┆           ┆ 140CM             ┆ Price (Gross     ┆                 ┆                │\n",
       "│            ┆           ┆                   ┆ Cha…             ┆                 ┆                │\n",
       "│ 800695     ┆ C1713     ┆ SCREW BNE 3.5X30  ┆ Gross Charge     ┆ 490.00          ┆ gross          │\n",
       "│            ┆           ┆ PRLOC             ┆                  ┆                 ┆                │\n",
       "│ 259005     ┆ 70545     ┆ MRA HD W/CONTRAST ┆ Discounted Cash  ┆ 10120.65        ┆ cash           │\n",
       "│            ┆           ┆                   ┆ Price (Gross     ┆                 ┆                │\n",
       "│            ┆           ┆                   ┆ Cha…             ┆                 ┆                │\n",
       "│ 622594     ┆ null      ┆ DRSG WND 5LYR     ┆ Gross Charge     ┆ 191.00          ┆ gross          │\n",
       "│            ┆           ┆ 6X6IN             ┆                  ┆                 ┆                │\n",
       "│ …          ┆ …         ┆ …                 ┆ …                ┆ …               ┆ …              │\n",
       "│ 622673     ┆ C1874     ┆ STENT COR         ┆ Gross Charge     ┆ 7040.00         ┆ gross          │\n",
       "│            ┆           ┆ 3.00X8MM          ┆                  ┆                 ┆                │\n",
       "│ 903339     ┆ C1725     ┆ CATH BLDL 5X150MM ┆ Discounted Cash  ┆ 1961.00         ┆ cash           │\n",
       "│            ┆           ┆ 130CM             ┆ Price (Gross     ┆                 ┆                │\n",
       "│            ┆           ┆                   ┆ Cha…             ┆                 ┆                │\n",
       "│ 622392     ┆ null      ┆ NEEDLE IO 45MM    ┆ Discounted Cash  ┆ 1354.00         ┆ cash           │\n",
       "│            ┆           ┆ 15GA              ┆ Price (Gross     ┆                 ┆                │\n",
       "│            ┆           ┆                   ┆ Cha…             ┆                 ┆                │\n",
       "│ 153        ┆ null      ┆ CATH ANGIO .042   ┆ Discounted Cash  ┆ 883.00          ┆ cash           │\n",
       "│            ┆           ┆ 5F 100CM          ┆ Price (Gross     ┆                 ┆                │\n",
       "│            ┆           ┆                   ┆ Cha…             ┆                 ┆                │\n",
       "└────────────┴───────────┴───────────────────┴──────────────────┴─────────────────┴────────────────┘"
      ]
     },
     "execution_count": 8,
     "metadata": {},
     "output_type": "execute_result"
    }
   ],
   "source": [
    "upper_chunk.sample(10)"
   ]
  },
  {
   "cell_type": "code",
   "execution_count": 9,
   "id": "dc74a1b3-850f-483d-8b1f-6eaa1d288064",
   "metadata": {
    "tags": []
   },
   "outputs": [],
   "source": [
    "upper_chunk = upper_chunk.with_columns(\n",
    "    pl.col('hcpcs_cpt').str.slice(0,5).keep_name(),\n",
    "    pl.when(pl.col('hcpcs_cpt').str.lengths() > 6).then(pl.col('hcpcs_cpt').str.slice(5,)).alias('modifiers')\n",
    ")"
   ]
  },
  {
   "cell_type": "code",
   "execution_count": 10,
   "id": "0d212345-c4fc-4fa2-b380-ea04c80ab54e",
   "metadata": {
    "tags": []
   },
   "outputs": [
    {
     "data": {
      "text/html": [
       "<div><style>\n",
       ".dataframe > thead > tr > th,\n",
       ".dataframe > tbody > tr > td {\n",
       "  text-align: right;\n",
       "}\n",
       "</style>\n",
       "<small>shape: (10, 7)</small><table border=\"1\" class=\"dataframe\"><thead><tr><th>local_code</th><th>hcpcs_cpt</th><th>description</th><th>payer_name</th><th>standard_charge</th><th>payer_category</th><th>modifiers</th></tr><tr><td>str</td><td>str</td><td>str</td><td>str</td><td>str</td><td>str</td><td>str</td></tr></thead><tbody><tr><td>&quot;102067&quot;</td><td>null</td><td>&quot;SLING PELVIC O…</td><td>&quot;Gross Charge&quot;</td><td>&quot;1425.00&quot;</td><td>&quot;gross&quot;</td><td>null</td></tr><tr><td>&quot;620082&quot;</td><td>null</td><td>&quot;WIRE FX 2.5MM …</td><td>&quot;Discounted Cas…</td><td>&quot;1052.00&quot;</td><td>&quot;cash&quot;</td><td>null</td></tr><tr><td>&quot;300345&quot;</td><td>&quot;C1713&quot;</td><td>&quot;PLATE BN ORTH …</td><td>&quot;Discounted Cas…</td><td>&quot;2945.00&quot;</td><td>&quot;cash&quot;</td><td>null</td></tr><tr><td>&quot;900009&quot;</td><td>null</td><td>&quot;ENDO ROOM ADD …</td><td>&quot;Discounted Cas…</td><td>&quot;6596.68&quot;</td><td>&quot;cash&quot;</td><td>null</td></tr><tr><td>&quot;200461&quot;</td><td>&quot;C1876&quot;</td><td>&quot;STENT VASC 6X4…</td><td>&quot;Discounted Cas…</td><td>&quot;6950.00&quot;</td><td>&quot;cash&quot;</td><td>null</td></tr><tr><td>&quot;622592&quot;</td><td>null</td><td>&quot;DRSG WND 5LYR …</td><td>&quot;Discounted Cas…</td><td>&quot;112.00&quot;</td><td>&quot;cash&quot;</td><td>null</td></tr><tr><td>&quot;836&quot;</td><td>null</td><td>&quot;CTH SET RADLXA…</td><td>&quot;Gross Charge&quot;</td><td>&quot;274.00&quot;</td><td>&quot;gross&quot;</td><td>null</td></tr><tr><td>&quot;101723&quot;</td><td>null</td><td>&quot;SYS SUTLASSO M…</td><td>&quot;Gross Charge&quot;</td><td>&quot;1893.00&quot;</td><td>&quot;gross&quot;</td><td>null</td></tr><tr><td>&quot;61047&quot;</td><td>&quot;C1713&quot;</td><td>&quot;SCREW BN 3.5MM…</td><td>&quot;Gross Charge&quot;</td><td>&quot;264.00&quot;</td><td>&quot;gross&quot;</td><td>null</td></tr><tr><td>&quot;621292&quot;</td><td>&quot;C2617&quot;</td><td>&quot;STNT URET SIL …</td><td>&quot;Discounted Cas…</td><td>&quot;1472.00&quot;</td><td>&quot;cash&quot;</td><td>null</td></tr></tbody></table></div>"
      ],
      "text/plain": [
       "shape: (10, 7)\n",
       "┌────────────┬───────────┬───────────────┬───────────────┬──────────────┬──────────────┬───────────┐\n",
       "│ local_code ┆ hcpcs_cpt ┆ description   ┆ payer_name    ┆ standard_cha ┆ payer_catego ┆ modifiers │\n",
       "│ ---        ┆ ---       ┆ ---           ┆ ---           ┆ rge          ┆ ry           ┆ ---       │\n",
       "│ str        ┆ str       ┆ str           ┆ str           ┆ ---          ┆ ---          ┆ str       │\n",
       "│            ┆           ┆               ┆               ┆ str          ┆ str          ┆           │\n",
       "╞════════════╪═══════════╪═══════════════╪═══════════════╪══════════════╪══════════════╪═══════════╡\n",
       "│ 102067     ┆ null      ┆ SLING PELVIC  ┆ Gross Charge  ┆ 1425.00      ┆ gross        ┆ null      │\n",
       "│            ┆           ┆ ORTHO SMALL   ┆               ┆              ┆              ┆           │\n",
       "│ 620082     ┆ null      ┆ WIRE FX 2.5MM ┆ Discounted    ┆ 1052.00      ┆ cash         ┆ null      │\n",
       "│            ┆           ┆ 150MM         ┆ Cash Price    ┆              ┆              ┆           │\n",
       "│            ┆           ┆               ┆ (Gross Cha…   ┆              ┆              ┆           │\n",
       "│ 300345     ┆ C1713     ┆ PLATE BN ORTH ┆ Discounted    ┆ 2945.00      ┆ cash         ┆ null      │\n",
       "│            ┆           ┆ 5 HL ROT      ┆ Cash Price    ┆              ┆              ┆           │\n",
       "│            ┆           ┆               ┆ (Gross Cha…   ┆              ┆              ┆           │\n",
       "│ 900009     ┆ null      ┆ ENDO ROOM ADD ┆ Discounted    ┆ 6596.68      ┆ cash         ┆ null      │\n",
       "│            ┆           ┆ 30 MIN        ┆ Cash Price    ┆              ┆              ┆           │\n",
       "│            ┆           ┆               ┆ (Gross Cha…   ┆              ┆              ┆           │\n",
       "│ …          ┆ …         ┆ …             ┆ …             ┆ …            ┆ …            ┆ …         │\n",
       "│ 836        ┆ null      ┆ CTH SET       ┆ Gross Charge  ┆ 274.00       ┆ gross        ┆ null      │\n",
       "│            ┆           ┆ RADLXARTRY    ┆               ┆              ┆              ┆           │\n",
       "│            ┆           ┆ RA0           ┆               ┆              ┆              ┆           │\n",
       "│ 101723     ┆ null      ┆ SYS SUTLASSO  ┆ Gross Charge  ┆ 1893.00      ┆ gross        ┆ null      │\n",
       "│            ┆           ┆ MCRO CRV SM   ┆               ┆              ┆              ┆           │\n",
       "│ 61047      ┆ C1713     ┆ SCREW BN      ┆ Gross Charge  ┆ 264.00       ┆ gross        ┆ null      │\n",
       "│            ┆           ┆ 3.5MM 14MM SS ┆               ┆              ┆              ┆           │\n",
       "│            ┆           ┆ C             ┆               ┆              ┆              ┆           │\n",
       "│ 621292     ┆ C2617     ┆ STNT URET SIL ┆ Discounted    ┆ 1472.00      ┆ cash         ┆ null      │\n",
       "│            ┆           ┆ 7X26          ┆ Cash Price    ┆              ┆              ┆           │\n",
       "│            ┆           ┆               ┆ (Gross Cha…   ┆              ┆              ┆           │\n",
       "└────────────┴───────────┴───────────────┴───────────────┴──────────────┴──────────────┴───────────┘"
      ]
     },
     "execution_count": 10,
     "metadata": {},
     "output_type": "execute_result"
    }
   ],
   "source": [
    "upper_chunk.sample(10)"
   ]
  },
  {
   "cell_type": "markdown",
   "id": "6c944cf9-d086-4dc4-aaf0-0fe1f0892724",
   "metadata": {},
   "source": [
    "### Handling the lower chunks"
   ]
  },
  {
   "cell_type": "code",
   "execution_count": 11,
   "id": "abd9d31b-6c6c-4bee-8d76-2f854f6bd1cc",
   "metadata": {
    "tags": []
   },
   "outputs": [],
   "source": [
    "new_lower_chunks = []\n",
    "for chunk in lower_chunks:\n",
    "    chunk = (\n",
    "        chunk\n",
    "        .drop(['Gross Charge', 'Discounted Cash Price (Gross Charges)'])\n",
    "        # the payer name is always the first field in the Procedure ID col\n",
    "        .with_columns([\n",
    "            pl.lit(chunk['Procedure ID'][0]).alias('payer_name'),\n",
    "            pl.lit('payer').alias('payer_category')\n",
    "        ])\n",
    "        .rename({\n",
    "            'Procedure ID':'description',\n",
    "            'HCPCS/CPT Code':'code',\n",
    "            'Description':'standard_charge_'\n",
    "        })\n",
    "        .slice(2,)\n",
    "    )\n",
    "    new_lower_chunks.append(chunk)"
   ]
  },
  {
   "cell_type": "code",
   "execution_count": 12,
   "id": "decba33d-e358-4c84-92a9-cd8516d32edc",
   "metadata": {
    "tags": []
   },
   "outputs": [],
   "source": [
    "lower_chunk = pl.concat(new_lower_chunks)"
   ]
  },
  {
   "cell_type": "code",
   "execution_count": 13,
   "id": "6785423d-8f6c-4a04-b700-de48d8d34df8",
   "metadata": {
    "tags": []
   },
   "outputs": [
    {
     "data": {
      "text/html": [
       "<div><style>\n",
       ".dataframe > thead > tr > th,\n",
       ".dataframe > tbody > tr > td {\n",
       "  text-align: right;\n",
       "}\n",
       "</style>\n",
       "<small>shape: (10, 5)</small><table border=\"1\" class=\"dataframe\"><thead><tr><th>description</th><th>code</th><th>standard_charge_</th><th>payer_name</th><th>payer_category</th></tr><tr><td>str</td><td>str</td><td>str</td><td>str</td><td>str</td></tr></thead><tbody><tr><td>&quot;Neonate&quot;</td><td>null</td><td>&quot;$847.00 &quot;</td><td>&quot;Humana&quot;</td><td>&quot;payer&quot;</td></tr><tr><td>&quot;Orthopedics&quot;</td><td>&quot;MS-DRG 504&quot;</td><td>&quot;$17,015.67 &quot;</td><td>&quot;United&quot;</td><td>&quot;payer&quot;</td></tr><tr><td>&quot;Drug&quot;</td><td>null</td><td>&quot;304% of FS&quot;</td><td>&quot;BCBS HMO&quot;</td><td>&quot;payer&quot;</td></tr><tr><td>&quot;General Surger…</td><td>&quot;MS-DRG 927-929…</td><td>&quot;35.8% of BC&quot;</td><td>&quot;BCBS Blue Adva…</td><td>&quot;payer&quot;</td></tr><tr><td>&quot;OP Other&quot;</td><td>&quot;CPT/HCPC 80000…</td><td>&quot;216% of FS&quot;</td><td>&quot;Healthcare Hig…</td><td>&quot;payer&quot;</td></tr><tr><td>&quot;Observation  &quot;</td><td>null</td><td>&quot;19% of BC&quot;</td><td>&quot;Molina MCD&quot;</td><td>&quot;payer&quot;</td></tr><tr><td>&quot;Neonate&quot;</td><td>&quot;MS-DRG 795&quot;</td><td>&quot;$775.00 &quot;</td><td>&quot;United&quot;</td><td>&quot;payer&quot;</td></tr><tr><td>&quot;Obstetrics&quot;</td><td>null</td><td>&quot;$3,824.00 &quot;</td><td>&quot;Superior HP MC…</td><td>&quot;payer&quot;</td></tr><tr><td>&quot;Observation  &quot;</td><td>null</td><td>&quot;$183.00 &quot;</td><td>&quot;Kelsey Seybold…</td><td>&quot;payer&quot;</td></tr><tr><td>&quot;Cardiology&quot;</td><td>&quot;MS-DRG 246&quot;</td><td>&quot;$32,836.33 &quot;</td><td>&quot;United&quot;</td><td>&quot;payer&quot;</td></tr></tbody></table></div>"
      ],
      "text/plain": [
       "shape: (10, 5)\n",
       "┌─────────────────┬─────────────────┬──────────────────┬─────────────────────┬────────────────┐\n",
       "│ description     ┆ code            ┆ standard_charge_ ┆ payer_name          ┆ payer_category │\n",
       "│ ---             ┆ ---             ┆ ---              ┆ ---                 ┆ ---            │\n",
       "│ str             ┆ str             ┆ str              ┆ str                 ┆ str            │\n",
       "╞═════════════════╪═════════════════╪══════════════════╪═════════════════════╪════════════════╡\n",
       "│ Neonate         ┆ null            ┆ $847.00          ┆ Humana              ┆ payer          │\n",
       "│ Orthopedics     ┆ MS-DRG 504      ┆ $17,015.67       ┆ United              ┆ payer          │\n",
       "│ Drug            ┆ null            ┆ 304% of FS       ┆ BCBS HMO            ┆ payer          │\n",
       "│ General Surgery ┆ MS-DRG 927-929, ┆ 35.8% of BC      ┆ BCBS Blue Advantage ┆ payer          │\n",
       "│                 ┆ 933-935         ┆                  ┆                     ┆                │\n",
       "│ …               ┆ …               ┆ …                ┆ …                   ┆ …              │\n",
       "│ Neonate         ┆ MS-DRG 795      ┆ $775.00          ┆ United              ┆ payer          │\n",
       "│ Obstetrics      ┆ null            ┆ $3,824.00        ┆ Superior HP MCD     ┆ payer          │\n",
       "│ Observation     ┆ null            ┆ $183.00          ┆ Kelsey Seybold      ┆ payer          │\n",
       "│ Cardiology      ┆ MS-DRG 246      ┆ $32,836.33       ┆ United              ┆ payer          │\n",
       "└─────────────────┴─────────────────┴──────────────────┴─────────────────────┴────────────────┘"
      ]
     },
     "execution_count": 13,
     "metadata": {},
     "output_type": "execute_result"
    }
   ],
   "source": [
    "lower_chunk.sample(10)"
   ]
  },
  {
   "cell_type": "code",
   "execution_count": 14,
   "id": "350022d1-9b2f-4000-ad8d-15d21a87595f",
   "metadata": {
    "tags": []
   },
   "outputs": [],
   "source": [
    "def charge_cols():\n",
    "    \n",
    "    standard_charge = pl.col('standard_charge_')\n",
    "    \n",
    "    percent_bc  = standard_charge.str.contains('% of BC|% of Billable Gross Charges')\n",
    "    percent_mcr = standard_charge.str.contains('% of MCR')\n",
    "    percent_fs  = standard_charge.str.contains('% of FS')\n",
    "    percent_mcd = standard_charge.str.contains('% of MCR')\n",
    "    \n",
    "    description    = pl.col('description')\n",
    "    \n",
    "    per_diem    = description.str.to_lowercase().str.contains('per diem')\n",
    "    \n",
    "    standard_charge = (\n",
    "        pl.when(percent_bc|percent_mcr|percent_fs|percent_mcd).then(None)\n",
    "        .otherwise(standard_charge.str.replace('\\$', '').str.replace_all(',', '').str.strip())\n",
    "    ).alias('standard_charge')\n",
    "    \n",
    "    standard_charge_percent = (\n",
    "        pl.when(percent_bc|percent_mcr|percent_fs|percent_mcd)\n",
    "        .then(standard_charge.str.extract('(\\d+(?:\\.\\d+)?)%'))\n",
    "    ).alias('standard_charge_percent')\n",
    "    \n",
    "    contracting_method = (\n",
    "        pl.when(percent_bc).then('percent of total billed charge')\n",
    "        .when(percent_mcr|percent_fs|percent_mcd).then('other')\n",
    "        .when(per_diem).then('per diem')\n",
    "    ).alias('contracting_method')\n",
    "    \n",
    "    additional_generic_notes = (\n",
    "        pl.when(percent_mcr).then('billed as % of MCR')\n",
    "        .when(percent_fs).then('billed as % of FS')\n",
    "        .when(percent_mcd).then('billed as % of MCD')\n",
    "    ).alias('additional_generic_notes')\n",
    "    \n",
    "    return standard_charge, standard_charge_percent, contracting_method, additional_generic_notes"
   ]
  },
  {
   "cell_type": "code",
   "execution_count": 15,
   "id": "fbb4c117-f541-4ed6-bf55-ba1d709758d9",
   "metadata": {
    "tags": []
   },
   "outputs": [
    {
     "data": {
      "text/html": [
       "<div>\n",
       "<style scoped>\n",
       "    .dataframe tbody tr th:only-of-type {\n",
       "        vertical-align: middle;\n",
       "    }\n",
       "\n",
       "    .dataframe tbody tr th {\n",
       "        vertical-align: top;\n",
       "    }\n",
       "\n",
       "    .dataframe thead th {\n",
       "        text-align: right;\n",
       "    }\n",
       "</style>\n",
       "<table border=\"1\" class=\"dataframe\">\n",
       "  <thead>\n",
       "    <tr style=\"text-align: right;\">\n",
       "      <th></th>\n",
       "      <th>description</th>\n",
       "      <th>code</th>\n",
       "      <th>standard_charge_</th>\n",
       "      <th>payer_name</th>\n",
       "      <th>payer_category</th>\n",
       "      <th>standard_charge</th>\n",
       "      <th>standard_charge_percent</th>\n",
       "      <th>contracting_method</th>\n",
       "      <th>additional_generic_notes</th>\n",
       "    </tr>\n",
       "  </thead>\n",
       "  <tbody>\n",
       "    <tr>\n",
       "      <th>0</th>\n",
       "      <td>Additional days</td>\n",
       "      <td>MS-DRG 768, 796-798, 805-807</td>\n",
       "      <td>$3,580.38</td>\n",
       "      <td>Aetna</td>\n",
       "      <td>payer</td>\n",
       "      <td>3580.38</td>\n",
       "      <td>None</td>\n",
       "      <td>None</td>\n",
       "      <td>None</td>\n",
       "    </tr>\n",
       "    <tr>\n",
       "      <th>1</th>\n",
       "      <td>Additional days</td>\n",
       "      <td>MS-DRG 783-788</td>\n",
       "      <td>$3,580.38</td>\n",
       "      <td>Aetna</td>\n",
       "      <td>payer</td>\n",
       "      <td>3580.38</td>\n",
       "      <td>None</td>\n",
       "      <td>None</td>\n",
       "      <td>None</td>\n",
       "    </tr>\n",
       "    <tr>\n",
       "      <th>2</th>\n",
       "      <td>Angioplasty</td>\n",
       "      <td>CPT/HCPC 33967</td>\n",
       "      <td>$14,536.92</td>\n",
       "      <td>Aetna</td>\n",
       "      <td>payer</td>\n",
       "      <td>14536.92</td>\n",
       "      <td>None</td>\n",
       "      <td>None</td>\n",
       "      <td>None</td>\n",
       "    </tr>\n",
       "    <tr>\n",
       "      <th>3</th>\n",
       "      <td>Angioplasty</td>\n",
       "      <td>CPT/HCPC 92920-92921, 92924-92925, 92928-92929...</td>\n",
       "      <td>$21,113.92</td>\n",
       "      <td>Aetna</td>\n",
       "      <td>payer</td>\n",
       "      <td>21113.92</td>\n",
       "      <td>None</td>\n",
       "      <td>None</td>\n",
       "      <td>None</td>\n",
       "    </tr>\n",
       "    <tr>\n",
       "      <th>4</th>\n",
       "      <td>Cardiac Cath</td>\n",
       "      <td>CPT/HCPC 0293T, 0294T, 0408T, 0410T, 0411T, 04...</td>\n",
       "      <td>$12,188.46</td>\n",
       "      <td>Aetna</td>\n",
       "      <td>payer</td>\n",
       "      <td>12188.46</td>\n",
       "      <td>None</td>\n",
       "      <td>None</td>\n",
       "      <td>None</td>\n",
       "    </tr>\n",
       "    <tr>\n",
       "      <th>...</th>\n",
       "      <td>...</td>\n",
       "      <td>...</td>\n",
       "      <td>...</td>\n",
       "      <td>...</td>\n",
       "      <td>...</td>\n",
       "      <td>...</td>\n",
       "      <td>...</td>\n",
       "      <td>...</td>\n",
       "      <td>...</td>\n",
       "    </tr>\n",
       "    <tr>\n",
       "      <th>1351</th>\n",
       "      <td>ER</td>\n",
       "      <td>None</td>\n",
       "      <td>$695.00</td>\n",
       "      <td>WellCare TX GCD</td>\n",
       "      <td>payer</td>\n",
       "      <td>695.00</td>\n",
       "      <td>None</td>\n",
       "      <td>None</td>\n",
       "      <td>None</td>\n",
       "    </tr>\n",
       "    <tr>\n",
       "      <th>1352</th>\n",
       "      <td>Inpatient Services Add on Per diem</td>\n",
       "      <td>None</td>\n",
       "      <td>$650.00</td>\n",
       "      <td>WellCare TX GCD</td>\n",
       "      <td>payer</td>\n",
       "      <td>650.00</td>\n",
       "      <td>None</td>\n",
       "      <td>per diem</td>\n",
       "      <td>None</td>\n",
       "    </tr>\n",
       "    <tr>\n",
       "      <th>1353</th>\n",
       "      <td>Observation</td>\n",
       "      <td>None</td>\n",
       "      <td>$4,150.00</td>\n",
       "      <td>WellCare TX GCD</td>\n",
       "      <td>payer</td>\n",
       "      <td>4150.00</td>\n",
       "      <td>None</td>\n",
       "      <td>None</td>\n",
       "      <td>None</td>\n",
       "    </tr>\n",
       "    <tr>\n",
       "      <th>1354</th>\n",
       "      <td>Other Outpatient</td>\n",
       "      <td>None</td>\n",
       "      <td>103% of MCR</td>\n",
       "      <td>WellCare TX GCD</td>\n",
       "      <td>payer</td>\n",
       "      <td>None</td>\n",
       "      <td>None</td>\n",
       "      <td>other</td>\n",
       "      <td>billed as % of MCR</td>\n",
       "    </tr>\n",
       "    <tr>\n",
       "      <th>1355</th>\n",
       "      <td>Rehab</td>\n",
       "      <td>None</td>\n",
       "      <td>100% of MCR</td>\n",
       "      <td>WellCare TX GCD</td>\n",
       "      <td>payer</td>\n",
       "      <td>None</td>\n",
       "      <td>None</td>\n",
       "      <td>other</td>\n",
       "      <td>billed as % of MCR</td>\n",
       "    </tr>\n",
       "  </tbody>\n",
       "</table>\n",
       "<p>1356 rows × 9 columns</p>\n",
       "</div>"
      ],
      "text/plain": [
       "                             description   \n",
       "0                        Additional days  \\\n",
       "1                        Additional days   \n",
       "2                            Angioplasty   \n",
       "3                            Angioplasty   \n",
       "4                           Cardiac Cath   \n",
       "...                                  ...   \n",
       "1351                                  ER   \n",
       "1352  Inpatient Services Add on Per diem   \n",
       "1353                       Observation     \n",
       "1354                    Other Outpatient   \n",
       "1355                               Rehab   \n",
       "\n",
       "                                                   code standard_charge_   \n",
       "0                          MS-DRG 768, 796-798, 805-807       $3,580.38   \\\n",
       "1                                        MS-DRG 783-788       $3,580.38    \n",
       "2                                        CPT/HCPC 33967      $14,536.92    \n",
       "3     CPT/HCPC 92920-92921, 92924-92925, 92928-92929...      $21,113.92    \n",
       "4     CPT/HCPC 0293T, 0294T, 0408T, 0410T, 0411T, 04...      $12,188.46    \n",
       "...                                                 ...              ...   \n",
       "1351                                               None         $695.00    \n",
       "1352                                               None         $650.00    \n",
       "1353                                               None       $4,150.00    \n",
       "1354                                               None      103% of MCR   \n",
       "1355                                               None      100% of MCR   \n",
       "\n",
       "           payer_name payer_category standard_charge standard_charge_percent   \n",
       "0               Aetna          payer         3580.38                    None  \\\n",
       "1               Aetna          payer         3580.38                    None   \n",
       "2               Aetna          payer        14536.92                    None   \n",
       "3               Aetna          payer        21113.92                    None   \n",
       "4               Aetna          payer        12188.46                    None   \n",
       "...               ...            ...             ...                     ...   \n",
       "1351  WellCare TX GCD          payer          695.00                    None   \n",
       "1352  WellCare TX GCD          payer          650.00                    None   \n",
       "1353  WellCare TX GCD          payer         4150.00                    None   \n",
       "1354  WellCare TX GCD          payer            None                    None   \n",
       "1355  WellCare TX GCD          payer            None                    None   \n",
       "\n",
       "     contracting_method additional_generic_notes  \n",
       "0                  None                     None  \n",
       "1                  None                     None  \n",
       "2                  None                     None  \n",
       "3                  None                     None  \n",
       "4                  None                     None  \n",
       "...                 ...                      ...  \n",
       "1351               None                     None  \n",
       "1352           per diem                     None  \n",
       "1353               None                     None  \n",
       "1354              other       billed as % of MCR  \n",
       "1355              other       billed as % of MCR  \n",
       "\n",
       "[1356 rows x 9 columns]"
      ]
     },
     "execution_count": 15,
     "metadata": {},
     "output_type": "execute_result"
    }
   ],
   "source": [
    "lower_chunk.with_columns(*charge_cols()).to_pandas()"
   ]
  },
  {
   "cell_type": "markdown",
   "id": "5a4e36a1-6d5f-4e6a-b125-2122d0bdaf8e",
   "metadata": {},
   "source": [
    "### Extracting with multiple identifiers\n",
    "Testing to see if any rows contain multiple identifiers"
   ]
  },
  {
   "cell_type": "code",
   "execution_count": 16,
   "id": "b3b382e8-58c8-4dd6-994d-42e69bc1d7ae",
   "metadata": {
    "tags": []
   },
   "outputs": [
    {
     "data": {
      "text/html": [
       "<div>\n",
       "<style scoped>\n",
       "    .dataframe tbody tr th:only-of-type {\n",
       "        vertical-align: middle;\n",
       "    }\n",
       "\n",
       "    .dataframe tbody tr th {\n",
       "        vertical-align: top;\n",
       "    }\n",
       "\n",
       "    .dataframe thead th {\n",
       "        text-align: right;\n",
       "    }\n",
       "</style>\n",
       "<table border=\"1\" class=\"dataframe\">\n",
       "  <thead>\n",
       "    <tr style=\"text-align: right;\">\n",
       "      <th></th>\n",
       "      <th>description</th>\n",
       "      <th>code</th>\n",
       "      <th>standard_charge_</th>\n",
       "      <th>payer_name</th>\n",
       "      <th>payer_category</th>\n",
       "      <th>id_ct</th>\n",
       "    </tr>\n",
       "  </thead>\n",
       "  <tbody>\n",
       "    <tr>\n",
       "      <th>0</th>\n",
       "      <td>Detoxification</td>\n",
       "      <td>None</td>\n",
       "      <td>$1,889.31</td>\n",
       "      <td>Aetna</td>\n",
       "      <td>payer</td>\n",
       "      <td>NaN</td>\n",
       "    </tr>\n",
       "    <tr>\n",
       "      <th>1</th>\n",
       "      <td>Grouper 1</td>\n",
       "      <td>None</td>\n",
       "      <td>$2,011.23</td>\n",
       "      <td>Aetna</td>\n",
       "      <td>payer</td>\n",
       "      <td>NaN</td>\n",
       "    </tr>\n",
       "    <tr>\n",
       "      <th>2</th>\n",
       "      <td>Grouper 2</td>\n",
       "      <td>None</td>\n",
       "      <td>$2,187.31</td>\n",
       "      <td>Aetna</td>\n",
       "      <td>payer</td>\n",
       "      <td>NaN</td>\n",
       "    </tr>\n",
       "    <tr>\n",
       "      <th>3</th>\n",
       "      <td>Grouper 3</td>\n",
       "      <td>None</td>\n",
       "      <td>$2,741.00</td>\n",
       "      <td>Aetna</td>\n",
       "      <td>payer</td>\n",
       "      <td>NaN</td>\n",
       "    </tr>\n",
       "    <tr>\n",
       "      <th>4</th>\n",
       "      <td>Grouper 4</td>\n",
       "      <td>None</td>\n",
       "      <td>$2,976.85</td>\n",
       "      <td>Aetna</td>\n",
       "      <td>payer</td>\n",
       "      <td>NaN</td>\n",
       "    </tr>\n",
       "    <tr>\n",
       "      <th>...</th>\n",
       "      <td>...</td>\n",
       "      <td>...</td>\n",
       "      <td>...</td>\n",
       "      <td>...</td>\n",
       "      <td>...</td>\n",
       "      <td>...</td>\n",
       "    </tr>\n",
       "    <tr>\n",
       "      <th>1351</th>\n",
       "      <td>Obstetrics</td>\n",
       "      <td>MS-DRG 817-819, 831-833; ICD 9/10 04700, 04701...</td>\n",
       "      <td>$1,793.00</td>\n",
       "      <td>United</td>\n",
       "      <td>payer</td>\n",
       "      <td>2.0</td>\n",
       "    </tr>\n",
       "    <tr>\n",
       "      <th>1352</th>\n",
       "      <td>Transplant</td>\n",
       "      <td>MS-DRG 001; ICD 9/10 02HA0QZ, 02HA0RZ, 02HA3QZ...</td>\n",
       "      <td>$151,648.67</td>\n",
       "      <td>United</td>\n",
       "      <td>payer</td>\n",
       "      <td>2.0</td>\n",
       "    </tr>\n",
       "    <tr>\n",
       "      <th>1353</th>\n",
       "      <td>Transplant</td>\n",
       "      <td>MS-DRG 002; ICD 9/10 02HA0QZ, 02HA0RZ, 02HA3QZ...</td>\n",
       "      <td>$151,648.67</td>\n",
       "      <td>United</td>\n",
       "      <td>payer</td>\n",
       "      <td>2.0</td>\n",
       "    </tr>\n",
       "    <tr>\n",
       "      <th>1354</th>\n",
       "      <td>Urology</td>\n",
       "      <td>MS-DRG 694; ICD 9/10 0TF3XZZ, 0TF4XZZ, 0TF6XZZ...</td>\n",
       "      <td>$8,676.00</td>\n",
       "      <td>United</td>\n",
       "      <td>payer</td>\n",
       "      <td>2.0</td>\n",
       "    </tr>\n",
       "    <tr>\n",
       "      <th>1355</th>\n",
       "      <td>Urology</td>\n",
       "      <td>MS-DRG 693; ICD 9/10 0TF3XZZ, 0TF4XZZ, 0TF6XZZ...</td>\n",
       "      <td>$8,676.00</td>\n",
       "      <td>United</td>\n",
       "      <td>payer</td>\n",
       "      <td>2.0</td>\n",
       "    </tr>\n",
       "  </tbody>\n",
       "</table>\n",
       "<p>1356 rows × 6 columns</p>\n",
       "</div>"
      ],
      "text/plain": [
       "         description                                               code   \n",
       "0     Detoxification                                               None  \\\n",
       "1          Grouper 1                                               None   \n",
       "2          Grouper 2                                               None   \n",
       "3          Grouper 3                                               None   \n",
       "4          Grouper 4                                               None   \n",
       "...              ...                                                ...   \n",
       "1351      Obstetrics  MS-DRG 817-819, 831-833; ICD 9/10 04700, 04701...   \n",
       "1352      Transplant  MS-DRG 001; ICD 9/10 02HA0QZ, 02HA0RZ, 02HA3QZ...   \n",
       "1353      Transplant  MS-DRG 002; ICD 9/10 02HA0QZ, 02HA0RZ, 02HA3QZ...   \n",
       "1354         Urology  MS-DRG 694; ICD 9/10 0TF3XZZ, 0TF4XZZ, 0TF6XZZ...   \n",
       "1355         Urology  MS-DRG 693; ICD 9/10 0TF3XZZ, 0TF4XZZ, 0TF6XZZ...   \n",
       "\n",
       "     standard_charge_ payer_name payer_category  id_ct  \n",
       "0          $1,889.31       Aetna          payer    NaN  \n",
       "1          $2,011.23       Aetna          payer    NaN  \n",
       "2          $2,187.31       Aetna          payer    NaN  \n",
       "3          $2,741.00       Aetna          payer    NaN  \n",
       "4          $2,976.85       Aetna          payer    NaN  \n",
       "...               ...        ...            ...    ...  \n",
       "1351       $1,793.00      United          payer    2.0  \n",
       "1352     $151,648.67      United          payer    2.0  \n",
       "1353     $151,648.67      United          payer    2.0  \n",
       "1354       $8,676.00      United          payer    2.0  \n",
       "1355       $8,676.00      United          payer    2.0  \n",
       "\n",
       "[1356 rows x 6 columns]"
      ]
     },
     "execution_count": 16,
     "metadata": {},
     "output_type": "execute_result"
    }
   ],
   "source": [
    "identifiers = ['CPT/HCPC', 'REV', 'MS-DRG', 'ICD 9/10', 'APC', 'APR-DRG']\n",
    "lower_chunk.with_columns(\n",
    "    pl.col('code').str.to_uppercase().apply(lambda x: sum([y in x for y in identifiers])).alias('id_ct')\n",
    ").sort('id_ct').to_pandas()"
   ]
  },
  {
   "cell_type": "markdown",
   "id": "e555d4e1-b5e9-4a52-9a77-18ac382d72e3",
   "metadata": {},
   "source": [
    "### Cleaning up the code column"
   ]
  },
  {
   "cell_type": "code",
   "execution_count": 17,
   "id": "75a5b1f3-38b2-465a-a0a8-0f2a26d29cf1",
   "metadata": {
    "tags": []
   },
   "outputs": [
    {
     "data": {
      "text/html": [
       "<div>\n",
       "<style scoped>\n",
       "    .dataframe tbody tr th:only-of-type {\n",
       "        vertical-align: middle;\n",
       "    }\n",
       "\n",
       "    .dataframe tbody tr th {\n",
       "        vertical-align: top;\n",
       "    }\n",
       "\n",
       "    .dataframe thead th {\n",
       "        text-align: right;\n",
       "    }\n",
       "</style>\n",
       "<table border=\"1\" class=\"dataframe\">\n",
       "  <thead>\n",
       "    <tr style=\"text-align: right;\">\n",
       "      <th></th>\n",
       "      <th>description</th>\n",
       "      <th>code</th>\n",
       "      <th>standard_charge_</th>\n",
       "      <th>payer_name</th>\n",
       "      <th>payer_category</th>\n",
       "      <th>id_ct</th>\n",
       "    </tr>\n",
       "  </thead>\n",
       "  <tbody>\n",
       "    <tr>\n",
       "      <th>0</th>\n",
       "      <td>Detoxification</td>\n",
       "      <td>None</td>\n",
       "      <td>$1,889.31</td>\n",
       "      <td>Aetna</td>\n",
       "      <td>payer</td>\n",
       "      <td>NaN</td>\n",
       "    </tr>\n",
       "    <tr>\n",
       "      <th>1</th>\n",
       "      <td>Grouper 1</td>\n",
       "      <td>None</td>\n",
       "      <td>$2,011.23</td>\n",
       "      <td>Aetna</td>\n",
       "      <td>payer</td>\n",
       "      <td>NaN</td>\n",
       "    </tr>\n",
       "    <tr>\n",
       "      <th>2</th>\n",
       "      <td>Grouper 2</td>\n",
       "      <td>None</td>\n",
       "      <td>$2,187.31</td>\n",
       "      <td>Aetna</td>\n",
       "      <td>payer</td>\n",
       "      <td>NaN</td>\n",
       "    </tr>\n",
       "    <tr>\n",
       "      <th>3</th>\n",
       "      <td>Grouper 3</td>\n",
       "      <td>None</td>\n",
       "      <td>$2,741.00</td>\n",
       "      <td>Aetna</td>\n",
       "      <td>payer</td>\n",
       "      <td>NaN</td>\n",
       "    </tr>\n",
       "    <tr>\n",
       "      <th>4</th>\n",
       "      <td>Grouper 4</td>\n",
       "      <td>None</td>\n",
       "      <td>$2,976.85</td>\n",
       "      <td>Aetna</td>\n",
       "      <td>payer</td>\n",
       "      <td>NaN</td>\n",
       "    </tr>\n",
       "    <tr>\n",
       "      <th>...</th>\n",
       "      <td>...</td>\n",
       "      <td>...</td>\n",
       "      <td>...</td>\n",
       "      <td>...</td>\n",
       "      <td>...</td>\n",
       "      <td>...</td>\n",
       "    </tr>\n",
       "    <tr>\n",
       "      <th>1359</th>\n",
       "      <td>Vascular Surgery</td>\n",
       "      <td>MS-DRG 035</td>\n",
       "      <td>$23,499.67</td>\n",
       "      <td>United</td>\n",
       "      <td>payer</td>\n",
       "      <td>1.0</td>\n",
       "    </tr>\n",
       "    <tr>\n",
       "      <th>1360</th>\n",
       "      <td>Vascular Surgery</td>\n",
       "      <td>MS-DRG 254</td>\n",
       "      <td>$21,713.67</td>\n",
       "      <td>United</td>\n",
       "      <td>payer</td>\n",
       "      <td>1.0</td>\n",
       "    </tr>\n",
       "    <tr>\n",
       "      <th>1361</th>\n",
       "      <td>Vascular Surgery</td>\n",
       "      <td>MS-DRG 263</td>\n",
       "      <td>$41,552.33</td>\n",
       "      <td>United</td>\n",
       "      <td>payer</td>\n",
       "      <td>1.0</td>\n",
       "    </tr>\n",
       "    <tr>\n",
       "      <th>1362</th>\n",
       "      <td>Vascular Surgery</td>\n",
       "      <td>MS-DRG 036</td>\n",
       "      <td>$23,499.67</td>\n",
       "      <td>United</td>\n",
       "      <td>payer</td>\n",
       "      <td>1.0</td>\n",
       "    </tr>\n",
       "    <tr>\n",
       "      <th>1363</th>\n",
       "      <td>Observation</td>\n",
       "      <td>CPT/HCPC G0463-25</td>\n",
       "      <td>$4,000.00</td>\n",
       "      <td>United MCR</td>\n",
       "      <td>payer</td>\n",
       "      <td>1.0</td>\n",
       "    </tr>\n",
       "  </tbody>\n",
       "</table>\n",
       "<p>1364 rows × 6 columns</p>\n",
       "</div>"
      ],
      "text/plain": [
       "           description               code standard_charge_  payer_name   \n",
       "0       Detoxification               None       $1,889.31        Aetna  \\\n",
       "1            Grouper 1               None       $2,011.23        Aetna   \n",
       "2            Grouper 2               None       $2,187.31        Aetna   \n",
       "3            Grouper 3               None       $2,741.00        Aetna   \n",
       "4            Grouper 4               None       $2,976.85        Aetna   \n",
       "...                ...                ...              ...         ...   \n",
       "1359  Vascular Surgery         MS-DRG 035      $23,499.67       United   \n",
       "1360  Vascular Surgery         MS-DRG 254      $21,713.67       United   \n",
       "1361  Vascular Surgery         MS-DRG 263      $41,552.33       United   \n",
       "1362  Vascular Surgery         MS-DRG 036      $23,499.67       United   \n",
       "1363     Observation    CPT/HCPC G0463-25       $4,000.00   United MCR   \n",
       "\n",
       "     payer_category  id_ct  \n",
       "0             payer    NaN  \n",
       "1             payer    NaN  \n",
       "2             payer    NaN  \n",
       "3             payer    NaN  \n",
       "4             payer    NaN  \n",
       "...             ...    ...  \n",
       "1359          payer    1.0  \n",
       "1360          payer    1.0  \n",
       "1361          payer    1.0  \n",
       "1362          payer    1.0  \n",
       "1363          payer    1.0  \n",
       "\n",
       "[1364 rows x 6 columns]"
      ]
     },
     "execution_count": 17,
     "metadata": {},
     "output_type": "execute_result"
    }
   ],
   "source": [
    "lower_chunk.with_columns(\n",
    "    # some codes have junk like \\n in them\n",
    "    pl.col('code').str.replace_all('\\n', '').str.split(';')\n",
    ").explode('code').with_columns(\n",
    "    pl.col('code').str.to_uppercase().apply(lambda row: sum([id_ in row for id_ in identifiers])).alias('id_ct')\n",
    ").sort('id_ct').to_pandas()"
   ]
  },
  {
   "cell_type": "code",
   "execution_count": 18,
   "id": "a9998cfc-f73f-4ed6-a6ad-f014a7b6728a",
   "metadata": {
    "tags": []
   },
   "outputs": [
    {
     "data": {
      "text/plain": [
       "'CPT/HCPC 0293T, 0294T, 0408T, 0410T, 0411T, 0413T, 0415T, 33340, 33477, C9741, 93451- 93462, 93503-93505, 93530-93533, 93590, 93591, 93592, G0448'"
      ]
     },
     "execution_count": 18,
     "metadata": {},
     "output_type": "execute_result"
    }
   ],
   "source": [
    "lower_chunk.filter(pl.col('code').str.contains('- ')).to_pandas()['code'][0]"
   ]
  },
  {
   "cell_type": "code",
   "execution_count": 19,
   "id": "e6539d87-c086-4503-b23d-e2aaac61534b",
   "metadata": {
    "tags": []
   },
   "outputs": [
    {
     "data": {
      "text/plain": [
       "\"CPT/HCPC Cigna 2020 Grouper - lam and Lap Chole listed in Cigna's grouper schedule assigned to Grouper 9.  Groupers 79 and 99 removed from the grouper schedule.\""
      ]
     },
     "execution_count": 19,
     "metadata": {},
     "output_type": "execute_result"
    }
   ],
   "source": [
    "lower_chunk.filter(pl.col('code').str.contains('- ')).to_pandas()['code'][1]"
   ]
  },
  {
   "cell_type": "markdown",
   "id": "ff71bcf9-b999-4036-8a42-a6aa918f2689",
   "metadata": {},
   "source": [
    "We'll want to replace things like `93451- 93462` with the appropriate range. A range is when you have two values with the same length connected by either a dash or a dash + space.\n",
    "\n",
    "We also have rows like\n",
    "\n",
    "```\n",
    "'ICD 9/10 27125, 27130, 27132, 27134, 27137, 27138, 27445, 27446, 27447, 27486, 27487'\n",
    "```\n",
    "that are totally mislabeled.\n",
    "\n",
    "All rows where `code` is not null have an identifier:"
   ]
  },
  {
   "cell_type": "code",
   "execution_count": 20,
   "id": "132a2702-91d4-4915-b35d-f4728abf455b",
   "metadata": {
    "tags": []
   },
   "outputs": [
    {
     "data": {
      "text/html": [
       "<div><style>\n",
       ".dataframe > thead > tr > th,\n",
       ".dataframe > tbody > tr > td {\n",
       "  text-align: right;\n",
       "}\n",
       "</style>\n",
       "<small>shape: (0, 6)</small><table border=\"1\" class=\"dataframe\"><thead><tr><th>description</th><th>code</th><th>standard_charge_</th><th>payer_name</th><th>payer_category</th><th>id_ct</th></tr><tr><td>str</td><td>str</td><td>str</td><td>str</td><td>str</td><td>i64</td></tr></thead><tbody></tbody></table></div>"
      ],
      "text/plain": [
       "shape: (0, 6)\n",
       "┌─────────────┬──────┬──────────────────┬────────────┬────────────────┬───────┐\n",
       "│ description ┆ code ┆ standard_charge_ ┆ payer_name ┆ payer_category ┆ id_ct │\n",
       "│ ---         ┆ ---  ┆ ---              ┆ ---        ┆ ---            ┆ ---   │\n",
       "│ str         ┆ str  ┆ str              ┆ str        ┆ str            ┆ i64   │\n",
       "╞═════════════╪══════╪══════════════════╪════════════╪════════════════╪═══════╡\n",
       "└─────────────┴──────┴──────────────────┴────────────┴────────────────┴───────┘"
      ]
     },
     "execution_count": 20,
     "metadata": {},
     "output_type": "execute_result"
    }
   ],
   "source": [
    "lower_chunk.with_columns(\n",
    "    pl.col('code').str.split(';')\n",
    ").explode('code').with_columns(\n",
    "    pl.col('code').str.to_uppercase().apply(lambda row: sum([id_ in row for id_ in identifiers])).alias('id_ct')\n",
    ").filter(pl.col('id_ct').is_null()).filter(pl.col('code').is_not_null())"
   ]
  },
  {
   "cell_type": "code",
   "execution_count": 21,
   "id": "ab733807-5abb-4d03-87f7-2beb20816c36",
   "metadata": {
    "tags": []
   },
   "outputs": [],
   "source": [
    "lower_chunk = (\n",
    "    lower_chunk\n",
    "    .with_columns(pl.col('code').str.replace_all('\\n', '').str.split(';'))\n",
    "    .explode('code')\n",
    "    .with_columns(pl.col('code').str.to_uppercase().apply(lambda row: sum([id_ in row for id_ in identifiers])).alias('id_ct'))\n",
    ")"
   ]
  },
  {
   "cell_type": "markdown",
   "id": "dd6d850b-ef37-4098-b414-72ba9a480637",
   "metadata": {},
   "source": [
    "### Putting codes in their proper columns"
   ]
  },
  {
   "cell_type": "code",
   "execution_count": 22,
   "id": "15d76c03-715a-40da-9993-984a94a64555",
   "metadata": {
    "tags": []
   },
   "outputs": [],
   "source": [
    "col_map = {\n",
    "    'CPT/HCPC|HCPC Codes':'hcpcs_cpt',\n",
    "    'REV':'rev_code',\n",
    "    'MS-DRG':'ms_drg',\n",
    "    'ICD 9/10':'icd',\n",
    "    'APC':'apc',\n",
    "    'APR-DRG':'apr_drg',\n",
    "    'CMG':'cmg', # for good measure\n",
    "}"
   ]
  },
  {
   "cell_type": "code",
   "execution_count": 23,
   "id": "e48d99ae-bdc6-464b-b808-375364adfc9a",
   "metadata": {
    "tags": []
   },
   "outputs": [],
   "source": [
    "for k, v in col_map.items():\n",
    "    lower_chunk = lower_chunk.with_columns(\n",
    "        pl.when(pl.col('code').str.contains(k)).then(pl.col('code').str.replace_all(k, '').str.strip()).alias(v)\n",
    "    )"
   ]
  },
  {
   "cell_type": "code",
   "execution_count": 24,
   "id": "c8b011e0-bbca-49a4-8d46-a7dcc4812cf3",
   "metadata": {
    "tags": []
   },
   "outputs": [
    {
     "data": {
      "text/html": [
       "<div><style>\n",
       ".dataframe > thead > tr > th,\n",
       ".dataframe > tbody > tr > td {\n",
       "  text-align: right;\n",
       "}\n",
       "</style>\n",
       "<small>shape: (10, 13)</small><table border=\"1\" class=\"dataframe\"><thead><tr><th>description</th><th>code</th><th>standard_charge_</th><th>payer_name</th><th>payer_category</th><th>id_ct</th><th>hcpcs_cpt</th><th>rev_code</th><th>ms_drg</th><th>icd</th><th>apc</th><th>apr_drg</th><th>cmg</th></tr><tr><td>str</td><td>str</td><td>str</td><td>str</td><td>str</td><td>i64</td><td>str</td><td>str</td><td>str</td><td>str</td><td>str</td><td>str</td><td>str</td></tr></thead><tbody><tr><td>&quot;Cardiovascular…</td><td>&quot;MS-DRG 232&quot;</td><td>&quot;$104,009.00 &quot;</td><td>&quot;Cigna&quot;</td><td>&quot;payer&quot;</td><td>1</td><td>null</td><td>null</td><td>&quot;232&quot;</td><td>null</td><td>null</td><td>null</td><td>null</td></tr><tr><td>&quot;Cardiovascular…</td><td>&quot;MS-DRG 274&quot;</td><td>&quot;$18,951.00 &quot;</td><td>&quot;Coventry Natio…</td><td>&quot;payer&quot;</td><td>1</td><td>null</td><td>null</td><td>&quot;274&quot;</td><td>null</td><td>null</td><td>null</td><td>null</td></tr><tr><td>&quot;Medicine&quot;</td><td>&quot;CPT/HCPC 95961…</td><td>&quot;$720.16 &quot;</td><td>&quot;Cigna&quot;</td><td>&quot;payer&quot;</td><td>1</td><td>&quot;95961&quot;</td><td>null</td><td>null</td><td>null</td><td>null</td><td>null</td><td>null</td></tr><tr><td>&quot;Vascular Surge…</td><td>&quot;MS-DRG 036&quot;</td><td>&quot;$23,499.67 &quot;</td><td>&quot;United&quot;</td><td>&quot;payer&quot;</td><td>1</td><td>null</td><td>null</td><td>&quot;036&quot;</td><td>null</td><td>null</td><td>null</td><td>null</td></tr><tr><td>&quot;Observation  &quot;</td><td>null</td><td>&quot;$5,000.00 &quot;</td><td>&quot;American Healt…</td><td>&quot;payer&quot;</td><td>null</td><td>null</td><td>null</td><td>null</td><td>null</td><td>null</td><td>null</td><td>null</td></tr><tr><td>&quot;Cardiology&quot;</td><td>&quot;MS-DRG 223&quot;</td><td>&quot;$81,911.33 &quot;</td><td>&quot;United&quot;</td><td>&quot;payer&quot;</td><td>1</td><td>null</td><td>null</td><td>&quot;223&quot;</td><td>null</td><td>null</td><td>null</td><td>null</td></tr><tr><td>&quot;Medicine&quot;</td><td>&quot;CPT/HCPC 95972…</td><td>&quot;$512.43 &quot;</td><td>&quot;Cigna&quot;</td><td>&quot;payer&quot;</td><td>1</td><td>&quot;95972&quot;</td><td>null</td><td>null</td><td>null</td><td>null</td><td>null</td><td>null</td></tr><tr><td>&quot;Cardiovascular…</td><td>&quot;MS-DRG 233&quot;</td><td>&quot;$52,529.33 &quot;</td><td>&quot;United&quot;</td><td>&quot;payer&quot;</td><td>1</td><td>null</td><td>null</td><td>&quot;233&quot;</td><td>null</td><td>null</td><td>null</td><td>null</td></tr><tr><td>&quot;Medicine&quot;</td><td>&quot;CPT/HCPC 92977…</td><td>&quot;$548.93 &quot;</td><td>&quot;Cigna&quot;</td><td>&quot;payer&quot;</td><td>1</td><td>&quot;92977&quot;</td><td>null</td><td>null</td><td>null</td><td>null</td><td>null</td><td>null</td></tr><tr><td>&quot;Other Outpatie…</td><td>null</td><td>&quot;106% of MCR&quot;</td><td>&quot;Global Health&quot;</td><td>&quot;payer&quot;</td><td>null</td><td>null</td><td>null</td><td>null</td><td>null</td><td>null</td><td>null</td><td>null</td></tr></tbody></table></div>"
      ],
      "text/plain": [
       "shape: (10, 13)\n",
       "┌────────────────┬────────────┬────────────────┬────────────────┬───┬──────┬──────┬─────────┬──────┐\n",
       "│ description    ┆ code       ┆ standard_charg ┆ payer_name     ┆ … ┆ icd  ┆ apc  ┆ apr_drg ┆ cmg  │\n",
       "│ ---            ┆ ---        ┆ e_             ┆ ---            ┆   ┆ ---  ┆ ---  ┆ ---     ┆ ---  │\n",
       "│ str            ┆ str        ┆ ---            ┆ str            ┆   ┆ str  ┆ str  ┆ str     ┆ str  │\n",
       "│                ┆            ┆ str            ┆                ┆   ┆      ┆      ┆         ┆      │\n",
       "╞════════════════╪════════════╪════════════════╪════════════════╪═══╪══════╪══════╪═════════╪══════╡\n",
       "│ Cardiovascular ┆ MS-DRG 232 ┆ $104,009.00    ┆ Cigna          ┆ … ┆ null ┆ null ┆ null    ┆ null │\n",
       "│ Surgery        ┆            ┆                ┆                ┆   ┆      ┆      ┆         ┆      │\n",
       "│ Cardiovascular ┆ MS-DRG 274 ┆ $18,951.00     ┆ Coventry       ┆ … ┆ null ┆ null ┆ null    ┆ null │\n",
       "│                ┆            ┆                ┆ National-First ┆   ┆      ┆      ┆         ┆      │\n",
       "│                ┆            ┆                ┆ Health         ┆   ┆      ┆      ┆         ┆      │\n",
       "│ Medicine       ┆ CPT/HCPC   ┆ $720.16        ┆ Cigna          ┆ … ┆ null ┆ null ┆ null    ┆ null │\n",
       "│                ┆ 95961      ┆                ┆                ┆   ┆      ┆      ┆         ┆      │\n",
       "│ Vascular       ┆ MS-DRG 036 ┆ $23,499.67     ┆ United         ┆ … ┆ null ┆ null ┆ null    ┆ null │\n",
       "│ Surgery        ┆            ┆                ┆                ┆   ┆      ┆      ┆         ┆      │\n",
       "│ …              ┆ …          ┆ …              ┆ …              ┆ … ┆ …    ┆ …    ┆ …       ┆ …    │\n",
       "│ Medicine       ┆ CPT/HCPC   ┆ $512.43        ┆ Cigna          ┆ … ┆ null ┆ null ┆ null    ┆ null │\n",
       "│                ┆ 95972      ┆                ┆                ┆   ┆      ┆      ┆         ┆      │\n",
       "│ Cardiovascular ┆ MS-DRG 233 ┆ $52,529.33     ┆ United         ┆ … ┆ null ┆ null ┆ null    ┆ null │\n",
       "│ Surgery        ┆            ┆                ┆                ┆   ┆      ┆      ┆         ┆      │\n",
       "│ Medicine       ┆ CPT/HCPC   ┆ $548.93        ┆ Cigna          ┆ … ┆ null ┆ null ┆ null    ┆ null │\n",
       "│                ┆ 92977      ┆                ┆                ┆   ┆      ┆      ┆         ┆      │\n",
       "│ Other          ┆ null       ┆ 106% of MCR    ┆ Global Health  ┆ … ┆ null ┆ null ┆ null    ┆ null │\n",
       "│ Outpatient     ┆            ┆                ┆                ┆   ┆      ┆      ┆         ┆      │\n",
       "└────────────────┴────────────┴────────────────┴────────────────┴───┴──────┴──────┴─────────┴──────┘"
      ]
     },
     "execution_count": 24,
     "metadata": {},
     "output_type": "execute_result"
    }
   ],
   "source": [
    "lower_chunk.sample(10)"
   ]
  },
  {
   "cell_type": "code",
   "execution_count": 25,
   "id": "95d1e057-6c68-48af-9061-16c1104bf1dc",
   "metadata": {
    "tags": []
   },
   "outputs": [],
   "source": [
    "start = '(^|\\\\b)'\n",
    "end = '($|\\\\b)'\n",
    "\n",
    "def cpt_capture_template(pat):\n",
    "    range_grp = f'{start}{pat}-\\s?{pat}{end}'\n",
    "    modifier_grp = f'{start}{pat}-\\w{{2}}{end}'\n",
    "    singlet_grp = f'{start}{pat}{end}'\n",
    "    return f'(?:({range_grp})|({modifier_grp})|({singlet_grp}))'\n",
    "\n",
    "def other_capture_template(pat):\n",
    "    range_grp = f'{start}{pat}-\\s?{pat}{end}'\n",
    "    singlet_grp = f'{start}{pat}{end}'\n",
    "    return f'(?:({range_grp})|({singlet_grp}))'"
   ]
  },
  {
   "cell_type": "code",
   "execution_count": 26,
   "id": "067676d6-1d1c-4131-8a1f-9c566701c869",
   "metadata": {
    "tags": []
   },
   "outputs": [],
   "source": [
    "cpt_pats = ['[A-Z]\\d{4}',  #A1234\n",
    "            '\\d{4}[A-Z]',  #1234A\n",
    "            '\\d{5}',       #12345\n",
    "]\n",
    "\n",
    "icd_pats = [\n",
    "    '\\w{7}',            # any 7 char sequence TODO\n",
    "    '\\d{3}\\.?\\d{0,2}',  # ICD9: 123, 123.1, 123.12\n",
    "    'E\\d{3}\\.?\\d?',     # ICD9: E123, E123.1\n",
    "    'V\\d{2}\\.?\\d{0,2}', # ICD9: V12, V12.123\n",
    "]\n",
    "\n",
    "cpt_pat = '|'.join(cpt_pats)\n",
    "icd_pat = '|'.join(icd_pats)\n",
    "ms_drg_pat = '\\d{3}x?'\n",
    "apr_drg_pat = '\\d{3}(\\d|x)?'\n",
    "apc_pat = '\\d{2,4}'\n",
    "rev_pat = '\\d{3,4}'\n",
    "\n",
    "cpt_template = '|'.join(cpt_capture_template(pat) for pat in cpt_pats)\n",
    "icd_template = '|'.join(other_capture_template(pat) for pat in icd_pats)\n",
    "ms_drg_template = other_capture_template(ms_drg_pat)\n",
    "apr_drg_template = other_capture_template(apr_drg_pat)\n",
    "apc_template = other_capture_template(apc_pat)\n",
    "rev_template = other_capture_template(rev_pat)"
   ]
  },
  {
   "cell_type": "code",
   "execution_count": 27,
   "id": "bb9ffd26-8ad4-4575-be1c-9f9aba4795e4",
   "metadata": {
    "tags": []
   },
   "outputs": [],
   "source": [
    "def split_through(colname, pat):\n",
    "    return (\n",
    "        pl.col(colname).str.extract(f'-({pat})$').alias(f'thru_{colname}'),\n",
    "        pl.col(colname).str.extract(f'^({pat})-?').alias(colname)\n",
    "    )"
   ]
  },
  {
   "cell_type": "code",
   "execution_count": 28,
   "id": "b64537c9-2da5-497e-8102-7a191da9177a",
   "metadata": {
    "tags": []
   },
   "outputs": [
    {
     "data": {
      "text/html": [
       "<div><style>\n",
       ".dataframe > thead > tr > th,\n",
       ".dataframe > tbody > tr > td {\n",
       "  text-align: right;\n",
       "}\n",
       "</style>\n",
       "<small>shape: (20, 15)</small><table border=\"1\" class=\"dataframe\"><thead><tr><th>description</th><th>code</th><th>standard_charge_</th><th>payer_name</th><th>payer_category</th><th>id_ct</th><th>hcpcs_cpt</th><th>rev_code</th><th>ms_drg</th><th>icd</th><th>apc</th><th>apr_drg</th><th>cmg</th><th>modifiers</th><th>thru</th></tr><tr><td>str</td><td>str</td><td>str</td><td>str</td><td>str</td><td>i64</td><td>str</td><td>str</td><td>str</td><td>str</td><td>str</td><td>str</td><td>str</td><td>str</td><td>str</td></tr></thead><tbody><tr><td>&quot;Radiology&quot;</td><td>&quot;CPT/HCPC 0348T…</td><td>&quot;952.58% of FS&quot;</td><td>&quot;Aetna&quot;</td><td>&quot;payer&quot;</td><td>1</td><td>&quot;0349T&quot;</td><td>null</td><td>null</td><td>null</td><td>null</td><td>null</td><td>null</td><td>null</td><td>null</td></tr><tr><td>&quot;Medicine&quot;</td><td>&quot;CPT/HCPC 93304…</td><td>&quot;$423.03 &quot;</td><td>&quot;Cigna&quot;</td><td>&quot;payer&quot;</td><td>1</td><td>&quot;93304&quot;</td><td>null</td><td>null</td><td>null</td><td>null</td><td>null</td><td>null</td><td>null</td><td>null</td></tr><tr><td>&quot;ER&quot;</td><td>&quot;CPT/HCPC 99281…</td><td>&quot;$2,098.26 &quot;</td><td>&quot;Aetna&quot;</td><td>&quot;payer&quot;</td><td>1</td><td>&quot;99283&quot;</td><td>null</td><td>null</td><td>null</td><td>null</td><td>null</td><td>null</td><td>null</td><td>null</td></tr><tr><td>&quot;Medicine&quot;</td><td>&quot;CPT/HCPC 92586…</td><td>&quot;$314.76 &quot;</td><td>&quot;Cigna&quot;</td><td>&quot;payer&quot;</td><td>1</td><td>&quot;92586&quot;</td><td>null</td><td>null</td><td>null</td><td>null</td><td>null</td><td>null</td><td>null</td><td>null</td></tr><tr><td>&quot;Cardiac Cath&quot;</td><td>&quot;CPT/HCPC 0293T…</td><td>&quot;$12,188.46 &quot;</td><td>&quot;Aetna&quot;</td><td>&quot;payer&quot;</td><td>1</td><td>&quot;C9741&quot;</td><td>null</td><td>null</td><td>null</td><td>null</td><td>null</td><td>null</td><td>null</td><td>null</td></tr><tr><td>&quot;Grouper 2&quot;</td><td>null</td><td>&quot;$4,401.00 &quot;</td><td>&quot;Humana&quot;</td><td>&quot;payer&quot;</td><td>null</td><td>null</td><td>null</td><td>null</td><td>null</td><td>null</td><td>null</td><td>null</td><td>null</td><td>null</td></tr><tr><td>&quot;Hemic/Lymph Sy…</td><td>&quot;CPT/HCPC 0312T…</td><td>&quot;$5,034.85 &quot;</td><td>&quot;Aetna&quot;</td><td>&quot;payer&quot;</td><td>1</td><td>&quot;58573&quot;</td><td>null</td><td>null</td><td>null</td><td>null</td><td>null</td><td>null</td><td>null</td><td>null</td></tr><tr><td>&quot;Lab/Path/Trans…</td><td>&quot;CPT/HCPC D0416…</td><td>&quot;648.19% of FS&quot;</td><td>&quot;Aetna&quot;</td><td>&quot;payer&quot;</td><td>1</td><td>&quot;0001M&quot;</td><td>null</td><td>null</td><td>null</td><td>null</td><td>null</td><td>null</td><td>null</td><td>null</td></tr><tr><td>&quot;Orthopedic&quot;</td><td>&quot;CPT/HCPC 27702…</td><td>&quot;125% of MCR&quot;</td><td>&quot;Devoted Health…</td><td>&quot;payer&quot;</td><td>1</td><td>&quot;27125&quot;</td><td>null</td><td>null</td><td>null</td><td>null</td><td>null</td><td>null</td><td>null</td><td>null</td></tr><tr><td>&quot;Medicine&quot;</td><td>&quot;CPT/HCPC 94250…</td><td>&quot;$164.92 &quot;</td><td>&quot;Cigna&quot;</td><td>&quot;payer&quot;</td><td>1</td><td>&quot;94250&quot;</td><td>null</td><td>null</td><td>null</td><td>null</td><td>null</td><td>null</td><td>null</td><td>null</td></tr><tr><td>&quot;Angioplasty&quot;</td><td>&quot;CPT/HCPC 92920…</td><td>&quot;$9,483.00 &quot;</td><td>&quot;Humana&quot;</td><td>&quot;payer&quot;</td><td>1</td><td>&quot;92928&quot;</td><td>null</td><td>null</td><td>null</td><td>null</td><td>null</td><td>null</td><td>null</td><td>null</td></tr><tr><td>&quot;Chemotherapy D…</td><td>&quot;CPT/HCPC A9513…</td><td>&quot;41.35% of BC&quot;</td><td>&quot;Aetna&quot;</td><td>&quot;payer&quot;</td><td>1</td><td>&quot;S0108&quot;</td><td>null</td><td>null</td><td>null</td><td>null</td><td>null</td><td>null</td><td>null</td><td>null</td></tr><tr><td>&quot;Hemic/Lymph Sy…</td><td>&quot;CPT/HCPC 0312T…</td><td>&quot;$5,034.85 &quot;</td><td>&quot;Aetna&quot;</td><td>&quot;payer&quot;</td><td>1</td><td>&quot;44206&quot;</td><td>null</td><td>null</td><td>null</td><td>null</td><td>null</td><td>null</td><td>null</td><td>&quot;44238&quot;</td></tr><tr><td>&quot;Angioplasty&quot;</td><td>&quot;CPT/HCPC 36902…</td><td>&quot;$5,591.00 &quot;</td><td>&quot;Superior HP MC…</td><td>&quot;payer&quot;</td><td>1</td><td>&quot;93600&quot;</td><td>null</td><td>null</td><td>null</td><td>null</td><td>null</td><td>null</td><td>null</td><td>&quot;93662&quot;</td></tr><tr><td>&quot;Orthopedics&quot;</td><td>&quot;MS-DRG 516&quot;</td><td>&quot;$30,205.33 &quot;</td><td>&quot;United&quot;</td><td>&quot;payer&quot;</td><td>1</td><td>null</td><td>null</td><td>&quot;516&quot;</td><td>null</td><td>null</td><td>null</td><td>null</td><td>null</td><td>null</td></tr><tr><td>&quot;Medicine&quot;</td><td>&quot;CPT/HCPC 92583…</td><td>&quot;$123.38 &quot;</td><td>&quot;Cigna&quot;</td><td>&quot;payer&quot;</td><td>1</td><td>&quot;92583&quot;</td><td>null</td><td>null</td><td>null</td><td>null</td><td>null</td><td>null</td><td>null</td><td>null</td></tr><tr><td>&quot;Other Inpatien…</td><td>&quot;CPT/HCPC 10010…</td><td>&quot;110% of MCR&quot;</td><td>&quot;Imperial Insur…</td><td>&quot;payer&quot;</td><td>1</td><td>&quot;52354&quot;</td><td>null</td><td>null</td><td>null</td><td>null</td><td>null</td><td>null</td><td>null</td><td>&quot;52355&quot;</td></tr><tr><td>&quot;Neurosurgery&quot;</td><td>&quot;CPT/HCPC 22548…</td><td>&quot;$22,000.00 &quot;</td><td>&quot;Evry Health&quot;</td><td>&quot;payer&quot;</td><td>1</td><td>&quot;22595&quot;</td><td>null</td><td>null</td><td>null</td><td>null</td><td>null</td><td>null</td><td>null</td><td>null</td></tr><tr><td>&quot;Chemotherapy D…</td><td>&quot;CPT/HCPC A9513…</td><td>&quot;41.35% of BC&quot;</td><td>&quot;Aetna&quot;</td><td>&quot;payer&quot;</td><td>1</td><td>&quot;S0182&quot;</td><td>null</td><td>null</td><td>null</td><td>null</td><td>null</td><td>null</td><td>null</td><td>null</td></tr><tr><td>&quot;Medicine&quot;</td><td>&quot;CPT/HCPC 95926…</td><td>&quot;$720.16 &quot;</td><td>&quot;Cigna&quot;</td><td>&quot;payer&quot;</td><td>1</td><td>&quot;95926&quot;</td><td>null</td><td>null</td><td>null</td><td>null</td><td>null</td><td>null</td><td>null</td><td>null</td></tr></tbody></table></div>"
      ],
      "text/plain": [
       "shape: (20, 15)\n",
       "┌──────────────┬──────────────┬────────────┬──────────────┬───┬─────────┬──────┬───────────┬───────┐\n",
       "│ description  ┆ code         ┆ standard_c ┆ payer_name   ┆ … ┆ apr_drg ┆ cmg  ┆ modifiers ┆ thru  │\n",
       "│ ---          ┆ ---          ┆ harge_     ┆ ---          ┆   ┆ ---     ┆ ---  ┆ ---       ┆ ---   │\n",
       "│ str          ┆ str          ┆ ---        ┆ str          ┆   ┆ str     ┆ str  ┆ str       ┆ str   │\n",
       "│              ┆              ┆ str        ┆              ┆   ┆         ┆      ┆           ┆       │\n",
       "╞══════════════╪══════════════╪════════════╪══════════════╪═══╪═════════╪══════╪═══════════╪═══════╡\n",
       "│ Radiology    ┆ CPT/HCPC     ┆ 952.58% of ┆ Aetna        ┆ … ┆ null    ┆ null ┆ null      ┆ null  │\n",
       "│              ┆ 0348T,       ┆ FS         ┆              ┆   ┆         ┆      ┆           ┆       │\n",
       "│              ┆ 0349T,       ┆            ┆              ┆   ┆         ┆      ┆           ┆       │\n",
       "│              ┆ 0350T, 03…   ┆            ┆              ┆   ┆         ┆      ┆           ┆       │\n",
       "│ Medicine     ┆ CPT/HCPC     ┆ $423.03    ┆ Cigna        ┆ … ┆ null    ┆ null ┆ null      ┆ null  │\n",
       "│              ┆ 93304        ┆            ┆              ┆   ┆         ┆      ┆           ┆       │\n",
       "│ ER           ┆ CPT/HCPC     ┆ $2,098.26  ┆ Aetna        ┆ … ┆ null    ┆ null ┆ null      ┆ null  │\n",
       "│              ┆ 99281,       ┆            ┆              ┆   ┆         ┆      ┆           ┆       │\n",
       "│              ┆ G0380,       ┆            ┆              ┆   ┆         ┆      ┆           ┆       │\n",
       "│              ┆ 99282, G0…   ┆            ┆              ┆   ┆         ┆      ┆           ┆       │\n",
       "│ Medicine     ┆ CPT/HCPC     ┆ $314.76    ┆ Cigna        ┆ … ┆ null    ┆ null ┆ null      ┆ null  │\n",
       "│              ┆ 92586        ┆            ┆              ┆   ┆         ┆      ┆           ┆       │\n",
       "│ …            ┆ …            ┆ …          ┆ …            ┆ … ┆ …       ┆ …    ┆ …         ┆ …     │\n",
       "│ Other        ┆ CPT/HCPC     ┆ 110% of    ┆ Imperial     ┆ … ┆ null    ┆ null ┆ null      ┆ 52355 │\n",
       "│ Inpatient    ┆ 10010-69999, ┆ MCR        ┆ Insurance Co ┆   ┆         ┆      ┆           ┆       │\n",
       "│              ┆ 15002-1500…  ┆            ┆              ┆   ┆         ┆      ┆           ┆       │\n",
       "│ Neurosurgery ┆ CPT/HCPC     ┆ $22,000.00 ┆ Evry Health  ┆ … ┆ null    ┆ null ┆ null      ┆ null  │\n",
       "│              ┆ 22548,       ┆            ┆              ┆   ┆         ┆      ┆           ┆       │\n",
       "│              ┆ 22551,       ┆            ┆              ┆   ┆         ┆      ┆           ┆       │\n",
       "│              ┆ 22552, 22…   ┆            ┆              ┆   ┆         ┆      ┆           ┆       │\n",
       "│ Chemotherapy ┆ CPT/HCPC     ┆ 41.35% of  ┆ Aetna        ┆ … ┆ null    ┆ null ┆ null      ┆ null  │\n",
       "│ Drugs        ┆ A9513,       ┆ BC         ┆              ┆   ┆         ┆      ┆           ┆       │\n",
       "│              ┆ C9038,       ┆            ┆              ┆   ┆         ┆      ┆           ┆       │\n",
       "│              ┆ C9408, J0…   ┆            ┆              ┆   ┆         ┆      ┆           ┆       │\n",
       "│ Medicine     ┆ CPT/HCPC     ┆ $720.16    ┆ Cigna        ┆ … ┆ null    ┆ null ┆ null      ┆ null  │\n",
       "│              ┆ 95926        ┆            ┆              ┆   ┆         ┆      ┆           ┆       │\n",
       "└──────────────┴──────────────┴────────────┴──────────────┴───┴─────────┴──────┴───────────┴───────┘"
      ]
     },
     "execution_count": 28,
     "metadata": {},
     "output_type": "execute_result"
    }
   ],
   "source": [
    "(\n",
    "    lower_chunk.with_columns([\n",
    "    \n",
    "        # we need to string capture the CPT codes when they're mislabled as ICDs\n",
    "        pl.concat_str([\n",
    "            pl.col('hcpcs_cpt').fill_null(''), pl.col('icd').fill_null('')\n",
    "        ]).str.extract_all(cpt_template).alias('hcpcs_cpt'),\n",
    "        \n",
    "        # remove the extracted CPT codes before we look for ICD codes\n",
    "        pl.col('icd').str.replace_all(cpt_pat, '').str.extract_all(icd_template).keep_name(),\n",
    "\n",
    "        # these appear to be OK\n",
    "        pl.col('ms_drg').str.extract_all(ms_drg_template).keep_name(),\n",
    "        pl.col('apr_drg').str.extract_all(apr_drg_template).keep_name(),\n",
    "        pl.col('apc').str.extract_all(apc_template).keep_name(),\n",
    "        pl.col('rev_code').str.extract_all(rev_template).keep_name(),\n",
    "    ])\n",
    "    \n",
    "    # all these need to be exploded separately since they have different array lengths\n",
    "    .explode('hcpcs_cpt').explode('ms_drg').explode('icd').explode('apc').explode('apr_drg').explode('rev_code')\n",
    "    \n",
    "    .with_columns([\n",
    "        *split_through('hcpcs_cpt', cpt_pat),\n",
    "        *split_through('icd', icd_pat),\n",
    "        *split_through('ms_drg', ms_drg_pat),\n",
    "        *split_through('apr_drg', apr_drg_pat),\n",
    "        *split_through('apc', apc_pat),\n",
    "        *split_through('rev_code', rev_pat),\n",
    "        pl.col('hcpcs_cpt').str.extract(f'-(\\w{{2}})$').alias('modifiers'),\n",
    "    ])    \n",
    "    .with_columns(\n",
    "        pl.coalesce(pl.col(['thru_hcpcs_cpt', 'thru_rev_code', 'thru_icd', 'thru_ms_drg', 'thru_apr_drg', 'thru_apc'])).alias('thru')\n",
    "    ).drop(['thru_hcpcs_cpt', 'thru_rev_code', 'thru_icd', 'thru_ms_drg', 'thru_apr_drg', 'thru_apc'])\n",
    "\n",
    ").sample(20)"
   ]
  },
  {
   "cell_type": "markdown",
   "id": "967526c0-ca9d-45dc-bf45-70d844c466cb",
   "metadata": {},
   "source": [
    "### Putting it all together"
   ]
  },
  {
   "cell_type": "code",
   "execution_count": 29,
   "id": "2d75c5b6-f4f9-4550-b168-8615e96f7206",
   "metadata": {
    "tags": []
   },
   "outputs": [],
   "source": [
    "lower_chunk = (\n",
    "  lower_chunk.with_columns([\n",
    "    \n",
    "        # we need to string capture the CPT codes when they're mislabled as ICDs\n",
    "        pl.concat_str([\n",
    "            pl.col('hcpcs_cpt').fill_null(''), pl.col('icd').fill_null('')\n",
    "        ]).str.extract_all(cpt_template).alias('hcpcs_cpt'),\n",
    "        \n",
    "        # remove the extracted CPT codes before we look for ICD codes\n",
    "        pl.col('icd').str.replace_all(cpt_pat, '').str.extract_all(icd_template).keep_name(),\n",
    "\n",
    "        # these appear to be OK\n",
    "        pl.col('ms_drg').str.extract_all(ms_drg_template).keep_name(),\n",
    "        pl.col('apr_drg').str.extract_all(apr_drg_template).keep_name(),\n",
    "        pl.col('apc').str.extract_all(apc_template).keep_name(),\n",
    "        pl.col('rev_code').str.extract_all(rev_template).keep_name(),\n",
    "    ])\n",
    "    \n",
    "    # all these need to be exploded separately since they have different array lengths\n",
    "    .explode('hcpcs_cpt').explode('ms_drg').explode('icd').explode('apc').explode('apr_drg').explode('rev_code')\n",
    "    \n",
    "    .with_columns([\n",
    "        *split_through('hcpcs_cpt', cpt_pat),\n",
    "        *split_through('icd', icd_pat),\n",
    "        *split_through('ms_drg', ms_drg_pat),\n",
    "        *split_through('apr_drg', apr_drg_pat),\n",
    "        *split_through('apc', apc_pat),\n",
    "        *split_through('rev_code', rev_pat),\n",
    "        pl.col('hcpcs_cpt').str.extract(f'-(\\w{{2}})$').alias('modifiers'),\n",
    "    ])    \n",
    "    .with_columns(\n",
    "        pl.coalesce(pl.col(['thru_hcpcs_cpt', 'thru_rev_code', 'thru_icd', 'thru_ms_drg', 'thru_apr_drg', 'thru_apc'])).alias('thru')\n",
    "    ).drop(['thru_hcpcs_cpt', 'thru_rev_code', 'thru_icd', 'thru_ms_drg', 'thru_apr_drg', 'thru_apc'])\n",
    "    .with_columns(\n",
    "        *charge_cols()\n",
    "    )\n",
    ")"
   ]
  },
  {
   "cell_type": "code",
   "execution_count": 30,
   "id": "66f27035-04e7-414e-a5a6-0a7d991bd0c3",
   "metadata": {
    "tags": []
   },
   "outputs": [],
   "source": [
    "for c in lower_chunk.columns:\n",
    "    if c not in upper_chunk.columns:\n",
    "        dtype = lower_chunk[c].dtype\n",
    "        upper_chunk = upper_chunk.with_columns(pl.lit(None).cast(dtype).alias(c))\n",
    "\n",
    "upper_chunk = upper_chunk.select(lower_chunk.columns)\n",
    "df = pl.concat([upper_chunk, lower_chunk])"
   ]
  },
  {
   "cell_type": "code",
   "execution_count": 35,
   "id": "d15353f7-8480-4fb9-8982-49944a81f4e7",
   "metadata": {
    "tags": []
   },
   "outputs": [],
   "source": [
    "df = df.select([\n",
    "    'description',\n",
    "    'code',\n",
    "    'hcpcs_cpt',\n",
    "    'modifiers',\n",
    "    'rev_code',\n",
    "    'ms_drg',\n",
    "    'apr_drg',\n",
    "    'apc',\n",
    "    'icd',\n",
    "    'thru',\n",
    "    'payer_name',\n",
    "    'payer_category',\n",
    "    'standard_charge_',\n",
    "    'standard_charge',\n",
    "    'standard_charge_percent',\n",
    "    'contracting_method',\n",
    "    'additional_generic_notes',\n",
    "    ])"
   ]
  },
  {
   "cell_type": "code",
   "execution_count": 36,
   "id": "992b2631-07cd-4103-a438-2b4f766d81e0",
   "metadata": {
    "tags": []
   },
   "outputs": [],
   "source": [
    "df.write_csv('HCAtest.csv')"
   ]
  },
  {
   "cell_type": "code",
   "execution_count": null,
   "id": "16f886c7-4cc8-4488-a0b9-f18f578ab077",
   "metadata": {},
   "outputs": [],
   "source": [
    "# def move_modifiers(df):\n",
    "#     df = df.with_columns([\n",
    "#         pl.col('hcpcs_cpt').str.slice(offset = 0, length = 5).keep_name(),\n",
    "#         pl.col('hcpcs_cpt').str.slice(offset = 5, length = None).alias('modifiers'),\n",
    "#     ])\n",
    "#     return df\n",
    "\n",
    "# def split_modifier_string(s):\n",
    "#     chunks = [s[i:i+2] for i in range(0, len(s), 2)]\n",
    "#     return \"|\".join(chunks)\n",
    "\n",
    "# def split_modifier(df):\n",
    "#     df = df.with_columns(\n",
    "#         pl.col('modifiers').apply(split_modifier_string)\n",
    "#     )\n",
    "    \n",
    "#     return df"
   ]
  }
 ],
 "metadata": {
  "kernelspec": {
   "display_name": "Python 3 (ipykernel)",
   "language": "python",
   "name": "python3"
  },
  "language_info": {
   "codemirror_mode": {
    "name": "ipython",
    "version": 3
   },
   "file_extension": ".py",
   "mimetype": "text/x-python",
   "name": "python",
   "nbconvert_exporter": "python",
   "pygments_lexer": "ipython3",
   "version": "3.9.16"
  }
 },
 "nbformat": 4,
 "nbformat_minor": 5
}
