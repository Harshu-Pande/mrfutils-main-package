{
 "cells": [
  {
   "cell_type": "code",
   "execution_count": 1,
   "id": "51392ac8-396a-4718-a2a6-f70be3f6dfb6",
   "metadata": {
    "tags": []
   },
   "outputs": [],
   "source": [
    "import polars as pl"
   ]
  },
  {
   "cell_type": "code",
   "execution_count": 254,
   "id": "f2493350-376e-4a3c-83fc-24e1be7e9fcb",
   "metadata": {
    "tags": []
   },
   "outputs": [],
   "source": [
    "url = '74-2730328_methodist-ambulatory-surgery-hospital_standardcharges.csv'\n",
    "\n",
    "df = pl.read_csv(url, skip_rows = 1, infer_schema_length = 0)"
   ]
  },
  {
   "cell_type": "code",
   "execution_count": 274,
   "id": "194e9ca5-611c-4f23-9876-1809c4d5a7ed",
   "metadata": {
    "tags": []
   },
   "outputs": [],
   "source": [
    "def top_part(df):\n",
    "    df = df.with_row_count()\n",
    "    \n",
    "    for row in df.iter_rows(named = True):\n",
    "        if row['HCPCS/CPT Code'] == 'Coding':\n",
    "            break_pt = row['row_nr'] - 1\n",
    "            break\n",
    "    \n",
    "    df = (df\n",
    "          .rename({\n",
    "              'Procedure ID':'local_code',\n",
    "              'HCPCS/CPT Code':'hcpcs_cpt',\n",
    "              'Description':'description',\n",
    "          })\n",
    "          .drop('row_nr'))\n",
    "            \n",
    "    return df[:break_pt]"
   ]
  },
  {
   "cell_type": "code",
   "execution_count": 282,
   "id": "eacc913c-45d3-4676-8f0a-1761a6685397",
   "metadata": {
    "tags": []
   },
   "outputs": [],
   "source": [
    "top_df = (\n",
    "    top_part(df).with_columns(\n",
    "        pl.col('hcpcs_cpt')\n",
    "        .str.strip()\n",
    "        .str.strip('0')\n",
    "    )\n",
    "    .with_columns(\n",
    "        pl.when(pl.col('hcpcs_cpt').str.lengths() == 0)\n",
    "        .then(None)\n",
    "        .otherwise(pl.col('hcpcs_cpt'))\n",
    "        .alias('hcpcs_cpt')\n",
    "    )\n",
    "    .melt(\n",
    "        ['local_code', 'hcpcs_cpt', 'description'], \n",
    "        value_name = 'standard_charge', \n",
    "        variable_name = 'payer_name'\n",
    "    )\n",
    "    .with_columns(\n",
    "        pl.when(pl.col('payer_name').str.contains('Gross'))\n",
    "        .then('gross')\n",
    "        .when(pl.col('payer_name').str.contains('Cash'))\n",
    "        .then('cash')\n",
    "        .alias('payer_category')\n",
    "    )\n",
    ")"
   ]
  },
  {
   "cell_type": "code",
   "execution_count": 283,
   "id": "50947510-2b1d-4a4a-be62-990230c6a89c",
   "metadata": {
    "tags": []
   },
   "outputs": [
    {
     "data": {
      "text/html": [
       "<div><style>\n",
       ".dataframe > thead > tr > th,\n",
       ".dataframe > tbody > tr > td {\n",
       "  text-align: right;\n",
       "}\n",
       "</style>\n",
       "<small>shape: (10, 6)</small><table border=\"1\" class=\"dataframe\"><thead><tr><th>local_code</th><th>hcpcs_cpt</th><th>description</th><th>payer_name</th><th>standard_charge</th><th>payer_category</th></tr><tr><td>str</td><td>str</td><td>str</td><td>str</td><td>str</td><td>str</td></tr></thead><tbody><tr><td>&quot;707905&quot;</td><td>null</td><td>&quot;CATH BARD A 20…</td><td>&quot;Discounted Cas…</td><td>&quot;87.00&quot;</td><td>&quot;gross&quot;</td></tr><tr><td>&quot;676210&quot;</td><td>null</td><td>&quot;PLATE TIV 750 …</td><td>&quot;Discounted Cas…</td><td>&quot;11913.00&quot;</td><td>&quot;gross&quot;</td></tr><tr><td>&quot;641403&quot;</td><td>&quot;C1877&quot;</td><td>&quot;STENT VISIPRO …</td><td>&quot;Gross Charge&quot;</td><td>&quot;5636.00&quot;</td><td>&quot;gross&quot;</td></tr><tr><td>&quot;300792&quot;</td><td>null</td><td>&quot;VARENICLINE TA…</td><td>&quot;Discounted Cas…</td><td>&quot;23.40&quot;</td><td>&quot;gross&quot;</td></tr><tr><td>&quot;641786&quot;</td><td>null</td><td>&quot;CAGE SPN BANAN…</td><td>&quot;Discounted Cas…</td><td>&quot;13976.00&quot;</td><td>&quot;gross&quot;</td></tr><tr><td>&quot;676883&quot;</td><td>null</td><td>&quot;SHEL ACET 44  …</td><td>&quot;Discounted Cas…</td><td>&quot;7195.00&quot;</td><td>&quot;gross&quot;</td></tr><tr><td>&quot;634539&quot;</td><td>&quot;C1768&quot;</td><td>&quot;GRAFT VECTRA 5…</td><td>&quot;Discounted Cas…</td><td>&quot;4741.00&quot;</td><td>&quot;gross&quot;</td></tr><tr><td>&quot;630110&quot;</td><td>&quot;C1772&quot;</td><td>&quot;PUMP #8627L18 …</td><td>&quot;Discounted Cas…</td><td>&quot;37492.00&quot;</td><td>&quot;gross&quot;</td></tr><tr><td>&quot;295954&quot;</td><td>null</td><td>&quot;LIDO 0.5% BUFF…</td><td>&quot;Gross Charge&quot;</td><td>&quot;55.06&quot;</td><td>&quot;gross&quot;</td></tr><tr><td>&quot;630087&quot;</td><td>null</td><td>&quot;CLIP ANEURYSM …</td><td>&quot;Discounted Cas…</td><td>&quot;1081.00&quot;</td><td>&quot;gross&quot;</td></tr></tbody></table></div>"
      ],
      "text/plain": [
       "shape: (10, 6)\n",
       "┌────────────┬───────────┬───────────────────┬──────────────────┬─────────────────┬────────────────┐\n",
       "│ local_code ┆ hcpcs_cpt ┆ description       ┆ payer_name       ┆ standard_charge ┆ payer_category │\n",
       "│ ---        ┆ ---       ┆ ---               ┆ ---              ┆ ---             ┆ ---            │\n",
       "│ str        ┆ str       ┆ str               ┆ str              ┆ str             ┆ str            │\n",
       "╞════════════╪═══════════╪═══════════════════╪══════════════════╪═════════════════╪════════════════╡\n",
       "│ 707905     ┆ null      ┆ CATH BARD A 20FR  ┆ Discounted Cash  ┆ 87.00           ┆ gross          │\n",
       "│            ┆           ┆                   ┆ Price (Gross     ┆                 ┆                │\n",
       "│            ┆           ┆                   ┆ Cha…             ┆                 ┆                │\n",
       "│ 676210     ┆ null      ┆ PLATE TIV 750     ┆ Discounted Cash  ┆ 11913.00        ┆ gross          │\n",
       "│            ┆           ┆ A/PX82 M          ┆ Price (Gross     ┆                 ┆                │\n",
       "│            ┆           ┆                   ┆ Cha…             ┆                 ┆                │\n",
       "│ 641403     ┆ C1877     ┆ STENT VISIPRO     ┆ Gross Charge     ┆ 5636.00         ┆ gross          │\n",
       "│            ┆           ┆ 5X17              ┆                  ┆                 ┆                │\n",
       "│ 300792     ┆ null      ┆ VARENICLINE TART  ┆ Discounted Cash  ┆ 23.40           ┆ gross          │\n",
       "│            ┆           ┆ .5MGTAB           ┆ Price (Gross     ┆                 ┆                │\n",
       "│            ┆           ┆                   ┆ Cha…             ┆                 ┆                │\n",
       "│ …          ┆ …         ┆ …                 ┆ …                ┆ …               ┆ …              │\n",
       "│ 634539     ┆ C1768     ┆ GRAFT VECTRA      ┆ Discounted Cash  ┆ 4741.00         ┆ gross          │\n",
       "│            ┆           ┆ 5MMX50CM          ┆ Price (Gross     ┆                 ┆                │\n",
       "│            ┆           ┆                   ┆ Cha…             ┆                 ┆                │\n",
       "│ 630110     ┆ C1772     ┆ PUMP #8627L18     ┆ Discounted Cash  ┆ 37492.00        ┆ gross          │\n",
       "│            ┆           ┆                   ┆ Price (Gross     ┆                 ┆                │\n",
       "│            ┆           ┆                   ┆ Cha…             ┆                 ┆                │\n",
       "│ 295954     ┆ null      ┆ LIDO 0.5%         ┆ Gross Charge     ┆ 55.06           ┆ gross          │\n",
       "│            ┆           ┆ BUFFERED 5ML      ┆                  ┆                 ┆                │\n",
       "│ 630087     ┆ null      ┆ CLIP ANEURYSM MCF ┆ Discounted Cash  ┆ 1081.00         ┆ gross          │\n",
       "│            ┆           ┆ 62                ┆ Price (Gross     ┆                 ┆                │\n",
       "│            ┆           ┆                   ┆ Cha…             ┆                 ┆                │\n",
       "└────────────┴───────────┴───────────────────┴──────────────────┴─────────────────┴────────────────┘"
      ]
     },
     "execution_count": 283,
     "metadata": {},
     "output_type": "execute_result"
    }
   ],
   "source": [
    "top_df.sample(10)"
   ]
  },
  {
   "cell_type": "code",
   "execution_count": 285,
   "id": "1ebe0868-c487-4daf-b22f-4a272ef6aea3",
   "metadata": {
    "tags": []
   },
   "outputs": [],
   "source": [
    "def payer_dfs(df):\n",
    "    df = df.with_row_count()\n",
    "    \n",
    "    slice_ids = []\n",
    "    for row in df.iter_rows(named = True):\n",
    "        if row['HCPCS/CPT Code'] == 'Coding':\n",
    "            slice_ids.append(row['row_nr'] - 1)\n",
    "            \n",
    "    slices = [(s, t-1) for s, t in zip(slice_ids, slice_ids[1:])]\n",
    "    \n",
    "    rename_dict = {\n",
    "        'Procedure ID':'description',\n",
    "        'HCPCS/CPT Code':'code',\n",
    "        'Description':'standard_charge_',\n",
    "    }\n",
    "    \n",
    "    payer_dfs = []\n",
    "    for slice_ in slices:\n",
    "        \n",
    "        payer_df = (\n",
    "            df.slice(slice_[0], slice_[1] - slice_[0] + 1)\n",
    "            .rename(rename_dict)\n",
    "        )\n",
    "        \n",
    "        payer_name = payer_df['description'][0]\n",
    "        \n",
    "        payer_df = (\n",
    "            payer_df\n",
    "            .slice(2,)\n",
    "            .drop(['Gross Charge', 'Discounted Cash Price (Gross Charges)', 'row_nr'])\n",
    "            .with_columns([\n",
    "                pl.lit(payer_name).alias('payer_name'),\n",
    "                pl.lit('payer').alias('payer_category'),\n",
    "            ])\n",
    "        )\n",
    "        \n",
    "        payer_dfs.append(payer_df)\n",
    "        \n",
    "    return payer_dfs"
   ]
  },
  {
   "cell_type": "code",
   "execution_count": 286,
   "id": "cfb7360d-5289-4592-97c5-42280e12f078",
   "metadata": {
    "tags": []
   },
   "outputs": [],
   "source": [
    "payer_dfs = df.pipe(payer_dfs)"
   ]
  },
  {
   "cell_type": "code",
   "execution_count": 288,
   "id": "350022d1-9b2f-4000-ad8d-15d21a87595f",
   "metadata": {
    "tags": []
   },
   "outputs": [],
   "source": [
    "def charges():\n",
    "    \n",
    "    standard_charge = pl.col('standard_charge_')\n",
    "    percent_bc = standard_charge.str.contains('% of BC')\n",
    "    percent_mcr = standard_charge.str.contains('% of MCR')\n",
    "    percent_fs = standard_charge.str.contains('% of FS')\n",
    "    percent_mcd = standard_charge.str.contains('% of MCR')\n",
    "    \n",
    "    contracting_method = (\n",
    "        pl.when(percent_bc).then('percent of total billed charges')\n",
    "        .when(percent_mcr).then('other')\n",
    "        .when(percent_fs).then('other')\n",
    "        .when(percent_mcd).then('other')\n",
    "        .otherwise(None)\n",
    "    ).alias('contracting_method')\n",
    "    \n",
    "    standard_charge_percent = (\n",
    "        pl.when(percent_bc).then(standard_charge.str.extract('(\\d+\\.?\\d+)\\%'))\n",
    "        .when(percent_mcr).then(standard_charge.str.extract('(\\d+\\.?\\d+)\\%'))\n",
    "        .when(percent_fs).then(standard_charge.str.extract('(\\d+\\.?\\d+)\\%'))\n",
    "        .when(percent_mcd).then(standard_charge.str.extract('(\\d+\\.?\\d+)\\%'))\n",
    "        .otherwise(None)\n",
    "    ).alias('standard_charge_percent')\n",
    "    \n",
    "    additional_generic_notes = (\n",
    "        pl.when(percent_mcr).then('billed as % of MCR')\n",
    "        .when(percent_fs).then('billed as % of FS')\n",
    "        .when(percent_mcd).then('billed as % of MCD')\n",
    "        .otherwise(None)\n",
    "    ).alias('additional_generic_notes')\n",
    "    \n",
    "    standard_charge = (\n",
    "        pl.when(percent_bc).then(None)\n",
    "        .when(percent_mcr).then(None)\n",
    "        .when(percent_fs).then(None)\n",
    "        .when(percent_mcd).then(None)\n",
    "        .otherwise(standard_charge.str.replace('\\$', '').str.replace_all(',', ''))\n",
    "    ).alias('standard_charge')\n",
    "    \n",
    "    return standard_charge, standard_charge_percent, contracting_method, additional_generic_notes"
   ]
  },
  {
   "cell_type": "code",
   "execution_count": 289,
   "id": "cbae6f26-2e26-44ce-819a-c85d03962ab2",
   "metadata": {
    "tags": []
   },
   "outputs": [],
   "source": [
    "new_payer_dfs = []\n",
    "for pdf in payer_dfs:\n",
    "    pdf = pdf.with_columns([\n",
    "        *charges()\n",
    "    ])\n",
    "    new_payer_dfs.append(pdf)"
   ]
  },
  {
   "cell_type": "code",
   "execution_count": 290,
   "id": "66ed4781-ff59-4176-8729-fc8a21a0fc43",
   "metadata": {
    "tags": []
   },
   "outputs": [],
   "source": [
    "pdfs = pl.concat(new_payer_dfs)"
   ]
  },
  {
   "cell_type": "code",
   "execution_count": 291,
   "id": "f46ca1b3-d075-4c0b-920d-594851a2683a",
   "metadata": {
    "tags": []
   },
   "outputs": [],
   "source": [
    "begin = '(^|\\\\b)'\n",
    "end = '($|\\\\b)'\n",
    "\n",
    "cpt_pat1 = '[A-Z]\\d{4}' #A1234\n",
    "cpt_pat2 = '\\d{4}[A-Z]' #1234A\n",
    "cpt_pat3 = '\\d{5}'      #12345\n",
    "\n",
    "cpt_pats = '|'.join([f'{begin}{pat}{end}' for pat in [cpt_pat1, cpt_pat2, cpt_pat3]])\n",
    "\n",
    "pdfs = pdfs.with_columns(\n",
    "    pl.col('code').str.split(';').alias('code')\n",
    ").explode('code').with_columns([\n",
    "    pl.when(pl.col('code').str.contains('DRG')).then(pl.col('code')).otherwise(None).alias('ms_drg'),\n",
    "    pl.when(pl.col('code').str.contains(f'CPT/HCPC|{cpt_pats}')).then(pl.col('code')).otherwise(None).alias('hcpcs_cpt'),\n",
    "    pl.when(pl.col('code').str.contains('ICD')).then(pl.col('code')).otherwise(None).alias('icd'),\n",
    "])"
   ]
  },
  {
   "cell_type": "code",
   "execution_count": 292,
   "id": "6cdd492c-eb09-4895-bb1f-a62c527d6fd2",
   "metadata": {
    "tags": []
   },
   "outputs": [
    {
     "data": {
      "text/html": [
       "<div><style>\n",
       ".dataframe > thead > tr > th,\n",
       ".dataframe > tbody > tr > td {\n",
       "  text-align: right;\n",
       "}\n",
       "</style>\n",
       "<small>shape: (1_008, 12)</small><table border=\"1\" class=\"dataframe\"><thead><tr><th>description</th><th>code</th><th>standard_charge_</th><th>payer_name</th><th>payer_category</th><th>standard_charge</th><th>standard_charge_percent</th><th>contracting_method</th><th>additional_generic_notes</th><th>ms_drg</th><th>hcpcs_cpt</th><th>icd</th></tr><tr><td>str</td><td>str</td><td>str</td><td>str</td><td>str</td><td>str</td><td>str</td><td>str</td><td>str</td><td>str</td><td>str</td><td>str</td></tr></thead><tbody><tr><td>&quot;Other Inpatien…</td><td>null</td><td>&quot;75% of BC&quot;</td><td>&quot;Accountable He…</td><td>&quot;payer&quot;</td><td>null</td><td>&quot;75&quot;</td><td>&quot;percent of tot…</td><td>null</td><td>null</td><td>null</td><td>null</td></tr><tr><td>&quot;Other Outpatie…</td><td>null</td><td>&quot;75% of BC&quot;</td><td>&quot;Accountable He…</td><td>&quot;payer&quot;</td><td>null</td><td>&quot;75&quot;</td><td>&quot;percent of tot…</td><td>null</td><td>null</td><td>null</td><td>null</td></tr><tr><td>&quot;Angioplasty&quot;</td><td>&quot;CPT/HCPC 92928…</td><td>&quot;$17,586.40&quot;</td><td>&quot;Aetna&quot;</td><td>&quot;payer&quot;</td><td>&quot;17586.40&quot;</td><td>null</td><td>null</td><td>null</td><td>null</td><td>&quot;CPT/HCPC 92928…</td><td>null</td></tr><tr><td>&quot;Angioplasty&quot;</td><td>&quot;CPT/HCPC 35450…</td><td>&quot;$17,473.60&quot;</td><td>&quot;Aetna&quot;</td><td>&quot;payer&quot;</td><td>&quot;17473.60&quot;</td><td>null</td><td>null</td><td>null</td><td>null</td><td>&quot;CPT/HCPC 35450…</td><td>null</td></tr><tr><td>&quot;Behavioral Hea…</td><td>&quot;CPT/HCPC H0015…</td><td>&quot;$278.00&quot;</td><td>&quot;Aetna&quot;</td><td>&quot;payer&quot;</td><td>&quot;278.00&quot;</td><td>null</td><td>null</td><td>null</td><td>null</td><td>&quot;CPT/HCPC H0015…</td><td>null</td></tr><tr><td>&quot;Behavioral Hea…</td><td>&quot;CPT/HCPC H0035…</td><td>&quot;$551.80&quot;</td><td>&quot;Aetna&quot;</td><td>&quot;payer&quot;</td><td>&quot;551.80&quot;</td><td>null</td><td>null</td><td>null</td><td>null</td><td>&quot;CPT/HCPC H0035…</td><td>null</td></tr><tr><td>&quot;Cardiac Cath&quot;</td><td>&quot;CPT/HCPC G0448…</td><td>&quot;$9,108.80&quot;</td><td>&quot;Aetna&quot;</td><td>&quot;payer&quot;</td><td>&quot;9108.80&quot;</td><td>null</td><td>null</td><td>null</td><td>null</td><td>&quot;CPT/HCPC G0448…</td><td>null</td></tr><tr><td>&quot;Cardiac Cath&quot;</td><td>&quot; 93563-93568&quot;</td><td>&quot;$9,108.80&quot;</td><td>&quot;Aetna&quot;</td><td>&quot;payer&quot;</td><td>&quot;9108.80&quot;</td><td>null</td><td>null</td><td>null</td><td>null</td><td>&quot; 93563-93568&quot;</td><td>null</td></tr><tr><td>&quot;Cardiology&quot;</td><td>&quot;MS-DRG 222-225…</td><td>&quot;$40,048.80&quot;</td><td>&quot;Aetna&quot;</td><td>&quot;payer&quot;</td><td>&quot;40048.80&quot;</td><td>null</td><td>null</td><td>null</td><td>&quot;MS-DRG 222-225…</td><td>null</td><td>null</td></tr><tr><td>&quot;Cardiology&quot;</td><td>&quot;MS-DRG 226, 22…</td><td>&quot;$37,370.20&quot;</td><td>&quot;Aetna&quot;</td><td>&quot;payer&quot;</td><td>&quot;37370.20&quot;</td><td>null</td><td>null</td><td>null</td><td>&quot;MS-DRG 226, 22…</td><td>null</td><td>null</td></tr><tr><td>&quot;Cardiology&quot;</td><td>&quot;MS-DRG 286, 28…</td><td>&quot;$9,047.60&quot;</td><td>&quot;Aetna&quot;</td><td>&quot;payer&quot;</td><td>&quot;9047.60&quot;</td><td>null</td><td>null</td><td>null</td><td>&quot;MS-DRG 286, 28…</td><td>null</td><td>null</td></tr><tr><td>&quot;Cardiology&quot;</td><td>&quot;MS-DRG 215&quot;</td><td>&quot;$107,806.00&quot;</td><td>&quot;Aetna&quot;</td><td>&quot;payer&quot;</td><td>&quot;107806.00&quot;</td><td>null</td><td>null</td><td>null</td><td>&quot;MS-DRG 215&quot;</td><td>null</td><td>null</td></tr><tr><td>&hellip;</td><td>&hellip;</td><td>&hellip;</td><td>&hellip;</td><td>&hellip;</td><td>&hellip;</td><td>&hellip;</td><td>&hellip;</td><td>&hellip;</td><td>&hellip;</td><td>&hellip;</td><td>&hellip;</td></tr><tr><td>&quot;Orthopedic&quot;</td><td>&quot;CPT/HCPC 23472…</td><td>&quot;$39,370.00&quot;</td><td>&quot;Valenz (NX Hea…</td><td>&quot;payer&quot;</td><td>&quot;39370.00&quot;</td><td>null</td><td>null</td><td>null</td><td>null</td><td>&quot;CPT/HCPC 23472…</td><td>null</td></tr><tr><td>&quot;Orthopedic&quot;</td><td>&quot;CPT/HCPC 27130…</td><td>&quot;$30,139.00&quot;</td><td>&quot;Valenz (NX Hea…</td><td>&quot;payer&quot;</td><td>&quot;30139.00&quot;</td><td>null</td><td>null</td><td>null</td><td>null</td><td>&quot;CPT/HCPC 27130…</td><td>null</td></tr><tr><td>&quot;Other Inpatien…</td><td>&quot;MS-DRG 998, 99…</td><td>&quot;35% of BC&quot;</td><td>&quot;Valenz (NX Hea…</td><td>&quot;payer&quot;</td><td>null</td><td>&quot;35&quot;</td><td>&quot;percent of tot…</td><td>null</td><td>&quot;MS-DRG 998, 99…</td><td>null</td><td>null</td></tr><tr><td>&quot;Other Outpatie…</td><td>null</td><td>&quot;35% of BC&quot;</td><td>&quot;Valenz (NX Hea…</td><td>&quot;payer&quot;</td><td>null</td><td>&quot;35&quot;</td><td>&quot;percent of tot…</td><td>null</td><td>null</td><td>null</td><td>null</td></tr><tr><td>&quot;Other Surgical…</td><td>&quot;CPT/HCPC 58541…</td><td>&quot;$8,277.00&quot;</td><td>&quot;Valenz (NX Hea…</td><td>&quot;payer&quot;</td><td>&quot;8277.00&quot;</td><td>null</td><td>null</td><td>null</td><td>null</td><td>&quot;CPT/HCPC 58541…</td><td>null</td></tr><tr><td>&quot;Pain Managemen…</td><td>&quot;CPT/HCPC  6365…</td><td>&quot;$32,874.00&quot;</td><td>&quot;Valenz (NX Hea…</td><td>&quot;payer&quot;</td><td>&quot;32874.00&quot;</td><td>null</td><td>null</td><td>null</td><td>null</td><td>&quot;CPT/HCPC  6365…</td><td>null</td></tr><tr><td>&quot;Partial Hospit…</td><td>null</td><td>&quot;$1,324.00&quot;</td><td>&quot;Valenz (NX Hea…</td><td>&quot;payer&quot;</td><td>&quot;1324.00&quot;</td><td>null</td><td>null</td><td>null</td><td>null</td><td>null</td><td>null</td></tr><tr><td>&quot;PET&quot;</td><td>null</td><td>&quot;$3,804.00&quot;</td><td>&quot;Valenz (NX Hea…</td><td>&quot;payer&quot;</td><td>&quot;3804.00&quot;</td><td>null</td><td>null</td><td>null</td><td>null</td><td>null</td><td>null</td></tr><tr><td>&quot;PT/OT/SLP/RT&quot;</td><td>null</td><td>&quot;$337.00&quot;</td><td>&quot;Valenz (NX Hea…</td><td>&quot;payer&quot;</td><td>&quot;337.00&quot;</td><td>null</td><td>null</td><td>null</td><td>null</td><td>null</td><td>null</td></tr><tr><td>&quot;Rehab&quot;</td><td>&quot;MS-DRG 945, 94…</td><td>&quot;$1,941.00&quot;</td><td>&quot;Valenz (NX Hea…</td><td>&quot;payer&quot;</td><td>&quot;1941.00&quot;</td><td>null</td><td>null</td><td>null</td><td>&quot;MS-DRG 945, 94…</td><td>null</td><td>null</td></tr><tr><td>&quot;Trauma  &quot;</td><td>null</td><td>&quot;$6,243.00&quot;</td><td>&quot;Valenz (NX Hea…</td><td>&quot;payer&quot;</td><td>&quot;6243.00&quot;</td><td>null</td><td>null</td><td>null</td><td>null</td><td>null</td><td>null</td></tr><tr><td>&quot;Urgent Care&quot;</td><td>null</td><td>&quot;$203.00&quot;</td><td>&quot;Valenz (NX Hea…</td><td>&quot;payer&quot;</td><td>&quot;203.00&quot;</td><td>null</td><td>null</td><td>null</td><td>null</td><td>null</td><td>null</td></tr></tbody></table></div>"
      ],
      "text/plain": [
       "shape: (1_008, 12)\n",
       "┌───────────┬────────────┬────────────┬──────────┬───┬────────────┬────────────┬────────────┬──────┐\n",
       "│ descripti ┆ code       ┆ standard_c ┆ payer_na ┆ … ┆ additional ┆ ms_drg     ┆ hcpcs_cpt  ┆ icd  │\n",
       "│ on        ┆ ---        ┆ harge_     ┆ me       ┆   ┆ _generic_n ┆ ---        ┆ ---        ┆ ---  │\n",
       "│ ---       ┆ str        ┆ ---        ┆ ---      ┆   ┆ otes       ┆ str        ┆ str        ┆ str  │\n",
       "│ str       ┆            ┆ str        ┆ str      ┆   ┆ ---        ┆            ┆            ┆      │\n",
       "│           ┆            ┆            ┆          ┆   ┆ str        ┆            ┆            ┆      │\n",
       "╞═══════════╪════════════╪════════════╪══════════╪═══╪════════════╪════════════╪════════════╪══════╡\n",
       "│ Other     ┆ null       ┆ 75% of BC  ┆ Accounta ┆ … ┆ null       ┆ null       ┆ null       ┆ null │\n",
       "│ Inpatient ┆            ┆            ┆ ble      ┆   ┆            ┆            ┆            ┆      │\n",
       "│           ┆            ┆            ┆ Health   ┆   ┆            ┆            ┆            ┆      │\n",
       "│           ┆            ┆            ┆ Plan     ┆   ┆            ┆            ┆            ┆      │\n",
       "│ Other Out ┆ null       ┆ 75% of BC  ┆ Accounta ┆ … ┆ null       ┆ null       ┆ null       ┆ null │\n",
       "│ patient   ┆            ┆            ┆ ble      ┆   ┆            ┆            ┆            ┆      │\n",
       "│           ┆            ┆            ┆ Health   ┆   ┆            ┆            ┆            ┆      │\n",
       "│           ┆            ┆            ┆ Plan     ┆   ┆            ┆            ┆            ┆      │\n",
       "│ Angioplas ┆ CPT/HCPC   ┆ $17,586.40 ┆ Aetna    ┆ … ┆ null       ┆ null       ┆ CPT/HCPC   ┆ null │\n",
       "│ ty        ┆ 92928,     ┆            ┆          ┆   ┆            ┆            ┆ 92928,     ┆      │\n",
       "│           ┆ 92929,     ┆            ┆          ┆   ┆            ┆            ┆ 92929,     ┆      │\n",
       "│           ┆ 92933, 92… ┆            ┆          ┆   ┆            ┆            ┆ 92933, 92… ┆      │\n",
       "│ Angioplas ┆ CPT/HCPC   ┆ $17,473.60 ┆ Aetna    ┆ … ┆ null       ┆ null       ┆ CPT/HCPC   ┆ null │\n",
       "│ ty        ┆ 35450-3547 ┆            ┆          ┆   ┆            ┆            ┆ 35450-3547 ┆      │\n",
       "│           ┆ 6, 92920-9 ┆            ┆          ┆   ┆            ┆            ┆ 6, 92920-9 ┆      │\n",
       "│           ┆ 292…       ┆            ┆          ┆   ┆            ┆            ┆ 292…       ┆      │\n",
       "│ …         ┆ …          ┆ …          ┆ …        ┆ … ┆ …          ┆ …          ┆ …          ┆ …    │\n",
       "│ PT/OT/SLP ┆ null       ┆ $337.00    ┆ Valenz   ┆ … ┆ null       ┆ null       ┆ null       ┆ null │\n",
       "│ /RT       ┆            ┆            ┆ (NX      ┆   ┆            ┆            ┆            ┆      │\n",
       "│           ┆            ┆            ┆ Health   ┆   ┆            ┆            ┆            ┆      │\n",
       "│           ┆            ┆            ┆ Network) ┆   ┆            ┆            ┆            ┆      │\n",
       "│ Rehab     ┆ MS-DRG     ┆ $1,941.00  ┆ Valenz   ┆ … ┆ null       ┆ MS-DRG     ┆ null       ┆ null │\n",
       "│           ┆ 945, 946   ┆            ┆ (NX      ┆   ┆            ┆ 945, 946   ┆            ┆      │\n",
       "│           ┆            ┆            ┆ Health   ┆   ┆            ┆            ┆            ┆      │\n",
       "│           ┆            ┆            ┆ Network) ┆   ┆            ┆            ┆            ┆      │\n",
       "│ Trauma    ┆ null       ┆ $6,243.00  ┆ Valenz   ┆ … ┆ null       ┆ null       ┆ null       ┆ null │\n",
       "│           ┆            ┆            ┆ (NX      ┆   ┆            ┆            ┆            ┆      │\n",
       "│           ┆            ┆            ┆ Health   ┆   ┆            ┆            ┆            ┆      │\n",
       "│           ┆            ┆            ┆ Network) ┆   ┆            ┆            ┆            ┆      │\n",
       "│ Urgent    ┆ null       ┆ $203.00    ┆ Valenz   ┆ … ┆ null       ┆ null       ┆ null       ┆ null │\n",
       "│ Care      ┆            ┆            ┆ (NX      ┆   ┆            ┆            ┆            ┆      │\n",
       "│           ┆            ┆            ┆ Health   ┆   ┆            ┆            ┆            ┆      │\n",
       "│           ┆            ┆            ┆ Network) ┆   ┆            ┆            ┆            ┆      │\n",
       "└───────────┴────────────┴────────────┴──────────┴───┴────────────┴────────────┴────────────┴──────┘"
      ]
     },
     "execution_count": 292,
     "metadata": {},
     "output_type": "execute_result"
    }
   ],
   "source": [
    "pdfs"
   ]
  },
  {
   "cell_type": "code",
   "execution_count": 293,
   "id": "249276eb-79fd-4ae3-8269-2f966f84570b",
   "metadata": {
    "tags": []
   },
   "outputs": [],
   "source": [
    "pdfs = (\n",
    "    pdfs\n",
    "    \n",
    "    # Yes, we could write a function to do this, but it's fine.\n",
    "    # Sometimes it's okay to repeat yourself.\n",
    "    # Handle HCPCS case\n",
    "    .with_columns([\n",
    "        pl.col('hcpcs_cpt').str.replace('CPT/HCPC', '').str.split(','),\n",
    "    ])\n",
    "    .explode(['hcpcs_cpt'])\n",
    "    .with_columns([\n",
    "        pl.col('hcpcs_cpt').str.strip().str.split('-').alias('hcpcs_cpt_range_')\n",
    "    ])\n",
    "    .with_columns([\n",
    "        pl.col('hcpcs_cpt_range_').arr.get(0).alias('hcpcs_cpt'),\n",
    "        pl.col('hcpcs_cpt_range_').arr.get(1).alias('hcpcs_thru')\n",
    "    ])\n",
    "    \n",
    "    # MS-DRG case\n",
    "    .with_columns([\n",
    "        pl.col('ms_drg').str.replace('MS-DRG', '').str.split(','),\n",
    "    ])\n",
    "    .explode(['ms_drg'])\n",
    "    .with_columns([\n",
    "        pl.col('ms_drg').str.strip().str.split('-').alias('ms_drg_range_')\n",
    "    ])\n",
    "    .with_columns([\n",
    "        pl.col('ms_drg_range_').arr.get(0).alias('ms_drg'),\n",
    "        pl.col('ms_drg_range_').arr.get(1).alias('ms_drg_thru')\n",
    "    ])\n",
    "    \n",
    "    # ICD case\n",
    "    .with_columns([\n",
    "        pl.col('icd').str.replace('ICD 9/10', '').str.split(','),\n",
    "    ])\n",
    "    .explode(['icd'])\n",
    "    .with_columns([\n",
    "        pl.col('icd').str.strip().str.split('-').alias('icd_range_')\n",
    "    ])\n",
    "    .with_columns([\n",
    "        pl.col('icd_range_').arr.get(0).alias('icd'),\n",
    "        pl.col('icd_range_').arr.get(1).alias('icd_thru')\n",
    "    ])\n",
    "    \n",
    "    # Create one combined column with all the \"thru\"s\n",
    "    .with_columns(\n",
    "        pl.col('hcpcs_thru').fill_null(pl.col('icd_thru')).fill_null(pl.col('ms_drg_thru')).alias('thru')\n",
    "    )\n",
    "    \n",
    "    # Drop the unneeded columns\n",
    "    .drop(['hcpcs_cpt_range_', 'hcpcs_thru', 'ms_drg_range_', 'ms_drg_thru', 'icd_range_', 'icd_thru'])\n",
    "\n",
    ")"
   ]
  },
  {
   "cell_type": "code",
   "execution_count": 294,
   "id": "ec231e11-80a6-4bb6-a022-7292593ae7a5",
   "metadata": {
    "tags": []
   },
   "outputs": [
    {
     "data": {
      "text/html": [
       "<div><style>\n",
       ".dataframe > thead > tr > th,\n",
       ".dataframe > tbody > tr > td {\n",
       "  text-align: right;\n",
       "}\n",
       "</style>\n",
       "<small>shape: (2_049, 13)</small><table border=\"1\" class=\"dataframe\"><thead><tr><th>description</th><th>code</th><th>standard_charge_</th><th>payer_name</th><th>payer_category</th><th>standard_charge</th><th>standard_charge_percent</th><th>contracting_method</th><th>additional_generic_notes</th><th>ms_drg</th><th>hcpcs_cpt</th><th>icd</th><th>thru</th></tr><tr><td>str</td><td>str</td><td>str</td><td>str</td><td>str</td><td>str</td><td>str</td><td>str</td><td>str</td><td>str</td><td>str</td><td>str</td><td>str</td></tr></thead><tbody><tr><td>&quot;Other Inpatien…</td><td>null</td><td>&quot;75% of BC&quot;</td><td>&quot;Accountable He…</td><td>&quot;payer&quot;</td><td>null</td><td>&quot;75&quot;</td><td>&quot;percent of tot…</td><td>null</td><td>null</td><td>null</td><td>null</td><td>null</td></tr><tr><td>&quot;Other Outpatie…</td><td>null</td><td>&quot;75% of BC&quot;</td><td>&quot;Accountable He…</td><td>&quot;payer&quot;</td><td>null</td><td>&quot;75&quot;</td><td>&quot;percent of tot…</td><td>null</td><td>null</td><td>null</td><td>null</td><td>null</td></tr><tr><td>&quot;Angioplasty&quot;</td><td>&quot;CPT/HCPC 92928…</td><td>&quot;$17,586.40&quot;</td><td>&quot;Aetna&quot;</td><td>&quot;payer&quot;</td><td>&quot;17586.40&quot;</td><td>null</td><td>null</td><td>null</td><td>null</td><td>&quot;92928&quot;</td><td>null</td><td>null</td></tr><tr><td>&quot;Angioplasty&quot;</td><td>&quot;CPT/HCPC 92928…</td><td>&quot;$17,586.40&quot;</td><td>&quot;Aetna&quot;</td><td>&quot;payer&quot;</td><td>&quot;17586.40&quot;</td><td>null</td><td>null</td><td>null</td><td>null</td><td>&quot;92929&quot;</td><td>null</td><td>null</td></tr><tr><td>&quot;Angioplasty&quot;</td><td>&quot;CPT/HCPC 92928…</td><td>&quot;$17,586.40&quot;</td><td>&quot;Aetna&quot;</td><td>&quot;payer&quot;</td><td>&quot;17586.40&quot;</td><td>null</td><td>null</td><td>null</td><td>null</td><td>&quot;92933&quot;</td><td>null</td><td>null</td></tr><tr><td>&quot;Angioplasty&quot;</td><td>&quot;CPT/HCPC 92928…</td><td>&quot;$17,586.40&quot;</td><td>&quot;Aetna&quot;</td><td>&quot;payer&quot;</td><td>&quot;17586.40&quot;</td><td>null</td><td>null</td><td>null</td><td>null</td><td>&quot;92934&quot;</td><td>null</td><td>null</td></tr><tr><td>&quot;Angioplasty&quot;</td><td>&quot;CPT/HCPC 92928…</td><td>&quot;$17,586.40&quot;</td><td>&quot;Aetna&quot;</td><td>&quot;payer&quot;</td><td>&quot;17586.40&quot;</td><td>null</td><td>null</td><td>null</td><td>null</td><td>&quot;92937&quot;</td><td>null</td><td>null</td></tr><tr><td>&quot;Angioplasty&quot;</td><td>&quot;CPT/HCPC 92928…</td><td>&quot;$17,586.40&quot;</td><td>&quot;Aetna&quot;</td><td>&quot;payer&quot;</td><td>&quot;17586.40&quot;</td><td>null</td><td>null</td><td>null</td><td>null</td><td>&quot;92938&quot;</td><td>null</td><td>null</td></tr><tr><td>&quot;Angioplasty&quot;</td><td>&quot;CPT/HCPC 92928…</td><td>&quot;$17,586.40&quot;</td><td>&quot;Aetna&quot;</td><td>&quot;payer&quot;</td><td>&quot;17586.40&quot;</td><td>null</td><td>null</td><td>null</td><td>null</td><td>&quot;92941&quot;</td><td>null</td><td>null</td></tr><tr><td>&quot;Angioplasty&quot;</td><td>&quot;CPT/HCPC 92928…</td><td>&quot;$17,586.40&quot;</td><td>&quot;Aetna&quot;</td><td>&quot;payer&quot;</td><td>&quot;17586.40&quot;</td><td>null</td><td>null</td><td>null</td><td>null</td><td>&quot;92943&quot;</td><td>null</td><td>null</td></tr><tr><td>&quot;Angioplasty&quot;</td><td>&quot;CPT/HCPC 92928…</td><td>&quot;$17,586.40&quot;</td><td>&quot;Aetna&quot;</td><td>&quot;payer&quot;</td><td>&quot;17586.40&quot;</td><td>null</td><td>null</td><td>null</td><td>null</td><td>&quot;92944&quot;</td><td>null</td><td>null</td></tr><tr><td>&quot;Angioplasty&quot;</td><td>&quot;CPT/HCPC 92928…</td><td>&quot;$17,586.40&quot;</td><td>&quot;Aetna&quot;</td><td>&quot;payer&quot;</td><td>&quot;17586.40&quot;</td><td>null</td><td>null</td><td>null</td><td>null</td><td>&quot;C9600&quot;</td><td>null</td><td>&quot;C9608&quot;</td></tr><tr><td>&hellip;</td><td>&hellip;</td><td>&hellip;</td><td>&hellip;</td><td>&hellip;</td><td>&hellip;</td><td>&hellip;</td><td>&hellip;</td><td>&hellip;</td><td>&hellip;</td><td>&hellip;</td><td>&hellip;</td><td>&hellip;</td></tr><tr><td>&quot;Other Surgical…</td><td>&quot;CPT/HCPC 58541…</td><td>&quot;$8,277.00&quot;</td><td>&quot;Valenz (NX Hea…</td><td>&quot;payer&quot;</td><td>&quot;8277.00&quot;</td><td>null</td><td>null</td><td>null</td><td>null</td><td>&quot;58660&quot;</td><td>null</td><td>&quot;58661&quot;</td></tr><tr><td>&quot;Other Surgical…</td><td>&quot;CPT/HCPC 58541…</td><td>&quot;$8,277.00&quot;</td><td>&quot;Valenz (NX Hea…</td><td>&quot;payer&quot;</td><td>&quot;8277.00&quot;</td><td>null</td><td>null</td><td>null</td><td>null</td><td>&quot;55866&quot;</td><td>null</td><td>null</td></tr><tr><td>&quot;Pain Managemen…</td><td>&quot;CPT/HCPC  6365…</td><td>&quot;$32,874.00&quot;</td><td>&quot;Valenz (NX Hea…</td><td>&quot;payer&quot;</td><td>&quot;32874.00&quot;</td><td>null</td><td>null</td><td>null</td><td>null</td><td>&quot;63655&quot;</td><td>null</td><td>null</td></tr><tr><td>&quot;Pain Managemen…</td><td>&quot;CPT/HCPC  6365…</td><td>&quot;$32,874.00&quot;</td><td>&quot;Valenz (NX Hea…</td><td>&quot;payer&quot;</td><td>&quot;32874.00&quot;</td><td>null</td><td>null</td><td>null</td><td>null</td><td>&quot;63663&quot;</td><td>null</td><td>&quot;64664&quot;</td></tr><tr><td>&quot;Pain Managemen…</td><td>&quot;CPT/HCPC  6365…</td><td>&quot;$32,874.00&quot;</td><td>&quot;Valenz (NX Hea…</td><td>&quot;payer&quot;</td><td>&quot;32874.00&quot;</td><td>null</td><td>null</td><td>null</td><td>null</td><td>&quot;63685&quot;</td><td>null</td><td>null</td></tr><tr><td>&quot;Partial Hospit…</td><td>null</td><td>&quot;$1,324.00&quot;</td><td>&quot;Valenz (NX Hea…</td><td>&quot;payer&quot;</td><td>&quot;1324.00&quot;</td><td>null</td><td>null</td><td>null</td><td>null</td><td>null</td><td>null</td><td>null</td></tr><tr><td>&quot;PET&quot;</td><td>null</td><td>&quot;$3,804.00&quot;</td><td>&quot;Valenz (NX Hea…</td><td>&quot;payer&quot;</td><td>&quot;3804.00&quot;</td><td>null</td><td>null</td><td>null</td><td>null</td><td>null</td><td>null</td><td>null</td></tr><tr><td>&quot;PT/OT/SLP/RT&quot;</td><td>null</td><td>&quot;$337.00&quot;</td><td>&quot;Valenz (NX Hea…</td><td>&quot;payer&quot;</td><td>&quot;337.00&quot;</td><td>null</td><td>null</td><td>null</td><td>null</td><td>null</td><td>null</td><td>null</td></tr><tr><td>&quot;Rehab&quot;</td><td>&quot;MS-DRG 945, 94…</td><td>&quot;$1,941.00&quot;</td><td>&quot;Valenz (NX Hea…</td><td>&quot;payer&quot;</td><td>&quot;1941.00&quot;</td><td>null</td><td>null</td><td>null</td><td>&quot;945&quot;</td><td>null</td><td>null</td><td>null</td></tr><tr><td>&quot;Rehab&quot;</td><td>&quot;MS-DRG 945, 94…</td><td>&quot;$1,941.00&quot;</td><td>&quot;Valenz (NX Hea…</td><td>&quot;payer&quot;</td><td>&quot;1941.00&quot;</td><td>null</td><td>null</td><td>null</td><td>&quot;946&quot;</td><td>null</td><td>null</td><td>null</td></tr><tr><td>&quot;Trauma  &quot;</td><td>null</td><td>&quot;$6,243.00&quot;</td><td>&quot;Valenz (NX Hea…</td><td>&quot;payer&quot;</td><td>&quot;6243.00&quot;</td><td>null</td><td>null</td><td>null</td><td>null</td><td>null</td><td>null</td><td>null</td></tr><tr><td>&quot;Urgent Care&quot;</td><td>null</td><td>&quot;$203.00&quot;</td><td>&quot;Valenz (NX Hea…</td><td>&quot;payer&quot;</td><td>&quot;203.00&quot;</td><td>null</td><td>null</td><td>null</td><td>null</td><td>null</td><td>null</td><td>null</td></tr></tbody></table></div>"
      ],
      "text/plain": [
       "shape: (2_049, 13)\n",
       "┌──────────────┬──────────────┬──────────────┬──────────────┬───┬────────┬───────────┬──────┬──────┐\n",
       "│ description  ┆ code         ┆ standard_cha ┆ payer_name   ┆ … ┆ ms_drg ┆ hcpcs_cpt ┆ icd  ┆ thru │\n",
       "│ ---          ┆ ---          ┆ rge_         ┆ ---          ┆   ┆ ---    ┆ ---       ┆ ---  ┆ ---  │\n",
       "│ str          ┆ str          ┆ ---          ┆ str          ┆   ┆ str    ┆ str       ┆ str  ┆ str  │\n",
       "│              ┆              ┆ str          ┆              ┆   ┆        ┆           ┆      ┆      │\n",
       "╞══════════════╪══════════════╪══════════════╪══════════════╪═══╪════════╪═══════════╪══════╪══════╡\n",
       "│ Other        ┆ null         ┆ 75% of BC    ┆ Accountable  ┆ … ┆ null   ┆ null      ┆ null ┆ null │\n",
       "│ Inpatient    ┆              ┆              ┆ Health Plan  ┆   ┆        ┆           ┆      ┆      │\n",
       "│ Other        ┆ null         ┆ 75% of BC    ┆ Accountable  ┆ … ┆ null   ┆ null      ┆ null ┆ null │\n",
       "│ Outpatient   ┆              ┆              ┆ Health Plan  ┆   ┆        ┆           ┆      ┆      │\n",
       "│ Angioplasty  ┆ CPT/HCPC     ┆ $17,586.40   ┆ Aetna        ┆ … ┆ null   ┆ 92928     ┆ null ┆ null │\n",
       "│              ┆ 92928,       ┆              ┆              ┆   ┆        ┆           ┆      ┆      │\n",
       "│              ┆ 92929,       ┆              ┆              ┆   ┆        ┆           ┆      ┆      │\n",
       "│              ┆ 92933, 92…   ┆              ┆              ┆   ┆        ┆           ┆      ┆      │\n",
       "│ Angioplasty  ┆ CPT/HCPC     ┆ $17,586.40   ┆ Aetna        ┆ … ┆ null   ┆ 92929     ┆ null ┆ null │\n",
       "│              ┆ 92928,       ┆              ┆              ┆   ┆        ┆           ┆      ┆      │\n",
       "│              ┆ 92929,       ┆              ┆              ┆   ┆        ┆           ┆      ┆      │\n",
       "│              ┆ 92933, 92…   ┆              ┆              ┆   ┆        ┆           ┆      ┆      │\n",
       "│ …            ┆ …            ┆ …            ┆ …            ┆ … ┆ …      ┆ …         ┆ …    ┆ …    │\n",
       "│ Rehab        ┆ MS-DRG 945,  ┆ $1,941.00    ┆ Valenz (NX   ┆ … ┆ 945    ┆ null      ┆ null ┆ null │\n",
       "│              ┆ 946          ┆              ┆ Health       ┆   ┆        ┆           ┆      ┆      │\n",
       "│              ┆              ┆              ┆ Network)     ┆   ┆        ┆           ┆      ┆      │\n",
       "│ Rehab        ┆ MS-DRG 945,  ┆ $1,941.00    ┆ Valenz (NX   ┆ … ┆ 946    ┆ null      ┆ null ┆ null │\n",
       "│              ┆ 946          ┆              ┆ Health       ┆   ┆        ┆           ┆      ┆      │\n",
       "│              ┆              ┆              ┆ Network)     ┆   ┆        ┆           ┆      ┆      │\n",
       "│ Trauma       ┆ null         ┆ $6,243.00    ┆ Valenz (NX   ┆ … ┆ null   ┆ null      ┆ null ┆ null │\n",
       "│              ┆              ┆              ┆ Health       ┆   ┆        ┆           ┆      ┆      │\n",
       "│              ┆              ┆              ┆ Network)     ┆   ┆        ┆           ┆      ┆      │\n",
       "│ Urgent Care  ┆ null         ┆ $203.00      ┆ Valenz (NX   ┆ … ┆ null   ┆ null      ┆ null ┆ null │\n",
       "│              ┆              ┆              ┆ Health       ┆   ┆        ┆           ┆      ┆      │\n",
       "│              ┆              ┆              ┆ Network)     ┆   ┆        ┆           ┆      ┆      │\n",
       "└──────────────┴──────────────┴──────────────┴──────────────┴───┴────────┴───────────┴──────┴──────┘"
      ]
     },
     "execution_count": 294,
     "metadata": {},
     "output_type": "execute_result"
    }
   ],
   "source": [
    "pdfs"
   ]
  },
  {
   "cell_type": "code",
   "execution_count": null,
   "id": "16f886c7-4cc8-4488-a0b9-f18f578ab077",
   "metadata": {},
   "outputs": [],
   "source": [
    "# def move_modifiers(df):\n",
    "#     df = df.with_columns([\n",
    "#         pl.col('hcpcs_cpt').str.slice(offset = 0, length = 5).keep_name(),\n",
    "#         pl.col('hcpcs_cpt').str.slice(offset = 5, length = None).alias('modifiers'),\n",
    "#     ])\n",
    "#     return df\n",
    "\n",
    "# def split_modifier_string(s):\n",
    "#     chunks = [s[i:i+2] for i in range(0, len(s), 2)]\n",
    "#     return \"|\".join(chunks)\n",
    "\n",
    "# def split_modifier(df):\n",
    "#     df = df.with_columns(\n",
    "#         pl.col('modifiers').apply(split_modifier_string)\n",
    "#     )\n",
    "    \n",
    "#     return df"
   ]
  }
 ],
 "metadata": {
  "kernelspec": {
   "display_name": "Python 3 (ipykernel)",
   "language": "python",
   "name": "python3"
  },
  "language_info": {
   "codemirror_mode": {
    "name": "ipython",
    "version": 3
   },
   "file_extension": ".py",
   "mimetype": "text/x-python",
   "name": "python",
   "nbconvert_exporter": "python",
   "pygments_lexer": "ipython3",
   "version": "3.9.16"
  }
 },
 "nbformat": 4,
 "nbformat_minor": 5
}
