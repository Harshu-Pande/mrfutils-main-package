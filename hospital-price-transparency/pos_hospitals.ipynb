{
 "cells": [
  {
   "cell_type": "code",
   "execution_count": 211,
   "id": "c60bbd03-81ad-4c9f-be50-6cc90bd5d0a9",
   "metadata": {
    "tags": []
   },
   "outputs": [],
   "source": [
    "# https://data.cms.gov/provider-characteristics/hospitals-and-other-facilities/provider-of-services-file-hospital-non-hospital-facilities\n",
    "\n",
    "file = 'Provider_of_Services_File_Hospital_Non_Hospital_Facilities_Dataset_2022_Q4.csv'\n",
    "\n",
    "df = pl.read_csv(file, infer_schema_length = 0, encoding = 'utf8-lossy')"
   ]
  },
  {
   "cell_type": "code",
   "execution_count": 212,
   "id": "21e01c54-b38d-43a1-aea4-4f7d10227e04",
   "metadata": {
    "tags": []
   },
   "outputs": [],
   "source": [
    "subtype_filter = pl.col('PRVDR_CTGRY_SBTYP_CD').is_in([\n",
    "    '01', # Short Term\n",
    "    '02', # Long Term\n",
    "    # '03', # Religious Non-Medical Health Care Institutions\n",
    "    '04', # Psychiatric\n",
    "    '05', # Rehabilitation\n",
    "    '06', # Childrens Hospitals\n",
    "    '07', # Distinct Part Psychiatric Hospital\n",
    "    '11', # Critical Access Hospitals\n",
    "    '20', # Transplant Hospitals\n",
    "    '22', # Medicaid Only Short-Term Hospitals\n",
    "    '23', # Medicaid Only Childrens Hospitals\n",
    "    '24', # Medicaid Only Children's Psychiatric\n",
    "    '25', # Medicaid Only Psychiatric Hospitals\n",
    "    '26', # Medicaid Only Rehabilitation Hospitals\n",
    "    '27', # Medicaid Only Long-Term Hospitals\n",
    "])\n",
    "\n",
    "category_code_filter = pl.col('PRVDR_CTGRY_CD').is_in(['01'])\n",
    "\n",
    "prvdr_num_filter = pl.col('PRVDR_NUM').str.contains('^\\d{6}$')"
   ]
  },
  {
   "cell_type": "code",
   "execution_count": 213,
   "id": "c3fb5646-4253-4d1a-ac80-c624d930070e",
   "metadata": {
    "tags": []
   },
   "outputs": [],
   "source": [
    "df = (\n",
    "    df\n",
    "    .filter(subtype_filter)\n",
    "    .filter(category_code_filter)\n",
    "    .filter(prvdr_num_filter)\n",
    ")"
   ]
  },
  {
   "cell_type": "code",
   "execution_count": 214,
   "id": "7a89df50-6862-4000-b6a5-0dbc3af86561",
   "metadata": {
    "tags": []
   },
   "outputs": [],
   "source": [
    "col_rename = {\n",
    "    'PRVDR_CTGRY_SBTYP_CD':'category',\n",
    "    'CITY_NAME':'city',\n",
    "    'FAC_NAME':'name',\n",
    "    'PRVDR_NUM':'id',\n",
    "    'STATE_CD':'state',\n",
    "    'ST_ADR':'addr',\n",
    "    'PHNE_NUM':'phone',\n",
    "    'PGM_TRMNTN_CD':'medicare_termination_status',\n",
    "    'GNRL_CNTL_TYPE_CD':'control_type',\n",
    "    'ZIP_CD':'zip',\n",
    "    'CBSA_URBN_RRL_IND':'urban_rural',\n",
    "}"
   ]
  },
  {
   "cell_type": "code",
   "execution_count": 215,
   "id": "e605c51e-1002-4416-bfdc-d3940bee8d12",
   "metadata": {
    "tags": []
   },
   "outputs": [],
   "source": [
    "df = df.select(list(col_rename.keys()))"
   ]
  },
  {
   "cell_type": "code",
   "execution_count": 216,
   "id": "2fff8406-62f2-41dd-8033-0515bd0bf756",
   "metadata": {
    "tags": []
   },
   "outputs": [],
   "source": [
    "df = df.rename(col_rename)"
   ]
  },
  {
   "cell_type": "code",
   "execution_count": 217,
   "id": "98a23cfc-cd88-499f-af9c-909c82dccea6",
   "metadata": {
    "tags": []
   },
   "outputs": [],
   "source": [
    "control_type_map = {\n",
    "    '01':'FOR PROFIT - INDIVIDUAL',\n",
    "    '02':'FOR PROFIT - PARTNERSHIP',\n",
    "    '03':'FOR PROFIT - CORPORATION',\n",
    "    '04':'NONPROFIT - CHURCH RELATED',\n",
    "    '05':'NONPROFIT - CORPORATION',\n",
    "    '06':'NONPROFIT - OTHER',\n",
    "    '07':'GOVERNMENT - STATE',\n",
    "    '08':'GOVERNMENT - COUNTY',\n",
    "    '09':'GOVERNMENT - CITY',\n",
    "    '10':'GOVERNMENT - CITY/COUNTY',\n",
    "    '11':'GOVERNMENT - HOSPITAL DISTRICT',\n",
    "    '12':'GOVERNMENT - FEDERAL',\n",
    "    '13':'FOR PROFIT - LIMITED LIABILITY CORPORATION',\n",
    "}"
   ]
  },
  {
   "cell_type": "code",
   "execution_count": 219,
   "id": "24903cd1-c80c-4dcf-afa9-dbbbae35d457",
   "metadata": {
    "tags": []
   },
   "outputs": [],
   "source": [
    "category_map = {\n",
    "    '01':'Short Term',\n",
    "    '02':'Long Term',\n",
    "    '03':'Religious Non-Medical Health Care Institutions',\n",
    "    '04':'Psychiatric',\n",
    "    '05':'Rehabilitation',\n",
    "    '06':'Childrens Hospitals',\n",
    "    '07':'Distinct Part Psychiatric Hospital',\n",
    "    '11':'Critical Access Hospitals',\n",
    "    '20':'Transplant Hospitals',\n",
    "    '22':'Medicaid Only Short-Term Hospitals',\n",
    "    '23':'Medicaid Only Childrens Hospitals',\n",
    "    '24':'Medicaid Only Children\\'s Psychiatric',\n",
    "    '25':'Medicaid Only Psychiatric Hospitals',\n",
    "    '26':'Medicaid Only Rehabilitation Hospitals',\n",
    "    '27':'Medicaid Only Long-Term Hospitals',\n",
    "}"
   ]
  },
  {
   "cell_type": "code",
   "execution_count": 220,
   "id": "254f9702-a629-4c75-bbb3-f7b085e38bc6",
   "metadata": {
    "tags": []
   },
   "outputs": [],
   "source": [
    "status_map = {\n",
    "    '00':'ACTIVE PROVIDER',\n",
    "    '01':'VOLUNTARY-MERGER, CLOSURE',\n",
    "    '02':'VOLUNTARY-DISSATISFACTION WITH REIMBURSEMENT',\n",
    "    '03':'VOLUNTARY-RISK OF INVOLUNTARY TERMINATION',\n",
    "    '04':'VOLUNTARY-OTHER REASON FOR WITHDRAWAL',\n",
    "    '05':'INVOLUNTARY-FAILURE TO MEET HEALTH/SAFETY REQ',\n",
    "    '06':'INVOLUNTARY-FAILURE TO MEET AGREEMENT',\n",
    "    '07':'OTHER-PROVIDER STATUS CHANGE',\n",
    "    '08':'NONPAYMENT OF FEES - CLIA Only',\n",
    "    '09':'REV/UNSUCCESSFUL PARTICIPATION IN PT - CLIA Only',\n",
    "    '10':'REV/OTHER REASON - CLIA Only',\n",
    "    '11':'INCOMPLETE CLIA APPLICATION INFORMATION - CLIA Only',\n",
    "}"
   ]
  },
  {
   "cell_type": "code",
   "execution_count": 221,
   "id": "52582abf-12dc-4d65-b31a-27092a295844",
   "metadata": {
    "tags": []
   },
   "outputs": [],
   "source": [
    "df = df.with_columns([\n",
    "    pl.col('medicare_termination_status').map_dict(status_map),\n",
    "    pl.col('control_type').map_dict(control_type_map),\n",
    "    pl.col('category').map_dict(category_map)\n",
    "])"
   ]
  },
  {
   "cell_type": "code",
   "execution_count": 227,
   "id": "c59d5c8f-ecb9-4cdc-ac82-f8ba50d2811f",
   "metadata": {
    "tags": []
   },
   "outputs": [
    {
     "data": {
      "text/html": [
       "<div><style>\n",
       ".dataframe > thead > tr > th,\n",
       ".dataframe > tbody > tr > td {\n",
       "  text-align: right;\n",
       "}\n",
       "</style>\n",
       "<small>shape: (5, 11)</small><table border=\"1\" class=\"dataframe\"><thead><tr><th>category</th><th>city</th><th>name</th><th>id</th><th>state</th><th>addr</th><th>phone</th><th>medicare_termination_status</th><th>control_type</th><th>zip</th><th>urban_rural</th></tr><tr><td>str</td><td>str</td><td>str</td><td>str</td><td>str</td><td>str</td><td>str</td><td>str</td><td>str</td><td>str</td><td>str</td></tr></thead><tbody><tr><td>&quot;Short Term&quot;</td><td>&quot;DOTHAN&quot;</td><td>&quot;SOUTHEAST HEAL…</td><td>&quot;010001&quot;</td><td>&quot;AL&quot;</td><td>&quot;1108 ROSS CLAR…</td><td>&quot;3347938701&quot;</td><td>&quot;ACTIVE PROVIDE…</td><td>&quot;GOVERNMENT - C…</td><td>&quot;36301&quot;</td><td>&quot;U&quot;</td></tr><tr><td>&quot;Short Term&quot;</td><td>&quot;BRIDGEPORT&quot;</td><td>&quot;NORTH JACKSON …</td><td>&quot;010004&quot;</td><td>&quot;AL&quot;</td><td>&quot;47005 U S HIGH…</td><td>&quot;2564372101&quot;</td><td>&quot;VOLUNTARY-MERG…</td><td>&quot;GOVERNMENT - C…</td><td>&quot;35740&quot;</td><td>&quot;R&quot;</td></tr><tr><td>&quot;Short Term&quot;</td><td>&quot;BOAZ&quot;</td><td>&quot;MARSHALL MEDIC…</td><td>&quot;010005&quot;</td><td>&quot;AL&quot;</td><td>&quot;2505 U S HIGHW…</td><td>&quot;2565938310&quot;</td><td>&quot;ACTIVE PROVIDE…</td><td>&quot;GOVERNMENT - C…</td><td>&quot;35957&quot;</td><td>&quot;R&quot;</td></tr><tr><td>&quot;Short Term&quot;</td><td>&quot;FLORENCE&quot;</td><td>&quot;NORTH ALABAMA …</td><td>&quot;010006&quot;</td><td>&quot;AL&quot;</td><td>&quot;1701 VETERANS …</td><td>&quot;2566291000&quot;</td><td>&quot;ACTIVE PROVIDE…</td><td>&quot;NONPROFIT - CH…</td><td>&quot;35630&quot;</td><td>&quot;U&quot;</td></tr><tr><td>&quot;Short Term&quot;</td><td>&quot;OPP&quot;</td><td>&quot;MIZELL MEMORIA…</td><td>&quot;010007&quot;</td><td>&quot;AL&quot;</td><td>&quot;702 N MAIN ST&quot;</td><td>&quot;3344933541&quot;</td><td>&quot;ACTIVE PROVIDE…</td><td>&quot;FOR PROFIT - P…</td><td>&quot;36467&quot;</td><td>&quot;R&quot;</td></tr></tbody></table></div>"
      ],
      "text/plain": [
       "shape: (5, 11)\n",
       "┌────────────┬────────────┬─────────────┬────────┬───┬────────────┬────────────┬───────┬───────────┐\n",
       "│ category   ┆ city       ┆ name        ┆ id     ┆ … ┆ medicare_t ┆ control_ty ┆ zip   ┆ urban_rur │\n",
       "│ ---        ┆ ---        ┆ ---         ┆ ---    ┆   ┆ ermination ┆ pe         ┆ ---   ┆ al        │\n",
       "│ str        ┆ str        ┆ str         ┆ str    ┆   ┆ _status    ┆ ---        ┆ str   ┆ ---       │\n",
       "│            ┆            ┆             ┆        ┆   ┆ ---        ┆ str        ┆       ┆ str       │\n",
       "│            ┆            ┆             ┆        ┆   ┆ str        ┆            ┆       ┆           │\n",
       "╞════════════╪════════════╪═════════════╪════════╪═══╪════════════╪════════════╪═══════╪═══════════╡\n",
       "│ Short Term ┆ DOTHAN     ┆ SOUTHEAST   ┆ 010001 ┆ … ┆ ACTIVE     ┆ GOVERNMENT ┆ 36301 ┆ U         │\n",
       "│            ┆            ┆ HEALTH      ┆        ┆   ┆ PROVIDER   ┆ - COUNTY   ┆       ┆           │\n",
       "│            ┆            ┆ MEDICAL     ┆        ┆   ┆            ┆            ┆       ┆           │\n",
       "│            ┆            ┆ CENTER      ┆        ┆   ┆            ┆            ┆       ┆           │\n",
       "│ Short Term ┆ BRIDGEPORT ┆ NORTH       ┆ 010004 ┆ … ┆ VOLUNTARY- ┆ GOVERNMENT ┆ 35740 ┆ R         │\n",
       "│            ┆            ┆ JACKSON     ┆        ┆   ┆ MERGER,    ┆ - COUNTY   ┆       ┆           │\n",
       "│            ┆            ┆ HOSPITAL    ┆        ┆   ┆ CLOSURE    ┆            ┆       ┆           │\n",
       "│ Short Term ┆ BOAZ       ┆ MARSHALL    ┆ 010005 ┆ … ┆ ACTIVE     ┆ GOVERNMENT ┆ 35957 ┆ R         │\n",
       "│            ┆            ┆ MEDICAL     ┆        ┆   ┆ PROVIDER   ┆ - COUNTY   ┆       ┆           │\n",
       "│            ┆            ┆ CENTERS     ┆        ┆   ┆            ┆            ┆       ┆           │\n",
       "│            ┆            ┆ SOUTH C…    ┆        ┆   ┆            ┆            ┆       ┆           │\n",
       "│ Short Term ┆ FLORENCE   ┆ NORTH       ┆ 010006 ┆ … ┆ ACTIVE     ┆ NONPROFIT  ┆ 35630 ┆ U         │\n",
       "│            ┆            ┆ ALABAMA     ┆        ┆   ┆ PROVIDER   ┆ - CHURCH   ┆       ┆           │\n",
       "│            ┆            ┆ MEDICAL     ┆        ┆   ┆            ┆ RELATED    ┆       ┆           │\n",
       "│            ┆            ┆ CENTER      ┆        ┆   ┆            ┆            ┆       ┆           │\n",
       "│ Short Term ┆ OPP        ┆ MIZELL      ┆ 010007 ┆ … ┆ ACTIVE     ┆ FOR PROFIT ┆ 36467 ┆ R         │\n",
       "│            ┆            ┆ MEMORIAL    ┆        ┆   ┆ PROVIDER   ┆ - PARTNERS ┆       ┆           │\n",
       "│            ┆            ┆ HOSPITAL    ┆        ┆   ┆            ┆ HIP        ┆       ┆           │\n",
       "└────────────┴────────────┴─────────────┴────────┴───┴────────────┴────────────┴───────┴───────────┘"
      ]
     },
     "execution_count": 227,
     "metadata": {},
     "output_type": "execute_result"
    }
   ],
   "source": [
    "df.head()"
   ]
  },
  {
   "cell_type": "code",
   "execution_count": 228,
   "id": "bc4c7261-8bdc-407b-b0a1-cac7447f687c",
   "metadata": {
    "tags": []
   },
   "outputs": [],
   "source": [
    "df.write_csv('hospital-2023-05-01.csv')"
   ]
  }
 ],
 "metadata": {
  "kernelspec": {
   "display_name": "Python 3 (ipykernel)",
   "language": "python",
   "name": "python3"
  },
  "language_info": {
   "codemirror_mode": {
    "name": "ipython",
    "version": 3
   },
   "file_extension": ".py",
   "mimetype": "text/x-python",
   "name": "python",
   "nbconvert_exporter": "python",
   "pygments_lexer": "ipython3",
   "version": "3.9.16"
  }
 },
 "nbformat": 4,
 "nbformat_minor": 5
}
