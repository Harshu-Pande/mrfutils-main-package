{
 "cells": [
  {
   "cell_type": "code",
   "execution_count": null,
   "id": "0074fdf2-4f18-4300-8fe5-cc959c10219c",
   "metadata": {},
   "outputs": [],
   "source": [
    "import polars as pl"
   ]
  },
  {
   "cell_type": "markdown",
   "id": "1bd142e6-e624-4f1e-87ee-c866a17b27c8",
   "metadata": {},
   "source": [
    "### Expressions for defining columns"
   ]
  },
  {
   "cell_type": "code",
   "execution_count": 25,
   "id": "2fd678b4-7bfd-47e2-83c2-01e2a7f9219b",
   "metadata": {
    "tags": []
   },
   "outputs": [],
   "source": [
    "def payer_category():\n",
    "    return (\n",
    "        pl.when(pl.col('payer_name') == 'Gross_Charge').then('gross')\n",
    "        .when(pl.col('payer_name') == 'Cash_Charge').then('cash')\n",
    "        .when(pl.col('payer_name') == 'Min_Negotiated_Rate').then('min')\n",
    "        .when(pl.col('payer_name') == 'Max_Negotiated_Rate').then('max')\n",
    "        .otherwise('payer').alias('payer_category')\n",
    "    )\n",
    "\n",
    "def hcpcs_cpt_and_drg():\n",
    "    \n",
    "    hcpcs_cpt = pl.when(pl.col('line_type') == '2-CPT').then(pl.col('code')).alias('hcpcs_cpt')\n",
    "    ms_drg = pl.when(pl.col('line_type') == '3-DRG').then(pl.col('code')).str.zfill(3).alias('ms_drg')\n",
    "    \n",
    "    return hcpcs_cpt, ms_drg\n",
    "\n",
    "def all_charges():\n",
    "    \n",
    "    standard_charge_percent = (\n",
    "        pl.col('standard_charge')\n",
    "        .str.extract('(\\d+)% of gross charges')\n",
    "        .alias('standard_charge_percent')\n",
    "    )\n",
    "    \n",
    "    contracting_method = (\n",
    "        pl.when(pl.col('standard_charge').str.contains('\\% of gross charges'))\n",
    "        .then('percent of total billed charge')\n",
    "        .alias('contracting_method')\n",
    "    )\n",
    "    \n",
    "    standard_charge = (\n",
    "        pl.when(pl.col('standard_charge').str.contains('\\% of gross charges'))\n",
    "        .then(None).otherwise(pl.col('standard_charge')).alias('standard_charge')\n",
    "    )\n",
    "\n",
    "    return standard_charge, standard_charge_percent, contracting_method"
   ]
  },
  {
   "cell_type": "markdown",
   "id": "d69d9485-c77d-4a75-8939-2a405a28ce0e",
   "metadata": {},
   "source": [
    "### The following code transforms the entire file in one pass"
   ]
  },
  {
   "cell_type": "code",
   "execution_count": 26,
   "id": "ec1d839b-cf78-4420-9174-42259735a08a",
   "metadata": {
    "tags": []
   },
   "outputs": [],
   "source": [
    "file = '474063406_Ascension Saint Thomas Highlands_standardcharges.xlsx'\n",
    "\n",
    "read_csv_options = {\n",
    "    'skip_rows': 1, \n",
    "    'infer_schema_length': 0, \n",
    "    'null_values': ['N/A']\n",
    "}"
   ]
  },
  {
   "cell_type": "code",
   "execution_count": 27,
   "id": "1834a321-65e7-44c8-aca4-d8b73579adbb",
   "metadata": {
    "tags": []
   },
   "outputs": [
    {
     "data": {
      "text/html": [
       "<div><style>\n",
       ".dataframe > thead > tr > th,\n",
       ".dataframe > tbody > tr > td {\n",
       "  text-align: right;\n",
       "}\n",
       "</style>\n",
       "<small>shape: (20, 11)</small><table border=\"1\" class=\"dataframe\"><thead><tr><th>line_type</th><th>code</th><th>description</th><th>rev_code</th><th>payer_name</th><th>standard_charge</th><th>payer_category</th><th>hcpcs_cpt</th><th>ms_drg</th><th>standard_charge_percent</th><th>contracting_method</th></tr><tr><td>str</td><td>str</td><td>str</td><td>str</td><td>str</td><td>str</td><td>str</td><td>str</td><td>str</td><td>str</td><td>str</td></tr></thead><tbody><tr><td>&quot;1-CDM&quot;</td><td>&quot;30037987&quot;</td><td>&quot;FEMORAL CRUC R…</td><td>&quot;0278&quot;</td><td>&quot;A09_AETNA_2005…</td><td>&quot;5785&quot;</td><td>&quot;payer&quot;</td><td>null</td><td>null</td><td>null</td><td>null</td></tr><tr><td>&quot;3-DRG&quot;</td><td>&quot;453&quot;</td><td>&quot;Combined Anter…</td><td>null</td><td>&quot;N21_NHC_ADVANT…</td><td>&quot;69087.33&quot;</td><td>&quot;payer&quot;</td><td>null</td><td>&quot;453&quot;</td><td>null</td><td>null</td></tr><tr><td>&quot;3-DRG&quot;</td><td>&quot;148&quot;</td><td>&quot;Ear, Nose, Mou…</td><td>null</td><td>&quot;H46_AETNA_MCAR…</td><td>&quot;6027&quot;</td><td>&quot;payer&quot;</td><td>null</td><td>&quot;148&quot;</td><td>null</td><td>null</td></tr><tr><td>&quot;3-DRG&quot;</td><td>&quot;8&quot;</td><td>&quot;Simultaneous P…</td><td>null</td><td>&quot;U57_UNITED_WC_…</td><td>&quot;71682.6&quot;</td><td>&quot;payer&quot;</td><td>null</td><td>&quot;008&quot;</td><td>null</td><td>null</td></tr><tr><td>&quot;3-DRG&quot;</td><td>&quot;940&quot;</td><td>&quot;O.R. Procedure…</td><td>null</td><td>&quot;C90_ASCENSION_…</td><td>&quot;16664.64&quot;</td><td>&quot;payer&quot;</td><td>null</td><td>&quot;940&quot;</td><td>null</td><td>null</td></tr><tr><td>&quot;2-CPT&quot;</td><td>&quot;23615&quot;</td><td>&quot;OPEN TREATMENT…</td><td>null</td><td>&quot;Min_Negotiated…</td><td>&quot;1260.55&quot;</td><td>&quot;min&quot;</td><td>&quot;23615&quot;</td><td>null</td><td>null</td><td>null</td></tr><tr><td>&quot;1-CDM&quot;</td><td>&quot;42676179&quot;</td><td>&quot;CT ABDOMEN W/O…</td><td>&quot;0352&quot;</td><td>&quot;Gross_Charge&quot;</td><td>&quot;2868.9&quot;</td><td>&quot;gross&quot;</td><td>null</td><td>null</td><td>null</td><td>null</td></tr><tr><td>&quot;1-CDM&quot;</td><td>&quot;1623915&quot;</td><td>&quot;CLOMIPRAMINE 2…</td><td>&quot;0637&quot;</td><td>&quot;Gross_Charge&quot;</td><td>&quot;28.25&quot;</td><td>&quot;gross&quot;</td><td>null</td><td>null</td><td>null</td><td>null</td></tr><tr><td>&quot;2-CPT&quot;</td><td>&quot;67105&quot;</td><td>&quot;RPR RETINAL DT…</td><td>null</td><td>&quot;Max_Negotiated…</td><td>&quot;1748.82&quot;</td><td>&quot;max&quot;</td><td>&quot;67105&quot;</td><td>null</td><td>null</td><td>null</td></tr><tr><td>&quot;3-DRG&quot;</td><td>&quot;86&quot;</td><td>&quot;Traumatic Stup…</td><td>null</td><td>&quot;H86_HUMANA_CHO…</td><td>&quot;9565.49&quot;</td><td>&quot;payer&quot;</td><td>null</td><td>&quot;086&quot;</td><td>null</td><td>null</td></tr><tr><td>&quot;2-CPT&quot;</td><td>&quot;25332&quot;</td><td>&quot;ARTHRP WRST W/…</td><td>null</td><td>&quot;Max_Negotiated…</td><td>&quot;1854.14&quot;</td><td>&quot;max&quot;</td><td>&quot;25332&quot;</td><td>null</td><td>null</td><td>null</td></tr><tr><td>&quot;3-DRG&quot;</td><td>&quot;208&quot;</td><td>&quot;Respiratory Sy…</td><td>null</td><td>&quot;H85_HUMANA_CHO…</td><td>&quot;36980.3&quot;</td><td>&quot;payer&quot;</td><td>null</td><td>&quot;208&quot;</td><td>null</td><td>null</td></tr><tr><td>&quot;1-CDM&quot;</td><td>&quot;30040724&quot;</td><td>&quot;SCREW BONE TI …</td><td>&quot;0278&quot;</td><td>&quot;A09_AETNA_2005…</td><td>&quot;268.68&quot;</td><td>&quot;payer&quot;</td><td>null</td><td>null</td><td>null</td><td>null</td></tr><tr><td>&quot;2-CPT&quot;</td><td>&quot;0050U&quot;</td><td>&quot;Trgt gen seq D…</td><td>null</td><td>&quot;Max_Negotiated…</td><td>&quot;4130.29&quot;</td><td>&quot;max&quot;</td><td>&quot;0050U&quot;</td><td>null</td><td>null</td><td>null</td></tr><tr><td>&quot;3-DRG&quot;</td><td>&quot;905&quot;</td><td>&quot;Skin Grafts Fo…</td><td>null</td><td>&quot;U52_UHC_RIVERV…</td><td>&quot;21687.86&quot;</td><td>&quot;payer&quot;</td><td>null</td><td>&quot;905&quot;</td><td>null</td><td>null</td></tr><tr><td>&quot;2-CPT&quot;</td><td>&quot;92354&quot;</td><td>&quot;FITTING SPECTA…</td><td>null</td><td>&quot;Min_Negotiated…</td><td>&quot;262.69&quot;</td><td>&quot;min&quot;</td><td>&quot;92354&quot;</td><td>null</td><td>null</td><td>null</td></tr><tr><td>&quot;2-CPT&quot;</td><td>&quot;27692&quot;</td><td>&quot;TR/TRNSPL 1 TD…</td><td>null</td><td>&quot;Max_Negotiated…</td><td>&quot;1598.83&quot;</td><td>&quot;max&quot;</td><td>&quot;27692&quot;</td><td>null</td><td>null</td><td>null</td></tr><tr><td>&quot;3-DRG&quot;</td><td>&quot;283&quot;</td><td>&quot;Acute Myocardi…</td><td>null</td><td>&quot;C40_OPTUM_VA_1…</td><td>&quot;14011.95&quot;</td><td>&quot;payer&quot;</td><td>null</td><td>&quot;283&quot;</td><td>null</td><td>null</td></tr><tr><td>&quot;1-CDM&quot;</td><td>&quot;30038258&quot;</td><td>&quot;OSTEOBOOST SEL…</td><td>&quot;0278&quot;</td><td>&quot;Cash_Charge&quot;</td><td>&quot;2408.219999999…</td><td>&quot;cash&quot;</td><td>null</td><td>null</td><td>null</td><td>null</td></tr><tr><td>&quot;3-DRG&quot;</td><td>&quot;958&quot;</td><td>&quot;Other O.R. Pro…</td><td>null</td><td>&quot;U55_UHC_RIVERV…</td><td>&quot;31602.4&quot;</td><td>&quot;payer&quot;</td><td>null</td><td>&quot;958&quot;</td><td>null</td><td>null</td></tr></tbody></table></div>"
      ],
      "text/plain": [
       "shape: (20, 11)\n",
       "┌───────────┬──────────┬───────────┬──────────┬───┬───────────┬────────┬────────────┬──────────────┐\n",
       "│ line_type ┆ code     ┆ descripti ┆ rev_code ┆ … ┆ hcpcs_cpt ┆ ms_drg ┆ standard_c ┆ contracting_ │\n",
       "│ ---       ┆ ---      ┆ on        ┆ ---      ┆   ┆ ---       ┆ ---    ┆ harge_perc ┆ method       │\n",
       "│ str       ┆ str      ┆ ---       ┆ str      ┆   ┆ str       ┆ str    ┆ ent        ┆ ---          │\n",
       "│           ┆          ┆ str       ┆          ┆   ┆           ┆        ┆ ---        ┆ str          │\n",
       "│           ┆          ┆           ┆          ┆   ┆           ┆        ┆ str        ┆              │\n",
       "╞═══════════╪══════════╪═══════════╪══════════╪═══╪═══════════╪════════╪════════════╪══════════════╡\n",
       "│ 1-CDM     ┆ 30037987 ┆ FEMORAL   ┆ 0278     ┆ … ┆ null      ┆ null   ┆ null       ┆ null         │\n",
       "│           ┆          ┆ CRUC RETA ┆          ┆   ┆           ┆        ┆            ┆              │\n",
       "│           ┆          ┆ SIZE 6    ┆          ┆   ┆           ┆        ┆            ┆              │\n",
       "│           ┆          ┆ LEFT      ┆          ┆   ┆           ┆        ┆            ┆              │\n",
       "│ 3-DRG     ┆ 453      ┆ Combined  ┆ null     ┆ … ┆ null      ┆ 453    ┆ null       ┆ null         │\n",
       "│           ┆          ┆ Anterior  ┆          ┆   ┆           ┆        ┆            ┆              │\n",
       "│           ┆          ┆ And       ┆          ┆   ┆           ┆        ┆            ┆              │\n",
       "│           ┆          ┆ Posterior ┆          ┆   ┆           ┆        ┆            ┆              │\n",
       "│           ┆          ┆ …         ┆          ┆   ┆           ┆        ┆            ┆              │\n",
       "│ 3-DRG     ┆ 148      ┆ Ear,      ┆ null     ┆ … ┆ null      ┆ 148    ┆ null       ┆ null         │\n",
       "│           ┆          ┆ Nose,     ┆          ┆   ┆           ┆        ┆            ┆              │\n",
       "│           ┆          ┆ Mouth And ┆          ┆   ┆           ┆        ┆            ┆              │\n",
       "│           ┆          ┆ Throat    ┆          ┆   ┆           ┆        ┆            ┆              │\n",
       "│           ┆          ┆ Mali…     ┆          ┆   ┆           ┆        ┆            ┆              │\n",
       "│ 3-DRG     ┆ 8        ┆ Simultane ┆ null     ┆ … ┆ null      ┆ 008    ┆ null       ┆ null         │\n",
       "│           ┆          ┆ ous       ┆          ┆   ┆           ┆        ┆            ┆              │\n",
       "│           ┆          ┆ Pancreas  ┆          ┆   ┆           ┆        ┆            ┆              │\n",
       "│           ┆          ┆ And       ┆          ┆   ┆           ┆        ┆            ┆              │\n",
       "│           ┆          ┆ Kidney…   ┆          ┆   ┆           ┆        ┆            ┆              │\n",
       "│ …         ┆ …        ┆ …         ┆ …        ┆ … ┆ …         ┆ …      ┆ …          ┆ …            │\n",
       "│ 2-CPT     ┆ 27692    ┆ TR/TRNSPL ┆ null     ┆ … ┆ 27692     ┆ null   ┆ null       ┆ null         │\n",
       "│           ┆          ┆ 1 TDN     ┆          ┆   ┆           ┆        ┆            ┆              │\n",
       "│           ┆          ┆ W/MUSC    ┆          ┆   ┆           ┆        ┆            ┆              │\n",
       "│           ┆          ┆ REDIRION/ ┆          ┆   ┆           ┆        ┆            ┆              │\n",
       "│           ┆          ┆ …         ┆          ┆   ┆           ┆        ┆            ┆              │\n",
       "│ 3-DRG     ┆ 283      ┆ Acute Myo ┆ null     ┆ … ┆ null      ┆ 283    ┆ null       ┆ null         │\n",
       "│           ┆          ┆ cardial   ┆          ┆   ┆           ┆        ┆            ┆              │\n",
       "│           ┆          ┆ Infarctio ┆          ┆   ┆           ┆        ┆            ┆              │\n",
       "│           ┆          ┆ n, Exp…   ┆          ┆   ┆           ┆        ┆            ┆              │\n",
       "│ 1-CDM     ┆ 30038258 ┆ OSTEOBOOS ┆ 0278     ┆ … ┆ null      ┆ null   ┆ null       ┆ null         │\n",
       "│           ┆          ┆ T SELECT  ┆          ┆   ┆           ┆        ┆            ┆              │\n",
       "│           ┆          ┆ 10CC      ┆          ┆   ┆           ┆        ┆            ┆              │\n",
       "│ 3-DRG     ┆ 958      ┆ Other     ┆ null     ┆ … ┆ null      ┆ 958    ┆ null       ┆ null         │\n",
       "│           ┆          ┆ O.R. Proc ┆          ┆   ┆           ┆        ┆            ┆              │\n",
       "│           ┆          ┆ edures    ┆          ┆   ┆           ┆        ┆            ┆              │\n",
       "│           ┆          ┆ For       ┆          ┆   ┆           ┆        ┆            ┆              │\n",
       "│           ┆          ┆ Multip…   ┆          ┆   ┆           ┆        ┆            ┆              │\n",
       "└───────────┴──────────┴───────────┴──────────┴───┴───────────┴────────┴────────────┴──────────────┘"
      ]
     },
     "execution_count": 27,
     "metadata": {},
     "output_type": "execute_result"
    }
   ],
   "source": [
    "(\n",
    "    pl.read_excel(file, sheet_id = 2, read_csv_options = read_csv_options)\n",
    "    .slice(3,)\n",
    "    .drop(['Facility_BU_ID', 'UB_Revenue_Description'])\n",
    "    .rename({\n",
    "        'Code_Type':'line_type',\n",
    "        'Code':'code',\n",
    "        'Description':'description',\n",
    "        'UB_Revenue_Code':'rev_code',\n",
    "    })\n",
    "    .melt(\n",
    "        ['line_type', 'code', 'description', 'rev_code'],\n",
    "        variable_name = 'payer_name',\n",
    "        value_name = 'standard_charge',\n",
    "    )\n",
    "    .filter(pl.col('standard_charge').is_not_null())\n",
    "    .with_columns([\n",
    "        payer_category(),\n",
    "        pl.col('rev_code').str.zfill(4).keep_name(),\n",
    "        *hcpcs_cpt_and_drg(),\n",
    "        *all_charges(),\n",
    "    ])\n",
    ").sample(20)"
   ]
  },
  {
   "cell_type": "code",
   "execution_count": null,
   "id": "d93a5f10-fb26-4c3f-ac22-a37f40b21589",
   "metadata": {},
   "outputs": [],
   "source": []
  }
 ],
 "metadata": {
  "kernelspec": {
   "display_name": "Python 3 (ipykernel)",
   "language": "python",
   "name": "python3"
  },
  "language_info": {
   "codemirror_mode": {
    "name": "ipython",
    "version": 3
   },
   "file_extension": ".py",
   "mimetype": "text/x-python",
   "name": "python",
   "nbconvert_exporter": "python",
   "pygments_lexer": "ipython3",
   "version": "3.9.16"
  }
 },
 "nbformat": 4,
 "nbformat_minor": 5
}
